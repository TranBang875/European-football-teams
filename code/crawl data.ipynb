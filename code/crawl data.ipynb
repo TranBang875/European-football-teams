{
 "cells": [
  {
   "cell_type": "code",
   "execution_count": null,
   "metadata": {
    "colab": {
     "base_uri": "https://localhost:8080/"
    },
    "executionInfo": {
     "elapsed": 3244,
     "status": "ok",
     "timestamp": 1743960320823,
     "user": {
      "displayName": "Bằng Trần Tiến",
      "userId": "18172700527455230031"
     },
     "user_tz": -420
    },
    "id": "iOjxo1sAuQhr",
    "outputId": "aa205967-27c7-4873-b898-f3359ee68a8e"
   },
   "outputs": [
    {
     "name": "stdout",
     "output_type": "stream",
     "text": [
      "Requirement already satisfied: soccerdata in /usr/local/lib/python3.11/dist-packages (1.8.7)\n",
      "Requirement already satisfied: PySocks<2.0.0,>=1.7.1 in /usr/local/lib/python3.11/dist-packages (from soccerdata) (1.7.1)\n",
      "Requirement already satisfied: Unidecode<2.0.0,>=1.2.0 in /usr/local/lib/python3.11/dist-packages (from soccerdata) (1.3.8)\n",
      "Requirement already satisfied: cloudscraper<2.0.0,>=1.2.71 in /usr/local/lib/python3.11/dist-packages (from soccerdata) (1.2.71)\n",
      "Requirement already satisfied: html5lib<2.0,>=1.1 in /usr/local/lib/python3.11/dist-packages (from soccerdata) (1.1)\n",
      "Requirement already satisfied: lxml<5.0.0,>=4.9.3 in /usr/local/lib/python3.11/dist-packages (from soccerdata) (4.9.4)\n",
      "Requirement already satisfied: packaging<25.0,>=24.1 in /usr/local/lib/python3.11/dist-packages (from soccerdata) (24.2)\n",
      "Requirement already satisfied: pandas!=2.1.0,<3.0.0,>=2.0.0 in /usr/local/lib/python3.11/dist-packages (from soccerdata) (2.2.2)\n",
      "Requirement already satisfied: requests<3.0,>=2.23 in /usr/local/lib/python3.11/dist-packages (from soccerdata) (2.32.3)\n",
      "Requirement already satisfied: rich<14.0.0,>=13.0.0 in /usr/local/lib/python3.11/dist-packages (from soccerdata) (13.9.4)\n",
      "Requirement already satisfied: undetected-chromedriver<4.0.0,>=3.5.0 in /usr/local/lib/python3.11/dist-packages (from soccerdata) (3.5.5)\n",
      "Requirement already satisfied: unicode<3.0,>=2.7 in /usr/local/lib/python3.11/dist-packages (from soccerdata) (2.9)\n",
      "Requirement already satisfied: pyparsing>=2.4.7 in /usr/local/lib/python3.11/dist-packages (from cloudscraper<2.0.0,>=1.2.71->soccerdata) (3.2.3)\n",
      "Requirement already satisfied: requests-toolbelt>=0.9.1 in /usr/local/lib/python3.11/dist-packages (from cloudscraper<2.0.0,>=1.2.71->soccerdata) (1.0.0)\n",
      "Requirement already satisfied: six>=1.9 in /usr/local/lib/python3.11/dist-packages (from html5lib<2.0,>=1.1->soccerdata) (1.17.0)\n",
      "Requirement already satisfied: webencodings in /usr/local/lib/python3.11/dist-packages (from html5lib<2.0,>=1.1->soccerdata) (0.5.1)\n",
      "Requirement already satisfied: numpy>=1.23.2 in /usr/local/lib/python3.11/dist-packages (from pandas!=2.1.0,<3.0.0,>=2.0.0->soccerdata) (2.0.2)\n",
      "Requirement already satisfied: python-dateutil>=2.8.2 in /usr/local/lib/python3.11/dist-packages (from pandas!=2.1.0,<3.0.0,>=2.0.0->soccerdata) (2.8.2)\n",
      "Requirement already satisfied: pytz>=2020.1 in /usr/local/lib/python3.11/dist-packages (from pandas!=2.1.0,<3.0.0,>=2.0.0->soccerdata) (2025.2)\n",
      "Requirement already satisfied: tzdata>=2022.7 in /usr/local/lib/python3.11/dist-packages (from pandas!=2.1.0,<3.0.0,>=2.0.0->soccerdata) (2025.2)\n",
      "Requirement already satisfied: charset-normalizer<4,>=2 in /usr/local/lib/python3.11/dist-packages (from requests<3.0,>=2.23->soccerdata) (3.4.1)\n",
      "Requirement already satisfied: idna<4,>=2.5 in /usr/local/lib/python3.11/dist-packages (from requests<3.0,>=2.23->soccerdata) (3.10)\n",
      "Requirement already satisfied: urllib3<3,>=1.21.1 in /usr/local/lib/python3.11/dist-packages (from requests<3.0,>=2.23->soccerdata) (2.3.0)\n",
      "Requirement already satisfied: certifi>=2017.4.17 in /usr/local/lib/python3.11/dist-packages (from requests<3.0,>=2.23->soccerdata) (2025.1.31)\n",
      "Requirement already satisfied: markdown-it-py>=2.2.0 in /usr/local/lib/python3.11/dist-packages (from rich<14.0.0,>=13.0.0->soccerdata) (3.0.0)\n",
      "Requirement already satisfied: pygments<3.0.0,>=2.13.0 in /usr/local/lib/python3.11/dist-packages (from rich<14.0.0,>=13.0.0->soccerdata) (2.18.0)\n",
      "Requirement already satisfied: selenium>=4.9.0 in /usr/local/lib/python3.11/dist-packages (from undetected-chromedriver<4.0.0,>=3.5.0->soccerdata) (4.31.0)\n",
      "Requirement already satisfied: websockets in /usr/local/lib/python3.11/dist-packages (from undetected-chromedriver<4.0.0,>=3.5.0->soccerdata) (15.0.1)\n",
      "Requirement already satisfied: mdurl~=0.1 in /usr/local/lib/python3.11/dist-packages (from markdown-it-py>=2.2.0->rich<14.0.0,>=13.0.0->soccerdata) (0.1.2)\n",
      "Requirement already satisfied: trio~=0.17 in /usr/local/lib/python3.11/dist-packages (from selenium>=4.9.0->undetected-chromedriver<4.0.0,>=3.5.0->soccerdata) (0.29.0)\n",
      "Requirement already satisfied: trio-websocket~=0.9 in /usr/local/lib/python3.11/dist-packages (from selenium>=4.9.0->undetected-chromedriver<4.0.0,>=3.5.0->soccerdata) (0.12.2)\n",
      "Requirement already satisfied: typing_extensions~=4.9 in /usr/local/lib/python3.11/dist-packages (from selenium>=4.9.0->undetected-chromedriver<4.0.0,>=3.5.0->soccerdata) (4.13.0)\n",
      "Requirement already satisfied: websocket-client~=1.8 in /usr/local/lib/python3.11/dist-packages (from selenium>=4.9.0->undetected-chromedriver<4.0.0,>=3.5.0->soccerdata) (1.8.0)\n",
      "Requirement already satisfied: attrs>=23.2.0 in /usr/local/lib/python3.11/dist-packages (from trio~=0.17->selenium>=4.9.0->undetected-chromedriver<4.0.0,>=3.5.0->soccerdata) (25.3.0)\n",
      "Requirement already satisfied: sortedcontainers in /usr/local/lib/python3.11/dist-packages (from trio~=0.17->selenium>=4.9.0->undetected-chromedriver<4.0.0,>=3.5.0->soccerdata) (2.4.0)\n",
      "Requirement already satisfied: outcome in /usr/local/lib/python3.11/dist-packages (from trio~=0.17->selenium>=4.9.0->undetected-chromedriver<4.0.0,>=3.5.0->soccerdata) (1.3.0.post0)\n",
      "Requirement already satisfied: sniffio>=1.3.0 in /usr/local/lib/python3.11/dist-packages (from trio~=0.17->selenium>=4.9.0->undetected-chromedriver<4.0.0,>=3.5.0->soccerdata) (1.3.1)\n",
      "Requirement already satisfied: wsproto>=0.14 in /usr/local/lib/python3.11/dist-packages (from trio-websocket~=0.9->selenium>=4.9.0->undetected-chromedriver<4.0.0,>=3.5.0->soccerdata) (1.2.0)\n",
      "Requirement already satisfied: h11<1,>=0.9.0 in /usr/local/lib/python3.11/dist-packages (from wsproto>=0.14->trio-websocket~=0.9->selenium>=4.9.0->undetected-chromedriver<4.0.0,>=3.5.0->soccerdata) (0.14.0)\n"
     ]
    }
   ],
   "source": [
    "!pip install soccerdata"
   ]
  },
  {
   "cell_type": "code",
   "execution_count": null,
   "metadata": {},
   "outputs": [],
   "source": []
  },
  {
   "cell_type": "code",
   "execution_count": 1,
   "metadata": {
    "colab": {
     "base_uri": "https://localhost:8080/",
     "height": 237
    },
    "executionInfo": {
     "elapsed": 1608,
     "status": "ok",
     "timestamp": 1743955886844,
     "user": {
      "displayName": "Bằng Trần Tiến",
      "userId": "18172700527455230031"
     },
     "user_tz": -420
    },
    "id": "Z5C3WldCszyh",
    "outputId": "03472993-7de1-4777-fe6c-64bfbff4b651"
   },
   "outputs": [
    {
     "data": {
      "text/html": [
       "<pre style=\"white-space:pre;overflow-x:auto;line-height:normal;font-family:Menlo,'DejaVu Sans Mono',consolas,'Courier New',monospace\"><span style=\"color: #7fbfbf; text-decoration-color: #7fbfbf\">[04/08/25 20:31:15] </span><span style=\"color: #000080; text-decoration-color: #000080\">INFO    </span> No custom team name replacements found. You can configure these in       <a href=\"file://d:\\PYTHON\\.venv\\Lib\\site-packages\\soccerdata\\_config.py\" target=\"_blank\"><span style=\"color: #7f7f7f; text-decoration-color: #7f7f7f\">_config.py</span></a><span style=\"color: #7f7f7f; text-decoration-color: #7f7f7f\">:</span><a href=\"file://d:\\PYTHON\\.venv\\Lib\\site-packages\\soccerdata\\_config.py#91\" target=\"_blank\"><span style=\"color: #7f7f7f; text-decoration-color: #7f7f7f\">91</span></a>\n",
       "<span style=\"color: #7fbfbf; text-decoration-color: #7fbfbf\">                    </span>         C:\\Users\\Asus\\soccerdata\\config\\teamname_replacements.json.              <span style=\"color: #7f7f7f; text-decoration-color: #7f7f7f\">             </span>\n",
       "</pre>\n"
      ],
      "text/plain": [
       "\u001b[2;36m[04/08/25 20:31:15]\u001b[0m\u001b[2;36m \u001b[0m\u001b[34mINFO    \u001b[0m No custom team name replacements found. You can configure these in       \u001b]8;id=121492;file://d:\\PYTHON\\.venv\\Lib\\site-packages\\soccerdata\\_config.py\u001b\\\u001b[2m_config.py\u001b[0m\u001b]8;;\u001b\\\u001b[2m:\u001b[0m\u001b]8;id=648443;file://d:\\PYTHON\\.venv\\Lib\\site-packages\\soccerdata\\_config.py#91\u001b\\\u001b[2m91\u001b[0m\u001b]8;;\u001b\\\n",
       "\u001b[2;36m                    \u001b[0m         C:\\Users\\Asus\\soccerdata\\config\\teamname_replacements.json.              \u001b[2m             \u001b[0m\n"
      ]
     },
     "metadata": {},
     "output_type": "display_data"
    },
    {
     "data": {
      "text/html": [
       "<pre style=\"white-space:pre;overflow-x:auto;line-height:normal;font-family:Menlo,'DejaVu Sans Mono',consolas,'Courier New',monospace\"><span style=\"color: #7fbfbf; text-decoration-color: #7fbfbf\">                    </span><span style=\"color: #000080; text-decoration-color: #000080\">INFO    </span> No custom league dict found. You can configure additional leagues in    <a href=\"file://d:\\PYTHON\\.venv\\Lib\\site-packages\\soccerdata\\_config.py\" target=\"_blank\"><span style=\"color: #7f7f7f; text-decoration-color: #7f7f7f\">_config.py</span></a><span style=\"color: #7f7f7f; text-decoration-color: #7f7f7f\">:</span><a href=\"file://d:\\PYTHON\\.venv\\Lib\\site-packages\\soccerdata\\_config.py#210\" target=\"_blank\"><span style=\"color: #7f7f7f; text-decoration-color: #7f7f7f\">210</span></a>\n",
       "<span style=\"color: #7fbfbf; text-decoration-color: #7fbfbf\">                    </span>         C:\\Users\\Asus\\soccerdata\\config\\league_dict.json.                       <span style=\"color: #7f7f7f; text-decoration-color: #7f7f7f\">              </span>\n",
       "</pre>\n"
      ],
      "text/plain": [
       "\u001b[2;36m                   \u001b[0m\u001b[2;36m \u001b[0m\u001b[34mINFO    \u001b[0m No custom league dict found. You can configure additional leagues in    \u001b]8;id=910733;file://d:\\PYTHON\\.venv\\Lib\\site-packages\\soccerdata\\_config.py\u001b\\\u001b[2m_config.py\u001b[0m\u001b]8;;\u001b\\\u001b[2m:\u001b[0m\u001b]8;id=607026;file://d:\\PYTHON\\.venv\\Lib\\site-packages\\soccerdata\\_config.py#210\u001b\\\u001b[2m210\u001b[0m\u001b]8;;\u001b\\\n",
       "\u001b[2;36m                    \u001b[0m         C:\\Users\\Asus\\soccerdata\\config\\league_dict.json.                       \u001b[2m              \u001b[0m\n"
      ]
     },
     "metadata": {},
     "output_type": "display_data"
    },
    {
     "data": {
      "text/plain": [
       "['Big 5 European Leagues Combined',\n",
       " 'ENG-Premier League',\n",
       " 'ESP-La Liga',\n",
       " 'FRA-Ligue 1',\n",
       " 'GER-Bundesliga',\n",
       " 'INT-European Championship',\n",
       " \"INT-Women's World Cup\",\n",
       " 'INT-World Cup',\n",
       " 'ITA-Serie A',\n",
       " 'UEFA-Champions-League']"
      ]
     },
     "execution_count": 1,
     "metadata": {},
     "output_type": "execute_result"
    }
   ],
   "source": [
    "import soccerdata as sd\n",
    "sd.FBref.available_leagues()"
   ]
  },
  {
   "cell_type": "code",
   "execution_count": 2,
   "metadata": {
    "colab": {
     "base_uri": "https://localhost:8080/"
    },
    "executionInfo": {
     "elapsed": 5,
     "status": "ok",
     "timestamp": 1743925434393,
     "user": {
      "displayName": "Bằng Trần Tiến",
      "userId": "18172700527455230031"
     },
     "user_tz": -420
    },
    "id": "Dsed2unXCptv",
    "outputId": "9912f114-a1dc-40f6-95b7-ac00eccb6907"
   },
   "outputs": [
    {
     "data": {
      "text/html": [
       "<pre style=\"white-space:pre;overflow-x:auto;line-height:normal;font-family:Menlo,'DejaVu Sans Mono',consolas,'Courier New',monospace\"><span style=\"color: #7fbfbf; text-decoration-color: #7fbfbf\">[04/08/25 20:31:21] </span><span style=\"color: #000080; text-decoration-color: #000080\">INFO    </span> Saving cached data to C:\\Users\\Asus\\soccerdata\\data\\ClubElo             <a href=\"file://d:\\PYTHON\\.venv\\Lib\\site-packages\\soccerdata\\_common.py\" target=\"_blank\"><span style=\"color: #7f7f7f; text-decoration-color: #7f7f7f\">_common.py</span></a><span style=\"color: #7f7f7f; text-decoration-color: #7f7f7f\">:</span><a href=\"file://d:\\PYTHON\\.venv\\Lib\\site-packages\\soccerdata\\_common.py#263\" target=\"_blank\"><span style=\"color: #7f7f7f; text-decoration-color: #7f7f7f\">263</span></a>\n",
       "</pre>\n"
      ],
      "text/plain": [
       "\u001b[2;36m[04/08/25 20:31:21]\u001b[0m\u001b[2;36m \u001b[0m\u001b[34mINFO    \u001b[0m Saving cached data to C:\\Users\\Asus\\soccerdata\\data\\ClubElo             \u001b]8;id=828818;file://d:\\PYTHON\\.venv\\Lib\\site-packages\\soccerdata\\_common.py\u001b\\\u001b[2m_common.py\u001b[0m\u001b]8;;\u001b\\\u001b[2m:\u001b[0m\u001b]8;id=414110;file://d:\\PYTHON\\.venv\\Lib\\site-packages\\soccerdata\\_common.py#263\u001b\\\u001b[2m263\u001b[0m\u001b]8;;\u001b\\\n"
      ]
     },
     "metadata": {},
     "output_type": "display_data"
    }
   ],
   "source": [
    "elo=sd.ClubElo()"
   ]
  },
  {
   "cell_type": "code",
   "execution_count": null,
   "metadata": {},
   "outputs": [
    {
     "data": {
      "text/html": [
       "<div>\n",
       "<style scoped>\n",
       "    .dataframe tbody tr th:only-of-type {\n",
       "        vertical-align: middle;\n",
       "    }\n",
       "\n",
       "    .dataframe tbody tr th {\n",
       "        vertical-align: top;\n",
       "    }\n",
       "\n",
       "    .dataframe thead th {\n",
       "        text-align: right;\n",
       "    }\n",
       "</style>\n",
       "<table border=\"1\" class=\"dataframe\">\n",
       "  <thead>\n",
       "    <tr style=\"text-align: right;\">\n",
       "      <th></th>\n",
       "      <th>rank</th>\n",
       "      <th>country</th>\n",
       "      <th>level</th>\n",
       "      <th>elo</th>\n",
       "      <th>from</th>\n",
       "      <th>to</th>\n",
       "      <th>league</th>\n",
       "    </tr>\n",
       "    <tr>\n",
       "      <th>team</th>\n",
       "      <th></th>\n",
       "      <th></th>\n",
       "      <th></th>\n",
       "      <th></th>\n",
       "      <th></th>\n",
       "      <th></th>\n",
       "      <th></th>\n",
       "    </tr>\n",
       "  </thead>\n",
       "  <tbody>\n",
       "    <tr>\n",
       "      <th>Liverpool</th>\n",
       "      <td>1.0</td>\n",
       "      <td>ENG</td>\n",
       "      <td>1</td>\n",
       "      <td>2016.738525</td>\n",
       "      <td>2025-04-07</td>\n",
       "      <td>2025-04-13</td>\n",
       "      <td>ENG-Premier League</td>\n",
       "    </tr>\n",
       "    <tr>\n",
       "      <th>Arsenal</th>\n",
       "      <td>2.0</td>\n",
       "      <td>ENG</td>\n",
       "      <td>1</td>\n",
       "      <td>2001.441895</td>\n",
       "      <td>2025-04-06</td>\n",
       "      <td>2025-04-08</td>\n",
       "      <td>ENG-Premier League</td>\n",
       "    </tr>\n",
       "    <tr>\n",
       "      <th>Real Madrid</th>\n",
       "      <td>3.0</td>\n",
       "      <td>ESP</td>\n",
       "      <td>1</td>\n",
       "      <td>1964.242310</td>\n",
       "      <td>2025-04-06</td>\n",
       "      <td>2025-04-08</td>\n",
       "      <td>ESP-La Liga</td>\n",
       "    </tr>\n",
       "    <tr>\n",
       "      <th>Inter</th>\n",
       "      <td>4.0</td>\n",
       "      <td>ITA</td>\n",
       "      <td>1</td>\n",
       "      <td>1963.856689</td>\n",
       "      <td>2025-04-06</td>\n",
       "      <td>2025-04-08</td>\n",
       "      <td>ITA-Serie A</td>\n",
       "    </tr>\n",
       "    <tr>\n",
       "      <th>Paris SG</th>\n",
       "      <td>5.0</td>\n",
       "      <td>FRA</td>\n",
       "      <td>1</td>\n",
       "      <td>1958.873291</td>\n",
       "      <td>2025-04-06</td>\n",
       "      <td>2025-04-09</td>\n",
       "      <td>FRA-Ligue 1</td>\n",
       "    </tr>\n",
       "    <tr>\n",
       "      <th>...</th>\n",
       "      <td>...</td>\n",
       "      <td>...</td>\n",
       "      <td>...</td>\n",
       "      <td>...</td>\n",
       "      <td>...</td>\n",
       "      <td>...</td>\n",
       "      <td>...</td>\n",
       "    </tr>\n",
       "    <tr>\n",
       "      <th>FCB Magpies</th>\n",
       "      <td>NaN</td>\n",
       "      <td>GIB</td>\n",
       "      <td>0</td>\n",
       "      <td>896.844543</td>\n",
       "      <td>2025-01-01</td>\n",
       "      <td>2025-04-14</td>\n",
       "      <td>NaN</td>\n",
       "    </tr>\n",
       "    <tr>\n",
       "      <th>Atletic Club Escaldes</th>\n",
       "      <td>NaN</td>\n",
       "      <td>AND</td>\n",
       "      <td>0</td>\n",
       "      <td>879.769836</td>\n",
       "      <td>2025-01-01</td>\n",
       "      <td>2025-04-14</td>\n",
       "      <td>NaN</td>\n",
       "    </tr>\n",
       "    <tr>\n",
       "      <th>SS Virtus</th>\n",
       "      <td>NaN</td>\n",
       "      <td>SMR</td>\n",
       "      <td>0</td>\n",
       "      <td>708.074829</td>\n",
       "      <td>2025-01-01</td>\n",
       "      <td>2025-04-14</td>\n",
       "      <td>NaN</td>\n",
       "    </tr>\n",
       "    <tr>\n",
       "      <th>Tre Penne</th>\n",
       "      <td>NaN</td>\n",
       "      <td>SMR</td>\n",
       "      <td>0</td>\n",
       "      <td>695.420898</td>\n",
       "      <td>2025-01-01</td>\n",
       "      <td>2025-04-14</td>\n",
       "      <td>NaN</td>\n",
       "    </tr>\n",
       "    <tr>\n",
       "      <th>La Fiorita</th>\n",
       "      <td>NaN</td>\n",
       "      <td>SMR</td>\n",
       "      <td>0</td>\n",
       "      <td>690.110168</td>\n",
       "      <td>2025-01-01</td>\n",
       "      <td>2025-04-14</td>\n",
       "      <td>NaN</td>\n",
       "    </tr>\n",
       "  </tbody>\n",
       "</table>\n",
       "<p>629 rows × 7 columns</p>\n",
       "</div>"
      ],
      "text/plain": [
       "                       rank country  level          elo       from         to  \\\n",
       "team                                                                            \n",
       "Liverpool               1.0     ENG      1  2016.738525 2025-04-07 2025-04-13   \n",
       "Arsenal                 2.0     ENG      1  2001.441895 2025-04-06 2025-04-08   \n",
       "Real Madrid             3.0     ESP      1  1964.242310 2025-04-06 2025-04-08   \n",
       "Inter                   4.0     ITA      1  1963.856689 2025-04-06 2025-04-08   \n",
       "Paris SG                5.0     FRA      1  1958.873291 2025-04-06 2025-04-09   \n",
       "...                     ...     ...    ...          ...        ...        ...   \n",
       "FCB Magpies             NaN     GIB      0   896.844543 2025-01-01 2025-04-14   \n",
       "Atletic Club Escaldes   NaN     AND      0   879.769836 2025-01-01 2025-04-14   \n",
       "SS Virtus               NaN     SMR      0   708.074829 2025-01-01 2025-04-14   \n",
       "Tre Penne               NaN     SMR      0   695.420898 2025-01-01 2025-04-14   \n",
       "La Fiorita              NaN     SMR      0   690.110168 2025-01-01 2025-04-14   \n",
       "\n",
       "                                   league  \n",
       "team                                       \n",
       "Liverpool              ENG-Premier League  \n",
       "Arsenal                ENG-Premier League  \n",
       "Real Madrid                   ESP-La Liga  \n",
       "Inter                         ITA-Serie A  \n",
       "Paris SG                      FRA-Ligue 1  \n",
       "...                                   ...  \n",
       "FCB Magpies                           NaN  \n",
       "Atletic Club Escaldes                 NaN  \n",
       "SS Virtus                             NaN  \n",
       "Tre Penne                             NaN  \n",
       "La Fiorita                            NaN  \n",
       "\n",
       "[629 rows x 7 columns]"
      ]
     },
     "execution_count": 4,
     "metadata": {},
     "output_type": "execute_result"
    }
   ],
   "source": [
    "lonow=elo.read_by_date()"
   ]
  },
  {
   "cell_type": "code",
   "execution_count": null,
   "metadata": {
    "colab": {
     "base_uri": "https://localhost:8080/",
     "height": 33
    },
    "executionInfo": {
     "elapsed": 44,
     "status": "ok",
     "timestamp": 1743925463727,
     "user": {
      "displayName": "Bằng Trần Tiến",
      "userId": "18172700527455230031"
     },
     "user_tz": -420
    },
    "id": "ba2rW9QDaBMt",
    "outputId": "77c412b7-d47a-4e3d-df30-95f26c51304b"
   },
   "outputs": [
    {
     "data": {
      "text/html": [
       "<pre style=\"white-space:pre;overflow-x:auto;line-height:normal;font-family:Menlo,'DejaVu Sans Mono',consolas,'Courier New',monospace\"><span style=\"color: #7fbfbf; text-decoration-color: #7fbfbf\">[04/06/25 07:44:23] </span><span style=\"color: #000080; text-decoration-color: #000080\">INFO    </span> Saving cached data to <span style=\"color: #800080; text-decoration-color: #800080\">/root/soccerdata/data/</span><span style=\"color: #ff00ff; text-decoration-color: #ff00ff\">FBref</span>                       <a href=\"file:///usr/local/lib/python3.11/dist-packages/soccerdata/_common.py\" target=\"_blank\"><span style=\"color: #7f7f7f; text-decoration-color: #7f7f7f\">_common.py</span></a><span style=\"color: #7f7f7f; text-decoration-color: #7f7f7f\">:</span><a href=\"file:///usr/local/lib/python3.11/dist-packages/soccerdata/_common.py#263\" target=\"_blank\"><span style=\"color: #7f7f7f; text-decoration-color: #7f7f7f\">263</span></a>\n",
       "</pre>\n"
      ],
      "text/plain": [
       "\u001b[2;36m[04/06/25 07:44:23]\u001b[0m\u001b[2;36m \u001b[0m\u001b[34mINFO    \u001b[0m Saving cached data to \u001b[35m/root/soccerdata/data/\u001b[0m\u001b[95mFBref\u001b[0m                       \u001b]8;id=324247;file:///usr/local/lib/python3.11/dist-packages/soccerdata/_common.py\u001b\\\u001b[2m_common.py\u001b[0m\u001b]8;;\u001b\\\u001b[2m:\u001b[0m\u001b]8;id=897830;file:///usr/local/lib/python3.11/dist-packages/soccerdata/_common.py#263\u001b\\\u001b[2m263\u001b[0m\u001b]8;;\u001b\\\n"
      ]
     },
     "metadata": {},
     "output_type": "display_data"
    }
   ],
   "source": [
    "fbref = sd.FBref(leagues='INT-European Championship',seasons=2024)"
   ]
  },
  {
   "cell_type": "code",
   "execution_count": null,
   "metadata": {
    "colab": {
     "base_uri": "https://localhost:8080/",
     "height": 145
    },
    "executionInfo": {
     "elapsed": 25469,
     "status": "ok",
     "timestamp": 1743925492966,
     "user": {
      "displayName": "Bằng Trần Tiến",
      "userId": "18172700527455230031"
     },
     "user_tz": -420
    },
    "id": "kUp16SvSaNDo",
    "outputId": "61417cfe-5364-4aad-e45d-58a95c880442"
   },
   "outputs": [
    {
     "data": {
      "text/html": [
       "<pre style=\"white-space:pre;overflow-x:auto;line-height:normal;font-family:Menlo,'DejaVu Sans Mono',consolas,'Courier New',monospace\"><span style=\"color: #7fbfbf; text-decoration-color: #7fbfbf\">[04/06/25 07:44:33] </span><span style=\"color: #808000; text-decoration-color: #808000\">WARNING </span> <span style=\"color: #800080; text-decoration-color: #800080\">/usr/local/lib/python3.11/dist-packages/soccerdata/</span><span style=\"color: #ff00ff; text-decoration-color: #ff00ff\">fbref.py</span>:<span style=\"color: #008080; text-decoration-color: #008080; font-weight: bold\">165</span>:       <a href=\"file:///usr/lib/python3.11/warnings.py\" target=\"_blank\"><span style=\"color: #7f7f7f; text-decoration-color: #7f7f7f\">warnings.py</span></a><span style=\"color: #7f7f7f; text-decoration-color: #7f7f7f\">:</span><a href=\"file:///usr/lib/python3.11/warnings.py#110\" target=\"_blank\"><span style=\"color: #7f7f7f; text-decoration-color: #7f7f7f\">110</span></a>\n",
       "<span style=\"color: #7fbfbf; text-decoration-color: #7fbfbf\">                    </span>         FutureWarning: The behavior of DataFrame concatenation with empty or   <span style=\"color: #7f7f7f; text-decoration-color: #7f7f7f\">               </span>\n",
       "<span style=\"color: #7fbfbf; text-decoration-color: #7fbfbf\">                    </span>         all-NA entries is deprecated. In a future version, this will no longer <span style=\"color: #7f7f7f; text-decoration-color: #7f7f7f\">               </span>\n",
       "<span style=\"color: #7fbfbf; text-decoration-color: #7fbfbf\">                    </span>         exclude empty or all-NA columns when determining the result dtypes. To <span style=\"color: #7f7f7f; text-decoration-color: #7f7f7f\">               </span>\n",
       "<span style=\"color: #7fbfbf; text-decoration-color: #7fbfbf\">                    </span>         retain the old behavior, exclude the relevant entries before the       <span style=\"color: #7f7f7f; text-decoration-color: #7f7f7f\">               </span>\n",
       "<span style=\"color: #7fbfbf; text-decoration-color: #7fbfbf\">                    </span>         concat operation.                                                      <span style=\"color: #7f7f7f; text-decoration-color: #7f7f7f\">               </span>\n",
       "<span style=\"color: #7fbfbf; text-decoration-color: #7fbfbf\">                    </span>           <span style=\"color: #800080; text-decoration-color: #800080; font-weight: bold\">pd.concat</span><span style=\"font-weight: bold\">(</span>dfs<span style=\"font-weight: bold\">)</span>                                                       <span style=\"color: #7f7f7f; text-decoration-color: #7f7f7f\">               </span>\n",
       "<span style=\"color: #7fbfbf; text-decoration-color: #7fbfbf\">                    </span>                                                                                <span style=\"color: #7f7f7f; text-decoration-color: #7f7f7f\">               </span>\n",
       "</pre>\n"
      ],
      "text/plain": [
       "\u001b[2;36m[04/06/25 07:44:33]\u001b[0m\u001b[2;36m \u001b[0m\u001b[33mWARNING \u001b[0m \u001b[35m/usr/local/lib/python3.11/dist-packages/soccerdata/\u001b[0m\u001b[95mfbref.py\u001b[0m:\u001b[1;36m165\u001b[0m:       \u001b]8;id=28094;file:///usr/lib/python3.11/warnings.py\u001b\\\u001b[2mwarnings.py\u001b[0m\u001b]8;;\u001b\\\u001b[2m:\u001b[0m\u001b]8;id=772584;file:///usr/lib/python3.11/warnings.py#110\u001b\\\u001b[2m110\u001b[0m\u001b]8;;\u001b\\\n",
       "\u001b[2;36m                    \u001b[0m         FutureWarning: The behavior of DataFrame concatenation with empty or   \u001b[2m               \u001b[0m\n",
       "\u001b[2;36m                    \u001b[0m         all-NA entries is deprecated. In a future version, this will no longer \u001b[2m               \u001b[0m\n",
       "\u001b[2;36m                    \u001b[0m         exclude empty or all-NA columns when determining the result dtypes. To \u001b[2m               \u001b[0m\n",
       "\u001b[2;36m                    \u001b[0m         retain the old behavior, exclude the relevant entries before the       \u001b[2m               \u001b[0m\n",
       "\u001b[2;36m                    \u001b[0m         concat operation.                                                      \u001b[2m               \u001b[0m\n",
       "\u001b[2;36m                    \u001b[0m           \u001b[1;35mpd.concat\u001b[0m\u001b[1m(\u001b[0mdfs\u001b[1m)\u001b[0m                                                       \u001b[2m               \u001b[0m\n",
       "\u001b[2;36m                    \u001b[0m                                                                                \u001b[2m               \u001b[0m\n"
      ]
     },
     "metadata": {},
     "output_type": "display_data"
    }
   ],
   "source": [
    "df_res=fbref.read_schedule()"
   ]
  },
  {
   "cell_type": "code",
   "execution_count": null,
   "metadata": {
    "id": "p3O18szgETSR"
   },
   "outputs": [],
   "source": [
    "fd.FBref"
   ]
  },
  {
   "cell_type": "code",
   "execution_count": null,
   "metadata": {
    "id": "mO2sJZQw2oBT"
   },
   "outputs": [],
   "source": [
    "def getdata(leagues='ENG-Premier League',seasons=2000):\n",
    "    fbref = sd.FBref(leagues=leagues,seasons=seasons)\n",
    "    df_res=fbref.read_team_match_stats(stat_type='schedule')\n",
    "    # print(df_res.columns)\n",
    "    for stat_type in ['keeper','shooting','passing','passing_types','goal_shot_creation','defense','possession','misc']:\n",
    "        df=fbref.read_team_match_stats(stat_type=stat_type)\n",
    "\n",
    "        df.columns = [' '.join(col).strip() if isinstance(col, tuple) else col for col in df.columns]\n",
    "        # print(df.columns)\n",
    "        df_res=df_res.join(df.drop(columns=df_res.columns.intersection(df.columns), errors='ignore'), how='outer')\n",
    "    return df_res"
   ]
  },
  {
   "cell_type": "code",
   "execution_count": null,
   "metadata": {
    "colab": {
     "base_uri": "https://localhost:8080/",
     "height": 1000
    },
    "executionInfo": {
     "elapsed": 10727648,
     "status": "ok",
     "timestamp": 1743907552121,
     "user": {
      "displayName": "Bằng Trần Tiến",
      "userId": "18172700527455230031"
     },
     "user_tz": -420
    },
    "id": "GYwAeDRQ4Vd-",
    "outputId": "f5ee21dc-d21b-4df9-ce01-5f3ebfbc7609"
   },
   "outputs": [
    {
     "name": "stderr",
     "output_type": "stream",
     "text": [
      "\r  0%|          | 0/10 [00:00<?, ?it/s]"
     ]
    },
    {
     "data": {
      "text/html": [
       "<pre style=\"white-space:pre;overflow-x:auto;line-height:normal;font-family:Menlo,'DejaVu Sans Mono',consolas,'Courier New',monospace\"><span style=\"color: #7fbfbf; text-decoration-color: #7fbfbf\">[04/05/25 23:39:11] </span><span style=\"color: #000080; text-decoration-color: #000080\">INFO    </span> Saving cached data to <span style=\"color: #800080; text-decoration-color: #800080\">/root/soccerdata/data/</span><span style=\"color: #ff00ff; text-decoration-color: #ff00ff\">FBref</span>                       <a href=\"file:///usr/local/lib/python3.11/dist-packages/soccerdata/_common.py\" target=\"_blank\"><span style=\"color: #7f7f7f; text-decoration-color: #7f7f7f\">_common.py</span></a><span style=\"color: #7f7f7f; text-decoration-color: #7f7f7f\">:</span><a href=\"file:///usr/local/lib/python3.11/dist-packages/soccerdata/_common.py#263\" target=\"_blank\"><span style=\"color: #7f7f7f; text-decoration-color: #7f7f7f\">263</span></a>\n",
       "</pre>\n"
      ],
      "text/plain": [
       "\u001b[2;36m[04/05/25 23:39:11]\u001b[0m\u001b[2;36m \u001b[0m\u001b[34mINFO    \u001b[0m Saving cached data to \u001b[35m/root/soccerdata/data/\u001b[0m\u001b[95mFBref\u001b[0m                       \u001b]8;id=702473;file:///usr/local/lib/python3.11/dist-packages/soccerdata/_common.py\u001b\\\u001b[2m_common.py\u001b[0m\u001b]8;;\u001b\\\u001b[2m:\u001b[0m\u001b]8;id=368215;file:///usr/local/lib/python3.11/dist-packages/soccerdata/_common.py#263\u001b\\\u001b[2m263\u001b[0m\u001b]8;;\u001b\\\n"
      ]
     },
     "metadata": {},
     "output_type": "display_data"
    },
    {
     "data": {
      "text/html": [
       "<pre style=\"white-space:pre;overflow-x:auto;line-height:normal;font-family:Menlo,'DejaVu Sans Mono',consolas,'Courier New',monospace\"><span style=\"color: #7fbfbf; text-decoration-color: #7fbfbf\">[04/05/25 23:39:18] </span><span style=\"color: #808000; text-decoration-color: #808000\">WARNING </span> <span style=\"color: #800080; text-decoration-color: #800080\">/usr/local/lib/python3.11/dist-packages/soccerdata/</span><span style=\"color: #ff00ff; text-decoration-color: #ff00ff\">fbref.py</span>:<span style=\"color: #008080; text-decoration-color: #008080; font-weight: bold\">165</span>:       <a href=\"file:///usr/lib/python3.11/warnings.py\" target=\"_blank\"><span style=\"color: #7f7f7f; text-decoration-color: #7f7f7f\">warnings.py</span></a><span style=\"color: #7f7f7f; text-decoration-color: #7f7f7f\">:</span><a href=\"file:///usr/lib/python3.11/warnings.py#110\" target=\"_blank\"><span style=\"color: #7f7f7f; text-decoration-color: #7f7f7f\">110</span></a>\n",
       "<span style=\"color: #7fbfbf; text-decoration-color: #7fbfbf\">                    </span>         FutureWarning: The behavior of DataFrame concatenation with empty or   <span style=\"color: #7f7f7f; text-decoration-color: #7f7f7f\">               </span>\n",
       "<span style=\"color: #7fbfbf; text-decoration-color: #7fbfbf\">                    </span>         all-NA entries is deprecated. In a future version, this will no longer <span style=\"color: #7f7f7f; text-decoration-color: #7f7f7f\">               </span>\n",
       "<span style=\"color: #7fbfbf; text-decoration-color: #7fbfbf\">                    </span>         exclude empty or all-NA columns when determining the result dtypes. To <span style=\"color: #7f7f7f; text-decoration-color: #7f7f7f\">               </span>\n",
       "<span style=\"color: #7fbfbf; text-decoration-color: #7fbfbf\">                    </span>         retain the old behavior, exclude the relevant entries before the       <span style=\"color: #7f7f7f; text-decoration-color: #7f7f7f\">               </span>\n",
       "<span style=\"color: #7fbfbf; text-decoration-color: #7fbfbf\">                    </span>         concat operation.                                                      <span style=\"color: #7f7f7f; text-decoration-color: #7f7f7f\">               </span>\n",
       "<span style=\"color: #7fbfbf; text-decoration-color: #7fbfbf\">                    </span>           <span style=\"color: #800080; text-decoration-color: #800080; font-weight: bold\">pd.concat</span><span style=\"font-weight: bold\">(</span>dfs<span style=\"font-weight: bold\">)</span>                                                       <span style=\"color: #7f7f7f; text-decoration-color: #7f7f7f\">               </span>\n",
       "<span style=\"color: #7fbfbf; text-decoration-color: #7fbfbf\">                    </span>                                                                                <span style=\"color: #7f7f7f; text-decoration-color: #7f7f7f\">               </span>\n",
       "</pre>\n"
      ],
      "text/plain": [
       "\u001b[2;36m[04/05/25 23:39:18]\u001b[0m\u001b[2;36m \u001b[0m\u001b[33mWARNING \u001b[0m \u001b[35m/usr/local/lib/python3.11/dist-packages/soccerdata/\u001b[0m\u001b[95mfbref.py\u001b[0m:\u001b[1;36m165\u001b[0m:       \u001b]8;id=19591;file:///usr/lib/python3.11/warnings.py\u001b\\\u001b[2mwarnings.py\u001b[0m\u001b]8;;\u001b\\\u001b[2m:\u001b[0m\u001b]8;id=312182;file:///usr/lib/python3.11/warnings.py#110\u001b\\\u001b[2m110\u001b[0m\u001b]8;;\u001b\\\n",
       "\u001b[2;36m                    \u001b[0m         FutureWarning: The behavior of DataFrame concatenation with empty or   \u001b[2m               \u001b[0m\n",
       "\u001b[2;36m                    \u001b[0m         all-NA entries is deprecated. In a future version, this will no longer \u001b[2m               \u001b[0m\n",
       "\u001b[2;36m                    \u001b[0m         exclude empty or all-NA columns when determining the result dtypes. To \u001b[2m               \u001b[0m\n",
       "\u001b[2;36m                    \u001b[0m         retain the old behavior, exclude the relevant entries before the       \u001b[2m               \u001b[0m\n",
       "\u001b[2;36m                    \u001b[0m         concat operation.                                                      \u001b[2m               \u001b[0m\n",
       "\u001b[2;36m                    \u001b[0m           \u001b[1;35mpd.concat\u001b[0m\u001b[1m(\u001b[0mdfs\u001b[1m)\u001b[0m                                                       \u001b[2m               \u001b[0m\n",
       "\u001b[2;36m                    \u001b[0m                                                                                \u001b[2m               \u001b[0m\n"
      ]
     },
     "metadata": {},
     "output_type": "display_data"
    },
    {
     "data": {
      "text/html": [
       "<pre style=\"white-space:pre;overflow-x:auto;line-height:normal;font-family:Menlo,'DejaVu Sans Mono',consolas,'Courier New',monospace\"><span style=\"color: #7fbfbf; text-decoration-color: #7fbfbf\">[04/05/25 23:41:49] </span><span style=\"color: #808000; text-decoration-color: #808000\">WARNING </span> <span style=\"color: #800080; text-decoration-color: #800080\">/usr/local/lib/python3.11/dist-packages/soccerdata/</span><span style=\"color: #ff00ff; text-decoration-color: #ff00ff\">fbref.py</span>:<span style=\"color: #008080; text-decoration-color: #008080; font-weight: bold\">1273</span>:      <a href=\"file:///usr/lib/python3.11/warnings.py\" target=\"_blank\"><span style=\"color: #7f7f7f; text-decoration-color: #7f7f7f\">warnings.py</span></a><span style=\"color: #7f7f7f; text-decoration-color: #7f7f7f\">:</span><a href=\"file:///usr/lib/python3.11/warnings.py#110\" target=\"_blank\"><span style=\"color: #7f7f7f; text-decoration-color: #7f7f7f\">110</span></a>\n",
       "<span style=\"color: #7fbfbf; text-decoration-color: #7fbfbf\">                    </span>         FutureWarning: The behavior of DataFrame concatenation with empty or   <span style=\"color: #7f7f7f; text-decoration-color: #7f7f7f\">               </span>\n",
       "<span style=\"color: #7fbfbf; text-decoration-color: #7fbfbf\">                    </span>         all-NA entries is deprecated. In a future version, this will no longer <span style=\"color: #7f7f7f; text-decoration-color: #7f7f7f\">               </span>\n",
       "<span style=\"color: #7fbfbf; text-decoration-color: #7fbfbf\">                    </span>         exclude empty or all-NA columns when determining the result dtypes. To <span style=\"color: #7f7f7f; text-decoration-color: #7f7f7f\">               </span>\n",
       "<span style=\"color: #7fbfbf; text-decoration-color: #7fbfbf\">                    </span>         retain the old behavior, exclude the relevant entries before the       <span style=\"color: #7f7f7f; text-decoration-color: #7f7f7f\">               </span>\n",
       "<span style=\"color: #7fbfbf; text-decoration-color: #7fbfbf\">                    </span>         concat operation.                                                      <span style=\"color: #7f7f7f; text-decoration-color: #7f7f7f\">               </span>\n",
       "<span style=\"color: #7fbfbf; text-decoration-color: #7fbfbf\">                    </span>           return <span style=\"color: #800080; text-decoration-color: #800080; font-weight: bold\">pd.concat</span><span style=\"font-weight: bold\">(</span>dfs<span style=\"font-weight: bold\">)</span>                                                <span style=\"color: #7f7f7f; text-decoration-color: #7f7f7f\">               </span>\n",
       "<span style=\"color: #7fbfbf; text-decoration-color: #7fbfbf\">                    </span>                                                                                <span style=\"color: #7f7f7f; text-decoration-color: #7f7f7f\">               </span>\n",
       "</pre>\n"
      ],
      "text/plain": [
       "\u001b[2;36m[04/05/25 23:41:49]\u001b[0m\u001b[2;36m \u001b[0m\u001b[33mWARNING \u001b[0m \u001b[35m/usr/local/lib/python3.11/dist-packages/soccerdata/\u001b[0m\u001b[95mfbref.py\u001b[0m:\u001b[1;36m1273\u001b[0m:      \u001b]8;id=694742;file:///usr/lib/python3.11/warnings.py\u001b\\\u001b[2mwarnings.py\u001b[0m\u001b]8;;\u001b\\\u001b[2m:\u001b[0m\u001b]8;id=972074;file:///usr/lib/python3.11/warnings.py#110\u001b\\\u001b[2m110\u001b[0m\u001b]8;;\u001b\\\n",
       "\u001b[2;36m                    \u001b[0m         FutureWarning: The behavior of DataFrame concatenation with empty or   \u001b[2m               \u001b[0m\n",
       "\u001b[2;36m                    \u001b[0m         all-NA entries is deprecated. In a future version, this will no longer \u001b[2m               \u001b[0m\n",
       "\u001b[2;36m                    \u001b[0m         exclude empty or all-NA columns when determining the result dtypes. To \u001b[2m               \u001b[0m\n",
       "\u001b[2;36m                    \u001b[0m         retain the old behavior, exclude the relevant entries before the       \u001b[2m               \u001b[0m\n",
       "\u001b[2;36m                    \u001b[0m         concat operation.                                                      \u001b[2m               \u001b[0m\n",
       "\u001b[2;36m                    \u001b[0m           return \u001b[1;35mpd.concat\u001b[0m\u001b[1m(\u001b[0mdfs\u001b[1m)\u001b[0m                                                \u001b[2m               \u001b[0m\n",
       "\u001b[2;36m                    \u001b[0m                                                                                \u001b[2m               \u001b[0m\n"
      ]
     },
     "metadata": {},
     "output_type": "display_data"
    },
    {
     "data": {
      "text/html": [
       "<pre style=\"white-space:pre;overflow-x:auto;line-height:normal;font-family:Menlo,'DejaVu Sans Mono',consolas,'Courier New',monospace\"><span style=\"color: #7fbfbf; text-decoration-color: #7fbfbf\">                    </span><span style=\"color: #808000; text-decoration-color: #808000\">WARNING </span> <span style=\"color: #800080; text-decoration-color: #800080\">/usr/local/lib/python3.11/dist-packages/soccerdata/</span><span style=\"color: #ff00ff; text-decoration-color: #ff00ff\">fbref.py</span>:<span style=\"color: #008080; text-decoration-color: #008080; font-weight: bold\">165</span>:       <a href=\"file:///usr/lib/python3.11/warnings.py\" target=\"_blank\"><span style=\"color: #7f7f7f; text-decoration-color: #7f7f7f\">warnings.py</span></a><span style=\"color: #7f7f7f; text-decoration-color: #7f7f7f\">:</span><a href=\"file:///usr/lib/python3.11/warnings.py#110\" target=\"_blank\"><span style=\"color: #7f7f7f; text-decoration-color: #7f7f7f\">110</span></a>\n",
       "<span style=\"color: #7fbfbf; text-decoration-color: #7fbfbf\">                    </span>         FutureWarning: The behavior of DataFrame concatenation with empty or   <span style=\"color: #7f7f7f; text-decoration-color: #7f7f7f\">               </span>\n",
       "<span style=\"color: #7fbfbf; text-decoration-color: #7fbfbf\">                    </span>         all-NA entries is deprecated. In a future version, this will no longer <span style=\"color: #7f7f7f; text-decoration-color: #7f7f7f\">               </span>\n",
       "<span style=\"color: #7fbfbf; text-decoration-color: #7fbfbf\">                    </span>         exclude empty or all-NA columns when determining the result dtypes. To <span style=\"color: #7f7f7f; text-decoration-color: #7f7f7f\">               </span>\n",
       "<span style=\"color: #7fbfbf; text-decoration-color: #7fbfbf\">                    </span>         retain the old behavior, exclude the relevant entries before the       <span style=\"color: #7f7f7f; text-decoration-color: #7f7f7f\">               </span>\n",
       "<span style=\"color: #7fbfbf; text-decoration-color: #7fbfbf\">                    </span>         concat operation.                                                      <span style=\"color: #7f7f7f; text-decoration-color: #7f7f7f\">               </span>\n",
       "<span style=\"color: #7fbfbf; text-decoration-color: #7fbfbf\">                    </span>           <span style=\"color: #800080; text-decoration-color: #800080; font-weight: bold\">pd.concat</span><span style=\"font-weight: bold\">(</span>dfs<span style=\"font-weight: bold\">)</span>                                                       <span style=\"color: #7f7f7f; text-decoration-color: #7f7f7f\">               </span>\n",
       "<span style=\"color: #7fbfbf; text-decoration-color: #7fbfbf\">                    </span>                                                                                <span style=\"color: #7f7f7f; text-decoration-color: #7f7f7f\">               </span>\n",
       "</pre>\n"
      ],
      "text/plain": [
       "\u001b[2;36m                   \u001b[0m\u001b[2;36m \u001b[0m\u001b[33mWARNING \u001b[0m \u001b[35m/usr/local/lib/python3.11/dist-packages/soccerdata/\u001b[0m\u001b[95mfbref.py\u001b[0m:\u001b[1;36m165\u001b[0m:       \u001b]8;id=695431;file:///usr/lib/python3.11/warnings.py\u001b\\\u001b[2mwarnings.py\u001b[0m\u001b]8;;\u001b\\\u001b[2m:\u001b[0m\u001b]8;id=564161;file:///usr/lib/python3.11/warnings.py#110\u001b\\\u001b[2m110\u001b[0m\u001b]8;;\u001b\\\n",
       "\u001b[2;36m                    \u001b[0m         FutureWarning: The behavior of DataFrame concatenation with empty or   \u001b[2m               \u001b[0m\n",
       "\u001b[2;36m                    \u001b[0m         all-NA entries is deprecated. In a future version, this will no longer \u001b[2m               \u001b[0m\n",
       "\u001b[2;36m                    \u001b[0m         exclude empty or all-NA columns when determining the result dtypes. To \u001b[2m               \u001b[0m\n",
       "\u001b[2;36m                    \u001b[0m         retain the old behavior, exclude the relevant entries before the       \u001b[2m               \u001b[0m\n",
       "\u001b[2;36m                    \u001b[0m         concat operation.                                                      \u001b[2m               \u001b[0m\n",
       "\u001b[2;36m                    \u001b[0m           \u001b[1;35mpd.concat\u001b[0m\u001b[1m(\u001b[0mdfs\u001b[1m)\u001b[0m                                                       \u001b[2m               \u001b[0m\n",
       "\u001b[2;36m                    \u001b[0m                                                                                \u001b[2m               \u001b[0m\n"
      ]
     },
     "metadata": {},
     "output_type": "display_data"
    },
    {
     "data": {
      "text/html": [
       "<pre style=\"white-space:pre;overflow-x:auto;line-height:normal;font-family:Menlo,'DejaVu Sans Mono',consolas,'Courier New',monospace\"><span style=\"color: #7fbfbf; text-decoration-color: #7fbfbf\">[04/05/25 23:44:13] </span><span style=\"color: #808000; text-decoration-color: #808000\">WARNING </span> <span style=\"color: #800080; text-decoration-color: #800080\">/usr/local/lib/python3.11/dist-packages/soccerdata/</span><span style=\"color: #ff00ff; text-decoration-color: #ff00ff\">fbref.py</span>:<span style=\"color: #008080; text-decoration-color: #008080; font-weight: bold\">165</span>:       <a href=\"file:///usr/lib/python3.11/warnings.py\" target=\"_blank\"><span style=\"color: #7f7f7f; text-decoration-color: #7f7f7f\">warnings.py</span></a><span style=\"color: #7f7f7f; text-decoration-color: #7f7f7f\">:</span><a href=\"file:///usr/lib/python3.11/warnings.py#110\" target=\"_blank\"><span style=\"color: #7f7f7f; text-decoration-color: #7f7f7f\">110</span></a>\n",
       "<span style=\"color: #7fbfbf; text-decoration-color: #7fbfbf\">                    </span>         FutureWarning: The behavior of DataFrame concatenation with empty or   <span style=\"color: #7f7f7f; text-decoration-color: #7f7f7f\">               </span>\n",
       "<span style=\"color: #7fbfbf; text-decoration-color: #7fbfbf\">                    </span>         all-NA entries is deprecated. In a future version, this will no longer <span style=\"color: #7f7f7f; text-decoration-color: #7f7f7f\">               </span>\n",
       "<span style=\"color: #7fbfbf; text-decoration-color: #7fbfbf\">                    </span>         exclude empty or all-NA columns when determining the result dtypes. To <span style=\"color: #7f7f7f; text-decoration-color: #7f7f7f\">               </span>\n",
       "<span style=\"color: #7fbfbf; text-decoration-color: #7fbfbf\">                    </span>         retain the old behavior, exclude the relevant entries before the       <span style=\"color: #7f7f7f; text-decoration-color: #7f7f7f\">               </span>\n",
       "<span style=\"color: #7fbfbf; text-decoration-color: #7fbfbf\">                    </span>         concat operation.                                                      <span style=\"color: #7f7f7f; text-decoration-color: #7f7f7f\">               </span>\n",
       "<span style=\"color: #7fbfbf; text-decoration-color: #7fbfbf\">                    </span>           <span style=\"color: #800080; text-decoration-color: #800080; font-weight: bold\">pd.concat</span><span style=\"font-weight: bold\">(</span>dfs<span style=\"font-weight: bold\">)</span>                                                       <span style=\"color: #7f7f7f; text-decoration-color: #7f7f7f\">               </span>\n",
       "<span style=\"color: #7fbfbf; text-decoration-color: #7fbfbf\">                    </span>                                                                                <span style=\"color: #7f7f7f; text-decoration-color: #7f7f7f\">               </span>\n",
       "</pre>\n"
      ],
      "text/plain": [
       "\u001b[2;36m[04/05/25 23:44:13]\u001b[0m\u001b[2;36m \u001b[0m\u001b[33mWARNING \u001b[0m \u001b[35m/usr/local/lib/python3.11/dist-packages/soccerdata/\u001b[0m\u001b[95mfbref.py\u001b[0m:\u001b[1;36m165\u001b[0m:       \u001b]8;id=329133;file:///usr/lib/python3.11/warnings.py\u001b\\\u001b[2mwarnings.py\u001b[0m\u001b]8;;\u001b\\\u001b[2m:\u001b[0m\u001b]8;id=24977;file:///usr/lib/python3.11/warnings.py#110\u001b\\\u001b[2m110\u001b[0m\u001b]8;;\u001b\\\n",
       "\u001b[2;36m                    \u001b[0m         FutureWarning: The behavior of DataFrame concatenation with empty or   \u001b[2m               \u001b[0m\n",
       "\u001b[2;36m                    \u001b[0m         all-NA entries is deprecated. In a future version, this will no longer \u001b[2m               \u001b[0m\n",
       "\u001b[2;36m                    \u001b[0m         exclude empty or all-NA columns when determining the result dtypes. To \u001b[2m               \u001b[0m\n",
       "\u001b[2;36m                    \u001b[0m         retain the old behavior, exclude the relevant entries before the       \u001b[2m               \u001b[0m\n",
       "\u001b[2;36m                    \u001b[0m         concat operation.                                                      \u001b[2m               \u001b[0m\n",
       "\u001b[2;36m                    \u001b[0m           \u001b[1;35mpd.concat\u001b[0m\u001b[1m(\u001b[0mdfs\u001b[1m)\u001b[0m                                                       \u001b[2m               \u001b[0m\n",
       "\u001b[2;36m                    \u001b[0m                                                                                \u001b[2m               \u001b[0m\n"
      ]
     },
     "metadata": {},
     "output_type": "display_data"
    },
    {
     "data": {
      "text/html": [
       "<pre style=\"white-space:pre;overflow-x:auto;line-height:normal;font-family:Menlo,'DejaVu Sans Mono',consolas,'Courier New',monospace\"><span style=\"color: #7fbfbf; text-decoration-color: #7fbfbf\">[04/05/25 23:46:37] </span><span style=\"color: #808000; text-decoration-color: #808000\">WARNING </span> <span style=\"color: #800080; text-decoration-color: #800080\">/usr/local/lib/python3.11/dist-packages/soccerdata/</span><span style=\"color: #ff00ff; text-decoration-color: #ff00ff\">fbref.py</span>:<span style=\"color: #008080; text-decoration-color: #008080; font-weight: bold\">165</span>:       <a href=\"file:///usr/lib/python3.11/warnings.py\" target=\"_blank\"><span style=\"color: #7f7f7f; text-decoration-color: #7f7f7f\">warnings.py</span></a><span style=\"color: #7f7f7f; text-decoration-color: #7f7f7f\">:</span><a href=\"file:///usr/lib/python3.11/warnings.py#110\" target=\"_blank\"><span style=\"color: #7f7f7f; text-decoration-color: #7f7f7f\">110</span></a>\n",
       "<span style=\"color: #7fbfbf; text-decoration-color: #7fbfbf\">                    </span>         FutureWarning: The behavior of DataFrame concatenation with empty or   <span style=\"color: #7f7f7f; text-decoration-color: #7f7f7f\">               </span>\n",
       "<span style=\"color: #7fbfbf; text-decoration-color: #7fbfbf\">                    </span>         all-NA entries is deprecated. In a future version, this will no longer <span style=\"color: #7f7f7f; text-decoration-color: #7f7f7f\">               </span>\n",
       "<span style=\"color: #7fbfbf; text-decoration-color: #7fbfbf\">                    </span>         exclude empty or all-NA columns when determining the result dtypes. To <span style=\"color: #7f7f7f; text-decoration-color: #7f7f7f\">               </span>\n",
       "<span style=\"color: #7fbfbf; text-decoration-color: #7fbfbf\">                    </span>         retain the old behavior, exclude the relevant entries before the       <span style=\"color: #7f7f7f; text-decoration-color: #7f7f7f\">               </span>\n",
       "<span style=\"color: #7fbfbf; text-decoration-color: #7fbfbf\">                    </span>         concat operation.                                                      <span style=\"color: #7f7f7f; text-decoration-color: #7f7f7f\">               </span>\n",
       "<span style=\"color: #7fbfbf; text-decoration-color: #7fbfbf\">                    </span>           <span style=\"color: #800080; text-decoration-color: #800080; font-weight: bold\">pd.concat</span><span style=\"font-weight: bold\">(</span>dfs<span style=\"font-weight: bold\">)</span>                                                       <span style=\"color: #7f7f7f; text-decoration-color: #7f7f7f\">               </span>\n",
       "<span style=\"color: #7fbfbf; text-decoration-color: #7fbfbf\">                    </span>                                                                                <span style=\"color: #7f7f7f; text-decoration-color: #7f7f7f\">               </span>\n",
       "</pre>\n"
      ],
      "text/plain": [
       "\u001b[2;36m[04/05/25 23:46:37]\u001b[0m\u001b[2;36m \u001b[0m\u001b[33mWARNING \u001b[0m \u001b[35m/usr/local/lib/python3.11/dist-packages/soccerdata/\u001b[0m\u001b[95mfbref.py\u001b[0m:\u001b[1;36m165\u001b[0m:       \u001b]8;id=568250;file:///usr/lib/python3.11/warnings.py\u001b\\\u001b[2mwarnings.py\u001b[0m\u001b]8;;\u001b\\\u001b[2m:\u001b[0m\u001b]8;id=553524;file:///usr/lib/python3.11/warnings.py#110\u001b\\\u001b[2m110\u001b[0m\u001b]8;;\u001b\\\n",
       "\u001b[2;36m                    \u001b[0m         FutureWarning: The behavior of DataFrame concatenation with empty or   \u001b[2m               \u001b[0m\n",
       "\u001b[2;36m                    \u001b[0m         all-NA entries is deprecated. In a future version, this will no longer \u001b[2m               \u001b[0m\n",
       "\u001b[2;36m                    \u001b[0m         exclude empty or all-NA columns when determining the result dtypes. To \u001b[2m               \u001b[0m\n",
       "\u001b[2;36m                    \u001b[0m         retain the old behavior, exclude the relevant entries before the       \u001b[2m               \u001b[0m\n",
       "\u001b[2;36m                    \u001b[0m         concat operation.                                                      \u001b[2m               \u001b[0m\n",
       "\u001b[2;36m                    \u001b[0m           \u001b[1;35mpd.concat\u001b[0m\u001b[1m(\u001b[0mdfs\u001b[1m)\u001b[0m                                                       \u001b[2m               \u001b[0m\n",
       "\u001b[2;36m                    \u001b[0m                                                                                \u001b[2m               \u001b[0m\n"
      ]
     },
     "metadata": {},
     "output_type": "display_data"
    },
    {
     "data": {
      "text/html": [
       "<pre style=\"white-space:pre;overflow-x:auto;line-height:normal;font-family:Menlo,'DejaVu Sans Mono',consolas,'Courier New',monospace\"><span style=\"color: #7fbfbf; text-decoration-color: #7fbfbf\">[04/05/25 23:49:03] </span><span style=\"color: #808000; text-decoration-color: #808000\">WARNING </span> <span style=\"color: #800080; text-decoration-color: #800080\">/usr/local/lib/python3.11/dist-packages/soccerdata/</span><span style=\"color: #ff00ff; text-decoration-color: #ff00ff\">fbref.py</span>:<span style=\"color: #008080; text-decoration-color: #008080; font-weight: bold\">165</span>:       <a href=\"file:///usr/lib/python3.11/warnings.py\" target=\"_blank\"><span style=\"color: #7f7f7f; text-decoration-color: #7f7f7f\">warnings.py</span></a><span style=\"color: #7f7f7f; text-decoration-color: #7f7f7f\">:</span><a href=\"file:///usr/lib/python3.11/warnings.py#110\" target=\"_blank\"><span style=\"color: #7f7f7f; text-decoration-color: #7f7f7f\">110</span></a>\n",
       "<span style=\"color: #7fbfbf; text-decoration-color: #7fbfbf\">                    </span>         FutureWarning: The behavior of DataFrame concatenation with empty or   <span style=\"color: #7f7f7f; text-decoration-color: #7f7f7f\">               </span>\n",
       "<span style=\"color: #7fbfbf; text-decoration-color: #7fbfbf\">                    </span>         all-NA entries is deprecated. In a future version, this will no longer <span style=\"color: #7f7f7f; text-decoration-color: #7f7f7f\">               </span>\n",
       "<span style=\"color: #7fbfbf; text-decoration-color: #7fbfbf\">                    </span>         exclude empty or all-NA columns when determining the result dtypes. To <span style=\"color: #7f7f7f; text-decoration-color: #7f7f7f\">               </span>\n",
       "<span style=\"color: #7fbfbf; text-decoration-color: #7fbfbf\">                    </span>         retain the old behavior, exclude the relevant entries before the       <span style=\"color: #7f7f7f; text-decoration-color: #7f7f7f\">               </span>\n",
       "<span style=\"color: #7fbfbf; text-decoration-color: #7fbfbf\">                    </span>         concat operation.                                                      <span style=\"color: #7f7f7f; text-decoration-color: #7f7f7f\">               </span>\n",
       "<span style=\"color: #7fbfbf; text-decoration-color: #7fbfbf\">                    </span>           <span style=\"color: #800080; text-decoration-color: #800080; font-weight: bold\">pd.concat</span><span style=\"font-weight: bold\">(</span>dfs<span style=\"font-weight: bold\">)</span>                                                       <span style=\"color: #7f7f7f; text-decoration-color: #7f7f7f\">               </span>\n",
       "<span style=\"color: #7fbfbf; text-decoration-color: #7fbfbf\">                    </span>                                                                                <span style=\"color: #7f7f7f; text-decoration-color: #7f7f7f\">               </span>\n",
       "</pre>\n"
      ],
      "text/plain": [
       "\u001b[2;36m[04/05/25 23:49:03]\u001b[0m\u001b[2;36m \u001b[0m\u001b[33mWARNING \u001b[0m \u001b[35m/usr/local/lib/python3.11/dist-packages/soccerdata/\u001b[0m\u001b[95mfbref.py\u001b[0m:\u001b[1;36m165\u001b[0m:       \u001b]8;id=882213;file:///usr/lib/python3.11/warnings.py\u001b\\\u001b[2mwarnings.py\u001b[0m\u001b]8;;\u001b\\\u001b[2m:\u001b[0m\u001b]8;id=177111;file:///usr/lib/python3.11/warnings.py#110\u001b\\\u001b[2m110\u001b[0m\u001b]8;;\u001b\\\n",
       "\u001b[2;36m                    \u001b[0m         FutureWarning: The behavior of DataFrame concatenation with empty or   \u001b[2m               \u001b[0m\n",
       "\u001b[2;36m                    \u001b[0m         all-NA entries is deprecated. In a future version, this will no longer \u001b[2m               \u001b[0m\n",
       "\u001b[2;36m                    \u001b[0m         exclude empty or all-NA columns when determining the result dtypes. To \u001b[2m               \u001b[0m\n",
       "\u001b[2;36m                    \u001b[0m         retain the old behavior, exclude the relevant entries before the       \u001b[2m               \u001b[0m\n",
       "\u001b[2;36m                    \u001b[0m         concat operation.                                                      \u001b[2m               \u001b[0m\n",
       "\u001b[2;36m                    \u001b[0m           \u001b[1;35mpd.concat\u001b[0m\u001b[1m(\u001b[0mdfs\u001b[1m)\u001b[0m                                                       \u001b[2m               \u001b[0m\n",
       "\u001b[2;36m                    \u001b[0m                                                                                \u001b[2m               \u001b[0m\n"
      ]
     },
     "metadata": {},
     "output_type": "display_data"
    },
    {
     "data": {
      "text/html": [
       "<pre style=\"white-space:pre;overflow-x:auto;line-height:normal;font-family:Menlo,'DejaVu Sans Mono',consolas,'Courier New',monospace\"><span style=\"color: #7fbfbf; text-decoration-color: #7fbfbf\">[04/05/25 23:51:29] </span><span style=\"color: #808000; text-decoration-color: #808000\">WARNING </span> <span style=\"color: #800080; text-decoration-color: #800080\">/usr/local/lib/python3.11/dist-packages/soccerdata/</span><span style=\"color: #ff00ff; text-decoration-color: #ff00ff\">fbref.py</span>:<span style=\"color: #008080; text-decoration-color: #008080; font-weight: bold\">165</span>:       <a href=\"file:///usr/lib/python3.11/warnings.py\" target=\"_blank\"><span style=\"color: #7f7f7f; text-decoration-color: #7f7f7f\">warnings.py</span></a><span style=\"color: #7f7f7f; text-decoration-color: #7f7f7f\">:</span><a href=\"file:///usr/lib/python3.11/warnings.py#110\" target=\"_blank\"><span style=\"color: #7f7f7f; text-decoration-color: #7f7f7f\">110</span></a>\n",
       "<span style=\"color: #7fbfbf; text-decoration-color: #7fbfbf\">                    </span>         FutureWarning: The behavior of DataFrame concatenation with empty or   <span style=\"color: #7f7f7f; text-decoration-color: #7f7f7f\">               </span>\n",
       "<span style=\"color: #7fbfbf; text-decoration-color: #7fbfbf\">                    </span>         all-NA entries is deprecated. In a future version, this will no longer <span style=\"color: #7f7f7f; text-decoration-color: #7f7f7f\">               </span>\n",
       "<span style=\"color: #7fbfbf; text-decoration-color: #7fbfbf\">                    </span>         exclude empty or all-NA columns when determining the result dtypes. To <span style=\"color: #7f7f7f; text-decoration-color: #7f7f7f\">               </span>\n",
       "<span style=\"color: #7fbfbf; text-decoration-color: #7fbfbf\">                    </span>         retain the old behavior, exclude the relevant entries before the       <span style=\"color: #7f7f7f; text-decoration-color: #7f7f7f\">               </span>\n",
       "<span style=\"color: #7fbfbf; text-decoration-color: #7fbfbf\">                    </span>         concat operation.                                                      <span style=\"color: #7f7f7f; text-decoration-color: #7f7f7f\">               </span>\n",
       "<span style=\"color: #7fbfbf; text-decoration-color: #7fbfbf\">                    </span>           <span style=\"color: #800080; text-decoration-color: #800080; font-weight: bold\">pd.concat</span><span style=\"font-weight: bold\">(</span>dfs<span style=\"font-weight: bold\">)</span>                                                       <span style=\"color: #7f7f7f; text-decoration-color: #7f7f7f\">               </span>\n",
       "<span style=\"color: #7fbfbf; text-decoration-color: #7fbfbf\">                    </span>                                                                                <span style=\"color: #7f7f7f; text-decoration-color: #7f7f7f\">               </span>\n",
       "</pre>\n"
      ],
      "text/plain": [
       "\u001b[2;36m[04/05/25 23:51:29]\u001b[0m\u001b[2;36m \u001b[0m\u001b[33mWARNING \u001b[0m \u001b[35m/usr/local/lib/python3.11/dist-packages/soccerdata/\u001b[0m\u001b[95mfbref.py\u001b[0m:\u001b[1;36m165\u001b[0m:       \u001b]8;id=35038;file:///usr/lib/python3.11/warnings.py\u001b\\\u001b[2mwarnings.py\u001b[0m\u001b]8;;\u001b\\\u001b[2m:\u001b[0m\u001b]8;id=696054;file:///usr/lib/python3.11/warnings.py#110\u001b\\\u001b[2m110\u001b[0m\u001b]8;;\u001b\\\n",
       "\u001b[2;36m                    \u001b[0m         FutureWarning: The behavior of DataFrame concatenation with empty or   \u001b[2m               \u001b[0m\n",
       "\u001b[2;36m                    \u001b[0m         all-NA entries is deprecated. In a future version, this will no longer \u001b[2m               \u001b[0m\n",
       "\u001b[2;36m                    \u001b[0m         exclude empty or all-NA columns when determining the result dtypes. To \u001b[2m               \u001b[0m\n",
       "\u001b[2;36m                    \u001b[0m         retain the old behavior, exclude the relevant entries before the       \u001b[2m               \u001b[0m\n",
       "\u001b[2;36m                    \u001b[0m         concat operation.                                                      \u001b[2m               \u001b[0m\n",
       "\u001b[2;36m                    \u001b[0m           \u001b[1;35mpd.concat\u001b[0m\u001b[1m(\u001b[0mdfs\u001b[1m)\u001b[0m                                                       \u001b[2m               \u001b[0m\n",
       "\u001b[2;36m                    \u001b[0m                                                                                \u001b[2m               \u001b[0m\n"
      ]
     },
     "metadata": {},
     "output_type": "display_data"
    },
    {
     "data": {
      "text/html": [
       "<pre style=\"white-space:pre;overflow-x:auto;line-height:normal;font-family:Menlo,'DejaVu Sans Mono',consolas,'Courier New',monospace\"><span style=\"color: #7fbfbf; text-decoration-color: #7fbfbf\">[04/05/25 23:53:53] </span><span style=\"color: #808000; text-decoration-color: #808000\">WARNING </span> <span style=\"color: #800080; text-decoration-color: #800080\">/usr/local/lib/python3.11/dist-packages/soccerdata/</span><span style=\"color: #ff00ff; text-decoration-color: #ff00ff\">fbref.py</span>:<span style=\"color: #008080; text-decoration-color: #008080; font-weight: bold\">165</span>:       <a href=\"file:///usr/lib/python3.11/warnings.py\" target=\"_blank\"><span style=\"color: #7f7f7f; text-decoration-color: #7f7f7f\">warnings.py</span></a><span style=\"color: #7f7f7f; text-decoration-color: #7f7f7f\">:</span><a href=\"file:///usr/lib/python3.11/warnings.py#110\" target=\"_blank\"><span style=\"color: #7f7f7f; text-decoration-color: #7f7f7f\">110</span></a>\n",
       "<span style=\"color: #7fbfbf; text-decoration-color: #7fbfbf\">                    </span>         FutureWarning: The behavior of DataFrame concatenation with empty or   <span style=\"color: #7f7f7f; text-decoration-color: #7f7f7f\">               </span>\n",
       "<span style=\"color: #7fbfbf; text-decoration-color: #7fbfbf\">                    </span>         all-NA entries is deprecated. In a future version, this will no longer <span style=\"color: #7f7f7f; text-decoration-color: #7f7f7f\">               </span>\n",
       "<span style=\"color: #7fbfbf; text-decoration-color: #7fbfbf\">                    </span>         exclude empty or all-NA columns when determining the result dtypes. To <span style=\"color: #7f7f7f; text-decoration-color: #7f7f7f\">               </span>\n",
       "<span style=\"color: #7fbfbf; text-decoration-color: #7fbfbf\">                    </span>         retain the old behavior, exclude the relevant entries before the       <span style=\"color: #7f7f7f; text-decoration-color: #7f7f7f\">               </span>\n",
       "<span style=\"color: #7fbfbf; text-decoration-color: #7fbfbf\">                    </span>         concat operation.                                                      <span style=\"color: #7f7f7f; text-decoration-color: #7f7f7f\">               </span>\n",
       "<span style=\"color: #7fbfbf; text-decoration-color: #7fbfbf\">                    </span>           <span style=\"color: #800080; text-decoration-color: #800080; font-weight: bold\">pd.concat</span><span style=\"font-weight: bold\">(</span>dfs<span style=\"font-weight: bold\">)</span>                                                       <span style=\"color: #7f7f7f; text-decoration-color: #7f7f7f\">               </span>\n",
       "<span style=\"color: #7fbfbf; text-decoration-color: #7fbfbf\">                    </span>                                                                                <span style=\"color: #7f7f7f; text-decoration-color: #7f7f7f\">               </span>\n",
       "</pre>\n"
      ],
      "text/plain": [
       "\u001b[2;36m[04/05/25 23:53:53]\u001b[0m\u001b[2;36m \u001b[0m\u001b[33mWARNING \u001b[0m \u001b[35m/usr/local/lib/python3.11/dist-packages/soccerdata/\u001b[0m\u001b[95mfbref.py\u001b[0m:\u001b[1;36m165\u001b[0m:       \u001b]8;id=828140;file:///usr/lib/python3.11/warnings.py\u001b\\\u001b[2mwarnings.py\u001b[0m\u001b]8;;\u001b\\\u001b[2m:\u001b[0m\u001b]8;id=164301;file:///usr/lib/python3.11/warnings.py#110\u001b\\\u001b[2m110\u001b[0m\u001b]8;;\u001b\\\n",
       "\u001b[2;36m                    \u001b[0m         FutureWarning: The behavior of DataFrame concatenation with empty or   \u001b[2m               \u001b[0m\n",
       "\u001b[2;36m                    \u001b[0m         all-NA entries is deprecated. In a future version, this will no longer \u001b[2m               \u001b[0m\n",
       "\u001b[2;36m                    \u001b[0m         exclude empty or all-NA columns when determining the result dtypes. To \u001b[2m               \u001b[0m\n",
       "\u001b[2;36m                    \u001b[0m         retain the old behavior, exclude the relevant entries before the       \u001b[2m               \u001b[0m\n",
       "\u001b[2;36m                    \u001b[0m         concat operation.                                                      \u001b[2m               \u001b[0m\n",
       "\u001b[2;36m                    \u001b[0m           \u001b[1;35mpd.concat\u001b[0m\u001b[1m(\u001b[0mdfs\u001b[1m)\u001b[0m                                                       \u001b[2m               \u001b[0m\n",
       "\u001b[2;36m                    \u001b[0m                                                                                \u001b[2m               \u001b[0m\n"
      ]
     },
     "metadata": {},
     "output_type": "display_data"
    },
    {
     "data": {
      "text/html": [
       "<pre style=\"white-space:pre;overflow-x:auto;line-height:normal;font-family:Menlo,'DejaVu Sans Mono',consolas,'Courier New',monospace\"><span style=\"color: #7fbfbf; text-decoration-color: #7fbfbf\">[04/05/25 23:56:18] </span><span style=\"color: #808000; text-decoration-color: #808000\">WARNING </span> <span style=\"color: #800080; text-decoration-color: #800080\">/usr/local/lib/python3.11/dist-packages/soccerdata/</span><span style=\"color: #ff00ff; text-decoration-color: #ff00ff\">fbref.py</span>:<span style=\"color: #008080; text-decoration-color: #008080; font-weight: bold\">165</span>:       <a href=\"file:///usr/lib/python3.11/warnings.py\" target=\"_blank\"><span style=\"color: #7f7f7f; text-decoration-color: #7f7f7f\">warnings.py</span></a><span style=\"color: #7f7f7f; text-decoration-color: #7f7f7f\">:</span><a href=\"file:///usr/lib/python3.11/warnings.py#110\" target=\"_blank\"><span style=\"color: #7f7f7f; text-decoration-color: #7f7f7f\">110</span></a>\n",
       "<span style=\"color: #7fbfbf; text-decoration-color: #7fbfbf\">                    </span>         FutureWarning: The behavior of DataFrame concatenation with empty or   <span style=\"color: #7f7f7f; text-decoration-color: #7f7f7f\">               </span>\n",
       "<span style=\"color: #7fbfbf; text-decoration-color: #7fbfbf\">                    </span>         all-NA entries is deprecated. In a future version, this will no longer <span style=\"color: #7f7f7f; text-decoration-color: #7f7f7f\">               </span>\n",
       "<span style=\"color: #7fbfbf; text-decoration-color: #7fbfbf\">                    </span>         exclude empty or all-NA columns when determining the result dtypes. To <span style=\"color: #7f7f7f; text-decoration-color: #7f7f7f\">               </span>\n",
       "<span style=\"color: #7fbfbf; text-decoration-color: #7fbfbf\">                    </span>         retain the old behavior, exclude the relevant entries before the       <span style=\"color: #7f7f7f; text-decoration-color: #7f7f7f\">               </span>\n",
       "<span style=\"color: #7fbfbf; text-decoration-color: #7fbfbf\">                    </span>         concat operation.                                                      <span style=\"color: #7f7f7f; text-decoration-color: #7f7f7f\">               </span>\n",
       "<span style=\"color: #7fbfbf; text-decoration-color: #7fbfbf\">                    </span>           <span style=\"color: #800080; text-decoration-color: #800080; font-weight: bold\">pd.concat</span><span style=\"font-weight: bold\">(</span>dfs<span style=\"font-weight: bold\">)</span>                                                       <span style=\"color: #7f7f7f; text-decoration-color: #7f7f7f\">               </span>\n",
       "<span style=\"color: #7fbfbf; text-decoration-color: #7fbfbf\">                    </span>                                                                                <span style=\"color: #7f7f7f; text-decoration-color: #7f7f7f\">               </span>\n",
       "</pre>\n"
      ],
      "text/plain": [
       "\u001b[2;36m[04/05/25 23:56:18]\u001b[0m\u001b[2;36m \u001b[0m\u001b[33mWARNING \u001b[0m \u001b[35m/usr/local/lib/python3.11/dist-packages/soccerdata/\u001b[0m\u001b[95mfbref.py\u001b[0m:\u001b[1;36m165\u001b[0m:       \u001b]8;id=535278;file:///usr/lib/python3.11/warnings.py\u001b\\\u001b[2mwarnings.py\u001b[0m\u001b]8;;\u001b\\\u001b[2m:\u001b[0m\u001b]8;id=41519;file:///usr/lib/python3.11/warnings.py#110\u001b\\\u001b[2m110\u001b[0m\u001b]8;;\u001b\\\n",
       "\u001b[2;36m                    \u001b[0m         FutureWarning: The behavior of DataFrame concatenation with empty or   \u001b[2m               \u001b[0m\n",
       "\u001b[2;36m                    \u001b[0m         all-NA entries is deprecated. In a future version, this will no longer \u001b[2m               \u001b[0m\n",
       "\u001b[2;36m                    \u001b[0m         exclude empty or all-NA columns when determining the result dtypes. To \u001b[2m               \u001b[0m\n",
       "\u001b[2;36m                    \u001b[0m         retain the old behavior, exclude the relevant entries before the       \u001b[2m               \u001b[0m\n",
       "\u001b[2;36m                    \u001b[0m         concat operation.                                                      \u001b[2m               \u001b[0m\n",
       "\u001b[2;36m                    \u001b[0m           \u001b[1;35mpd.concat\u001b[0m\u001b[1m(\u001b[0mdfs\u001b[1m)\u001b[0m                                                       \u001b[2m               \u001b[0m\n",
       "\u001b[2;36m                    \u001b[0m                                                                                \u001b[2m               \u001b[0m\n"
      ]
     },
     "metadata": {},
     "output_type": "display_data"
    },
    {
     "data": {
      "text/html": [
       "<pre style=\"white-space:pre;overflow-x:auto;line-height:normal;font-family:Menlo,'DejaVu Sans Mono',consolas,'Courier New',monospace\"><span style=\"color: #7fbfbf; text-decoration-color: #7fbfbf\">[04/05/25 23:58:43] </span><span style=\"color: #808000; text-decoration-color: #808000\">WARNING </span> <span style=\"color: #800080; text-decoration-color: #800080\">/usr/local/lib/python3.11/dist-packages/soccerdata/</span><span style=\"color: #ff00ff; text-decoration-color: #ff00ff\">fbref.py</span>:<span style=\"color: #008080; text-decoration-color: #008080; font-weight: bold\">165</span>:       <a href=\"file:///usr/lib/python3.11/warnings.py\" target=\"_blank\"><span style=\"color: #7f7f7f; text-decoration-color: #7f7f7f\">warnings.py</span></a><span style=\"color: #7f7f7f; text-decoration-color: #7f7f7f\">:</span><a href=\"file:///usr/lib/python3.11/warnings.py#110\" target=\"_blank\"><span style=\"color: #7f7f7f; text-decoration-color: #7f7f7f\">110</span></a>\n",
       "<span style=\"color: #7fbfbf; text-decoration-color: #7fbfbf\">                    </span>         FutureWarning: The behavior of DataFrame concatenation with empty or   <span style=\"color: #7f7f7f; text-decoration-color: #7f7f7f\">               </span>\n",
       "<span style=\"color: #7fbfbf; text-decoration-color: #7fbfbf\">                    </span>         all-NA entries is deprecated. In a future version, this will no longer <span style=\"color: #7f7f7f; text-decoration-color: #7f7f7f\">               </span>\n",
       "<span style=\"color: #7fbfbf; text-decoration-color: #7fbfbf\">                    </span>         exclude empty or all-NA columns when determining the result dtypes. To <span style=\"color: #7f7f7f; text-decoration-color: #7f7f7f\">               </span>\n",
       "<span style=\"color: #7fbfbf; text-decoration-color: #7fbfbf\">                    </span>         retain the old behavior, exclude the relevant entries before the       <span style=\"color: #7f7f7f; text-decoration-color: #7f7f7f\">               </span>\n",
       "<span style=\"color: #7fbfbf; text-decoration-color: #7fbfbf\">                    </span>         concat operation.                                                      <span style=\"color: #7f7f7f; text-decoration-color: #7f7f7f\">               </span>\n",
       "<span style=\"color: #7fbfbf; text-decoration-color: #7fbfbf\">                    </span>           <span style=\"color: #800080; text-decoration-color: #800080; font-weight: bold\">pd.concat</span><span style=\"font-weight: bold\">(</span>dfs<span style=\"font-weight: bold\">)</span>                                                       <span style=\"color: #7f7f7f; text-decoration-color: #7f7f7f\">               </span>\n",
       "<span style=\"color: #7fbfbf; text-decoration-color: #7fbfbf\">                    </span>                                                                                <span style=\"color: #7f7f7f; text-decoration-color: #7f7f7f\">               </span>\n",
       "</pre>\n"
      ],
      "text/plain": [
       "\u001b[2;36m[04/05/25 23:58:43]\u001b[0m\u001b[2;36m \u001b[0m\u001b[33mWARNING \u001b[0m \u001b[35m/usr/local/lib/python3.11/dist-packages/soccerdata/\u001b[0m\u001b[95mfbref.py\u001b[0m:\u001b[1;36m165\u001b[0m:       \u001b]8;id=163170;file:///usr/lib/python3.11/warnings.py\u001b\\\u001b[2mwarnings.py\u001b[0m\u001b]8;;\u001b\\\u001b[2m:\u001b[0m\u001b]8;id=414755;file:///usr/lib/python3.11/warnings.py#110\u001b\\\u001b[2m110\u001b[0m\u001b]8;;\u001b\\\n",
       "\u001b[2;36m                    \u001b[0m         FutureWarning: The behavior of DataFrame concatenation with empty or   \u001b[2m               \u001b[0m\n",
       "\u001b[2;36m                    \u001b[0m         all-NA entries is deprecated. In a future version, this will no longer \u001b[2m               \u001b[0m\n",
       "\u001b[2;36m                    \u001b[0m         exclude empty or all-NA columns when determining the result dtypes. To \u001b[2m               \u001b[0m\n",
       "\u001b[2;36m                    \u001b[0m         retain the old behavior, exclude the relevant entries before the       \u001b[2m               \u001b[0m\n",
       "\u001b[2;36m                    \u001b[0m         concat operation.                                                      \u001b[2m               \u001b[0m\n",
       "\u001b[2;36m                    \u001b[0m           \u001b[1;35mpd.concat\u001b[0m\u001b[1m(\u001b[0mdfs\u001b[1m)\u001b[0m                                                       \u001b[2m               \u001b[0m\n",
       "\u001b[2;36m                    \u001b[0m                                                                                \u001b[2m               \u001b[0m\n"
      ]
     },
     "metadata": {},
     "output_type": "display_data"
    },
    {
     "name": "stderr",
     "output_type": "stream",
     "text": [
      "\r 10%|█         | 1/10 [21:55<3:17:19, 1315.50s/it]"
     ]
    },
    {
     "data": {
      "text/html": [
       "<pre style=\"white-space:pre;overflow-x:auto;line-height:normal;font-family:Menlo,'DejaVu Sans Mono',consolas,'Courier New',monospace\"><span style=\"color: #7fbfbf; text-decoration-color: #7fbfbf\">[04/06/25 00:01:07] </span><span style=\"color: #000080; text-decoration-color: #000080\">INFO    </span> Saving cached data to <span style=\"color: #800080; text-decoration-color: #800080\">/root/soccerdata/data/</span><span style=\"color: #ff00ff; text-decoration-color: #ff00ff\">FBref</span>                       <a href=\"file:///usr/local/lib/python3.11/dist-packages/soccerdata/_common.py\" target=\"_blank\"><span style=\"color: #7f7f7f; text-decoration-color: #7f7f7f\">_common.py</span></a><span style=\"color: #7f7f7f; text-decoration-color: #7f7f7f\">:</span><a href=\"file:///usr/local/lib/python3.11/dist-packages/soccerdata/_common.py#263\" target=\"_blank\"><span style=\"color: #7f7f7f; text-decoration-color: #7f7f7f\">263</span></a>\n",
       "</pre>\n"
      ],
      "text/plain": [
       "\u001b[2;36m[04/06/25 00:01:07]\u001b[0m\u001b[2;36m \u001b[0m\u001b[34mINFO    \u001b[0m Saving cached data to \u001b[35m/root/soccerdata/data/\u001b[0m\u001b[95mFBref\u001b[0m                       \u001b]8;id=363175;file:///usr/local/lib/python3.11/dist-packages/soccerdata/_common.py\u001b\\\u001b[2m_common.py\u001b[0m\u001b]8;;\u001b\\\u001b[2m:\u001b[0m\u001b]8;id=437984;file:///usr/local/lib/python3.11/dist-packages/soccerdata/_common.py#263\u001b\\\u001b[2m263\u001b[0m\u001b]8;;\u001b\\\n"
      ]
     },
     "metadata": {},
     "output_type": "display_data"
    },
    {
     "data": {
      "text/html": [
       "<pre style=\"white-space:pre;overflow-x:auto;line-height:normal;font-family:Menlo,'DejaVu Sans Mono',consolas,'Courier New',monospace\"><span style=\"color: #7fbfbf; text-decoration-color: #7fbfbf\">                    </span><span style=\"color: #808000; text-decoration-color: #808000\">WARNING </span> <span style=\"color: #800080; text-decoration-color: #800080\">/usr/local/lib/python3.11/dist-packages/soccerdata/</span><span style=\"color: #ff00ff; text-decoration-color: #ff00ff\">fbref.py</span>:<span style=\"color: #008080; text-decoration-color: #008080; font-weight: bold\">165</span>:       <a href=\"file:///usr/lib/python3.11/warnings.py\" target=\"_blank\"><span style=\"color: #7f7f7f; text-decoration-color: #7f7f7f\">warnings.py</span></a><span style=\"color: #7f7f7f; text-decoration-color: #7f7f7f\">:</span><a href=\"file:///usr/lib/python3.11/warnings.py#110\" target=\"_blank\"><span style=\"color: #7f7f7f; text-decoration-color: #7f7f7f\">110</span></a>\n",
       "<span style=\"color: #7fbfbf; text-decoration-color: #7fbfbf\">                    </span>         FutureWarning: The behavior of DataFrame concatenation with empty or   <span style=\"color: #7f7f7f; text-decoration-color: #7f7f7f\">               </span>\n",
       "<span style=\"color: #7fbfbf; text-decoration-color: #7fbfbf\">                    </span>         all-NA entries is deprecated. In a future version, this will no longer <span style=\"color: #7f7f7f; text-decoration-color: #7f7f7f\">               </span>\n",
       "<span style=\"color: #7fbfbf; text-decoration-color: #7fbfbf\">                    </span>         exclude empty or all-NA columns when determining the result dtypes. To <span style=\"color: #7f7f7f; text-decoration-color: #7f7f7f\">               </span>\n",
       "<span style=\"color: #7fbfbf; text-decoration-color: #7fbfbf\">                    </span>         retain the old behavior, exclude the relevant entries before the       <span style=\"color: #7f7f7f; text-decoration-color: #7f7f7f\">               </span>\n",
       "<span style=\"color: #7fbfbf; text-decoration-color: #7fbfbf\">                    </span>         concat operation.                                                      <span style=\"color: #7f7f7f; text-decoration-color: #7f7f7f\">               </span>\n",
       "<span style=\"color: #7fbfbf; text-decoration-color: #7fbfbf\">                    </span>           <span style=\"color: #800080; text-decoration-color: #800080; font-weight: bold\">pd.concat</span><span style=\"font-weight: bold\">(</span>dfs<span style=\"font-weight: bold\">)</span>                                                       <span style=\"color: #7f7f7f; text-decoration-color: #7f7f7f\">               </span>\n",
       "<span style=\"color: #7fbfbf; text-decoration-color: #7fbfbf\">                    </span>                                                                                <span style=\"color: #7f7f7f; text-decoration-color: #7f7f7f\">               </span>\n",
       "</pre>\n"
      ],
      "text/plain": [
       "\u001b[2;36m                   \u001b[0m\u001b[2;36m \u001b[0m\u001b[33mWARNING \u001b[0m \u001b[35m/usr/local/lib/python3.11/dist-packages/soccerdata/\u001b[0m\u001b[95mfbref.py\u001b[0m:\u001b[1;36m165\u001b[0m:       \u001b]8;id=184453;file:///usr/lib/python3.11/warnings.py\u001b\\\u001b[2mwarnings.py\u001b[0m\u001b]8;;\u001b\\\u001b[2m:\u001b[0m\u001b]8;id=994042;file:///usr/lib/python3.11/warnings.py#110\u001b\\\u001b[2m110\u001b[0m\u001b]8;;\u001b\\\n",
       "\u001b[2;36m                    \u001b[0m         FutureWarning: The behavior of DataFrame concatenation with empty or   \u001b[2m               \u001b[0m\n",
       "\u001b[2;36m                    \u001b[0m         all-NA entries is deprecated. In a future version, this will no longer \u001b[2m               \u001b[0m\n",
       "\u001b[2;36m                    \u001b[0m         exclude empty or all-NA columns when determining the result dtypes. To \u001b[2m               \u001b[0m\n",
       "\u001b[2;36m                    \u001b[0m         retain the old behavior, exclude the relevant entries before the       \u001b[2m               \u001b[0m\n",
       "\u001b[2;36m                    \u001b[0m         concat operation.                                                      \u001b[2m               \u001b[0m\n",
       "\u001b[2;36m                    \u001b[0m           \u001b[1;35mpd.concat\u001b[0m\u001b[1m(\u001b[0mdfs\u001b[1m)\u001b[0m                                                       \u001b[2m               \u001b[0m\n",
       "\u001b[2;36m                    \u001b[0m                                                                                \u001b[2m               \u001b[0m\n"
      ]
     },
     "metadata": {},
     "output_type": "display_data"
    },
    {
     "data": {
      "text/html": [
       "<pre style=\"white-space:pre;overflow-x:auto;line-height:normal;font-family:Menlo,'DejaVu Sans Mono',consolas,'Courier New',monospace\"><span style=\"color: #7fbfbf; text-decoration-color: #7fbfbf\">[04/06/25 00:03:30] </span><span style=\"color: #808000; text-decoration-color: #808000\">WARNING </span> <span style=\"color: #800080; text-decoration-color: #800080\">/usr/local/lib/python3.11/dist-packages/soccerdata/</span><span style=\"color: #ff00ff; text-decoration-color: #ff00ff\">fbref.py</span>:<span style=\"color: #008080; text-decoration-color: #008080; font-weight: bold\">1273</span>:      <a href=\"file:///usr/lib/python3.11/warnings.py\" target=\"_blank\"><span style=\"color: #7f7f7f; text-decoration-color: #7f7f7f\">warnings.py</span></a><span style=\"color: #7f7f7f; text-decoration-color: #7f7f7f\">:</span><a href=\"file:///usr/lib/python3.11/warnings.py#110\" target=\"_blank\"><span style=\"color: #7f7f7f; text-decoration-color: #7f7f7f\">110</span></a>\n",
       "<span style=\"color: #7fbfbf; text-decoration-color: #7fbfbf\">                    </span>         FutureWarning: The behavior of DataFrame concatenation with empty or   <span style=\"color: #7f7f7f; text-decoration-color: #7f7f7f\">               </span>\n",
       "<span style=\"color: #7fbfbf; text-decoration-color: #7fbfbf\">                    </span>         all-NA entries is deprecated. In a future version, this will no longer <span style=\"color: #7f7f7f; text-decoration-color: #7f7f7f\">               </span>\n",
       "<span style=\"color: #7fbfbf; text-decoration-color: #7fbfbf\">                    </span>         exclude empty or all-NA columns when determining the result dtypes. To <span style=\"color: #7f7f7f; text-decoration-color: #7f7f7f\">               </span>\n",
       "<span style=\"color: #7fbfbf; text-decoration-color: #7fbfbf\">                    </span>         retain the old behavior, exclude the relevant entries before the       <span style=\"color: #7f7f7f; text-decoration-color: #7f7f7f\">               </span>\n",
       "<span style=\"color: #7fbfbf; text-decoration-color: #7fbfbf\">                    </span>         concat operation.                                                      <span style=\"color: #7f7f7f; text-decoration-color: #7f7f7f\">               </span>\n",
       "<span style=\"color: #7fbfbf; text-decoration-color: #7fbfbf\">                    </span>           return <span style=\"color: #800080; text-decoration-color: #800080; font-weight: bold\">pd.concat</span><span style=\"font-weight: bold\">(</span>dfs<span style=\"font-weight: bold\">)</span>                                                <span style=\"color: #7f7f7f; text-decoration-color: #7f7f7f\">               </span>\n",
       "<span style=\"color: #7fbfbf; text-decoration-color: #7fbfbf\">                    </span>                                                                                <span style=\"color: #7f7f7f; text-decoration-color: #7f7f7f\">               </span>\n",
       "</pre>\n"
      ],
      "text/plain": [
       "\u001b[2;36m[04/06/25 00:03:30]\u001b[0m\u001b[2;36m \u001b[0m\u001b[33mWARNING \u001b[0m \u001b[35m/usr/local/lib/python3.11/dist-packages/soccerdata/\u001b[0m\u001b[95mfbref.py\u001b[0m:\u001b[1;36m1273\u001b[0m:      \u001b]8;id=715443;file:///usr/lib/python3.11/warnings.py\u001b\\\u001b[2mwarnings.py\u001b[0m\u001b]8;;\u001b\\\u001b[2m:\u001b[0m\u001b]8;id=66458;file:///usr/lib/python3.11/warnings.py#110\u001b\\\u001b[2m110\u001b[0m\u001b]8;;\u001b\\\n",
       "\u001b[2;36m                    \u001b[0m         FutureWarning: The behavior of DataFrame concatenation with empty or   \u001b[2m               \u001b[0m\n",
       "\u001b[2;36m                    \u001b[0m         all-NA entries is deprecated. In a future version, this will no longer \u001b[2m               \u001b[0m\n",
       "\u001b[2;36m                    \u001b[0m         exclude empty or all-NA columns when determining the result dtypes. To \u001b[2m               \u001b[0m\n",
       "\u001b[2;36m                    \u001b[0m         retain the old behavior, exclude the relevant entries before the       \u001b[2m               \u001b[0m\n",
       "\u001b[2;36m                    \u001b[0m         concat operation.                                                      \u001b[2m               \u001b[0m\n",
       "\u001b[2;36m                    \u001b[0m           return \u001b[1;35mpd.concat\u001b[0m\u001b[1m(\u001b[0mdfs\u001b[1m)\u001b[0m                                                \u001b[2m               \u001b[0m\n",
       "\u001b[2;36m                    \u001b[0m                                                                                \u001b[2m               \u001b[0m\n"
      ]
     },
     "metadata": {},
     "output_type": "display_data"
    },
    {
     "data": {
      "text/html": [
       "<pre style=\"white-space:pre;overflow-x:auto;line-height:normal;font-family:Menlo,'DejaVu Sans Mono',consolas,'Courier New',monospace\"><span style=\"color: #7fbfbf; text-decoration-color: #7fbfbf\">                    </span><span style=\"color: #808000; text-decoration-color: #808000\">WARNING </span> <span style=\"color: #800080; text-decoration-color: #800080\">/usr/local/lib/python3.11/dist-packages/soccerdata/</span><span style=\"color: #ff00ff; text-decoration-color: #ff00ff\">fbref.py</span>:<span style=\"color: #008080; text-decoration-color: #008080; font-weight: bold\">165</span>:       <a href=\"file:///usr/lib/python3.11/warnings.py\" target=\"_blank\"><span style=\"color: #7f7f7f; text-decoration-color: #7f7f7f\">warnings.py</span></a><span style=\"color: #7f7f7f; text-decoration-color: #7f7f7f\">:</span><a href=\"file:///usr/lib/python3.11/warnings.py#110\" target=\"_blank\"><span style=\"color: #7f7f7f; text-decoration-color: #7f7f7f\">110</span></a>\n",
       "<span style=\"color: #7fbfbf; text-decoration-color: #7fbfbf\">                    </span>         FutureWarning: The behavior of DataFrame concatenation with empty or   <span style=\"color: #7f7f7f; text-decoration-color: #7f7f7f\">               </span>\n",
       "<span style=\"color: #7fbfbf; text-decoration-color: #7fbfbf\">                    </span>         all-NA entries is deprecated. In a future version, this will no longer <span style=\"color: #7f7f7f; text-decoration-color: #7f7f7f\">               </span>\n",
       "<span style=\"color: #7fbfbf; text-decoration-color: #7fbfbf\">                    </span>         exclude empty or all-NA columns when determining the result dtypes. To <span style=\"color: #7f7f7f; text-decoration-color: #7f7f7f\">               </span>\n",
       "<span style=\"color: #7fbfbf; text-decoration-color: #7fbfbf\">                    </span>         retain the old behavior, exclude the relevant entries before the       <span style=\"color: #7f7f7f; text-decoration-color: #7f7f7f\">               </span>\n",
       "<span style=\"color: #7fbfbf; text-decoration-color: #7fbfbf\">                    </span>         concat operation.                                                      <span style=\"color: #7f7f7f; text-decoration-color: #7f7f7f\">               </span>\n",
       "<span style=\"color: #7fbfbf; text-decoration-color: #7fbfbf\">                    </span>           <span style=\"color: #800080; text-decoration-color: #800080; font-weight: bold\">pd.concat</span><span style=\"font-weight: bold\">(</span>dfs<span style=\"font-weight: bold\">)</span>                                                       <span style=\"color: #7f7f7f; text-decoration-color: #7f7f7f\">               </span>\n",
       "<span style=\"color: #7fbfbf; text-decoration-color: #7fbfbf\">                    </span>                                                                                <span style=\"color: #7f7f7f; text-decoration-color: #7f7f7f\">               </span>\n",
       "</pre>\n"
      ],
      "text/plain": [
       "\u001b[2;36m                   \u001b[0m\u001b[2;36m \u001b[0m\u001b[33mWARNING \u001b[0m \u001b[35m/usr/local/lib/python3.11/dist-packages/soccerdata/\u001b[0m\u001b[95mfbref.py\u001b[0m:\u001b[1;36m165\u001b[0m:       \u001b]8;id=883570;file:///usr/lib/python3.11/warnings.py\u001b\\\u001b[2mwarnings.py\u001b[0m\u001b]8;;\u001b\\\u001b[2m:\u001b[0m\u001b]8;id=992706;file:///usr/lib/python3.11/warnings.py#110\u001b\\\u001b[2m110\u001b[0m\u001b]8;;\u001b\\\n",
       "\u001b[2;36m                    \u001b[0m         FutureWarning: The behavior of DataFrame concatenation with empty or   \u001b[2m               \u001b[0m\n",
       "\u001b[2;36m                    \u001b[0m         all-NA entries is deprecated. In a future version, this will no longer \u001b[2m               \u001b[0m\n",
       "\u001b[2;36m                    \u001b[0m         exclude empty or all-NA columns when determining the result dtypes. To \u001b[2m               \u001b[0m\n",
       "\u001b[2;36m                    \u001b[0m         retain the old behavior, exclude the relevant entries before the       \u001b[2m               \u001b[0m\n",
       "\u001b[2;36m                    \u001b[0m         concat operation.                                                      \u001b[2m               \u001b[0m\n",
       "\u001b[2;36m                    \u001b[0m           \u001b[1;35mpd.concat\u001b[0m\u001b[1m(\u001b[0mdfs\u001b[1m)\u001b[0m                                                       \u001b[2m               \u001b[0m\n",
       "\u001b[2;36m                    \u001b[0m                                                                                \u001b[2m               \u001b[0m\n"
      ]
     },
     "metadata": {},
     "output_type": "display_data"
    },
    {
     "data": {
      "text/html": [
       "<pre style=\"white-space:pre;overflow-x:auto;line-height:normal;font-family:Menlo,'DejaVu Sans Mono',consolas,'Courier New',monospace\"><span style=\"color: #7fbfbf; text-decoration-color: #7fbfbf\">[04/06/25 00:05:57] </span><span style=\"color: #808000; text-decoration-color: #808000\">WARNING </span> <span style=\"color: #800080; text-decoration-color: #800080\">/usr/local/lib/python3.11/dist-packages/soccerdata/</span><span style=\"color: #ff00ff; text-decoration-color: #ff00ff\">fbref.py</span>:<span style=\"color: #008080; text-decoration-color: #008080; font-weight: bold\">165</span>:       <a href=\"file:///usr/lib/python3.11/warnings.py\" target=\"_blank\"><span style=\"color: #7f7f7f; text-decoration-color: #7f7f7f\">warnings.py</span></a><span style=\"color: #7f7f7f; text-decoration-color: #7f7f7f\">:</span><a href=\"file:///usr/lib/python3.11/warnings.py#110\" target=\"_blank\"><span style=\"color: #7f7f7f; text-decoration-color: #7f7f7f\">110</span></a>\n",
       "<span style=\"color: #7fbfbf; text-decoration-color: #7fbfbf\">                    </span>         FutureWarning: The behavior of DataFrame concatenation with empty or   <span style=\"color: #7f7f7f; text-decoration-color: #7f7f7f\">               </span>\n",
       "<span style=\"color: #7fbfbf; text-decoration-color: #7fbfbf\">                    </span>         all-NA entries is deprecated. In a future version, this will no longer <span style=\"color: #7f7f7f; text-decoration-color: #7f7f7f\">               </span>\n",
       "<span style=\"color: #7fbfbf; text-decoration-color: #7fbfbf\">                    </span>         exclude empty or all-NA columns when determining the result dtypes. To <span style=\"color: #7f7f7f; text-decoration-color: #7f7f7f\">               </span>\n",
       "<span style=\"color: #7fbfbf; text-decoration-color: #7fbfbf\">                    </span>         retain the old behavior, exclude the relevant entries before the       <span style=\"color: #7f7f7f; text-decoration-color: #7f7f7f\">               </span>\n",
       "<span style=\"color: #7fbfbf; text-decoration-color: #7fbfbf\">                    </span>         concat operation.                                                      <span style=\"color: #7f7f7f; text-decoration-color: #7f7f7f\">               </span>\n",
       "<span style=\"color: #7fbfbf; text-decoration-color: #7fbfbf\">                    </span>           <span style=\"color: #800080; text-decoration-color: #800080; font-weight: bold\">pd.concat</span><span style=\"font-weight: bold\">(</span>dfs<span style=\"font-weight: bold\">)</span>                                                       <span style=\"color: #7f7f7f; text-decoration-color: #7f7f7f\">               </span>\n",
       "<span style=\"color: #7fbfbf; text-decoration-color: #7fbfbf\">                    </span>                                                                                <span style=\"color: #7f7f7f; text-decoration-color: #7f7f7f\">               </span>\n",
       "</pre>\n"
      ],
      "text/plain": [
       "\u001b[2;36m[04/06/25 00:05:57]\u001b[0m\u001b[2;36m \u001b[0m\u001b[33mWARNING \u001b[0m \u001b[35m/usr/local/lib/python3.11/dist-packages/soccerdata/\u001b[0m\u001b[95mfbref.py\u001b[0m:\u001b[1;36m165\u001b[0m:       \u001b]8;id=664453;file:///usr/lib/python3.11/warnings.py\u001b\\\u001b[2mwarnings.py\u001b[0m\u001b]8;;\u001b\\\u001b[2m:\u001b[0m\u001b]8;id=253829;file:///usr/lib/python3.11/warnings.py#110\u001b\\\u001b[2m110\u001b[0m\u001b]8;;\u001b\\\n",
       "\u001b[2;36m                    \u001b[0m         FutureWarning: The behavior of DataFrame concatenation with empty or   \u001b[2m               \u001b[0m\n",
       "\u001b[2;36m                    \u001b[0m         all-NA entries is deprecated. In a future version, this will no longer \u001b[2m               \u001b[0m\n",
       "\u001b[2;36m                    \u001b[0m         exclude empty or all-NA columns when determining the result dtypes. To \u001b[2m               \u001b[0m\n",
       "\u001b[2;36m                    \u001b[0m         retain the old behavior, exclude the relevant entries before the       \u001b[2m               \u001b[0m\n",
       "\u001b[2;36m                    \u001b[0m         concat operation.                                                      \u001b[2m               \u001b[0m\n",
       "\u001b[2;36m                    \u001b[0m           \u001b[1;35mpd.concat\u001b[0m\u001b[1m(\u001b[0mdfs\u001b[1m)\u001b[0m                                                       \u001b[2m               \u001b[0m\n",
       "\u001b[2;36m                    \u001b[0m                                                                                \u001b[2m               \u001b[0m\n"
      ]
     },
     "metadata": {},
     "output_type": "display_data"
    },
    {
     "data": {
      "text/html": [
       "<pre style=\"white-space:pre;overflow-x:auto;line-height:normal;font-family:Menlo,'DejaVu Sans Mono',consolas,'Courier New',monospace\"><span style=\"color: #7fbfbf; text-decoration-color: #7fbfbf\">[04/06/25 00:08:20] </span><span style=\"color: #808000; text-decoration-color: #808000\">WARNING </span> <span style=\"color: #800080; text-decoration-color: #800080\">/usr/local/lib/python3.11/dist-packages/soccerdata/</span><span style=\"color: #ff00ff; text-decoration-color: #ff00ff\">fbref.py</span>:<span style=\"color: #008080; text-decoration-color: #008080; font-weight: bold\">165</span>:       <a href=\"file:///usr/lib/python3.11/warnings.py\" target=\"_blank\"><span style=\"color: #7f7f7f; text-decoration-color: #7f7f7f\">warnings.py</span></a><span style=\"color: #7f7f7f; text-decoration-color: #7f7f7f\">:</span><a href=\"file:///usr/lib/python3.11/warnings.py#110\" target=\"_blank\"><span style=\"color: #7f7f7f; text-decoration-color: #7f7f7f\">110</span></a>\n",
       "<span style=\"color: #7fbfbf; text-decoration-color: #7fbfbf\">                    </span>         FutureWarning: The behavior of DataFrame concatenation with empty or   <span style=\"color: #7f7f7f; text-decoration-color: #7f7f7f\">               </span>\n",
       "<span style=\"color: #7fbfbf; text-decoration-color: #7fbfbf\">                    </span>         all-NA entries is deprecated. In a future version, this will no longer <span style=\"color: #7f7f7f; text-decoration-color: #7f7f7f\">               </span>\n",
       "<span style=\"color: #7fbfbf; text-decoration-color: #7fbfbf\">                    </span>         exclude empty or all-NA columns when determining the result dtypes. To <span style=\"color: #7f7f7f; text-decoration-color: #7f7f7f\">               </span>\n",
       "<span style=\"color: #7fbfbf; text-decoration-color: #7fbfbf\">                    </span>         retain the old behavior, exclude the relevant entries before the       <span style=\"color: #7f7f7f; text-decoration-color: #7f7f7f\">               </span>\n",
       "<span style=\"color: #7fbfbf; text-decoration-color: #7fbfbf\">                    </span>         concat operation.                                                      <span style=\"color: #7f7f7f; text-decoration-color: #7f7f7f\">               </span>\n",
       "<span style=\"color: #7fbfbf; text-decoration-color: #7fbfbf\">                    </span>           <span style=\"color: #800080; text-decoration-color: #800080; font-weight: bold\">pd.concat</span><span style=\"font-weight: bold\">(</span>dfs<span style=\"font-weight: bold\">)</span>                                                       <span style=\"color: #7f7f7f; text-decoration-color: #7f7f7f\">               </span>\n",
       "<span style=\"color: #7fbfbf; text-decoration-color: #7fbfbf\">                    </span>                                                                                <span style=\"color: #7f7f7f; text-decoration-color: #7f7f7f\">               </span>\n",
       "</pre>\n"
      ],
      "text/plain": [
       "\u001b[2;36m[04/06/25 00:08:20]\u001b[0m\u001b[2;36m \u001b[0m\u001b[33mWARNING \u001b[0m \u001b[35m/usr/local/lib/python3.11/dist-packages/soccerdata/\u001b[0m\u001b[95mfbref.py\u001b[0m:\u001b[1;36m165\u001b[0m:       \u001b]8;id=743758;file:///usr/lib/python3.11/warnings.py\u001b\\\u001b[2mwarnings.py\u001b[0m\u001b]8;;\u001b\\\u001b[2m:\u001b[0m\u001b]8;id=463985;file:///usr/lib/python3.11/warnings.py#110\u001b\\\u001b[2m110\u001b[0m\u001b]8;;\u001b\\\n",
       "\u001b[2;36m                    \u001b[0m         FutureWarning: The behavior of DataFrame concatenation with empty or   \u001b[2m               \u001b[0m\n",
       "\u001b[2;36m                    \u001b[0m         all-NA entries is deprecated. In a future version, this will no longer \u001b[2m               \u001b[0m\n",
       "\u001b[2;36m                    \u001b[0m         exclude empty or all-NA columns when determining the result dtypes. To \u001b[2m               \u001b[0m\n",
       "\u001b[2;36m                    \u001b[0m         retain the old behavior, exclude the relevant entries before the       \u001b[2m               \u001b[0m\n",
       "\u001b[2;36m                    \u001b[0m         concat operation.                                                      \u001b[2m               \u001b[0m\n",
       "\u001b[2;36m                    \u001b[0m           \u001b[1;35mpd.concat\u001b[0m\u001b[1m(\u001b[0mdfs\u001b[1m)\u001b[0m                                                       \u001b[2m               \u001b[0m\n",
       "\u001b[2;36m                    \u001b[0m                                                                                \u001b[2m               \u001b[0m\n"
      ]
     },
     "metadata": {},
     "output_type": "display_data"
    },
    {
     "data": {
      "text/html": [
       "<pre style=\"white-space:pre;overflow-x:auto;line-height:normal;font-family:Menlo,'DejaVu Sans Mono',consolas,'Courier New',monospace\"><span style=\"color: #7fbfbf; text-decoration-color: #7fbfbf\">[04/06/25 00:10:45] </span><span style=\"color: #808000; text-decoration-color: #808000\">WARNING </span> <span style=\"color: #800080; text-decoration-color: #800080\">/usr/local/lib/python3.11/dist-packages/soccerdata/</span><span style=\"color: #ff00ff; text-decoration-color: #ff00ff\">fbref.py</span>:<span style=\"color: #008080; text-decoration-color: #008080; font-weight: bold\">165</span>:       <a href=\"file:///usr/lib/python3.11/warnings.py\" target=\"_blank\"><span style=\"color: #7f7f7f; text-decoration-color: #7f7f7f\">warnings.py</span></a><span style=\"color: #7f7f7f; text-decoration-color: #7f7f7f\">:</span><a href=\"file:///usr/lib/python3.11/warnings.py#110\" target=\"_blank\"><span style=\"color: #7f7f7f; text-decoration-color: #7f7f7f\">110</span></a>\n",
       "<span style=\"color: #7fbfbf; text-decoration-color: #7fbfbf\">                    </span>         FutureWarning: The behavior of DataFrame concatenation with empty or   <span style=\"color: #7f7f7f; text-decoration-color: #7f7f7f\">               </span>\n",
       "<span style=\"color: #7fbfbf; text-decoration-color: #7fbfbf\">                    </span>         all-NA entries is deprecated. In a future version, this will no longer <span style=\"color: #7f7f7f; text-decoration-color: #7f7f7f\">               </span>\n",
       "<span style=\"color: #7fbfbf; text-decoration-color: #7fbfbf\">                    </span>         exclude empty or all-NA columns when determining the result dtypes. To <span style=\"color: #7f7f7f; text-decoration-color: #7f7f7f\">               </span>\n",
       "<span style=\"color: #7fbfbf; text-decoration-color: #7fbfbf\">                    </span>         retain the old behavior, exclude the relevant entries before the       <span style=\"color: #7f7f7f; text-decoration-color: #7f7f7f\">               </span>\n",
       "<span style=\"color: #7fbfbf; text-decoration-color: #7fbfbf\">                    </span>         concat operation.                                                      <span style=\"color: #7f7f7f; text-decoration-color: #7f7f7f\">               </span>\n",
       "<span style=\"color: #7fbfbf; text-decoration-color: #7fbfbf\">                    </span>           <span style=\"color: #800080; text-decoration-color: #800080; font-weight: bold\">pd.concat</span><span style=\"font-weight: bold\">(</span>dfs<span style=\"font-weight: bold\">)</span>                                                       <span style=\"color: #7f7f7f; text-decoration-color: #7f7f7f\">               </span>\n",
       "<span style=\"color: #7fbfbf; text-decoration-color: #7fbfbf\">                    </span>                                                                                <span style=\"color: #7f7f7f; text-decoration-color: #7f7f7f\">               </span>\n",
       "</pre>\n"
      ],
      "text/plain": [
       "\u001b[2;36m[04/06/25 00:10:45]\u001b[0m\u001b[2;36m \u001b[0m\u001b[33mWARNING \u001b[0m \u001b[35m/usr/local/lib/python3.11/dist-packages/soccerdata/\u001b[0m\u001b[95mfbref.py\u001b[0m:\u001b[1;36m165\u001b[0m:       \u001b]8;id=619697;file:///usr/lib/python3.11/warnings.py\u001b\\\u001b[2mwarnings.py\u001b[0m\u001b]8;;\u001b\\\u001b[2m:\u001b[0m\u001b]8;id=978084;file:///usr/lib/python3.11/warnings.py#110\u001b\\\u001b[2m110\u001b[0m\u001b]8;;\u001b\\\n",
       "\u001b[2;36m                    \u001b[0m         FutureWarning: The behavior of DataFrame concatenation with empty or   \u001b[2m               \u001b[0m\n",
       "\u001b[2;36m                    \u001b[0m         all-NA entries is deprecated. In a future version, this will no longer \u001b[2m               \u001b[0m\n",
       "\u001b[2;36m                    \u001b[0m         exclude empty or all-NA columns when determining the result dtypes. To \u001b[2m               \u001b[0m\n",
       "\u001b[2;36m                    \u001b[0m         retain the old behavior, exclude the relevant entries before the       \u001b[2m               \u001b[0m\n",
       "\u001b[2;36m                    \u001b[0m         concat operation.                                                      \u001b[2m               \u001b[0m\n",
       "\u001b[2;36m                    \u001b[0m           \u001b[1;35mpd.concat\u001b[0m\u001b[1m(\u001b[0mdfs\u001b[1m)\u001b[0m                                                       \u001b[2m               \u001b[0m\n",
       "\u001b[2;36m                    \u001b[0m                                                                                \u001b[2m               \u001b[0m\n"
      ]
     },
     "metadata": {},
     "output_type": "display_data"
    },
    {
     "data": {
      "text/html": [
       "<pre style=\"white-space:pre;overflow-x:auto;line-height:normal;font-family:Menlo,'DejaVu Sans Mono',consolas,'Courier New',monospace\"><span style=\"color: #7fbfbf; text-decoration-color: #7fbfbf\">[04/06/25 00:13:11] </span><span style=\"color: #808000; text-decoration-color: #808000\">WARNING </span> <span style=\"color: #800080; text-decoration-color: #800080\">/usr/local/lib/python3.11/dist-packages/soccerdata/</span><span style=\"color: #ff00ff; text-decoration-color: #ff00ff\">fbref.py</span>:<span style=\"color: #008080; text-decoration-color: #008080; font-weight: bold\">165</span>:       <a href=\"file:///usr/lib/python3.11/warnings.py\" target=\"_blank\"><span style=\"color: #7f7f7f; text-decoration-color: #7f7f7f\">warnings.py</span></a><span style=\"color: #7f7f7f; text-decoration-color: #7f7f7f\">:</span><a href=\"file:///usr/lib/python3.11/warnings.py#110\" target=\"_blank\"><span style=\"color: #7f7f7f; text-decoration-color: #7f7f7f\">110</span></a>\n",
       "<span style=\"color: #7fbfbf; text-decoration-color: #7fbfbf\">                    </span>         FutureWarning: The behavior of DataFrame concatenation with empty or   <span style=\"color: #7f7f7f; text-decoration-color: #7f7f7f\">               </span>\n",
       "<span style=\"color: #7fbfbf; text-decoration-color: #7fbfbf\">                    </span>         all-NA entries is deprecated. In a future version, this will no longer <span style=\"color: #7f7f7f; text-decoration-color: #7f7f7f\">               </span>\n",
       "<span style=\"color: #7fbfbf; text-decoration-color: #7fbfbf\">                    </span>         exclude empty or all-NA columns when determining the result dtypes. To <span style=\"color: #7f7f7f; text-decoration-color: #7f7f7f\">               </span>\n",
       "<span style=\"color: #7fbfbf; text-decoration-color: #7fbfbf\">                    </span>         retain the old behavior, exclude the relevant entries before the       <span style=\"color: #7f7f7f; text-decoration-color: #7f7f7f\">               </span>\n",
       "<span style=\"color: #7fbfbf; text-decoration-color: #7fbfbf\">                    </span>         concat operation.                                                      <span style=\"color: #7f7f7f; text-decoration-color: #7f7f7f\">               </span>\n",
       "<span style=\"color: #7fbfbf; text-decoration-color: #7fbfbf\">                    </span>           <span style=\"color: #800080; text-decoration-color: #800080; font-weight: bold\">pd.concat</span><span style=\"font-weight: bold\">(</span>dfs<span style=\"font-weight: bold\">)</span>                                                       <span style=\"color: #7f7f7f; text-decoration-color: #7f7f7f\">               </span>\n",
       "<span style=\"color: #7fbfbf; text-decoration-color: #7fbfbf\">                    </span>                                                                                <span style=\"color: #7f7f7f; text-decoration-color: #7f7f7f\">               </span>\n",
       "</pre>\n"
      ],
      "text/plain": [
       "\u001b[2;36m[04/06/25 00:13:11]\u001b[0m\u001b[2;36m \u001b[0m\u001b[33mWARNING \u001b[0m \u001b[35m/usr/local/lib/python3.11/dist-packages/soccerdata/\u001b[0m\u001b[95mfbref.py\u001b[0m:\u001b[1;36m165\u001b[0m:       \u001b]8;id=969868;file:///usr/lib/python3.11/warnings.py\u001b\\\u001b[2mwarnings.py\u001b[0m\u001b]8;;\u001b\\\u001b[2m:\u001b[0m\u001b]8;id=913225;file:///usr/lib/python3.11/warnings.py#110\u001b\\\u001b[2m110\u001b[0m\u001b]8;;\u001b\\\n",
       "\u001b[2;36m                    \u001b[0m         FutureWarning: The behavior of DataFrame concatenation with empty or   \u001b[2m               \u001b[0m\n",
       "\u001b[2;36m                    \u001b[0m         all-NA entries is deprecated. In a future version, this will no longer \u001b[2m               \u001b[0m\n",
       "\u001b[2;36m                    \u001b[0m         exclude empty or all-NA columns when determining the result dtypes. To \u001b[2m               \u001b[0m\n",
       "\u001b[2;36m                    \u001b[0m         retain the old behavior, exclude the relevant entries before the       \u001b[2m               \u001b[0m\n",
       "\u001b[2;36m                    \u001b[0m         concat operation.                                                      \u001b[2m               \u001b[0m\n",
       "\u001b[2;36m                    \u001b[0m           \u001b[1;35mpd.concat\u001b[0m\u001b[1m(\u001b[0mdfs\u001b[1m)\u001b[0m                                                       \u001b[2m               \u001b[0m\n",
       "\u001b[2;36m                    \u001b[0m                                                                                \u001b[2m               \u001b[0m\n"
      ]
     },
     "metadata": {},
     "output_type": "display_data"
    },
    {
     "data": {
      "text/html": [
       "<pre style=\"white-space:pre;overflow-x:auto;line-height:normal;font-family:Menlo,'DejaVu Sans Mono',consolas,'Courier New',monospace\"><span style=\"color: #7fbfbf; text-decoration-color: #7fbfbf\">[04/06/25 00:15:34] </span><span style=\"color: #808000; text-decoration-color: #808000\">WARNING </span> <span style=\"color: #800080; text-decoration-color: #800080\">/usr/local/lib/python3.11/dist-packages/soccerdata/</span><span style=\"color: #ff00ff; text-decoration-color: #ff00ff\">fbref.py</span>:<span style=\"color: #008080; text-decoration-color: #008080; font-weight: bold\">165</span>:       <a href=\"file:///usr/lib/python3.11/warnings.py\" target=\"_blank\"><span style=\"color: #7f7f7f; text-decoration-color: #7f7f7f\">warnings.py</span></a><span style=\"color: #7f7f7f; text-decoration-color: #7f7f7f\">:</span><a href=\"file:///usr/lib/python3.11/warnings.py#110\" target=\"_blank\"><span style=\"color: #7f7f7f; text-decoration-color: #7f7f7f\">110</span></a>\n",
       "<span style=\"color: #7fbfbf; text-decoration-color: #7fbfbf\">                    </span>         FutureWarning: The behavior of DataFrame concatenation with empty or   <span style=\"color: #7f7f7f; text-decoration-color: #7f7f7f\">               </span>\n",
       "<span style=\"color: #7fbfbf; text-decoration-color: #7fbfbf\">                    </span>         all-NA entries is deprecated. In a future version, this will no longer <span style=\"color: #7f7f7f; text-decoration-color: #7f7f7f\">               </span>\n",
       "<span style=\"color: #7fbfbf; text-decoration-color: #7fbfbf\">                    </span>         exclude empty or all-NA columns when determining the result dtypes. To <span style=\"color: #7f7f7f; text-decoration-color: #7f7f7f\">               </span>\n",
       "<span style=\"color: #7fbfbf; text-decoration-color: #7fbfbf\">                    </span>         retain the old behavior, exclude the relevant entries before the       <span style=\"color: #7f7f7f; text-decoration-color: #7f7f7f\">               </span>\n",
       "<span style=\"color: #7fbfbf; text-decoration-color: #7fbfbf\">                    </span>         concat operation.                                                      <span style=\"color: #7f7f7f; text-decoration-color: #7f7f7f\">               </span>\n",
       "<span style=\"color: #7fbfbf; text-decoration-color: #7fbfbf\">                    </span>           <span style=\"color: #800080; text-decoration-color: #800080; font-weight: bold\">pd.concat</span><span style=\"font-weight: bold\">(</span>dfs<span style=\"font-weight: bold\">)</span>                                                       <span style=\"color: #7f7f7f; text-decoration-color: #7f7f7f\">               </span>\n",
       "<span style=\"color: #7fbfbf; text-decoration-color: #7fbfbf\">                    </span>                                                                                <span style=\"color: #7f7f7f; text-decoration-color: #7f7f7f\">               </span>\n",
       "</pre>\n"
      ],
      "text/plain": [
       "\u001b[2;36m[04/06/25 00:15:34]\u001b[0m\u001b[2;36m \u001b[0m\u001b[33mWARNING \u001b[0m \u001b[35m/usr/local/lib/python3.11/dist-packages/soccerdata/\u001b[0m\u001b[95mfbref.py\u001b[0m:\u001b[1;36m165\u001b[0m:       \u001b]8;id=269377;file:///usr/lib/python3.11/warnings.py\u001b\\\u001b[2mwarnings.py\u001b[0m\u001b]8;;\u001b\\\u001b[2m:\u001b[0m\u001b]8;id=104769;file:///usr/lib/python3.11/warnings.py#110\u001b\\\u001b[2m110\u001b[0m\u001b]8;;\u001b\\\n",
       "\u001b[2;36m                    \u001b[0m         FutureWarning: The behavior of DataFrame concatenation with empty or   \u001b[2m               \u001b[0m\n",
       "\u001b[2;36m                    \u001b[0m         all-NA entries is deprecated. In a future version, this will no longer \u001b[2m               \u001b[0m\n",
       "\u001b[2;36m                    \u001b[0m         exclude empty or all-NA columns when determining the result dtypes. To \u001b[2m               \u001b[0m\n",
       "\u001b[2;36m                    \u001b[0m         retain the old behavior, exclude the relevant entries before the       \u001b[2m               \u001b[0m\n",
       "\u001b[2;36m                    \u001b[0m         concat operation.                                                      \u001b[2m               \u001b[0m\n",
       "\u001b[2;36m                    \u001b[0m           \u001b[1;35mpd.concat\u001b[0m\u001b[1m(\u001b[0mdfs\u001b[1m)\u001b[0m                                                       \u001b[2m               \u001b[0m\n",
       "\u001b[2;36m                    \u001b[0m                                                                                \u001b[2m               \u001b[0m\n"
      ]
     },
     "metadata": {},
     "output_type": "display_data"
    },
    {
     "data": {
      "text/html": [
       "<pre style=\"white-space:pre;overflow-x:auto;line-height:normal;font-family:Menlo,'DejaVu Sans Mono',consolas,'Courier New',monospace\"><span style=\"color: #7fbfbf; text-decoration-color: #7fbfbf\">[04/06/25 00:18:02] </span><span style=\"color: #808000; text-decoration-color: #808000\">WARNING </span> <span style=\"color: #800080; text-decoration-color: #800080\">/usr/local/lib/python3.11/dist-packages/soccerdata/</span><span style=\"color: #ff00ff; text-decoration-color: #ff00ff\">fbref.py</span>:<span style=\"color: #008080; text-decoration-color: #008080; font-weight: bold\">165</span>:       <a href=\"file:///usr/lib/python3.11/warnings.py\" target=\"_blank\"><span style=\"color: #7f7f7f; text-decoration-color: #7f7f7f\">warnings.py</span></a><span style=\"color: #7f7f7f; text-decoration-color: #7f7f7f\">:</span><a href=\"file:///usr/lib/python3.11/warnings.py#110\" target=\"_blank\"><span style=\"color: #7f7f7f; text-decoration-color: #7f7f7f\">110</span></a>\n",
       "<span style=\"color: #7fbfbf; text-decoration-color: #7fbfbf\">                    </span>         FutureWarning: The behavior of DataFrame concatenation with empty or   <span style=\"color: #7f7f7f; text-decoration-color: #7f7f7f\">               </span>\n",
       "<span style=\"color: #7fbfbf; text-decoration-color: #7fbfbf\">                    </span>         all-NA entries is deprecated. In a future version, this will no longer <span style=\"color: #7f7f7f; text-decoration-color: #7f7f7f\">               </span>\n",
       "<span style=\"color: #7fbfbf; text-decoration-color: #7fbfbf\">                    </span>         exclude empty or all-NA columns when determining the result dtypes. To <span style=\"color: #7f7f7f; text-decoration-color: #7f7f7f\">               </span>\n",
       "<span style=\"color: #7fbfbf; text-decoration-color: #7fbfbf\">                    </span>         retain the old behavior, exclude the relevant entries before the       <span style=\"color: #7f7f7f; text-decoration-color: #7f7f7f\">               </span>\n",
       "<span style=\"color: #7fbfbf; text-decoration-color: #7fbfbf\">                    </span>         concat operation.                                                      <span style=\"color: #7f7f7f; text-decoration-color: #7f7f7f\">               </span>\n",
       "<span style=\"color: #7fbfbf; text-decoration-color: #7fbfbf\">                    </span>           <span style=\"color: #800080; text-decoration-color: #800080; font-weight: bold\">pd.concat</span><span style=\"font-weight: bold\">(</span>dfs<span style=\"font-weight: bold\">)</span>                                                       <span style=\"color: #7f7f7f; text-decoration-color: #7f7f7f\">               </span>\n",
       "<span style=\"color: #7fbfbf; text-decoration-color: #7fbfbf\">                    </span>                                                                                <span style=\"color: #7f7f7f; text-decoration-color: #7f7f7f\">               </span>\n",
       "</pre>\n"
      ],
      "text/plain": [
       "\u001b[2;36m[04/06/25 00:18:02]\u001b[0m\u001b[2;36m \u001b[0m\u001b[33mWARNING \u001b[0m \u001b[35m/usr/local/lib/python3.11/dist-packages/soccerdata/\u001b[0m\u001b[95mfbref.py\u001b[0m:\u001b[1;36m165\u001b[0m:       \u001b]8;id=688846;file:///usr/lib/python3.11/warnings.py\u001b\\\u001b[2mwarnings.py\u001b[0m\u001b]8;;\u001b\\\u001b[2m:\u001b[0m\u001b]8;id=739173;file:///usr/lib/python3.11/warnings.py#110\u001b\\\u001b[2m110\u001b[0m\u001b]8;;\u001b\\\n",
       "\u001b[2;36m                    \u001b[0m         FutureWarning: The behavior of DataFrame concatenation with empty or   \u001b[2m               \u001b[0m\n",
       "\u001b[2;36m                    \u001b[0m         all-NA entries is deprecated. In a future version, this will no longer \u001b[2m               \u001b[0m\n",
       "\u001b[2;36m                    \u001b[0m         exclude empty or all-NA columns when determining the result dtypes. To \u001b[2m               \u001b[0m\n",
       "\u001b[2;36m                    \u001b[0m         retain the old behavior, exclude the relevant entries before the       \u001b[2m               \u001b[0m\n",
       "\u001b[2;36m                    \u001b[0m         concat operation.                                                      \u001b[2m               \u001b[0m\n",
       "\u001b[2;36m                    \u001b[0m           \u001b[1;35mpd.concat\u001b[0m\u001b[1m(\u001b[0mdfs\u001b[1m)\u001b[0m                                                       \u001b[2m               \u001b[0m\n",
       "\u001b[2;36m                    \u001b[0m                                                                                \u001b[2m               \u001b[0m\n"
      ]
     },
     "metadata": {},
     "output_type": "display_data"
    },
    {
     "data": {
      "text/html": [
       "<pre style=\"white-space:pre;overflow-x:auto;line-height:normal;font-family:Menlo,'DejaVu Sans Mono',consolas,'Courier New',monospace\"><span style=\"color: #7fbfbf; text-decoration-color: #7fbfbf\">[04/06/25 00:20:33] </span><span style=\"color: #808000; text-decoration-color: #808000\">WARNING </span> <span style=\"color: #800080; text-decoration-color: #800080\">/usr/local/lib/python3.11/dist-packages/soccerdata/</span><span style=\"color: #ff00ff; text-decoration-color: #ff00ff\">fbref.py</span>:<span style=\"color: #008080; text-decoration-color: #008080; font-weight: bold\">165</span>:       <a href=\"file:///usr/lib/python3.11/warnings.py\" target=\"_blank\"><span style=\"color: #7f7f7f; text-decoration-color: #7f7f7f\">warnings.py</span></a><span style=\"color: #7f7f7f; text-decoration-color: #7f7f7f\">:</span><a href=\"file:///usr/lib/python3.11/warnings.py#110\" target=\"_blank\"><span style=\"color: #7f7f7f; text-decoration-color: #7f7f7f\">110</span></a>\n",
       "<span style=\"color: #7fbfbf; text-decoration-color: #7fbfbf\">                    </span>         FutureWarning: The behavior of DataFrame concatenation with empty or   <span style=\"color: #7f7f7f; text-decoration-color: #7f7f7f\">               </span>\n",
       "<span style=\"color: #7fbfbf; text-decoration-color: #7fbfbf\">                    </span>         all-NA entries is deprecated. In a future version, this will no longer <span style=\"color: #7f7f7f; text-decoration-color: #7f7f7f\">               </span>\n",
       "<span style=\"color: #7fbfbf; text-decoration-color: #7fbfbf\">                    </span>         exclude empty or all-NA columns when determining the result dtypes. To <span style=\"color: #7f7f7f; text-decoration-color: #7f7f7f\">               </span>\n",
       "<span style=\"color: #7fbfbf; text-decoration-color: #7fbfbf\">                    </span>         retain the old behavior, exclude the relevant entries before the       <span style=\"color: #7f7f7f; text-decoration-color: #7f7f7f\">               </span>\n",
       "<span style=\"color: #7fbfbf; text-decoration-color: #7fbfbf\">                    </span>         concat operation.                                                      <span style=\"color: #7f7f7f; text-decoration-color: #7f7f7f\">               </span>\n",
       "<span style=\"color: #7fbfbf; text-decoration-color: #7fbfbf\">                    </span>           <span style=\"color: #800080; text-decoration-color: #800080; font-weight: bold\">pd.concat</span><span style=\"font-weight: bold\">(</span>dfs<span style=\"font-weight: bold\">)</span>                                                       <span style=\"color: #7f7f7f; text-decoration-color: #7f7f7f\">               </span>\n",
       "<span style=\"color: #7fbfbf; text-decoration-color: #7fbfbf\">                    </span>                                                                                <span style=\"color: #7f7f7f; text-decoration-color: #7f7f7f\">               </span>\n",
       "</pre>\n"
      ],
      "text/plain": [
       "\u001b[2;36m[04/06/25 00:20:33]\u001b[0m\u001b[2;36m \u001b[0m\u001b[33mWARNING \u001b[0m \u001b[35m/usr/local/lib/python3.11/dist-packages/soccerdata/\u001b[0m\u001b[95mfbref.py\u001b[0m:\u001b[1;36m165\u001b[0m:       \u001b]8;id=835442;file:///usr/lib/python3.11/warnings.py\u001b\\\u001b[2mwarnings.py\u001b[0m\u001b]8;;\u001b\\\u001b[2m:\u001b[0m\u001b]8;id=793459;file:///usr/lib/python3.11/warnings.py#110\u001b\\\u001b[2m110\u001b[0m\u001b]8;;\u001b\\\n",
       "\u001b[2;36m                    \u001b[0m         FutureWarning: The behavior of DataFrame concatenation with empty or   \u001b[2m               \u001b[0m\n",
       "\u001b[2;36m                    \u001b[0m         all-NA entries is deprecated. In a future version, this will no longer \u001b[2m               \u001b[0m\n",
       "\u001b[2;36m                    \u001b[0m         exclude empty or all-NA columns when determining the result dtypes. To \u001b[2m               \u001b[0m\n",
       "\u001b[2;36m                    \u001b[0m         retain the old behavior, exclude the relevant entries before the       \u001b[2m               \u001b[0m\n",
       "\u001b[2;36m                    \u001b[0m         concat operation.                                                      \u001b[2m               \u001b[0m\n",
       "\u001b[2;36m                    \u001b[0m           \u001b[1;35mpd.concat\u001b[0m\u001b[1m(\u001b[0mdfs\u001b[1m)\u001b[0m                                                       \u001b[2m               \u001b[0m\n",
       "\u001b[2;36m                    \u001b[0m                                                                                \u001b[2m               \u001b[0m\n"
      ]
     },
     "metadata": {},
     "output_type": "display_data"
    },
    {
     "name": "stderr",
     "output_type": "stream",
     "text": [
      "\r 20%|██        | 2/10 [43:50<2:55:20, 1315.02s/it]"
     ]
    },
    {
     "data": {
      "text/html": [
       "<pre style=\"white-space:pre;overflow-x:auto;line-height:normal;font-family:Menlo,'DejaVu Sans Mono',consolas,'Courier New',monospace\"><span style=\"color: #7fbfbf; text-decoration-color: #7fbfbf\">[04/06/25 00:23:01] </span><span style=\"color: #000080; text-decoration-color: #000080\">INFO    </span> Saving cached data to <span style=\"color: #800080; text-decoration-color: #800080\">/root/soccerdata/data/</span><span style=\"color: #ff00ff; text-decoration-color: #ff00ff\">FBref</span>                       <a href=\"file:///usr/local/lib/python3.11/dist-packages/soccerdata/_common.py\" target=\"_blank\"><span style=\"color: #7f7f7f; text-decoration-color: #7f7f7f\">_common.py</span></a><span style=\"color: #7f7f7f; text-decoration-color: #7f7f7f\">:</span><a href=\"file:///usr/local/lib/python3.11/dist-packages/soccerdata/_common.py#263\" target=\"_blank\"><span style=\"color: #7f7f7f; text-decoration-color: #7f7f7f\">263</span></a>\n",
       "</pre>\n"
      ],
      "text/plain": [
       "\u001b[2;36m[04/06/25 00:23:01]\u001b[0m\u001b[2;36m \u001b[0m\u001b[34mINFO    \u001b[0m Saving cached data to \u001b[35m/root/soccerdata/data/\u001b[0m\u001b[95mFBref\u001b[0m                       \u001b]8;id=488105;file:///usr/local/lib/python3.11/dist-packages/soccerdata/_common.py\u001b\\\u001b[2m_common.py\u001b[0m\u001b]8;;\u001b\\\u001b[2m:\u001b[0m\u001b]8;id=934561;file:///usr/local/lib/python3.11/dist-packages/soccerdata/_common.py#263\u001b\\\u001b[2m263\u001b[0m\u001b]8;;\u001b\\\n"
      ]
     },
     "metadata": {},
     "output_type": "display_data"
    },
    {
     "data": {
      "text/html": [
       "<pre style=\"white-space:pre;overflow-x:auto;line-height:normal;font-family:Menlo,'DejaVu Sans Mono',consolas,'Courier New',monospace\"><span style=\"color: #7fbfbf; text-decoration-color: #7fbfbf\">[04/06/25 00:23:02] </span><span style=\"color: #808000; text-decoration-color: #808000\">WARNING </span> <span style=\"color: #800080; text-decoration-color: #800080\">/usr/local/lib/python3.11/dist-packages/soccerdata/</span><span style=\"color: #ff00ff; text-decoration-color: #ff00ff\">fbref.py</span>:<span style=\"color: #008080; text-decoration-color: #008080; font-weight: bold\">165</span>:       <a href=\"file:///usr/lib/python3.11/warnings.py\" target=\"_blank\"><span style=\"color: #7f7f7f; text-decoration-color: #7f7f7f\">warnings.py</span></a><span style=\"color: #7f7f7f; text-decoration-color: #7f7f7f\">:</span><a href=\"file:///usr/lib/python3.11/warnings.py#110\" target=\"_blank\"><span style=\"color: #7f7f7f; text-decoration-color: #7f7f7f\">110</span></a>\n",
       "<span style=\"color: #7fbfbf; text-decoration-color: #7fbfbf\">                    </span>         FutureWarning: The behavior of DataFrame concatenation with empty or   <span style=\"color: #7f7f7f; text-decoration-color: #7f7f7f\">               </span>\n",
       "<span style=\"color: #7fbfbf; text-decoration-color: #7fbfbf\">                    </span>         all-NA entries is deprecated. In a future version, this will no longer <span style=\"color: #7f7f7f; text-decoration-color: #7f7f7f\">               </span>\n",
       "<span style=\"color: #7fbfbf; text-decoration-color: #7fbfbf\">                    </span>         exclude empty or all-NA columns when determining the result dtypes. To <span style=\"color: #7f7f7f; text-decoration-color: #7f7f7f\">               </span>\n",
       "<span style=\"color: #7fbfbf; text-decoration-color: #7fbfbf\">                    </span>         retain the old behavior, exclude the relevant entries before the       <span style=\"color: #7f7f7f; text-decoration-color: #7f7f7f\">               </span>\n",
       "<span style=\"color: #7fbfbf; text-decoration-color: #7fbfbf\">                    </span>         concat operation.                                                      <span style=\"color: #7f7f7f; text-decoration-color: #7f7f7f\">               </span>\n",
       "<span style=\"color: #7fbfbf; text-decoration-color: #7fbfbf\">                    </span>           <span style=\"color: #800080; text-decoration-color: #800080; font-weight: bold\">pd.concat</span><span style=\"font-weight: bold\">(</span>dfs<span style=\"font-weight: bold\">)</span>                                                       <span style=\"color: #7f7f7f; text-decoration-color: #7f7f7f\">               </span>\n",
       "<span style=\"color: #7fbfbf; text-decoration-color: #7fbfbf\">                    </span>                                                                                <span style=\"color: #7f7f7f; text-decoration-color: #7f7f7f\">               </span>\n",
       "</pre>\n"
      ],
      "text/plain": [
       "\u001b[2;36m[04/06/25 00:23:02]\u001b[0m\u001b[2;36m \u001b[0m\u001b[33mWARNING \u001b[0m \u001b[35m/usr/local/lib/python3.11/dist-packages/soccerdata/\u001b[0m\u001b[95mfbref.py\u001b[0m:\u001b[1;36m165\u001b[0m:       \u001b]8;id=950921;file:///usr/lib/python3.11/warnings.py\u001b\\\u001b[2mwarnings.py\u001b[0m\u001b]8;;\u001b\\\u001b[2m:\u001b[0m\u001b]8;id=687950;file:///usr/lib/python3.11/warnings.py#110\u001b\\\u001b[2m110\u001b[0m\u001b]8;;\u001b\\\n",
       "\u001b[2;36m                    \u001b[0m         FutureWarning: The behavior of DataFrame concatenation with empty or   \u001b[2m               \u001b[0m\n",
       "\u001b[2;36m                    \u001b[0m         all-NA entries is deprecated. In a future version, this will no longer \u001b[2m               \u001b[0m\n",
       "\u001b[2;36m                    \u001b[0m         exclude empty or all-NA columns when determining the result dtypes. To \u001b[2m               \u001b[0m\n",
       "\u001b[2;36m                    \u001b[0m         retain the old behavior, exclude the relevant entries before the       \u001b[2m               \u001b[0m\n",
       "\u001b[2;36m                    \u001b[0m         concat operation.                                                      \u001b[2m               \u001b[0m\n",
       "\u001b[2;36m                    \u001b[0m           \u001b[1;35mpd.concat\u001b[0m\u001b[1m(\u001b[0mdfs\u001b[1m)\u001b[0m                                                       \u001b[2m               \u001b[0m\n",
       "\u001b[2;36m                    \u001b[0m                                                                                \u001b[2m               \u001b[0m\n"
      ]
     },
     "metadata": {},
     "output_type": "display_data"
    },
    {
     "data": {
      "text/html": [
       "<pre style=\"white-space:pre;overflow-x:auto;line-height:normal;font-family:Menlo,'DejaVu Sans Mono',consolas,'Courier New',monospace\"><span style=\"color: #7fbfbf; text-decoration-color: #7fbfbf\">[04/06/25 00:25:19] </span><span style=\"color: #808000; text-decoration-color: #808000\">WARNING </span> <span style=\"color: #800080; text-decoration-color: #800080\">/usr/local/lib/python3.11/dist-packages/soccerdata/</span><span style=\"color: #ff00ff; text-decoration-color: #ff00ff\">fbref.py</span>:<span style=\"color: #008080; text-decoration-color: #008080; font-weight: bold\">1273</span>:      <a href=\"file:///usr/lib/python3.11/warnings.py\" target=\"_blank\"><span style=\"color: #7f7f7f; text-decoration-color: #7f7f7f\">warnings.py</span></a><span style=\"color: #7f7f7f; text-decoration-color: #7f7f7f\">:</span><a href=\"file:///usr/lib/python3.11/warnings.py#110\" target=\"_blank\"><span style=\"color: #7f7f7f; text-decoration-color: #7f7f7f\">110</span></a>\n",
       "<span style=\"color: #7fbfbf; text-decoration-color: #7fbfbf\">                    </span>         FutureWarning: The behavior of DataFrame concatenation with empty or   <span style=\"color: #7f7f7f; text-decoration-color: #7f7f7f\">               </span>\n",
       "<span style=\"color: #7fbfbf; text-decoration-color: #7fbfbf\">                    </span>         all-NA entries is deprecated. In a future version, this will no longer <span style=\"color: #7f7f7f; text-decoration-color: #7f7f7f\">               </span>\n",
       "<span style=\"color: #7fbfbf; text-decoration-color: #7fbfbf\">                    </span>         exclude empty or all-NA columns when determining the result dtypes. To <span style=\"color: #7f7f7f; text-decoration-color: #7f7f7f\">               </span>\n",
       "<span style=\"color: #7fbfbf; text-decoration-color: #7fbfbf\">                    </span>         retain the old behavior, exclude the relevant entries before the       <span style=\"color: #7f7f7f; text-decoration-color: #7f7f7f\">               </span>\n",
       "<span style=\"color: #7fbfbf; text-decoration-color: #7fbfbf\">                    </span>         concat operation.                                                      <span style=\"color: #7f7f7f; text-decoration-color: #7f7f7f\">               </span>\n",
       "<span style=\"color: #7fbfbf; text-decoration-color: #7fbfbf\">                    </span>           return <span style=\"color: #800080; text-decoration-color: #800080; font-weight: bold\">pd.concat</span><span style=\"font-weight: bold\">(</span>dfs<span style=\"font-weight: bold\">)</span>                                                <span style=\"color: #7f7f7f; text-decoration-color: #7f7f7f\">               </span>\n",
       "<span style=\"color: #7fbfbf; text-decoration-color: #7fbfbf\">                    </span>                                                                                <span style=\"color: #7f7f7f; text-decoration-color: #7f7f7f\">               </span>\n",
       "</pre>\n"
      ],
      "text/plain": [
       "\u001b[2;36m[04/06/25 00:25:19]\u001b[0m\u001b[2;36m \u001b[0m\u001b[33mWARNING \u001b[0m \u001b[35m/usr/local/lib/python3.11/dist-packages/soccerdata/\u001b[0m\u001b[95mfbref.py\u001b[0m:\u001b[1;36m1273\u001b[0m:      \u001b]8;id=248953;file:///usr/lib/python3.11/warnings.py\u001b\\\u001b[2mwarnings.py\u001b[0m\u001b]8;;\u001b\\\u001b[2m:\u001b[0m\u001b]8;id=697355;file:///usr/lib/python3.11/warnings.py#110\u001b\\\u001b[2m110\u001b[0m\u001b]8;;\u001b\\\n",
       "\u001b[2;36m                    \u001b[0m         FutureWarning: The behavior of DataFrame concatenation with empty or   \u001b[2m               \u001b[0m\n",
       "\u001b[2;36m                    \u001b[0m         all-NA entries is deprecated. In a future version, this will no longer \u001b[2m               \u001b[0m\n",
       "\u001b[2;36m                    \u001b[0m         exclude empty or all-NA columns when determining the result dtypes. To \u001b[2m               \u001b[0m\n",
       "\u001b[2;36m                    \u001b[0m         retain the old behavior, exclude the relevant entries before the       \u001b[2m               \u001b[0m\n",
       "\u001b[2;36m                    \u001b[0m         concat operation.                                                      \u001b[2m               \u001b[0m\n",
       "\u001b[2;36m                    \u001b[0m           return \u001b[1;35mpd.concat\u001b[0m\u001b[1m(\u001b[0mdfs\u001b[1m)\u001b[0m                                                \u001b[2m               \u001b[0m\n",
       "\u001b[2;36m                    \u001b[0m                                                                                \u001b[2m               \u001b[0m\n"
      ]
     },
     "metadata": {},
     "output_type": "display_data"
    },
    {
     "data": {
      "text/html": [
       "<pre style=\"white-space:pre;overflow-x:auto;line-height:normal;font-family:Menlo,'DejaVu Sans Mono',consolas,'Courier New',monospace\"><span style=\"color: #7fbfbf; text-decoration-color: #7fbfbf\">                    </span><span style=\"color: #808000; text-decoration-color: #808000\">WARNING </span> <span style=\"color: #800080; text-decoration-color: #800080\">/usr/local/lib/python3.11/dist-packages/soccerdata/</span><span style=\"color: #ff00ff; text-decoration-color: #ff00ff\">fbref.py</span>:<span style=\"color: #008080; text-decoration-color: #008080; font-weight: bold\">165</span>:       <a href=\"file:///usr/lib/python3.11/warnings.py\" target=\"_blank\"><span style=\"color: #7f7f7f; text-decoration-color: #7f7f7f\">warnings.py</span></a><span style=\"color: #7f7f7f; text-decoration-color: #7f7f7f\">:</span><a href=\"file:///usr/lib/python3.11/warnings.py#110\" target=\"_blank\"><span style=\"color: #7f7f7f; text-decoration-color: #7f7f7f\">110</span></a>\n",
       "<span style=\"color: #7fbfbf; text-decoration-color: #7fbfbf\">                    </span>         FutureWarning: The behavior of DataFrame concatenation with empty or   <span style=\"color: #7f7f7f; text-decoration-color: #7f7f7f\">               </span>\n",
       "<span style=\"color: #7fbfbf; text-decoration-color: #7fbfbf\">                    </span>         all-NA entries is deprecated. In a future version, this will no longer <span style=\"color: #7f7f7f; text-decoration-color: #7f7f7f\">               </span>\n",
       "<span style=\"color: #7fbfbf; text-decoration-color: #7fbfbf\">                    </span>         exclude empty or all-NA columns when determining the result dtypes. To <span style=\"color: #7f7f7f; text-decoration-color: #7f7f7f\">               </span>\n",
       "<span style=\"color: #7fbfbf; text-decoration-color: #7fbfbf\">                    </span>         retain the old behavior, exclude the relevant entries before the       <span style=\"color: #7f7f7f; text-decoration-color: #7f7f7f\">               </span>\n",
       "<span style=\"color: #7fbfbf; text-decoration-color: #7fbfbf\">                    </span>         concat operation.                                                      <span style=\"color: #7f7f7f; text-decoration-color: #7f7f7f\">               </span>\n",
       "<span style=\"color: #7fbfbf; text-decoration-color: #7fbfbf\">                    </span>           <span style=\"color: #800080; text-decoration-color: #800080; font-weight: bold\">pd.concat</span><span style=\"font-weight: bold\">(</span>dfs<span style=\"font-weight: bold\">)</span>                                                       <span style=\"color: #7f7f7f; text-decoration-color: #7f7f7f\">               </span>\n",
       "<span style=\"color: #7fbfbf; text-decoration-color: #7fbfbf\">                    </span>                                                                                <span style=\"color: #7f7f7f; text-decoration-color: #7f7f7f\">               </span>\n",
       "</pre>\n"
      ],
      "text/plain": [
       "\u001b[2;36m                   \u001b[0m\u001b[2;36m \u001b[0m\u001b[33mWARNING \u001b[0m \u001b[35m/usr/local/lib/python3.11/dist-packages/soccerdata/\u001b[0m\u001b[95mfbref.py\u001b[0m:\u001b[1;36m165\u001b[0m:       \u001b]8;id=392978;file:///usr/lib/python3.11/warnings.py\u001b\\\u001b[2mwarnings.py\u001b[0m\u001b]8;;\u001b\\\u001b[2m:\u001b[0m\u001b]8;id=527549;file:///usr/lib/python3.11/warnings.py#110\u001b\\\u001b[2m110\u001b[0m\u001b]8;;\u001b\\\n",
       "\u001b[2;36m                    \u001b[0m         FutureWarning: The behavior of DataFrame concatenation with empty or   \u001b[2m               \u001b[0m\n",
       "\u001b[2;36m                    \u001b[0m         all-NA entries is deprecated. In a future version, this will no longer \u001b[2m               \u001b[0m\n",
       "\u001b[2;36m                    \u001b[0m         exclude empty or all-NA columns when determining the result dtypes. To \u001b[2m               \u001b[0m\n",
       "\u001b[2;36m                    \u001b[0m         retain the old behavior, exclude the relevant entries before the       \u001b[2m               \u001b[0m\n",
       "\u001b[2;36m                    \u001b[0m         concat operation.                                                      \u001b[2m               \u001b[0m\n",
       "\u001b[2;36m                    \u001b[0m           \u001b[1;35mpd.concat\u001b[0m\u001b[1m(\u001b[0mdfs\u001b[1m)\u001b[0m                                                       \u001b[2m               \u001b[0m\n",
       "\u001b[2;36m                    \u001b[0m                                                                                \u001b[2m               \u001b[0m\n"
      ]
     },
     "metadata": {},
     "output_type": "display_data"
    },
    {
     "data": {
      "text/html": [
       "<pre style=\"white-space:pre;overflow-x:auto;line-height:normal;font-family:Menlo,'DejaVu Sans Mono',consolas,'Courier New',monospace\"><span style=\"color: #7fbfbf; text-decoration-color: #7fbfbf\">[04/06/25 00:27:46] </span><span style=\"color: #808000; text-decoration-color: #808000\">WARNING </span> <span style=\"color: #800080; text-decoration-color: #800080\">/usr/local/lib/python3.11/dist-packages/soccerdata/</span><span style=\"color: #ff00ff; text-decoration-color: #ff00ff\">fbref.py</span>:<span style=\"color: #008080; text-decoration-color: #008080; font-weight: bold\">165</span>:       <a href=\"file:///usr/lib/python3.11/warnings.py\" target=\"_blank\"><span style=\"color: #7f7f7f; text-decoration-color: #7f7f7f\">warnings.py</span></a><span style=\"color: #7f7f7f; text-decoration-color: #7f7f7f\">:</span><a href=\"file:///usr/lib/python3.11/warnings.py#110\" target=\"_blank\"><span style=\"color: #7f7f7f; text-decoration-color: #7f7f7f\">110</span></a>\n",
       "<span style=\"color: #7fbfbf; text-decoration-color: #7fbfbf\">                    </span>         FutureWarning: The behavior of DataFrame concatenation with empty or   <span style=\"color: #7f7f7f; text-decoration-color: #7f7f7f\">               </span>\n",
       "<span style=\"color: #7fbfbf; text-decoration-color: #7fbfbf\">                    </span>         all-NA entries is deprecated. In a future version, this will no longer <span style=\"color: #7f7f7f; text-decoration-color: #7f7f7f\">               </span>\n",
       "<span style=\"color: #7fbfbf; text-decoration-color: #7fbfbf\">                    </span>         exclude empty or all-NA columns when determining the result dtypes. To <span style=\"color: #7f7f7f; text-decoration-color: #7f7f7f\">               </span>\n",
       "<span style=\"color: #7fbfbf; text-decoration-color: #7fbfbf\">                    </span>         retain the old behavior, exclude the relevant entries before the       <span style=\"color: #7f7f7f; text-decoration-color: #7f7f7f\">               </span>\n",
       "<span style=\"color: #7fbfbf; text-decoration-color: #7fbfbf\">                    </span>         concat operation.                                                      <span style=\"color: #7f7f7f; text-decoration-color: #7f7f7f\">               </span>\n",
       "<span style=\"color: #7fbfbf; text-decoration-color: #7fbfbf\">                    </span>           <span style=\"color: #800080; text-decoration-color: #800080; font-weight: bold\">pd.concat</span><span style=\"font-weight: bold\">(</span>dfs<span style=\"font-weight: bold\">)</span>                                                       <span style=\"color: #7f7f7f; text-decoration-color: #7f7f7f\">               </span>\n",
       "<span style=\"color: #7fbfbf; text-decoration-color: #7fbfbf\">                    </span>                                                                                <span style=\"color: #7f7f7f; text-decoration-color: #7f7f7f\">               </span>\n",
       "</pre>\n"
      ],
      "text/plain": [
       "\u001b[2;36m[04/06/25 00:27:46]\u001b[0m\u001b[2;36m \u001b[0m\u001b[33mWARNING \u001b[0m \u001b[35m/usr/local/lib/python3.11/dist-packages/soccerdata/\u001b[0m\u001b[95mfbref.py\u001b[0m:\u001b[1;36m165\u001b[0m:       \u001b]8;id=505527;file:///usr/lib/python3.11/warnings.py\u001b\\\u001b[2mwarnings.py\u001b[0m\u001b]8;;\u001b\\\u001b[2m:\u001b[0m\u001b]8;id=485064;file:///usr/lib/python3.11/warnings.py#110\u001b\\\u001b[2m110\u001b[0m\u001b]8;;\u001b\\\n",
       "\u001b[2;36m                    \u001b[0m         FutureWarning: The behavior of DataFrame concatenation with empty or   \u001b[2m               \u001b[0m\n",
       "\u001b[2;36m                    \u001b[0m         all-NA entries is deprecated. In a future version, this will no longer \u001b[2m               \u001b[0m\n",
       "\u001b[2;36m                    \u001b[0m         exclude empty or all-NA columns when determining the result dtypes. To \u001b[2m               \u001b[0m\n",
       "\u001b[2;36m                    \u001b[0m         retain the old behavior, exclude the relevant entries before the       \u001b[2m               \u001b[0m\n",
       "\u001b[2;36m                    \u001b[0m         concat operation.                                                      \u001b[2m               \u001b[0m\n",
       "\u001b[2;36m                    \u001b[0m           \u001b[1;35mpd.concat\u001b[0m\u001b[1m(\u001b[0mdfs\u001b[1m)\u001b[0m                                                       \u001b[2m               \u001b[0m\n",
       "\u001b[2;36m                    \u001b[0m                                                                                \u001b[2m               \u001b[0m\n"
      ]
     },
     "metadata": {},
     "output_type": "display_data"
    },
    {
     "data": {
      "text/html": [
       "<pre style=\"white-space:pre;overflow-x:auto;line-height:normal;font-family:Menlo,'DejaVu Sans Mono',consolas,'Courier New',monospace\"><span style=\"color: #7fbfbf; text-decoration-color: #7fbfbf\">[04/06/25 00:30:11] </span><span style=\"color: #808000; text-decoration-color: #808000\">WARNING </span> <span style=\"color: #800080; text-decoration-color: #800080\">/usr/local/lib/python3.11/dist-packages/soccerdata/</span><span style=\"color: #ff00ff; text-decoration-color: #ff00ff\">fbref.py</span>:<span style=\"color: #008080; text-decoration-color: #008080; font-weight: bold\">165</span>:       <a href=\"file:///usr/lib/python3.11/warnings.py\" target=\"_blank\"><span style=\"color: #7f7f7f; text-decoration-color: #7f7f7f\">warnings.py</span></a><span style=\"color: #7f7f7f; text-decoration-color: #7f7f7f\">:</span><a href=\"file:///usr/lib/python3.11/warnings.py#110\" target=\"_blank\"><span style=\"color: #7f7f7f; text-decoration-color: #7f7f7f\">110</span></a>\n",
       "<span style=\"color: #7fbfbf; text-decoration-color: #7fbfbf\">                    </span>         FutureWarning: The behavior of DataFrame concatenation with empty or   <span style=\"color: #7f7f7f; text-decoration-color: #7f7f7f\">               </span>\n",
       "<span style=\"color: #7fbfbf; text-decoration-color: #7fbfbf\">                    </span>         all-NA entries is deprecated. In a future version, this will no longer <span style=\"color: #7f7f7f; text-decoration-color: #7f7f7f\">               </span>\n",
       "<span style=\"color: #7fbfbf; text-decoration-color: #7fbfbf\">                    </span>         exclude empty or all-NA columns when determining the result dtypes. To <span style=\"color: #7f7f7f; text-decoration-color: #7f7f7f\">               </span>\n",
       "<span style=\"color: #7fbfbf; text-decoration-color: #7fbfbf\">                    </span>         retain the old behavior, exclude the relevant entries before the       <span style=\"color: #7f7f7f; text-decoration-color: #7f7f7f\">               </span>\n",
       "<span style=\"color: #7fbfbf; text-decoration-color: #7fbfbf\">                    </span>         concat operation.                                                      <span style=\"color: #7f7f7f; text-decoration-color: #7f7f7f\">               </span>\n",
       "<span style=\"color: #7fbfbf; text-decoration-color: #7fbfbf\">                    </span>           <span style=\"color: #800080; text-decoration-color: #800080; font-weight: bold\">pd.concat</span><span style=\"font-weight: bold\">(</span>dfs<span style=\"font-weight: bold\">)</span>                                                       <span style=\"color: #7f7f7f; text-decoration-color: #7f7f7f\">               </span>\n",
       "<span style=\"color: #7fbfbf; text-decoration-color: #7fbfbf\">                    </span>                                                                                <span style=\"color: #7f7f7f; text-decoration-color: #7f7f7f\">               </span>\n",
       "</pre>\n"
      ],
      "text/plain": [
       "\u001b[2;36m[04/06/25 00:30:11]\u001b[0m\u001b[2;36m \u001b[0m\u001b[33mWARNING \u001b[0m \u001b[35m/usr/local/lib/python3.11/dist-packages/soccerdata/\u001b[0m\u001b[95mfbref.py\u001b[0m:\u001b[1;36m165\u001b[0m:       \u001b]8;id=80018;file:///usr/lib/python3.11/warnings.py\u001b\\\u001b[2mwarnings.py\u001b[0m\u001b]8;;\u001b\\\u001b[2m:\u001b[0m\u001b]8;id=338789;file:///usr/lib/python3.11/warnings.py#110\u001b\\\u001b[2m110\u001b[0m\u001b]8;;\u001b\\\n",
       "\u001b[2;36m                    \u001b[0m         FutureWarning: The behavior of DataFrame concatenation with empty or   \u001b[2m               \u001b[0m\n",
       "\u001b[2;36m                    \u001b[0m         all-NA entries is deprecated. In a future version, this will no longer \u001b[2m               \u001b[0m\n",
       "\u001b[2;36m                    \u001b[0m         exclude empty or all-NA columns when determining the result dtypes. To \u001b[2m               \u001b[0m\n",
       "\u001b[2;36m                    \u001b[0m         retain the old behavior, exclude the relevant entries before the       \u001b[2m               \u001b[0m\n",
       "\u001b[2;36m                    \u001b[0m         concat operation.                                                      \u001b[2m               \u001b[0m\n",
       "\u001b[2;36m                    \u001b[0m           \u001b[1;35mpd.concat\u001b[0m\u001b[1m(\u001b[0mdfs\u001b[1m)\u001b[0m                                                       \u001b[2m               \u001b[0m\n",
       "\u001b[2;36m                    \u001b[0m                                                                                \u001b[2m               \u001b[0m\n"
      ]
     },
     "metadata": {},
     "output_type": "display_data"
    },
    {
     "data": {
      "text/html": [
       "<pre style=\"white-space:pre;overflow-x:auto;line-height:normal;font-family:Menlo,'DejaVu Sans Mono',consolas,'Courier New',monospace\"><span style=\"color: #7fbfbf; text-decoration-color: #7fbfbf\">[04/06/25 00:32:36] </span><span style=\"color: #808000; text-decoration-color: #808000\">WARNING </span> <span style=\"color: #800080; text-decoration-color: #800080\">/usr/local/lib/python3.11/dist-packages/soccerdata/</span><span style=\"color: #ff00ff; text-decoration-color: #ff00ff\">fbref.py</span>:<span style=\"color: #008080; text-decoration-color: #008080; font-weight: bold\">165</span>:       <a href=\"file:///usr/lib/python3.11/warnings.py\" target=\"_blank\"><span style=\"color: #7f7f7f; text-decoration-color: #7f7f7f\">warnings.py</span></a><span style=\"color: #7f7f7f; text-decoration-color: #7f7f7f\">:</span><a href=\"file:///usr/lib/python3.11/warnings.py#110\" target=\"_blank\"><span style=\"color: #7f7f7f; text-decoration-color: #7f7f7f\">110</span></a>\n",
       "<span style=\"color: #7fbfbf; text-decoration-color: #7fbfbf\">                    </span>         FutureWarning: The behavior of DataFrame concatenation with empty or   <span style=\"color: #7f7f7f; text-decoration-color: #7f7f7f\">               </span>\n",
       "<span style=\"color: #7fbfbf; text-decoration-color: #7fbfbf\">                    </span>         all-NA entries is deprecated. In a future version, this will no longer <span style=\"color: #7f7f7f; text-decoration-color: #7f7f7f\">               </span>\n",
       "<span style=\"color: #7fbfbf; text-decoration-color: #7fbfbf\">                    </span>         exclude empty or all-NA columns when determining the result dtypes. To <span style=\"color: #7f7f7f; text-decoration-color: #7f7f7f\">               </span>\n",
       "<span style=\"color: #7fbfbf; text-decoration-color: #7fbfbf\">                    </span>         retain the old behavior, exclude the relevant entries before the       <span style=\"color: #7f7f7f; text-decoration-color: #7f7f7f\">               </span>\n",
       "<span style=\"color: #7fbfbf; text-decoration-color: #7fbfbf\">                    </span>         concat operation.                                                      <span style=\"color: #7f7f7f; text-decoration-color: #7f7f7f\">               </span>\n",
       "<span style=\"color: #7fbfbf; text-decoration-color: #7fbfbf\">                    </span>           <span style=\"color: #800080; text-decoration-color: #800080; font-weight: bold\">pd.concat</span><span style=\"font-weight: bold\">(</span>dfs<span style=\"font-weight: bold\">)</span>                                                       <span style=\"color: #7f7f7f; text-decoration-color: #7f7f7f\">               </span>\n",
       "<span style=\"color: #7fbfbf; text-decoration-color: #7fbfbf\">                    </span>                                                                                <span style=\"color: #7f7f7f; text-decoration-color: #7f7f7f\">               </span>\n",
       "</pre>\n"
      ],
      "text/plain": [
       "\u001b[2;36m[04/06/25 00:32:36]\u001b[0m\u001b[2;36m \u001b[0m\u001b[33mWARNING \u001b[0m \u001b[35m/usr/local/lib/python3.11/dist-packages/soccerdata/\u001b[0m\u001b[95mfbref.py\u001b[0m:\u001b[1;36m165\u001b[0m:       \u001b]8;id=319345;file:///usr/lib/python3.11/warnings.py\u001b\\\u001b[2mwarnings.py\u001b[0m\u001b]8;;\u001b\\\u001b[2m:\u001b[0m\u001b]8;id=208872;file:///usr/lib/python3.11/warnings.py#110\u001b\\\u001b[2m110\u001b[0m\u001b]8;;\u001b\\\n",
       "\u001b[2;36m                    \u001b[0m         FutureWarning: The behavior of DataFrame concatenation with empty or   \u001b[2m               \u001b[0m\n",
       "\u001b[2;36m                    \u001b[0m         all-NA entries is deprecated. In a future version, this will no longer \u001b[2m               \u001b[0m\n",
       "\u001b[2;36m                    \u001b[0m         exclude empty or all-NA columns when determining the result dtypes. To \u001b[2m               \u001b[0m\n",
       "\u001b[2;36m                    \u001b[0m         retain the old behavior, exclude the relevant entries before the       \u001b[2m               \u001b[0m\n",
       "\u001b[2;36m                    \u001b[0m         concat operation.                                                      \u001b[2m               \u001b[0m\n",
       "\u001b[2;36m                    \u001b[0m           \u001b[1;35mpd.concat\u001b[0m\u001b[1m(\u001b[0mdfs\u001b[1m)\u001b[0m                                                       \u001b[2m               \u001b[0m\n",
       "\u001b[2;36m                    \u001b[0m                                                                                \u001b[2m               \u001b[0m\n"
      ]
     },
     "metadata": {},
     "output_type": "display_data"
    },
    {
     "data": {
      "text/html": [
       "<pre style=\"white-space:pre;overflow-x:auto;line-height:normal;font-family:Menlo,'DejaVu Sans Mono',consolas,'Courier New',monospace\"><span style=\"color: #7fbfbf; text-decoration-color: #7fbfbf\">[04/06/25 00:34:59] </span><span style=\"color: #808000; text-decoration-color: #808000\">WARNING </span> <span style=\"color: #800080; text-decoration-color: #800080\">/usr/local/lib/python3.11/dist-packages/soccerdata/</span><span style=\"color: #ff00ff; text-decoration-color: #ff00ff\">fbref.py</span>:<span style=\"color: #008080; text-decoration-color: #008080; font-weight: bold\">165</span>:       <a href=\"file:///usr/lib/python3.11/warnings.py\" target=\"_blank\"><span style=\"color: #7f7f7f; text-decoration-color: #7f7f7f\">warnings.py</span></a><span style=\"color: #7f7f7f; text-decoration-color: #7f7f7f\">:</span><a href=\"file:///usr/lib/python3.11/warnings.py#110\" target=\"_blank\"><span style=\"color: #7f7f7f; text-decoration-color: #7f7f7f\">110</span></a>\n",
       "<span style=\"color: #7fbfbf; text-decoration-color: #7fbfbf\">                    </span>         FutureWarning: The behavior of DataFrame concatenation with empty or   <span style=\"color: #7f7f7f; text-decoration-color: #7f7f7f\">               </span>\n",
       "<span style=\"color: #7fbfbf; text-decoration-color: #7fbfbf\">                    </span>         all-NA entries is deprecated. In a future version, this will no longer <span style=\"color: #7f7f7f; text-decoration-color: #7f7f7f\">               </span>\n",
       "<span style=\"color: #7fbfbf; text-decoration-color: #7fbfbf\">                    </span>         exclude empty or all-NA columns when determining the result dtypes. To <span style=\"color: #7f7f7f; text-decoration-color: #7f7f7f\">               </span>\n",
       "<span style=\"color: #7fbfbf; text-decoration-color: #7fbfbf\">                    </span>         retain the old behavior, exclude the relevant entries before the       <span style=\"color: #7f7f7f; text-decoration-color: #7f7f7f\">               </span>\n",
       "<span style=\"color: #7fbfbf; text-decoration-color: #7fbfbf\">                    </span>         concat operation.                                                      <span style=\"color: #7f7f7f; text-decoration-color: #7f7f7f\">               </span>\n",
       "<span style=\"color: #7fbfbf; text-decoration-color: #7fbfbf\">                    </span>           <span style=\"color: #800080; text-decoration-color: #800080; font-weight: bold\">pd.concat</span><span style=\"font-weight: bold\">(</span>dfs<span style=\"font-weight: bold\">)</span>                                                       <span style=\"color: #7f7f7f; text-decoration-color: #7f7f7f\">               </span>\n",
       "<span style=\"color: #7fbfbf; text-decoration-color: #7fbfbf\">                    </span>                                                                                <span style=\"color: #7f7f7f; text-decoration-color: #7f7f7f\">               </span>\n",
       "</pre>\n"
      ],
      "text/plain": [
       "\u001b[2;36m[04/06/25 00:34:59]\u001b[0m\u001b[2;36m \u001b[0m\u001b[33mWARNING \u001b[0m \u001b[35m/usr/local/lib/python3.11/dist-packages/soccerdata/\u001b[0m\u001b[95mfbref.py\u001b[0m:\u001b[1;36m165\u001b[0m:       \u001b]8;id=896724;file:///usr/lib/python3.11/warnings.py\u001b\\\u001b[2mwarnings.py\u001b[0m\u001b]8;;\u001b\\\u001b[2m:\u001b[0m\u001b]8;id=60402;file:///usr/lib/python3.11/warnings.py#110\u001b\\\u001b[2m110\u001b[0m\u001b]8;;\u001b\\\n",
       "\u001b[2;36m                    \u001b[0m         FutureWarning: The behavior of DataFrame concatenation with empty or   \u001b[2m               \u001b[0m\n",
       "\u001b[2;36m                    \u001b[0m         all-NA entries is deprecated. In a future version, this will no longer \u001b[2m               \u001b[0m\n",
       "\u001b[2;36m                    \u001b[0m         exclude empty or all-NA columns when determining the result dtypes. To \u001b[2m               \u001b[0m\n",
       "\u001b[2;36m                    \u001b[0m         retain the old behavior, exclude the relevant entries before the       \u001b[2m               \u001b[0m\n",
       "\u001b[2;36m                    \u001b[0m         concat operation.                                                      \u001b[2m               \u001b[0m\n",
       "\u001b[2;36m                    \u001b[0m           \u001b[1;35mpd.concat\u001b[0m\u001b[1m(\u001b[0mdfs\u001b[1m)\u001b[0m                                                       \u001b[2m               \u001b[0m\n",
       "\u001b[2;36m                    \u001b[0m                                                                                \u001b[2m               \u001b[0m\n"
      ]
     },
     "metadata": {},
     "output_type": "display_data"
    },
    {
     "data": {
      "text/html": [
       "<pre style=\"white-space:pre;overflow-x:auto;line-height:normal;font-family:Menlo,'DejaVu Sans Mono',consolas,'Courier New',monospace\"><span style=\"color: #7fbfbf; text-decoration-color: #7fbfbf\">[04/06/25 00:37:22] </span><span style=\"color: #808000; text-decoration-color: #808000\">WARNING </span> <span style=\"color: #800080; text-decoration-color: #800080\">/usr/local/lib/python3.11/dist-packages/soccerdata/</span><span style=\"color: #ff00ff; text-decoration-color: #ff00ff\">fbref.py</span>:<span style=\"color: #008080; text-decoration-color: #008080; font-weight: bold\">165</span>:       <a href=\"file:///usr/lib/python3.11/warnings.py\" target=\"_blank\"><span style=\"color: #7f7f7f; text-decoration-color: #7f7f7f\">warnings.py</span></a><span style=\"color: #7f7f7f; text-decoration-color: #7f7f7f\">:</span><a href=\"file:///usr/lib/python3.11/warnings.py#110\" target=\"_blank\"><span style=\"color: #7f7f7f; text-decoration-color: #7f7f7f\">110</span></a>\n",
       "<span style=\"color: #7fbfbf; text-decoration-color: #7fbfbf\">                    </span>         FutureWarning: The behavior of DataFrame concatenation with empty or   <span style=\"color: #7f7f7f; text-decoration-color: #7f7f7f\">               </span>\n",
       "<span style=\"color: #7fbfbf; text-decoration-color: #7fbfbf\">                    </span>         all-NA entries is deprecated. In a future version, this will no longer <span style=\"color: #7f7f7f; text-decoration-color: #7f7f7f\">               </span>\n",
       "<span style=\"color: #7fbfbf; text-decoration-color: #7fbfbf\">                    </span>         exclude empty or all-NA columns when determining the result dtypes. To <span style=\"color: #7f7f7f; text-decoration-color: #7f7f7f\">               </span>\n",
       "<span style=\"color: #7fbfbf; text-decoration-color: #7fbfbf\">                    </span>         retain the old behavior, exclude the relevant entries before the       <span style=\"color: #7f7f7f; text-decoration-color: #7f7f7f\">               </span>\n",
       "<span style=\"color: #7fbfbf; text-decoration-color: #7fbfbf\">                    </span>         concat operation.                                                      <span style=\"color: #7f7f7f; text-decoration-color: #7f7f7f\">               </span>\n",
       "<span style=\"color: #7fbfbf; text-decoration-color: #7fbfbf\">                    </span>           <span style=\"color: #800080; text-decoration-color: #800080; font-weight: bold\">pd.concat</span><span style=\"font-weight: bold\">(</span>dfs<span style=\"font-weight: bold\">)</span>                                                       <span style=\"color: #7f7f7f; text-decoration-color: #7f7f7f\">               </span>\n",
       "<span style=\"color: #7fbfbf; text-decoration-color: #7fbfbf\">                    </span>                                                                                <span style=\"color: #7f7f7f; text-decoration-color: #7f7f7f\">               </span>\n",
       "</pre>\n"
      ],
      "text/plain": [
       "\u001b[2;36m[04/06/25 00:37:22]\u001b[0m\u001b[2;36m \u001b[0m\u001b[33mWARNING \u001b[0m \u001b[35m/usr/local/lib/python3.11/dist-packages/soccerdata/\u001b[0m\u001b[95mfbref.py\u001b[0m:\u001b[1;36m165\u001b[0m:       \u001b]8;id=381925;file:///usr/lib/python3.11/warnings.py\u001b\\\u001b[2mwarnings.py\u001b[0m\u001b]8;;\u001b\\\u001b[2m:\u001b[0m\u001b]8;id=784452;file:///usr/lib/python3.11/warnings.py#110\u001b\\\u001b[2m110\u001b[0m\u001b]8;;\u001b\\\n",
       "\u001b[2;36m                    \u001b[0m         FutureWarning: The behavior of DataFrame concatenation with empty or   \u001b[2m               \u001b[0m\n",
       "\u001b[2;36m                    \u001b[0m         all-NA entries is deprecated. In a future version, this will no longer \u001b[2m               \u001b[0m\n",
       "\u001b[2;36m                    \u001b[0m         exclude empty or all-NA columns when determining the result dtypes. To \u001b[2m               \u001b[0m\n",
       "\u001b[2;36m                    \u001b[0m         retain the old behavior, exclude the relevant entries before the       \u001b[2m               \u001b[0m\n",
       "\u001b[2;36m                    \u001b[0m         concat operation.                                                      \u001b[2m               \u001b[0m\n",
       "\u001b[2;36m                    \u001b[0m           \u001b[1;35mpd.concat\u001b[0m\u001b[1m(\u001b[0mdfs\u001b[1m)\u001b[0m                                                       \u001b[2m               \u001b[0m\n",
       "\u001b[2;36m                    \u001b[0m                                                                                \u001b[2m               \u001b[0m\n"
      ]
     },
     "metadata": {},
     "output_type": "display_data"
    },
    {
     "data": {
      "text/html": [
       "<pre style=\"white-space:pre;overflow-x:auto;line-height:normal;font-family:Menlo,'DejaVu Sans Mono',consolas,'Courier New',monospace\"><span style=\"color: #7fbfbf; text-decoration-color: #7fbfbf\">[04/06/25 00:39:49] </span><span style=\"color: #808000; text-decoration-color: #808000\">WARNING </span> <span style=\"color: #800080; text-decoration-color: #800080\">/usr/local/lib/python3.11/dist-packages/soccerdata/</span><span style=\"color: #ff00ff; text-decoration-color: #ff00ff\">fbref.py</span>:<span style=\"color: #008080; text-decoration-color: #008080; font-weight: bold\">165</span>:       <a href=\"file:///usr/lib/python3.11/warnings.py\" target=\"_blank\"><span style=\"color: #7f7f7f; text-decoration-color: #7f7f7f\">warnings.py</span></a><span style=\"color: #7f7f7f; text-decoration-color: #7f7f7f\">:</span><a href=\"file:///usr/lib/python3.11/warnings.py#110\" target=\"_blank\"><span style=\"color: #7f7f7f; text-decoration-color: #7f7f7f\">110</span></a>\n",
       "<span style=\"color: #7fbfbf; text-decoration-color: #7fbfbf\">                    </span>         FutureWarning: The behavior of DataFrame concatenation with empty or   <span style=\"color: #7f7f7f; text-decoration-color: #7f7f7f\">               </span>\n",
       "<span style=\"color: #7fbfbf; text-decoration-color: #7fbfbf\">                    </span>         all-NA entries is deprecated. In a future version, this will no longer <span style=\"color: #7f7f7f; text-decoration-color: #7f7f7f\">               </span>\n",
       "<span style=\"color: #7fbfbf; text-decoration-color: #7fbfbf\">                    </span>         exclude empty or all-NA columns when determining the result dtypes. To <span style=\"color: #7f7f7f; text-decoration-color: #7f7f7f\">               </span>\n",
       "<span style=\"color: #7fbfbf; text-decoration-color: #7fbfbf\">                    </span>         retain the old behavior, exclude the relevant entries before the       <span style=\"color: #7f7f7f; text-decoration-color: #7f7f7f\">               </span>\n",
       "<span style=\"color: #7fbfbf; text-decoration-color: #7fbfbf\">                    </span>         concat operation.                                                      <span style=\"color: #7f7f7f; text-decoration-color: #7f7f7f\">               </span>\n",
       "<span style=\"color: #7fbfbf; text-decoration-color: #7fbfbf\">                    </span>           <span style=\"color: #800080; text-decoration-color: #800080; font-weight: bold\">pd.concat</span><span style=\"font-weight: bold\">(</span>dfs<span style=\"font-weight: bold\">)</span>                                                       <span style=\"color: #7f7f7f; text-decoration-color: #7f7f7f\">               </span>\n",
       "<span style=\"color: #7fbfbf; text-decoration-color: #7fbfbf\">                    </span>                                                                                <span style=\"color: #7f7f7f; text-decoration-color: #7f7f7f\">               </span>\n",
       "</pre>\n"
      ],
      "text/plain": [
       "\u001b[2;36m[04/06/25 00:39:49]\u001b[0m\u001b[2;36m \u001b[0m\u001b[33mWARNING \u001b[0m \u001b[35m/usr/local/lib/python3.11/dist-packages/soccerdata/\u001b[0m\u001b[95mfbref.py\u001b[0m:\u001b[1;36m165\u001b[0m:       \u001b]8;id=77999;file:///usr/lib/python3.11/warnings.py\u001b\\\u001b[2mwarnings.py\u001b[0m\u001b]8;;\u001b\\\u001b[2m:\u001b[0m\u001b]8;id=85053;file:///usr/lib/python3.11/warnings.py#110\u001b\\\u001b[2m110\u001b[0m\u001b]8;;\u001b\\\n",
       "\u001b[2;36m                    \u001b[0m         FutureWarning: The behavior of DataFrame concatenation with empty or   \u001b[2m               \u001b[0m\n",
       "\u001b[2;36m                    \u001b[0m         all-NA entries is deprecated. In a future version, this will no longer \u001b[2m               \u001b[0m\n",
       "\u001b[2;36m                    \u001b[0m         exclude empty or all-NA columns when determining the result dtypes. To \u001b[2m               \u001b[0m\n",
       "\u001b[2;36m                    \u001b[0m         retain the old behavior, exclude the relevant entries before the       \u001b[2m               \u001b[0m\n",
       "\u001b[2;36m                    \u001b[0m         concat operation.                                                      \u001b[2m               \u001b[0m\n",
       "\u001b[2;36m                    \u001b[0m           \u001b[1;35mpd.concat\u001b[0m\u001b[1m(\u001b[0mdfs\u001b[1m)\u001b[0m                                                       \u001b[2m               \u001b[0m\n",
       "\u001b[2;36m                    \u001b[0m                                                                                \u001b[2m               \u001b[0m\n"
      ]
     },
     "metadata": {},
     "output_type": "display_data"
    },
    {
     "data": {
      "text/html": [
       "<pre style=\"white-space:pre;overflow-x:auto;line-height:normal;font-family:Menlo,'DejaVu Sans Mono',consolas,'Courier New',monospace\"><span style=\"color: #7fbfbf; text-decoration-color: #7fbfbf\">[04/06/25 00:42:15] </span><span style=\"color: #808000; text-decoration-color: #808000\">WARNING </span> <span style=\"color: #800080; text-decoration-color: #800080\">/usr/local/lib/python3.11/dist-packages/soccerdata/</span><span style=\"color: #ff00ff; text-decoration-color: #ff00ff\">fbref.py</span>:<span style=\"color: #008080; text-decoration-color: #008080; font-weight: bold\">165</span>:       <a href=\"file:///usr/lib/python3.11/warnings.py\" target=\"_blank\"><span style=\"color: #7f7f7f; text-decoration-color: #7f7f7f\">warnings.py</span></a><span style=\"color: #7f7f7f; text-decoration-color: #7f7f7f\">:</span><a href=\"file:///usr/lib/python3.11/warnings.py#110\" target=\"_blank\"><span style=\"color: #7f7f7f; text-decoration-color: #7f7f7f\">110</span></a>\n",
       "<span style=\"color: #7fbfbf; text-decoration-color: #7fbfbf\">                    </span>         FutureWarning: The behavior of DataFrame concatenation with empty or   <span style=\"color: #7f7f7f; text-decoration-color: #7f7f7f\">               </span>\n",
       "<span style=\"color: #7fbfbf; text-decoration-color: #7fbfbf\">                    </span>         all-NA entries is deprecated. In a future version, this will no longer <span style=\"color: #7f7f7f; text-decoration-color: #7f7f7f\">               </span>\n",
       "<span style=\"color: #7fbfbf; text-decoration-color: #7fbfbf\">                    </span>         exclude empty or all-NA columns when determining the result dtypes. To <span style=\"color: #7f7f7f; text-decoration-color: #7f7f7f\">               </span>\n",
       "<span style=\"color: #7fbfbf; text-decoration-color: #7fbfbf\">                    </span>         retain the old behavior, exclude the relevant entries before the       <span style=\"color: #7f7f7f; text-decoration-color: #7f7f7f\">               </span>\n",
       "<span style=\"color: #7fbfbf; text-decoration-color: #7fbfbf\">                    </span>         concat operation.                                                      <span style=\"color: #7f7f7f; text-decoration-color: #7f7f7f\">               </span>\n",
       "<span style=\"color: #7fbfbf; text-decoration-color: #7fbfbf\">                    </span>           <span style=\"color: #800080; text-decoration-color: #800080; font-weight: bold\">pd.concat</span><span style=\"font-weight: bold\">(</span>dfs<span style=\"font-weight: bold\">)</span>                                                       <span style=\"color: #7f7f7f; text-decoration-color: #7f7f7f\">               </span>\n",
       "<span style=\"color: #7fbfbf; text-decoration-color: #7fbfbf\">                    </span>                                                                                <span style=\"color: #7f7f7f; text-decoration-color: #7f7f7f\">               </span>\n",
       "</pre>\n"
      ],
      "text/plain": [
       "\u001b[2;36m[04/06/25 00:42:15]\u001b[0m\u001b[2;36m \u001b[0m\u001b[33mWARNING \u001b[0m \u001b[35m/usr/local/lib/python3.11/dist-packages/soccerdata/\u001b[0m\u001b[95mfbref.py\u001b[0m:\u001b[1;36m165\u001b[0m:       \u001b]8;id=334501;file:///usr/lib/python3.11/warnings.py\u001b\\\u001b[2mwarnings.py\u001b[0m\u001b]8;;\u001b\\\u001b[2m:\u001b[0m\u001b]8;id=769211;file:///usr/lib/python3.11/warnings.py#110\u001b\\\u001b[2m110\u001b[0m\u001b]8;;\u001b\\\n",
       "\u001b[2;36m                    \u001b[0m         FutureWarning: The behavior of DataFrame concatenation with empty or   \u001b[2m               \u001b[0m\n",
       "\u001b[2;36m                    \u001b[0m         all-NA entries is deprecated. In a future version, this will no longer \u001b[2m               \u001b[0m\n",
       "\u001b[2;36m                    \u001b[0m         exclude empty or all-NA columns when determining the result dtypes. To \u001b[2m               \u001b[0m\n",
       "\u001b[2;36m                    \u001b[0m         retain the old behavior, exclude the relevant entries before the       \u001b[2m               \u001b[0m\n",
       "\u001b[2;36m                    \u001b[0m         concat operation.                                                      \u001b[2m               \u001b[0m\n",
       "\u001b[2;36m                    \u001b[0m           \u001b[1;35mpd.concat\u001b[0m\u001b[1m(\u001b[0mdfs\u001b[1m)\u001b[0m                                                       \u001b[2m               \u001b[0m\n",
       "\u001b[2;36m                    \u001b[0m                                                                                \u001b[2m               \u001b[0m\n"
      ]
     },
     "metadata": {},
     "output_type": "display_data"
    },
    {
     "name": "stderr",
     "output_type": "stream",
     "text": [
      "\r 30%|███       | 3/10 [1:05:27<2:32:29, 1307.01s/it]"
     ]
    },
    {
     "data": {
      "text/html": [
       "<pre style=\"white-space:pre;overflow-x:auto;line-height:normal;font-family:Menlo,'DejaVu Sans Mono',consolas,'Courier New',monospace\"><span style=\"color: #7fbfbf; text-decoration-color: #7fbfbf\">[04/06/25 00:44:39] </span><span style=\"color: #000080; text-decoration-color: #000080\">INFO    </span> Saving cached data to <span style=\"color: #800080; text-decoration-color: #800080\">/root/soccerdata/data/</span><span style=\"color: #ff00ff; text-decoration-color: #ff00ff\">FBref</span>                       <a href=\"file:///usr/local/lib/python3.11/dist-packages/soccerdata/_common.py\" target=\"_blank\"><span style=\"color: #7f7f7f; text-decoration-color: #7f7f7f\">_common.py</span></a><span style=\"color: #7f7f7f; text-decoration-color: #7f7f7f\">:</span><a href=\"file:///usr/local/lib/python3.11/dist-packages/soccerdata/_common.py#263\" target=\"_blank\"><span style=\"color: #7f7f7f; text-decoration-color: #7f7f7f\">263</span></a>\n",
       "</pre>\n"
      ],
      "text/plain": [
       "\u001b[2;36m[04/06/25 00:44:39]\u001b[0m\u001b[2;36m \u001b[0m\u001b[34mINFO    \u001b[0m Saving cached data to \u001b[35m/root/soccerdata/data/\u001b[0m\u001b[95mFBref\u001b[0m                       \u001b]8;id=525107;file:///usr/local/lib/python3.11/dist-packages/soccerdata/_common.py\u001b\\\u001b[2m_common.py\u001b[0m\u001b]8;;\u001b\\\u001b[2m:\u001b[0m\u001b]8;id=387621;file:///usr/local/lib/python3.11/dist-packages/soccerdata/_common.py#263\u001b\\\u001b[2m263\u001b[0m\u001b]8;;\u001b\\\n"
      ]
     },
     "metadata": {},
     "output_type": "display_data"
    },
    {
     "data": {
      "text/html": [
       "<pre style=\"white-space:pre;overflow-x:auto;line-height:normal;font-family:Menlo,'DejaVu Sans Mono',consolas,'Courier New',monospace\"><span style=\"color: #7fbfbf; text-decoration-color: #7fbfbf\">                    </span><span style=\"color: #808000; text-decoration-color: #808000\">WARNING </span> <span style=\"color: #800080; text-decoration-color: #800080\">/usr/local/lib/python3.11/dist-packages/soccerdata/</span><span style=\"color: #ff00ff; text-decoration-color: #ff00ff\">fbref.py</span>:<span style=\"color: #008080; text-decoration-color: #008080; font-weight: bold\">165</span>:       <a href=\"file:///usr/lib/python3.11/warnings.py\" target=\"_blank\"><span style=\"color: #7f7f7f; text-decoration-color: #7f7f7f\">warnings.py</span></a><span style=\"color: #7f7f7f; text-decoration-color: #7f7f7f\">:</span><a href=\"file:///usr/lib/python3.11/warnings.py#110\" target=\"_blank\"><span style=\"color: #7f7f7f; text-decoration-color: #7f7f7f\">110</span></a>\n",
       "<span style=\"color: #7fbfbf; text-decoration-color: #7fbfbf\">                    </span>         FutureWarning: The behavior of DataFrame concatenation with empty or   <span style=\"color: #7f7f7f; text-decoration-color: #7f7f7f\">               </span>\n",
       "<span style=\"color: #7fbfbf; text-decoration-color: #7fbfbf\">                    </span>         all-NA entries is deprecated. In a future version, this will no longer <span style=\"color: #7f7f7f; text-decoration-color: #7f7f7f\">               </span>\n",
       "<span style=\"color: #7fbfbf; text-decoration-color: #7fbfbf\">                    </span>         exclude empty or all-NA columns when determining the result dtypes. To <span style=\"color: #7f7f7f; text-decoration-color: #7f7f7f\">               </span>\n",
       "<span style=\"color: #7fbfbf; text-decoration-color: #7fbfbf\">                    </span>         retain the old behavior, exclude the relevant entries before the       <span style=\"color: #7f7f7f; text-decoration-color: #7f7f7f\">               </span>\n",
       "<span style=\"color: #7fbfbf; text-decoration-color: #7fbfbf\">                    </span>         concat operation.                                                      <span style=\"color: #7f7f7f; text-decoration-color: #7f7f7f\">               </span>\n",
       "<span style=\"color: #7fbfbf; text-decoration-color: #7fbfbf\">                    </span>           <span style=\"color: #800080; text-decoration-color: #800080; font-weight: bold\">pd.concat</span><span style=\"font-weight: bold\">(</span>dfs<span style=\"font-weight: bold\">)</span>                                                       <span style=\"color: #7f7f7f; text-decoration-color: #7f7f7f\">               </span>\n",
       "<span style=\"color: #7fbfbf; text-decoration-color: #7fbfbf\">                    </span>                                                                                <span style=\"color: #7f7f7f; text-decoration-color: #7f7f7f\">               </span>\n",
       "</pre>\n"
      ],
      "text/plain": [
       "\u001b[2;36m                   \u001b[0m\u001b[2;36m \u001b[0m\u001b[33mWARNING \u001b[0m \u001b[35m/usr/local/lib/python3.11/dist-packages/soccerdata/\u001b[0m\u001b[95mfbref.py\u001b[0m:\u001b[1;36m165\u001b[0m:       \u001b]8;id=351983;file:///usr/lib/python3.11/warnings.py\u001b\\\u001b[2mwarnings.py\u001b[0m\u001b]8;;\u001b\\\u001b[2m:\u001b[0m\u001b]8;id=497890;file:///usr/lib/python3.11/warnings.py#110\u001b\\\u001b[2m110\u001b[0m\u001b]8;;\u001b\\\n",
       "\u001b[2;36m                    \u001b[0m         FutureWarning: The behavior of DataFrame concatenation with empty or   \u001b[2m               \u001b[0m\n",
       "\u001b[2;36m                    \u001b[0m         all-NA entries is deprecated. In a future version, this will no longer \u001b[2m               \u001b[0m\n",
       "\u001b[2;36m                    \u001b[0m         exclude empty or all-NA columns when determining the result dtypes. To \u001b[2m               \u001b[0m\n",
       "\u001b[2;36m                    \u001b[0m         retain the old behavior, exclude the relevant entries before the       \u001b[2m               \u001b[0m\n",
       "\u001b[2;36m                    \u001b[0m         concat operation.                                                      \u001b[2m               \u001b[0m\n",
       "\u001b[2;36m                    \u001b[0m           \u001b[1;35mpd.concat\u001b[0m\u001b[1m(\u001b[0mdfs\u001b[1m)\u001b[0m                                                       \u001b[2m               \u001b[0m\n",
       "\u001b[2;36m                    \u001b[0m                                                                                \u001b[2m               \u001b[0m\n"
      ]
     },
     "metadata": {},
     "output_type": "display_data"
    },
    {
     "data": {
      "text/html": [
       "<pre style=\"white-space:pre;overflow-x:auto;line-height:normal;font-family:Menlo,'DejaVu Sans Mono',consolas,'Courier New',monospace\"><span style=\"color: #7fbfbf; text-decoration-color: #7fbfbf\">[04/06/25 00:46:56] </span><span style=\"color: #808000; text-decoration-color: #808000\">WARNING </span> <span style=\"color: #800080; text-decoration-color: #800080\">/usr/local/lib/python3.11/dist-packages/soccerdata/</span><span style=\"color: #ff00ff; text-decoration-color: #ff00ff\">fbref.py</span>:<span style=\"color: #008080; text-decoration-color: #008080; font-weight: bold\">1273</span>:      <a href=\"file:///usr/lib/python3.11/warnings.py\" target=\"_blank\"><span style=\"color: #7f7f7f; text-decoration-color: #7f7f7f\">warnings.py</span></a><span style=\"color: #7f7f7f; text-decoration-color: #7f7f7f\">:</span><a href=\"file:///usr/lib/python3.11/warnings.py#110\" target=\"_blank\"><span style=\"color: #7f7f7f; text-decoration-color: #7f7f7f\">110</span></a>\n",
       "<span style=\"color: #7fbfbf; text-decoration-color: #7fbfbf\">                    </span>         FutureWarning: The behavior of DataFrame concatenation with empty or   <span style=\"color: #7f7f7f; text-decoration-color: #7f7f7f\">               </span>\n",
       "<span style=\"color: #7fbfbf; text-decoration-color: #7fbfbf\">                    </span>         all-NA entries is deprecated. In a future version, this will no longer <span style=\"color: #7f7f7f; text-decoration-color: #7f7f7f\">               </span>\n",
       "<span style=\"color: #7fbfbf; text-decoration-color: #7fbfbf\">                    </span>         exclude empty or all-NA columns when determining the result dtypes. To <span style=\"color: #7f7f7f; text-decoration-color: #7f7f7f\">               </span>\n",
       "<span style=\"color: #7fbfbf; text-decoration-color: #7fbfbf\">                    </span>         retain the old behavior, exclude the relevant entries before the       <span style=\"color: #7f7f7f; text-decoration-color: #7f7f7f\">               </span>\n",
       "<span style=\"color: #7fbfbf; text-decoration-color: #7fbfbf\">                    </span>         concat operation.                                                      <span style=\"color: #7f7f7f; text-decoration-color: #7f7f7f\">               </span>\n",
       "<span style=\"color: #7fbfbf; text-decoration-color: #7fbfbf\">                    </span>           return <span style=\"color: #800080; text-decoration-color: #800080; font-weight: bold\">pd.concat</span><span style=\"font-weight: bold\">(</span>dfs<span style=\"font-weight: bold\">)</span>                                                <span style=\"color: #7f7f7f; text-decoration-color: #7f7f7f\">               </span>\n",
       "<span style=\"color: #7fbfbf; text-decoration-color: #7fbfbf\">                    </span>                                                                                <span style=\"color: #7f7f7f; text-decoration-color: #7f7f7f\">               </span>\n",
       "</pre>\n"
      ],
      "text/plain": [
       "\u001b[2;36m[04/06/25 00:46:56]\u001b[0m\u001b[2;36m \u001b[0m\u001b[33mWARNING \u001b[0m \u001b[35m/usr/local/lib/python3.11/dist-packages/soccerdata/\u001b[0m\u001b[95mfbref.py\u001b[0m:\u001b[1;36m1273\u001b[0m:      \u001b]8;id=595363;file:///usr/lib/python3.11/warnings.py\u001b\\\u001b[2mwarnings.py\u001b[0m\u001b]8;;\u001b\\\u001b[2m:\u001b[0m\u001b]8;id=353574;file:///usr/lib/python3.11/warnings.py#110\u001b\\\u001b[2m110\u001b[0m\u001b]8;;\u001b\\\n",
       "\u001b[2;36m                    \u001b[0m         FutureWarning: The behavior of DataFrame concatenation with empty or   \u001b[2m               \u001b[0m\n",
       "\u001b[2;36m                    \u001b[0m         all-NA entries is deprecated. In a future version, this will no longer \u001b[2m               \u001b[0m\n",
       "\u001b[2;36m                    \u001b[0m         exclude empty or all-NA columns when determining the result dtypes. To \u001b[2m               \u001b[0m\n",
       "\u001b[2;36m                    \u001b[0m         retain the old behavior, exclude the relevant entries before the       \u001b[2m               \u001b[0m\n",
       "\u001b[2;36m                    \u001b[0m         concat operation.                                                      \u001b[2m               \u001b[0m\n",
       "\u001b[2;36m                    \u001b[0m           return \u001b[1;35mpd.concat\u001b[0m\u001b[1m(\u001b[0mdfs\u001b[1m)\u001b[0m                                                \u001b[2m               \u001b[0m\n",
       "\u001b[2;36m                    \u001b[0m                                                                                \u001b[2m               \u001b[0m\n"
      ]
     },
     "metadata": {},
     "output_type": "display_data"
    },
    {
     "data": {
      "text/html": [
       "<pre style=\"white-space:pre;overflow-x:auto;line-height:normal;font-family:Menlo,'DejaVu Sans Mono',consolas,'Courier New',monospace\"><span style=\"color: #7fbfbf; text-decoration-color: #7fbfbf\">                    </span><span style=\"color: #808000; text-decoration-color: #808000\">WARNING </span> <span style=\"color: #800080; text-decoration-color: #800080\">/usr/local/lib/python3.11/dist-packages/soccerdata/</span><span style=\"color: #ff00ff; text-decoration-color: #ff00ff\">fbref.py</span>:<span style=\"color: #008080; text-decoration-color: #008080; font-weight: bold\">165</span>:       <a href=\"file:///usr/lib/python3.11/warnings.py\" target=\"_blank\"><span style=\"color: #7f7f7f; text-decoration-color: #7f7f7f\">warnings.py</span></a><span style=\"color: #7f7f7f; text-decoration-color: #7f7f7f\">:</span><a href=\"file:///usr/lib/python3.11/warnings.py#110\" target=\"_blank\"><span style=\"color: #7f7f7f; text-decoration-color: #7f7f7f\">110</span></a>\n",
       "<span style=\"color: #7fbfbf; text-decoration-color: #7fbfbf\">                    </span>         FutureWarning: The behavior of DataFrame concatenation with empty or   <span style=\"color: #7f7f7f; text-decoration-color: #7f7f7f\">               </span>\n",
       "<span style=\"color: #7fbfbf; text-decoration-color: #7fbfbf\">                    </span>         all-NA entries is deprecated. In a future version, this will no longer <span style=\"color: #7f7f7f; text-decoration-color: #7f7f7f\">               </span>\n",
       "<span style=\"color: #7fbfbf; text-decoration-color: #7fbfbf\">                    </span>         exclude empty or all-NA columns when determining the result dtypes. To <span style=\"color: #7f7f7f; text-decoration-color: #7f7f7f\">               </span>\n",
       "<span style=\"color: #7fbfbf; text-decoration-color: #7fbfbf\">                    </span>         retain the old behavior, exclude the relevant entries before the       <span style=\"color: #7f7f7f; text-decoration-color: #7f7f7f\">               </span>\n",
       "<span style=\"color: #7fbfbf; text-decoration-color: #7fbfbf\">                    </span>         concat operation.                                                      <span style=\"color: #7f7f7f; text-decoration-color: #7f7f7f\">               </span>\n",
       "<span style=\"color: #7fbfbf; text-decoration-color: #7fbfbf\">                    </span>           <span style=\"color: #800080; text-decoration-color: #800080; font-weight: bold\">pd.concat</span><span style=\"font-weight: bold\">(</span>dfs<span style=\"font-weight: bold\">)</span>                                                       <span style=\"color: #7f7f7f; text-decoration-color: #7f7f7f\">               </span>\n",
       "<span style=\"color: #7fbfbf; text-decoration-color: #7fbfbf\">                    </span>                                                                                <span style=\"color: #7f7f7f; text-decoration-color: #7f7f7f\">               </span>\n",
       "</pre>\n"
      ],
      "text/plain": [
       "\u001b[2;36m                   \u001b[0m\u001b[2;36m \u001b[0m\u001b[33mWARNING \u001b[0m \u001b[35m/usr/local/lib/python3.11/dist-packages/soccerdata/\u001b[0m\u001b[95mfbref.py\u001b[0m:\u001b[1;36m165\u001b[0m:       \u001b]8;id=49714;file:///usr/lib/python3.11/warnings.py\u001b\\\u001b[2mwarnings.py\u001b[0m\u001b]8;;\u001b\\\u001b[2m:\u001b[0m\u001b]8;id=20042;file:///usr/lib/python3.11/warnings.py#110\u001b\\\u001b[2m110\u001b[0m\u001b]8;;\u001b\\\n",
       "\u001b[2;36m                    \u001b[0m         FutureWarning: The behavior of DataFrame concatenation with empty or   \u001b[2m               \u001b[0m\n",
       "\u001b[2;36m                    \u001b[0m         all-NA entries is deprecated. In a future version, this will no longer \u001b[2m               \u001b[0m\n",
       "\u001b[2;36m                    \u001b[0m         exclude empty or all-NA columns when determining the result dtypes. To \u001b[2m               \u001b[0m\n",
       "\u001b[2;36m                    \u001b[0m         retain the old behavior, exclude the relevant entries before the       \u001b[2m               \u001b[0m\n",
       "\u001b[2;36m                    \u001b[0m         concat operation.                                                      \u001b[2m               \u001b[0m\n",
       "\u001b[2;36m                    \u001b[0m           \u001b[1;35mpd.concat\u001b[0m\u001b[1m(\u001b[0mdfs\u001b[1m)\u001b[0m                                                       \u001b[2m               \u001b[0m\n",
       "\u001b[2;36m                    \u001b[0m                                                                                \u001b[2m               \u001b[0m\n"
      ]
     },
     "metadata": {},
     "output_type": "display_data"
    },
    {
     "data": {
      "text/html": [
       "<pre style=\"white-space:pre;overflow-x:auto;line-height:normal;font-family:Menlo,'DejaVu Sans Mono',consolas,'Courier New',monospace\"><span style=\"color: #7fbfbf; text-decoration-color: #7fbfbf\">[04/06/25 00:49:21] </span><span style=\"color: #808000; text-decoration-color: #808000\">WARNING </span> <span style=\"color: #800080; text-decoration-color: #800080\">/usr/local/lib/python3.11/dist-packages/soccerdata/</span><span style=\"color: #ff00ff; text-decoration-color: #ff00ff\">fbref.py</span>:<span style=\"color: #008080; text-decoration-color: #008080; font-weight: bold\">165</span>:       <a href=\"file:///usr/lib/python3.11/warnings.py\" target=\"_blank\"><span style=\"color: #7f7f7f; text-decoration-color: #7f7f7f\">warnings.py</span></a><span style=\"color: #7f7f7f; text-decoration-color: #7f7f7f\">:</span><a href=\"file:///usr/lib/python3.11/warnings.py#110\" target=\"_blank\"><span style=\"color: #7f7f7f; text-decoration-color: #7f7f7f\">110</span></a>\n",
       "<span style=\"color: #7fbfbf; text-decoration-color: #7fbfbf\">                    </span>         FutureWarning: The behavior of DataFrame concatenation with empty or   <span style=\"color: #7f7f7f; text-decoration-color: #7f7f7f\">               </span>\n",
       "<span style=\"color: #7fbfbf; text-decoration-color: #7fbfbf\">                    </span>         all-NA entries is deprecated. In a future version, this will no longer <span style=\"color: #7f7f7f; text-decoration-color: #7f7f7f\">               </span>\n",
       "<span style=\"color: #7fbfbf; text-decoration-color: #7fbfbf\">                    </span>         exclude empty or all-NA columns when determining the result dtypes. To <span style=\"color: #7f7f7f; text-decoration-color: #7f7f7f\">               </span>\n",
       "<span style=\"color: #7fbfbf; text-decoration-color: #7fbfbf\">                    </span>         retain the old behavior, exclude the relevant entries before the       <span style=\"color: #7f7f7f; text-decoration-color: #7f7f7f\">               </span>\n",
       "<span style=\"color: #7fbfbf; text-decoration-color: #7fbfbf\">                    </span>         concat operation.                                                      <span style=\"color: #7f7f7f; text-decoration-color: #7f7f7f\">               </span>\n",
       "<span style=\"color: #7fbfbf; text-decoration-color: #7fbfbf\">                    </span>           <span style=\"color: #800080; text-decoration-color: #800080; font-weight: bold\">pd.concat</span><span style=\"font-weight: bold\">(</span>dfs<span style=\"font-weight: bold\">)</span>                                                       <span style=\"color: #7f7f7f; text-decoration-color: #7f7f7f\">               </span>\n",
       "<span style=\"color: #7fbfbf; text-decoration-color: #7fbfbf\">                    </span>                                                                                <span style=\"color: #7f7f7f; text-decoration-color: #7f7f7f\">               </span>\n",
       "</pre>\n"
      ],
      "text/plain": [
       "\u001b[2;36m[04/06/25 00:49:21]\u001b[0m\u001b[2;36m \u001b[0m\u001b[33mWARNING \u001b[0m \u001b[35m/usr/local/lib/python3.11/dist-packages/soccerdata/\u001b[0m\u001b[95mfbref.py\u001b[0m:\u001b[1;36m165\u001b[0m:       \u001b]8;id=966248;file:///usr/lib/python3.11/warnings.py\u001b\\\u001b[2mwarnings.py\u001b[0m\u001b]8;;\u001b\\\u001b[2m:\u001b[0m\u001b]8;id=899969;file:///usr/lib/python3.11/warnings.py#110\u001b\\\u001b[2m110\u001b[0m\u001b]8;;\u001b\\\n",
       "\u001b[2;36m                    \u001b[0m         FutureWarning: The behavior of DataFrame concatenation with empty or   \u001b[2m               \u001b[0m\n",
       "\u001b[2;36m                    \u001b[0m         all-NA entries is deprecated. In a future version, this will no longer \u001b[2m               \u001b[0m\n",
       "\u001b[2;36m                    \u001b[0m         exclude empty or all-NA columns when determining the result dtypes. To \u001b[2m               \u001b[0m\n",
       "\u001b[2;36m                    \u001b[0m         retain the old behavior, exclude the relevant entries before the       \u001b[2m               \u001b[0m\n",
       "\u001b[2;36m                    \u001b[0m         concat operation.                                                      \u001b[2m               \u001b[0m\n",
       "\u001b[2;36m                    \u001b[0m           \u001b[1;35mpd.concat\u001b[0m\u001b[1m(\u001b[0mdfs\u001b[1m)\u001b[0m                                                       \u001b[2m               \u001b[0m\n",
       "\u001b[2;36m                    \u001b[0m                                                                                \u001b[2m               \u001b[0m\n"
      ]
     },
     "metadata": {},
     "output_type": "display_data"
    },
    {
     "data": {
      "text/html": [
       "<pre style=\"white-space:pre;overflow-x:auto;line-height:normal;font-family:Menlo,'DejaVu Sans Mono',consolas,'Courier New',monospace\"><span style=\"color: #7fbfbf; text-decoration-color: #7fbfbf\">[04/06/25 00:51:46] </span><span style=\"color: #808000; text-decoration-color: #808000\">WARNING </span> <span style=\"color: #800080; text-decoration-color: #800080\">/usr/local/lib/python3.11/dist-packages/soccerdata/</span><span style=\"color: #ff00ff; text-decoration-color: #ff00ff\">fbref.py</span>:<span style=\"color: #008080; text-decoration-color: #008080; font-weight: bold\">165</span>:       <a href=\"file:///usr/lib/python3.11/warnings.py\" target=\"_blank\"><span style=\"color: #7f7f7f; text-decoration-color: #7f7f7f\">warnings.py</span></a><span style=\"color: #7f7f7f; text-decoration-color: #7f7f7f\">:</span><a href=\"file:///usr/lib/python3.11/warnings.py#110\" target=\"_blank\"><span style=\"color: #7f7f7f; text-decoration-color: #7f7f7f\">110</span></a>\n",
       "<span style=\"color: #7fbfbf; text-decoration-color: #7fbfbf\">                    </span>         FutureWarning: The behavior of DataFrame concatenation with empty or   <span style=\"color: #7f7f7f; text-decoration-color: #7f7f7f\">               </span>\n",
       "<span style=\"color: #7fbfbf; text-decoration-color: #7fbfbf\">                    </span>         all-NA entries is deprecated. In a future version, this will no longer <span style=\"color: #7f7f7f; text-decoration-color: #7f7f7f\">               </span>\n",
       "<span style=\"color: #7fbfbf; text-decoration-color: #7fbfbf\">                    </span>         exclude empty or all-NA columns when determining the result dtypes. To <span style=\"color: #7f7f7f; text-decoration-color: #7f7f7f\">               </span>\n",
       "<span style=\"color: #7fbfbf; text-decoration-color: #7fbfbf\">                    </span>         retain the old behavior, exclude the relevant entries before the       <span style=\"color: #7f7f7f; text-decoration-color: #7f7f7f\">               </span>\n",
       "<span style=\"color: #7fbfbf; text-decoration-color: #7fbfbf\">                    </span>         concat operation.                                                      <span style=\"color: #7f7f7f; text-decoration-color: #7f7f7f\">               </span>\n",
       "<span style=\"color: #7fbfbf; text-decoration-color: #7fbfbf\">                    </span>           <span style=\"color: #800080; text-decoration-color: #800080; font-weight: bold\">pd.concat</span><span style=\"font-weight: bold\">(</span>dfs<span style=\"font-weight: bold\">)</span>                                                       <span style=\"color: #7f7f7f; text-decoration-color: #7f7f7f\">               </span>\n",
       "<span style=\"color: #7fbfbf; text-decoration-color: #7fbfbf\">                    </span>                                                                                <span style=\"color: #7f7f7f; text-decoration-color: #7f7f7f\">               </span>\n",
       "</pre>\n"
      ],
      "text/plain": [
       "\u001b[2;36m[04/06/25 00:51:46]\u001b[0m\u001b[2;36m \u001b[0m\u001b[33mWARNING \u001b[0m \u001b[35m/usr/local/lib/python3.11/dist-packages/soccerdata/\u001b[0m\u001b[95mfbref.py\u001b[0m:\u001b[1;36m165\u001b[0m:       \u001b]8;id=491509;file:///usr/lib/python3.11/warnings.py\u001b\\\u001b[2mwarnings.py\u001b[0m\u001b]8;;\u001b\\\u001b[2m:\u001b[0m\u001b]8;id=923119;file:///usr/lib/python3.11/warnings.py#110\u001b\\\u001b[2m110\u001b[0m\u001b]8;;\u001b\\\n",
       "\u001b[2;36m                    \u001b[0m         FutureWarning: The behavior of DataFrame concatenation with empty or   \u001b[2m               \u001b[0m\n",
       "\u001b[2;36m                    \u001b[0m         all-NA entries is deprecated. In a future version, this will no longer \u001b[2m               \u001b[0m\n",
       "\u001b[2;36m                    \u001b[0m         exclude empty or all-NA columns when determining the result dtypes. To \u001b[2m               \u001b[0m\n",
       "\u001b[2;36m                    \u001b[0m         retain the old behavior, exclude the relevant entries before the       \u001b[2m               \u001b[0m\n",
       "\u001b[2;36m                    \u001b[0m         concat operation.                                                      \u001b[2m               \u001b[0m\n",
       "\u001b[2;36m                    \u001b[0m           \u001b[1;35mpd.concat\u001b[0m\u001b[1m(\u001b[0mdfs\u001b[1m)\u001b[0m                                                       \u001b[2m               \u001b[0m\n",
       "\u001b[2;36m                    \u001b[0m                                                                                \u001b[2m               \u001b[0m\n"
      ]
     },
     "metadata": {},
     "output_type": "display_data"
    },
    {
     "data": {
      "text/html": [
       "<pre style=\"white-space:pre;overflow-x:auto;line-height:normal;font-family:Menlo,'DejaVu Sans Mono',consolas,'Courier New',monospace\"><span style=\"color: #7fbfbf; text-decoration-color: #7fbfbf\">[04/06/25 00:54:10] </span><span style=\"color: #808000; text-decoration-color: #808000\">WARNING </span> <span style=\"color: #800080; text-decoration-color: #800080\">/usr/local/lib/python3.11/dist-packages/soccerdata/</span><span style=\"color: #ff00ff; text-decoration-color: #ff00ff\">fbref.py</span>:<span style=\"color: #008080; text-decoration-color: #008080; font-weight: bold\">165</span>:       <a href=\"file:///usr/lib/python3.11/warnings.py\" target=\"_blank\"><span style=\"color: #7f7f7f; text-decoration-color: #7f7f7f\">warnings.py</span></a><span style=\"color: #7f7f7f; text-decoration-color: #7f7f7f\">:</span><a href=\"file:///usr/lib/python3.11/warnings.py#110\" target=\"_blank\"><span style=\"color: #7f7f7f; text-decoration-color: #7f7f7f\">110</span></a>\n",
       "<span style=\"color: #7fbfbf; text-decoration-color: #7fbfbf\">                    </span>         FutureWarning: The behavior of DataFrame concatenation with empty or   <span style=\"color: #7f7f7f; text-decoration-color: #7f7f7f\">               </span>\n",
       "<span style=\"color: #7fbfbf; text-decoration-color: #7fbfbf\">                    </span>         all-NA entries is deprecated. In a future version, this will no longer <span style=\"color: #7f7f7f; text-decoration-color: #7f7f7f\">               </span>\n",
       "<span style=\"color: #7fbfbf; text-decoration-color: #7fbfbf\">                    </span>         exclude empty or all-NA columns when determining the result dtypes. To <span style=\"color: #7f7f7f; text-decoration-color: #7f7f7f\">               </span>\n",
       "<span style=\"color: #7fbfbf; text-decoration-color: #7fbfbf\">                    </span>         retain the old behavior, exclude the relevant entries before the       <span style=\"color: #7f7f7f; text-decoration-color: #7f7f7f\">               </span>\n",
       "<span style=\"color: #7fbfbf; text-decoration-color: #7fbfbf\">                    </span>         concat operation.                                                      <span style=\"color: #7f7f7f; text-decoration-color: #7f7f7f\">               </span>\n",
       "<span style=\"color: #7fbfbf; text-decoration-color: #7fbfbf\">                    </span>           <span style=\"color: #800080; text-decoration-color: #800080; font-weight: bold\">pd.concat</span><span style=\"font-weight: bold\">(</span>dfs<span style=\"font-weight: bold\">)</span>                                                       <span style=\"color: #7f7f7f; text-decoration-color: #7f7f7f\">               </span>\n",
       "<span style=\"color: #7fbfbf; text-decoration-color: #7fbfbf\">                    </span>                                                                                <span style=\"color: #7f7f7f; text-decoration-color: #7f7f7f\">               </span>\n",
       "</pre>\n"
      ],
      "text/plain": [
       "\u001b[2;36m[04/06/25 00:54:10]\u001b[0m\u001b[2;36m \u001b[0m\u001b[33mWARNING \u001b[0m \u001b[35m/usr/local/lib/python3.11/dist-packages/soccerdata/\u001b[0m\u001b[95mfbref.py\u001b[0m:\u001b[1;36m165\u001b[0m:       \u001b]8;id=41686;file:///usr/lib/python3.11/warnings.py\u001b\\\u001b[2mwarnings.py\u001b[0m\u001b]8;;\u001b\\\u001b[2m:\u001b[0m\u001b]8;id=167169;file:///usr/lib/python3.11/warnings.py#110\u001b\\\u001b[2m110\u001b[0m\u001b]8;;\u001b\\\n",
       "\u001b[2;36m                    \u001b[0m         FutureWarning: The behavior of DataFrame concatenation with empty or   \u001b[2m               \u001b[0m\n",
       "\u001b[2;36m                    \u001b[0m         all-NA entries is deprecated. In a future version, this will no longer \u001b[2m               \u001b[0m\n",
       "\u001b[2;36m                    \u001b[0m         exclude empty or all-NA columns when determining the result dtypes. To \u001b[2m               \u001b[0m\n",
       "\u001b[2;36m                    \u001b[0m         retain the old behavior, exclude the relevant entries before the       \u001b[2m               \u001b[0m\n",
       "\u001b[2;36m                    \u001b[0m         concat operation.                                                      \u001b[2m               \u001b[0m\n",
       "\u001b[2;36m                    \u001b[0m           \u001b[1;35mpd.concat\u001b[0m\u001b[1m(\u001b[0mdfs\u001b[1m)\u001b[0m                                                       \u001b[2m               \u001b[0m\n",
       "\u001b[2;36m                    \u001b[0m                                                                                \u001b[2m               \u001b[0m\n"
      ]
     },
     "metadata": {},
     "output_type": "display_data"
    },
    {
     "data": {
      "text/html": [
       "<pre style=\"white-space:pre;overflow-x:auto;line-height:normal;font-family:Menlo,'DejaVu Sans Mono',consolas,'Courier New',monospace\"><span style=\"color: #7fbfbf; text-decoration-color: #7fbfbf\">[04/06/25 00:56:34] </span><span style=\"color: #808000; text-decoration-color: #808000\">WARNING </span> <span style=\"color: #800080; text-decoration-color: #800080\">/usr/local/lib/python3.11/dist-packages/soccerdata/</span><span style=\"color: #ff00ff; text-decoration-color: #ff00ff\">fbref.py</span>:<span style=\"color: #008080; text-decoration-color: #008080; font-weight: bold\">165</span>:       <a href=\"file:///usr/lib/python3.11/warnings.py\" target=\"_blank\"><span style=\"color: #7f7f7f; text-decoration-color: #7f7f7f\">warnings.py</span></a><span style=\"color: #7f7f7f; text-decoration-color: #7f7f7f\">:</span><a href=\"file:///usr/lib/python3.11/warnings.py#110\" target=\"_blank\"><span style=\"color: #7f7f7f; text-decoration-color: #7f7f7f\">110</span></a>\n",
       "<span style=\"color: #7fbfbf; text-decoration-color: #7fbfbf\">                    </span>         FutureWarning: The behavior of DataFrame concatenation with empty or   <span style=\"color: #7f7f7f; text-decoration-color: #7f7f7f\">               </span>\n",
       "<span style=\"color: #7fbfbf; text-decoration-color: #7fbfbf\">                    </span>         all-NA entries is deprecated. In a future version, this will no longer <span style=\"color: #7f7f7f; text-decoration-color: #7f7f7f\">               </span>\n",
       "<span style=\"color: #7fbfbf; text-decoration-color: #7fbfbf\">                    </span>         exclude empty or all-NA columns when determining the result dtypes. To <span style=\"color: #7f7f7f; text-decoration-color: #7f7f7f\">               </span>\n",
       "<span style=\"color: #7fbfbf; text-decoration-color: #7fbfbf\">                    </span>         retain the old behavior, exclude the relevant entries before the       <span style=\"color: #7f7f7f; text-decoration-color: #7f7f7f\">               </span>\n",
       "<span style=\"color: #7fbfbf; text-decoration-color: #7fbfbf\">                    </span>         concat operation.                                                      <span style=\"color: #7f7f7f; text-decoration-color: #7f7f7f\">               </span>\n",
       "<span style=\"color: #7fbfbf; text-decoration-color: #7fbfbf\">                    </span>           <span style=\"color: #800080; text-decoration-color: #800080; font-weight: bold\">pd.concat</span><span style=\"font-weight: bold\">(</span>dfs<span style=\"font-weight: bold\">)</span>                                                       <span style=\"color: #7f7f7f; text-decoration-color: #7f7f7f\">               </span>\n",
       "<span style=\"color: #7fbfbf; text-decoration-color: #7fbfbf\">                    </span>                                                                                <span style=\"color: #7f7f7f; text-decoration-color: #7f7f7f\">               </span>\n",
       "</pre>\n"
      ],
      "text/plain": [
       "\u001b[2;36m[04/06/25 00:56:34]\u001b[0m\u001b[2;36m \u001b[0m\u001b[33mWARNING \u001b[0m \u001b[35m/usr/local/lib/python3.11/dist-packages/soccerdata/\u001b[0m\u001b[95mfbref.py\u001b[0m:\u001b[1;36m165\u001b[0m:       \u001b]8;id=879069;file:///usr/lib/python3.11/warnings.py\u001b\\\u001b[2mwarnings.py\u001b[0m\u001b]8;;\u001b\\\u001b[2m:\u001b[0m\u001b]8;id=773036;file:///usr/lib/python3.11/warnings.py#110\u001b\\\u001b[2m110\u001b[0m\u001b]8;;\u001b\\\n",
       "\u001b[2;36m                    \u001b[0m         FutureWarning: The behavior of DataFrame concatenation with empty or   \u001b[2m               \u001b[0m\n",
       "\u001b[2;36m                    \u001b[0m         all-NA entries is deprecated. In a future version, this will no longer \u001b[2m               \u001b[0m\n",
       "\u001b[2;36m                    \u001b[0m         exclude empty or all-NA columns when determining the result dtypes. To \u001b[2m               \u001b[0m\n",
       "\u001b[2;36m                    \u001b[0m         retain the old behavior, exclude the relevant entries before the       \u001b[2m               \u001b[0m\n",
       "\u001b[2;36m                    \u001b[0m         concat operation.                                                      \u001b[2m               \u001b[0m\n",
       "\u001b[2;36m                    \u001b[0m           \u001b[1;35mpd.concat\u001b[0m\u001b[1m(\u001b[0mdfs\u001b[1m)\u001b[0m                                                       \u001b[2m               \u001b[0m\n",
       "\u001b[2;36m                    \u001b[0m                                                                                \u001b[2m               \u001b[0m\n"
      ]
     },
     "metadata": {},
     "output_type": "display_data"
    },
    {
     "data": {
      "text/html": [
       "<pre style=\"white-space:pre;overflow-x:auto;line-height:normal;font-family:Menlo,'DejaVu Sans Mono',consolas,'Courier New',monospace\"><span style=\"color: #7fbfbf; text-decoration-color: #7fbfbf\">[04/06/25 00:58:56] </span><span style=\"color: #808000; text-decoration-color: #808000\">WARNING </span> <span style=\"color: #800080; text-decoration-color: #800080\">/usr/local/lib/python3.11/dist-packages/soccerdata/</span><span style=\"color: #ff00ff; text-decoration-color: #ff00ff\">fbref.py</span>:<span style=\"color: #008080; text-decoration-color: #008080; font-weight: bold\">165</span>:       <a href=\"file:///usr/lib/python3.11/warnings.py\" target=\"_blank\"><span style=\"color: #7f7f7f; text-decoration-color: #7f7f7f\">warnings.py</span></a><span style=\"color: #7f7f7f; text-decoration-color: #7f7f7f\">:</span><a href=\"file:///usr/lib/python3.11/warnings.py#110\" target=\"_blank\"><span style=\"color: #7f7f7f; text-decoration-color: #7f7f7f\">110</span></a>\n",
       "<span style=\"color: #7fbfbf; text-decoration-color: #7fbfbf\">                    </span>         FutureWarning: The behavior of DataFrame concatenation with empty or   <span style=\"color: #7f7f7f; text-decoration-color: #7f7f7f\">               </span>\n",
       "<span style=\"color: #7fbfbf; text-decoration-color: #7fbfbf\">                    </span>         all-NA entries is deprecated. In a future version, this will no longer <span style=\"color: #7f7f7f; text-decoration-color: #7f7f7f\">               </span>\n",
       "<span style=\"color: #7fbfbf; text-decoration-color: #7fbfbf\">                    </span>         exclude empty or all-NA columns when determining the result dtypes. To <span style=\"color: #7f7f7f; text-decoration-color: #7f7f7f\">               </span>\n",
       "<span style=\"color: #7fbfbf; text-decoration-color: #7fbfbf\">                    </span>         retain the old behavior, exclude the relevant entries before the       <span style=\"color: #7f7f7f; text-decoration-color: #7f7f7f\">               </span>\n",
       "<span style=\"color: #7fbfbf; text-decoration-color: #7fbfbf\">                    </span>         concat operation.                                                      <span style=\"color: #7f7f7f; text-decoration-color: #7f7f7f\">               </span>\n",
       "<span style=\"color: #7fbfbf; text-decoration-color: #7fbfbf\">                    </span>           <span style=\"color: #800080; text-decoration-color: #800080; font-weight: bold\">pd.concat</span><span style=\"font-weight: bold\">(</span>dfs<span style=\"font-weight: bold\">)</span>                                                       <span style=\"color: #7f7f7f; text-decoration-color: #7f7f7f\">               </span>\n",
       "<span style=\"color: #7fbfbf; text-decoration-color: #7fbfbf\">                    </span>                                                                                <span style=\"color: #7f7f7f; text-decoration-color: #7f7f7f\">               </span>\n",
       "</pre>\n"
      ],
      "text/plain": [
       "\u001b[2;36m[04/06/25 00:58:56]\u001b[0m\u001b[2;36m \u001b[0m\u001b[33mWARNING \u001b[0m \u001b[35m/usr/local/lib/python3.11/dist-packages/soccerdata/\u001b[0m\u001b[95mfbref.py\u001b[0m:\u001b[1;36m165\u001b[0m:       \u001b]8;id=393974;file:///usr/lib/python3.11/warnings.py\u001b\\\u001b[2mwarnings.py\u001b[0m\u001b]8;;\u001b\\\u001b[2m:\u001b[0m\u001b]8;id=157633;file:///usr/lib/python3.11/warnings.py#110\u001b\\\u001b[2m110\u001b[0m\u001b]8;;\u001b\\\n",
       "\u001b[2;36m                    \u001b[0m         FutureWarning: The behavior of DataFrame concatenation with empty or   \u001b[2m               \u001b[0m\n",
       "\u001b[2;36m                    \u001b[0m         all-NA entries is deprecated. In a future version, this will no longer \u001b[2m               \u001b[0m\n",
       "\u001b[2;36m                    \u001b[0m         exclude empty or all-NA columns when determining the result dtypes. To \u001b[2m               \u001b[0m\n",
       "\u001b[2;36m                    \u001b[0m         retain the old behavior, exclude the relevant entries before the       \u001b[2m               \u001b[0m\n",
       "\u001b[2;36m                    \u001b[0m         concat operation.                                                      \u001b[2m               \u001b[0m\n",
       "\u001b[2;36m                    \u001b[0m           \u001b[1;35mpd.concat\u001b[0m\u001b[1m(\u001b[0mdfs\u001b[1m)\u001b[0m                                                       \u001b[2m               \u001b[0m\n",
       "\u001b[2;36m                    \u001b[0m                                                                                \u001b[2m               \u001b[0m\n"
      ]
     },
     "metadata": {},
     "output_type": "display_data"
    },
    {
     "data": {
      "text/html": [
       "<pre style=\"white-space:pre;overflow-x:auto;line-height:normal;font-family:Menlo,'DejaVu Sans Mono',consolas,'Courier New',monospace\"><span style=\"color: #7fbfbf; text-decoration-color: #7fbfbf\">[04/06/25 01:01:19] </span><span style=\"color: #808000; text-decoration-color: #808000\">WARNING </span> <span style=\"color: #800080; text-decoration-color: #800080\">/usr/local/lib/python3.11/dist-packages/soccerdata/</span><span style=\"color: #ff00ff; text-decoration-color: #ff00ff\">fbref.py</span>:<span style=\"color: #008080; text-decoration-color: #008080; font-weight: bold\">165</span>:       <a href=\"file:///usr/lib/python3.11/warnings.py\" target=\"_blank\"><span style=\"color: #7f7f7f; text-decoration-color: #7f7f7f\">warnings.py</span></a><span style=\"color: #7f7f7f; text-decoration-color: #7f7f7f\">:</span><a href=\"file:///usr/lib/python3.11/warnings.py#110\" target=\"_blank\"><span style=\"color: #7f7f7f; text-decoration-color: #7f7f7f\">110</span></a>\n",
       "<span style=\"color: #7fbfbf; text-decoration-color: #7fbfbf\">                    </span>         FutureWarning: The behavior of DataFrame concatenation with empty or   <span style=\"color: #7f7f7f; text-decoration-color: #7f7f7f\">               </span>\n",
       "<span style=\"color: #7fbfbf; text-decoration-color: #7fbfbf\">                    </span>         all-NA entries is deprecated. In a future version, this will no longer <span style=\"color: #7f7f7f; text-decoration-color: #7f7f7f\">               </span>\n",
       "<span style=\"color: #7fbfbf; text-decoration-color: #7fbfbf\">                    </span>         exclude empty or all-NA columns when determining the result dtypes. To <span style=\"color: #7f7f7f; text-decoration-color: #7f7f7f\">               </span>\n",
       "<span style=\"color: #7fbfbf; text-decoration-color: #7fbfbf\">                    </span>         retain the old behavior, exclude the relevant entries before the       <span style=\"color: #7f7f7f; text-decoration-color: #7f7f7f\">               </span>\n",
       "<span style=\"color: #7fbfbf; text-decoration-color: #7fbfbf\">                    </span>         concat operation.                                                      <span style=\"color: #7f7f7f; text-decoration-color: #7f7f7f\">               </span>\n",
       "<span style=\"color: #7fbfbf; text-decoration-color: #7fbfbf\">                    </span>           <span style=\"color: #800080; text-decoration-color: #800080; font-weight: bold\">pd.concat</span><span style=\"font-weight: bold\">(</span>dfs<span style=\"font-weight: bold\">)</span>                                                       <span style=\"color: #7f7f7f; text-decoration-color: #7f7f7f\">               </span>\n",
       "<span style=\"color: #7fbfbf; text-decoration-color: #7fbfbf\">                    </span>                                                                                <span style=\"color: #7f7f7f; text-decoration-color: #7f7f7f\">               </span>\n",
       "</pre>\n"
      ],
      "text/plain": [
       "\u001b[2;36m[04/06/25 01:01:19]\u001b[0m\u001b[2;36m \u001b[0m\u001b[33mWARNING \u001b[0m \u001b[35m/usr/local/lib/python3.11/dist-packages/soccerdata/\u001b[0m\u001b[95mfbref.py\u001b[0m:\u001b[1;36m165\u001b[0m:       \u001b]8;id=103791;file:///usr/lib/python3.11/warnings.py\u001b\\\u001b[2mwarnings.py\u001b[0m\u001b]8;;\u001b\\\u001b[2m:\u001b[0m\u001b]8;id=97595;file:///usr/lib/python3.11/warnings.py#110\u001b\\\u001b[2m110\u001b[0m\u001b]8;;\u001b\\\n",
       "\u001b[2;36m                    \u001b[0m         FutureWarning: The behavior of DataFrame concatenation with empty or   \u001b[2m               \u001b[0m\n",
       "\u001b[2;36m                    \u001b[0m         all-NA entries is deprecated. In a future version, this will no longer \u001b[2m               \u001b[0m\n",
       "\u001b[2;36m                    \u001b[0m         exclude empty or all-NA columns when determining the result dtypes. To \u001b[2m               \u001b[0m\n",
       "\u001b[2;36m                    \u001b[0m         retain the old behavior, exclude the relevant entries before the       \u001b[2m               \u001b[0m\n",
       "\u001b[2;36m                    \u001b[0m         concat operation.                                                      \u001b[2m               \u001b[0m\n",
       "\u001b[2;36m                    \u001b[0m           \u001b[1;35mpd.concat\u001b[0m\u001b[1m(\u001b[0mdfs\u001b[1m)\u001b[0m                                                       \u001b[2m               \u001b[0m\n",
       "\u001b[2;36m                    \u001b[0m                                                                                \u001b[2m               \u001b[0m\n"
      ]
     },
     "metadata": {},
     "output_type": "display_data"
    },
    {
     "data": {
      "text/html": [
       "<pre style=\"white-space:pre;overflow-x:auto;line-height:normal;font-family:Menlo,'DejaVu Sans Mono',consolas,'Courier New',monospace\"><span style=\"color: #7fbfbf; text-decoration-color: #7fbfbf\">[04/06/25 01:03:45] </span><span style=\"color: #808000; text-decoration-color: #808000\">WARNING </span> <span style=\"color: #800080; text-decoration-color: #800080\">/usr/local/lib/python3.11/dist-packages/soccerdata/</span><span style=\"color: #ff00ff; text-decoration-color: #ff00ff\">fbref.py</span>:<span style=\"color: #008080; text-decoration-color: #008080; font-weight: bold\">165</span>:       <a href=\"file:///usr/lib/python3.11/warnings.py\" target=\"_blank\"><span style=\"color: #7f7f7f; text-decoration-color: #7f7f7f\">warnings.py</span></a><span style=\"color: #7f7f7f; text-decoration-color: #7f7f7f\">:</span><a href=\"file:///usr/lib/python3.11/warnings.py#110\" target=\"_blank\"><span style=\"color: #7f7f7f; text-decoration-color: #7f7f7f\">110</span></a>\n",
       "<span style=\"color: #7fbfbf; text-decoration-color: #7fbfbf\">                    </span>         FutureWarning: The behavior of DataFrame concatenation with empty or   <span style=\"color: #7f7f7f; text-decoration-color: #7f7f7f\">               </span>\n",
       "<span style=\"color: #7fbfbf; text-decoration-color: #7fbfbf\">                    </span>         all-NA entries is deprecated. In a future version, this will no longer <span style=\"color: #7f7f7f; text-decoration-color: #7f7f7f\">               </span>\n",
       "<span style=\"color: #7fbfbf; text-decoration-color: #7fbfbf\">                    </span>         exclude empty or all-NA columns when determining the result dtypes. To <span style=\"color: #7f7f7f; text-decoration-color: #7f7f7f\">               </span>\n",
       "<span style=\"color: #7fbfbf; text-decoration-color: #7fbfbf\">                    </span>         retain the old behavior, exclude the relevant entries before the       <span style=\"color: #7f7f7f; text-decoration-color: #7f7f7f\">               </span>\n",
       "<span style=\"color: #7fbfbf; text-decoration-color: #7fbfbf\">                    </span>         concat operation.                                                      <span style=\"color: #7f7f7f; text-decoration-color: #7f7f7f\">               </span>\n",
       "<span style=\"color: #7fbfbf; text-decoration-color: #7fbfbf\">                    </span>           <span style=\"color: #800080; text-decoration-color: #800080; font-weight: bold\">pd.concat</span><span style=\"font-weight: bold\">(</span>dfs<span style=\"font-weight: bold\">)</span>                                                       <span style=\"color: #7f7f7f; text-decoration-color: #7f7f7f\">               </span>\n",
       "<span style=\"color: #7fbfbf; text-decoration-color: #7fbfbf\">                    </span>                                                                                <span style=\"color: #7f7f7f; text-decoration-color: #7f7f7f\">               </span>\n",
       "</pre>\n"
      ],
      "text/plain": [
       "\u001b[2;36m[04/06/25 01:03:45]\u001b[0m\u001b[2;36m \u001b[0m\u001b[33mWARNING \u001b[0m \u001b[35m/usr/local/lib/python3.11/dist-packages/soccerdata/\u001b[0m\u001b[95mfbref.py\u001b[0m:\u001b[1;36m165\u001b[0m:       \u001b]8;id=457710;file:///usr/lib/python3.11/warnings.py\u001b\\\u001b[2mwarnings.py\u001b[0m\u001b]8;;\u001b\\\u001b[2m:\u001b[0m\u001b]8;id=695671;file:///usr/lib/python3.11/warnings.py#110\u001b\\\u001b[2m110\u001b[0m\u001b]8;;\u001b\\\n",
       "\u001b[2;36m                    \u001b[0m         FutureWarning: The behavior of DataFrame concatenation with empty or   \u001b[2m               \u001b[0m\n",
       "\u001b[2;36m                    \u001b[0m         all-NA entries is deprecated. In a future version, this will no longer \u001b[2m               \u001b[0m\n",
       "\u001b[2;36m                    \u001b[0m         exclude empty or all-NA columns when determining the result dtypes. To \u001b[2m               \u001b[0m\n",
       "\u001b[2;36m                    \u001b[0m         retain the old behavior, exclude the relevant entries before the       \u001b[2m               \u001b[0m\n",
       "\u001b[2;36m                    \u001b[0m         concat operation.                                                      \u001b[2m               \u001b[0m\n",
       "\u001b[2;36m                    \u001b[0m           \u001b[1;35mpd.concat\u001b[0m\u001b[1m(\u001b[0mdfs\u001b[1m)\u001b[0m                                                       \u001b[2m               \u001b[0m\n",
       "\u001b[2;36m                    \u001b[0m                                                                                \u001b[2m               \u001b[0m\n"
      ]
     },
     "metadata": {},
     "output_type": "display_data"
    },
    {
     "name": "stderr",
     "output_type": "stream",
     "text": [
      "\r 40%|████      | 4/10 [1:26:56<2:09:58, 1299.74s/it]"
     ]
    },
    {
     "data": {
      "text/html": [
       "<pre style=\"white-space:pre;overflow-x:auto;line-height:normal;font-family:Menlo,'DejaVu Sans Mono',consolas,'Courier New',monospace\"><span style=\"color: #7fbfbf; text-decoration-color: #7fbfbf\">[04/06/25 01:06:08] </span><span style=\"color: #000080; text-decoration-color: #000080\">INFO    </span> Saving cached data to <span style=\"color: #800080; text-decoration-color: #800080\">/root/soccerdata/data/</span><span style=\"color: #ff00ff; text-decoration-color: #ff00ff\">FBref</span>                       <a href=\"file:///usr/local/lib/python3.11/dist-packages/soccerdata/_common.py\" target=\"_blank\"><span style=\"color: #7f7f7f; text-decoration-color: #7f7f7f\">_common.py</span></a><span style=\"color: #7f7f7f; text-decoration-color: #7f7f7f\">:</span><a href=\"file:///usr/local/lib/python3.11/dist-packages/soccerdata/_common.py#263\" target=\"_blank\"><span style=\"color: #7f7f7f; text-decoration-color: #7f7f7f\">263</span></a>\n",
       "</pre>\n"
      ],
      "text/plain": [
       "\u001b[2;36m[04/06/25 01:06:08]\u001b[0m\u001b[2;36m \u001b[0m\u001b[34mINFO    \u001b[0m Saving cached data to \u001b[35m/root/soccerdata/data/\u001b[0m\u001b[95mFBref\u001b[0m                       \u001b]8;id=535421;file:///usr/local/lib/python3.11/dist-packages/soccerdata/_common.py\u001b\\\u001b[2m_common.py\u001b[0m\u001b]8;;\u001b\\\u001b[2m:\u001b[0m\u001b]8;id=420760;file:///usr/local/lib/python3.11/dist-packages/soccerdata/_common.py#263\u001b\\\u001b[2m263\u001b[0m\u001b]8;;\u001b\\\n"
      ]
     },
     "metadata": {},
     "output_type": "display_data"
    },
    {
     "data": {
      "text/html": [
       "<pre style=\"white-space:pre;overflow-x:auto;line-height:normal;font-family:Menlo,'DejaVu Sans Mono',consolas,'Courier New',monospace\"><span style=\"color: #7fbfbf; text-decoration-color: #7fbfbf\">                    </span><span style=\"color: #808000; text-decoration-color: #808000\">WARNING </span> <span style=\"color: #800080; text-decoration-color: #800080\">/usr/local/lib/python3.11/dist-packages/soccerdata/</span><span style=\"color: #ff00ff; text-decoration-color: #ff00ff\">fbref.py</span>:<span style=\"color: #008080; text-decoration-color: #008080; font-weight: bold\">165</span>:       <a href=\"file:///usr/lib/python3.11/warnings.py\" target=\"_blank\"><span style=\"color: #7f7f7f; text-decoration-color: #7f7f7f\">warnings.py</span></a><span style=\"color: #7f7f7f; text-decoration-color: #7f7f7f\">:</span><a href=\"file:///usr/lib/python3.11/warnings.py#110\" target=\"_blank\"><span style=\"color: #7f7f7f; text-decoration-color: #7f7f7f\">110</span></a>\n",
       "<span style=\"color: #7fbfbf; text-decoration-color: #7fbfbf\">                    </span>         FutureWarning: The behavior of DataFrame concatenation with empty or   <span style=\"color: #7f7f7f; text-decoration-color: #7f7f7f\">               </span>\n",
       "<span style=\"color: #7fbfbf; text-decoration-color: #7fbfbf\">                    </span>         all-NA entries is deprecated. In a future version, this will no longer <span style=\"color: #7f7f7f; text-decoration-color: #7f7f7f\">               </span>\n",
       "<span style=\"color: #7fbfbf; text-decoration-color: #7fbfbf\">                    </span>         exclude empty or all-NA columns when determining the result dtypes. To <span style=\"color: #7f7f7f; text-decoration-color: #7f7f7f\">               </span>\n",
       "<span style=\"color: #7fbfbf; text-decoration-color: #7fbfbf\">                    </span>         retain the old behavior, exclude the relevant entries before the       <span style=\"color: #7f7f7f; text-decoration-color: #7f7f7f\">               </span>\n",
       "<span style=\"color: #7fbfbf; text-decoration-color: #7fbfbf\">                    </span>         concat operation.                                                      <span style=\"color: #7f7f7f; text-decoration-color: #7f7f7f\">               </span>\n",
       "<span style=\"color: #7fbfbf; text-decoration-color: #7fbfbf\">                    </span>           <span style=\"color: #800080; text-decoration-color: #800080; font-weight: bold\">pd.concat</span><span style=\"font-weight: bold\">(</span>dfs<span style=\"font-weight: bold\">)</span>                                                       <span style=\"color: #7f7f7f; text-decoration-color: #7f7f7f\">               </span>\n",
       "<span style=\"color: #7fbfbf; text-decoration-color: #7fbfbf\">                    </span>                                                                                <span style=\"color: #7f7f7f; text-decoration-color: #7f7f7f\">               </span>\n",
       "</pre>\n"
      ],
      "text/plain": [
       "\u001b[2;36m                   \u001b[0m\u001b[2;36m \u001b[0m\u001b[33mWARNING \u001b[0m \u001b[35m/usr/local/lib/python3.11/dist-packages/soccerdata/\u001b[0m\u001b[95mfbref.py\u001b[0m:\u001b[1;36m165\u001b[0m:       \u001b]8;id=968102;file:///usr/lib/python3.11/warnings.py\u001b\\\u001b[2mwarnings.py\u001b[0m\u001b]8;;\u001b\\\u001b[2m:\u001b[0m\u001b]8;id=482940;file:///usr/lib/python3.11/warnings.py#110\u001b\\\u001b[2m110\u001b[0m\u001b]8;;\u001b\\\n",
       "\u001b[2;36m                    \u001b[0m         FutureWarning: The behavior of DataFrame concatenation with empty or   \u001b[2m               \u001b[0m\n",
       "\u001b[2;36m                    \u001b[0m         all-NA entries is deprecated. In a future version, this will no longer \u001b[2m               \u001b[0m\n",
       "\u001b[2;36m                    \u001b[0m         exclude empty or all-NA columns when determining the result dtypes. To \u001b[2m               \u001b[0m\n",
       "\u001b[2;36m                    \u001b[0m         retain the old behavior, exclude the relevant entries before the       \u001b[2m               \u001b[0m\n",
       "\u001b[2;36m                    \u001b[0m         concat operation.                                                      \u001b[2m               \u001b[0m\n",
       "\u001b[2;36m                    \u001b[0m           \u001b[1;35mpd.concat\u001b[0m\u001b[1m(\u001b[0mdfs\u001b[1m)\u001b[0m                                                       \u001b[2m               \u001b[0m\n",
       "\u001b[2;36m                    \u001b[0m                                                                                \u001b[2m               \u001b[0m\n"
      ]
     },
     "metadata": {},
     "output_type": "display_data"
    },
    {
     "data": {
      "text/html": [
       "<pre style=\"white-space:pre;overflow-x:auto;line-height:normal;font-family:Menlo,'DejaVu Sans Mono',consolas,'Courier New',monospace\"><span style=\"color: #7fbfbf; text-decoration-color: #7fbfbf\">[04/06/25 01:08:24] </span><span style=\"color: #808000; text-decoration-color: #808000\">WARNING </span> <span style=\"color: #800080; text-decoration-color: #800080\">/usr/local/lib/python3.11/dist-packages/soccerdata/</span><span style=\"color: #ff00ff; text-decoration-color: #ff00ff\">fbref.py</span>:<span style=\"color: #008080; text-decoration-color: #008080; font-weight: bold\">165</span>:       <a href=\"file:///usr/lib/python3.11/warnings.py\" target=\"_blank\"><span style=\"color: #7f7f7f; text-decoration-color: #7f7f7f\">warnings.py</span></a><span style=\"color: #7f7f7f; text-decoration-color: #7f7f7f\">:</span><a href=\"file:///usr/lib/python3.11/warnings.py#110\" target=\"_blank\"><span style=\"color: #7f7f7f; text-decoration-color: #7f7f7f\">110</span></a>\n",
       "<span style=\"color: #7fbfbf; text-decoration-color: #7fbfbf\">                    </span>         FutureWarning: The behavior of DataFrame concatenation with empty or   <span style=\"color: #7f7f7f; text-decoration-color: #7f7f7f\">               </span>\n",
       "<span style=\"color: #7fbfbf; text-decoration-color: #7fbfbf\">                    </span>         all-NA entries is deprecated. In a future version, this will no longer <span style=\"color: #7f7f7f; text-decoration-color: #7f7f7f\">               </span>\n",
       "<span style=\"color: #7fbfbf; text-decoration-color: #7fbfbf\">                    </span>         exclude empty or all-NA columns when determining the result dtypes. To <span style=\"color: #7f7f7f; text-decoration-color: #7f7f7f\">               </span>\n",
       "<span style=\"color: #7fbfbf; text-decoration-color: #7fbfbf\">                    </span>         retain the old behavior, exclude the relevant entries before the       <span style=\"color: #7f7f7f; text-decoration-color: #7f7f7f\">               </span>\n",
       "<span style=\"color: #7fbfbf; text-decoration-color: #7fbfbf\">                    </span>         concat operation.                                                      <span style=\"color: #7f7f7f; text-decoration-color: #7f7f7f\">               </span>\n",
       "<span style=\"color: #7fbfbf; text-decoration-color: #7fbfbf\">                    </span>           <span style=\"color: #800080; text-decoration-color: #800080; font-weight: bold\">pd.concat</span><span style=\"font-weight: bold\">(</span>dfs<span style=\"font-weight: bold\">)</span>                                                       <span style=\"color: #7f7f7f; text-decoration-color: #7f7f7f\">               </span>\n",
       "<span style=\"color: #7fbfbf; text-decoration-color: #7fbfbf\">                    </span>                                                                                <span style=\"color: #7f7f7f; text-decoration-color: #7f7f7f\">               </span>\n",
       "</pre>\n"
      ],
      "text/plain": [
       "\u001b[2;36m[04/06/25 01:08:24]\u001b[0m\u001b[2;36m \u001b[0m\u001b[33mWARNING \u001b[0m \u001b[35m/usr/local/lib/python3.11/dist-packages/soccerdata/\u001b[0m\u001b[95mfbref.py\u001b[0m:\u001b[1;36m165\u001b[0m:       \u001b]8;id=436761;file:///usr/lib/python3.11/warnings.py\u001b\\\u001b[2mwarnings.py\u001b[0m\u001b]8;;\u001b\\\u001b[2m:\u001b[0m\u001b]8;id=161585;file:///usr/lib/python3.11/warnings.py#110\u001b\\\u001b[2m110\u001b[0m\u001b]8;;\u001b\\\n",
       "\u001b[2;36m                    \u001b[0m         FutureWarning: The behavior of DataFrame concatenation with empty or   \u001b[2m               \u001b[0m\n",
       "\u001b[2;36m                    \u001b[0m         all-NA entries is deprecated. In a future version, this will no longer \u001b[2m               \u001b[0m\n",
       "\u001b[2;36m                    \u001b[0m         exclude empty or all-NA columns when determining the result dtypes. To \u001b[2m               \u001b[0m\n",
       "\u001b[2;36m                    \u001b[0m         retain the old behavior, exclude the relevant entries before the       \u001b[2m               \u001b[0m\n",
       "\u001b[2;36m                    \u001b[0m         concat operation.                                                      \u001b[2m               \u001b[0m\n",
       "\u001b[2;36m                    \u001b[0m           \u001b[1;35mpd.concat\u001b[0m\u001b[1m(\u001b[0mdfs\u001b[1m)\u001b[0m                                                       \u001b[2m               \u001b[0m\n",
       "\u001b[2;36m                    \u001b[0m                                                                                \u001b[2m               \u001b[0m\n"
      ]
     },
     "metadata": {},
     "output_type": "display_data"
    },
    {
     "data": {
      "text/html": [
       "<pre style=\"white-space:pre;overflow-x:auto;line-height:normal;font-family:Menlo,'DejaVu Sans Mono',consolas,'Courier New',monospace\"><span style=\"color: #7fbfbf; text-decoration-color: #7fbfbf\">[04/06/25 01:10:47] </span><span style=\"color: #808000; text-decoration-color: #808000\">WARNING </span> <span style=\"color: #800080; text-decoration-color: #800080\">/usr/local/lib/python3.11/dist-packages/soccerdata/</span><span style=\"color: #ff00ff; text-decoration-color: #ff00ff\">fbref.py</span>:<span style=\"color: #008080; text-decoration-color: #008080; font-weight: bold\">165</span>:       <a href=\"file:///usr/lib/python3.11/warnings.py\" target=\"_blank\"><span style=\"color: #7f7f7f; text-decoration-color: #7f7f7f\">warnings.py</span></a><span style=\"color: #7f7f7f; text-decoration-color: #7f7f7f\">:</span><a href=\"file:///usr/lib/python3.11/warnings.py#110\" target=\"_blank\"><span style=\"color: #7f7f7f; text-decoration-color: #7f7f7f\">110</span></a>\n",
       "<span style=\"color: #7fbfbf; text-decoration-color: #7fbfbf\">                    </span>         FutureWarning: The behavior of DataFrame concatenation with empty or   <span style=\"color: #7f7f7f; text-decoration-color: #7f7f7f\">               </span>\n",
       "<span style=\"color: #7fbfbf; text-decoration-color: #7fbfbf\">                    </span>         all-NA entries is deprecated. In a future version, this will no longer <span style=\"color: #7f7f7f; text-decoration-color: #7f7f7f\">               </span>\n",
       "<span style=\"color: #7fbfbf; text-decoration-color: #7fbfbf\">                    </span>         exclude empty or all-NA columns when determining the result dtypes. To <span style=\"color: #7f7f7f; text-decoration-color: #7f7f7f\">               </span>\n",
       "<span style=\"color: #7fbfbf; text-decoration-color: #7fbfbf\">                    </span>         retain the old behavior, exclude the relevant entries before the       <span style=\"color: #7f7f7f; text-decoration-color: #7f7f7f\">               </span>\n",
       "<span style=\"color: #7fbfbf; text-decoration-color: #7fbfbf\">                    </span>         concat operation.                                                      <span style=\"color: #7f7f7f; text-decoration-color: #7f7f7f\">               </span>\n",
       "<span style=\"color: #7fbfbf; text-decoration-color: #7fbfbf\">                    </span>           <span style=\"color: #800080; text-decoration-color: #800080; font-weight: bold\">pd.concat</span><span style=\"font-weight: bold\">(</span>dfs<span style=\"font-weight: bold\">)</span>                                                       <span style=\"color: #7f7f7f; text-decoration-color: #7f7f7f\">               </span>\n",
       "<span style=\"color: #7fbfbf; text-decoration-color: #7fbfbf\">                    </span>                                                                                <span style=\"color: #7f7f7f; text-decoration-color: #7f7f7f\">               </span>\n",
       "</pre>\n"
      ],
      "text/plain": [
       "\u001b[2;36m[04/06/25 01:10:47]\u001b[0m\u001b[2;36m \u001b[0m\u001b[33mWARNING \u001b[0m \u001b[35m/usr/local/lib/python3.11/dist-packages/soccerdata/\u001b[0m\u001b[95mfbref.py\u001b[0m:\u001b[1;36m165\u001b[0m:       \u001b]8;id=998659;file:///usr/lib/python3.11/warnings.py\u001b\\\u001b[2mwarnings.py\u001b[0m\u001b]8;;\u001b\\\u001b[2m:\u001b[0m\u001b]8;id=208414;file:///usr/lib/python3.11/warnings.py#110\u001b\\\u001b[2m110\u001b[0m\u001b]8;;\u001b\\\n",
       "\u001b[2;36m                    \u001b[0m         FutureWarning: The behavior of DataFrame concatenation with empty or   \u001b[2m               \u001b[0m\n",
       "\u001b[2;36m                    \u001b[0m         all-NA entries is deprecated. In a future version, this will no longer \u001b[2m               \u001b[0m\n",
       "\u001b[2;36m                    \u001b[0m         exclude empty or all-NA columns when determining the result dtypes. To \u001b[2m               \u001b[0m\n",
       "\u001b[2;36m                    \u001b[0m         retain the old behavior, exclude the relevant entries before the       \u001b[2m               \u001b[0m\n",
       "\u001b[2;36m                    \u001b[0m         concat operation.                                                      \u001b[2m               \u001b[0m\n",
       "\u001b[2;36m                    \u001b[0m           \u001b[1;35mpd.concat\u001b[0m\u001b[1m(\u001b[0mdfs\u001b[1m)\u001b[0m                                                       \u001b[2m               \u001b[0m\n",
       "\u001b[2;36m                    \u001b[0m                                                                                \u001b[2m               \u001b[0m\n"
      ]
     },
     "metadata": {},
     "output_type": "display_data"
    },
    {
     "data": {
      "text/html": [
       "<pre style=\"white-space:pre;overflow-x:auto;line-height:normal;font-family:Menlo,'DejaVu Sans Mono',consolas,'Courier New',monospace\"><span style=\"color: #7fbfbf; text-decoration-color: #7fbfbf\">[04/06/25 01:13:08] </span><span style=\"color: #808000; text-decoration-color: #808000\">WARNING </span> <span style=\"color: #800080; text-decoration-color: #800080\">/usr/local/lib/python3.11/dist-packages/soccerdata/</span><span style=\"color: #ff00ff; text-decoration-color: #ff00ff\">fbref.py</span>:<span style=\"color: #008080; text-decoration-color: #008080; font-weight: bold\">165</span>:       <a href=\"file:///usr/lib/python3.11/warnings.py\" target=\"_blank\"><span style=\"color: #7f7f7f; text-decoration-color: #7f7f7f\">warnings.py</span></a><span style=\"color: #7f7f7f; text-decoration-color: #7f7f7f\">:</span><a href=\"file:///usr/lib/python3.11/warnings.py#110\" target=\"_blank\"><span style=\"color: #7f7f7f; text-decoration-color: #7f7f7f\">110</span></a>\n",
       "<span style=\"color: #7fbfbf; text-decoration-color: #7fbfbf\">                    </span>         FutureWarning: The behavior of DataFrame concatenation with empty or   <span style=\"color: #7f7f7f; text-decoration-color: #7f7f7f\">               </span>\n",
       "<span style=\"color: #7fbfbf; text-decoration-color: #7fbfbf\">                    </span>         all-NA entries is deprecated. In a future version, this will no longer <span style=\"color: #7f7f7f; text-decoration-color: #7f7f7f\">               </span>\n",
       "<span style=\"color: #7fbfbf; text-decoration-color: #7fbfbf\">                    </span>         exclude empty or all-NA columns when determining the result dtypes. To <span style=\"color: #7f7f7f; text-decoration-color: #7f7f7f\">               </span>\n",
       "<span style=\"color: #7fbfbf; text-decoration-color: #7fbfbf\">                    </span>         retain the old behavior, exclude the relevant entries before the       <span style=\"color: #7f7f7f; text-decoration-color: #7f7f7f\">               </span>\n",
       "<span style=\"color: #7fbfbf; text-decoration-color: #7fbfbf\">                    </span>         concat operation.                                                      <span style=\"color: #7f7f7f; text-decoration-color: #7f7f7f\">               </span>\n",
       "<span style=\"color: #7fbfbf; text-decoration-color: #7fbfbf\">                    </span>           <span style=\"color: #800080; text-decoration-color: #800080; font-weight: bold\">pd.concat</span><span style=\"font-weight: bold\">(</span>dfs<span style=\"font-weight: bold\">)</span>                                                       <span style=\"color: #7f7f7f; text-decoration-color: #7f7f7f\">               </span>\n",
       "<span style=\"color: #7fbfbf; text-decoration-color: #7fbfbf\">                    </span>                                                                                <span style=\"color: #7f7f7f; text-decoration-color: #7f7f7f\">               </span>\n",
       "</pre>\n"
      ],
      "text/plain": [
       "\u001b[2;36m[04/06/25 01:13:08]\u001b[0m\u001b[2;36m \u001b[0m\u001b[33mWARNING \u001b[0m \u001b[35m/usr/local/lib/python3.11/dist-packages/soccerdata/\u001b[0m\u001b[95mfbref.py\u001b[0m:\u001b[1;36m165\u001b[0m:       \u001b]8;id=670708;file:///usr/lib/python3.11/warnings.py\u001b\\\u001b[2mwarnings.py\u001b[0m\u001b]8;;\u001b\\\u001b[2m:\u001b[0m\u001b]8;id=763637;file:///usr/lib/python3.11/warnings.py#110\u001b\\\u001b[2m110\u001b[0m\u001b]8;;\u001b\\\n",
       "\u001b[2;36m                    \u001b[0m         FutureWarning: The behavior of DataFrame concatenation with empty or   \u001b[2m               \u001b[0m\n",
       "\u001b[2;36m                    \u001b[0m         all-NA entries is deprecated. In a future version, this will no longer \u001b[2m               \u001b[0m\n",
       "\u001b[2;36m                    \u001b[0m         exclude empty or all-NA columns when determining the result dtypes. To \u001b[2m               \u001b[0m\n",
       "\u001b[2;36m                    \u001b[0m         retain the old behavior, exclude the relevant entries before the       \u001b[2m               \u001b[0m\n",
       "\u001b[2;36m                    \u001b[0m         concat operation.                                                      \u001b[2m               \u001b[0m\n",
       "\u001b[2;36m                    \u001b[0m           \u001b[1;35mpd.concat\u001b[0m\u001b[1m(\u001b[0mdfs\u001b[1m)\u001b[0m                                                       \u001b[2m               \u001b[0m\n",
       "\u001b[2;36m                    \u001b[0m                                                                                \u001b[2m               \u001b[0m\n"
      ]
     },
     "metadata": {},
     "output_type": "display_data"
    },
    {
     "data": {
      "text/html": [
       "<pre style=\"white-space:pre;overflow-x:auto;line-height:normal;font-family:Menlo,'DejaVu Sans Mono',consolas,'Courier New',monospace\"><span style=\"color: #7fbfbf; text-decoration-color: #7fbfbf\">[04/06/25 01:15:33] </span><span style=\"color: #808000; text-decoration-color: #808000\">WARNING </span> <span style=\"color: #800080; text-decoration-color: #800080\">/usr/local/lib/python3.11/dist-packages/soccerdata/</span><span style=\"color: #ff00ff; text-decoration-color: #ff00ff\">fbref.py</span>:<span style=\"color: #008080; text-decoration-color: #008080; font-weight: bold\">165</span>:       <a href=\"file:///usr/lib/python3.11/warnings.py\" target=\"_blank\"><span style=\"color: #7f7f7f; text-decoration-color: #7f7f7f\">warnings.py</span></a><span style=\"color: #7f7f7f; text-decoration-color: #7f7f7f\">:</span><a href=\"file:///usr/lib/python3.11/warnings.py#110\" target=\"_blank\"><span style=\"color: #7f7f7f; text-decoration-color: #7f7f7f\">110</span></a>\n",
       "<span style=\"color: #7fbfbf; text-decoration-color: #7fbfbf\">                    </span>         FutureWarning: The behavior of DataFrame concatenation with empty or   <span style=\"color: #7f7f7f; text-decoration-color: #7f7f7f\">               </span>\n",
       "<span style=\"color: #7fbfbf; text-decoration-color: #7fbfbf\">                    </span>         all-NA entries is deprecated. In a future version, this will no longer <span style=\"color: #7f7f7f; text-decoration-color: #7f7f7f\">               </span>\n",
       "<span style=\"color: #7fbfbf; text-decoration-color: #7fbfbf\">                    </span>         exclude empty or all-NA columns when determining the result dtypes. To <span style=\"color: #7f7f7f; text-decoration-color: #7f7f7f\">               </span>\n",
       "<span style=\"color: #7fbfbf; text-decoration-color: #7fbfbf\">                    </span>         retain the old behavior, exclude the relevant entries before the       <span style=\"color: #7f7f7f; text-decoration-color: #7f7f7f\">               </span>\n",
       "<span style=\"color: #7fbfbf; text-decoration-color: #7fbfbf\">                    </span>         concat operation.                                                      <span style=\"color: #7f7f7f; text-decoration-color: #7f7f7f\">               </span>\n",
       "<span style=\"color: #7fbfbf; text-decoration-color: #7fbfbf\">                    </span>           <span style=\"color: #800080; text-decoration-color: #800080; font-weight: bold\">pd.concat</span><span style=\"font-weight: bold\">(</span>dfs<span style=\"font-weight: bold\">)</span>                                                       <span style=\"color: #7f7f7f; text-decoration-color: #7f7f7f\">               </span>\n",
       "<span style=\"color: #7fbfbf; text-decoration-color: #7fbfbf\">                    </span>                                                                                <span style=\"color: #7f7f7f; text-decoration-color: #7f7f7f\">               </span>\n",
       "</pre>\n"
      ],
      "text/plain": [
       "\u001b[2;36m[04/06/25 01:15:33]\u001b[0m\u001b[2;36m \u001b[0m\u001b[33mWARNING \u001b[0m \u001b[35m/usr/local/lib/python3.11/dist-packages/soccerdata/\u001b[0m\u001b[95mfbref.py\u001b[0m:\u001b[1;36m165\u001b[0m:       \u001b]8;id=261817;file:///usr/lib/python3.11/warnings.py\u001b\\\u001b[2mwarnings.py\u001b[0m\u001b]8;;\u001b\\\u001b[2m:\u001b[0m\u001b]8;id=3471;file:///usr/lib/python3.11/warnings.py#110\u001b\\\u001b[2m110\u001b[0m\u001b]8;;\u001b\\\n",
       "\u001b[2;36m                    \u001b[0m         FutureWarning: The behavior of DataFrame concatenation with empty or   \u001b[2m               \u001b[0m\n",
       "\u001b[2;36m                    \u001b[0m         all-NA entries is deprecated. In a future version, this will no longer \u001b[2m               \u001b[0m\n",
       "\u001b[2;36m                    \u001b[0m         exclude empty or all-NA columns when determining the result dtypes. To \u001b[2m               \u001b[0m\n",
       "\u001b[2;36m                    \u001b[0m         retain the old behavior, exclude the relevant entries before the       \u001b[2m               \u001b[0m\n",
       "\u001b[2;36m                    \u001b[0m         concat operation.                                                      \u001b[2m               \u001b[0m\n",
       "\u001b[2;36m                    \u001b[0m           \u001b[1;35mpd.concat\u001b[0m\u001b[1m(\u001b[0mdfs\u001b[1m)\u001b[0m                                                       \u001b[2m               \u001b[0m\n",
       "\u001b[2;36m                    \u001b[0m                                                                                \u001b[2m               \u001b[0m\n"
      ]
     },
     "metadata": {},
     "output_type": "display_data"
    },
    {
     "data": {
      "text/html": [
       "<pre style=\"white-space:pre;overflow-x:auto;line-height:normal;font-family:Menlo,'DejaVu Sans Mono',consolas,'Courier New',monospace\"><span style=\"color: #7fbfbf; text-decoration-color: #7fbfbf\">[04/06/25 01:17:47] </span><span style=\"color: #808000; text-decoration-color: #808000\">WARNING </span> <span style=\"color: #800080; text-decoration-color: #800080\">/usr/local/lib/python3.11/dist-packages/soccerdata/</span><span style=\"color: #ff00ff; text-decoration-color: #ff00ff\">fbref.py</span>:<span style=\"color: #008080; text-decoration-color: #008080; font-weight: bold\">165</span>:       <a href=\"file:///usr/lib/python3.11/warnings.py\" target=\"_blank\"><span style=\"color: #7f7f7f; text-decoration-color: #7f7f7f\">warnings.py</span></a><span style=\"color: #7f7f7f; text-decoration-color: #7f7f7f\">:</span><a href=\"file:///usr/lib/python3.11/warnings.py#110\" target=\"_blank\"><span style=\"color: #7f7f7f; text-decoration-color: #7f7f7f\">110</span></a>\n",
       "<span style=\"color: #7fbfbf; text-decoration-color: #7fbfbf\">                    </span>         FutureWarning: The behavior of DataFrame concatenation with empty or   <span style=\"color: #7f7f7f; text-decoration-color: #7f7f7f\">               </span>\n",
       "<span style=\"color: #7fbfbf; text-decoration-color: #7fbfbf\">                    </span>         all-NA entries is deprecated. In a future version, this will no longer <span style=\"color: #7f7f7f; text-decoration-color: #7f7f7f\">               </span>\n",
       "<span style=\"color: #7fbfbf; text-decoration-color: #7fbfbf\">                    </span>         exclude empty or all-NA columns when determining the result dtypes. To <span style=\"color: #7f7f7f; text-decoration-color: #7f7f7f\">               </span>\n",
       "<span style=\"color: #7fbfbf; text-decoration-color: #7fbfbf\">                    </span>         retain the old behavior, exclude the relevant entries before the       <span style=\"color: #7f7f7f; text-decoration-color: #7f7f7f\">               </span>\n",
       "<span style=\"color: #7fbfbf; text-decoration-color: #7fbfbf\">                    </span>         concat operation.                                                      <span style=\"color: #7f7f7f; text-decoration-color: #7f7f7f\">               </span>\n",
       "<span style=\"color: #7fbfbf; text-decoration-color: #7fbfbf\">                    </span>           <span style=\"color: #800080; text-decoration-color: #800080; font-weight: bold\">pd.concat</span><span style=\"font-weight: bold\">(</span>dfs<span style=\"font-weight: bold\">)</span>                                                       <span style=\"color: #7f7f7f; text-decoration-color: #7f7f7f\">               </span>\n",
       "<span style=\"color: #7fbfbf; text-decoration-color: #7fbfbf\">                    </span>                                                                                <span style=\"color: #7f7f7f; text-decoration-color: #7f7f7f\">               </span>\n",
       "</pre>\n"
      ],
      "text/plain": [
       "\u001b[2;36m[04/06/25 01:17:47]\u001b[0m\u001b[2;36m \u001b[0m\u001b[33mWARNING \u001b[0m \u001b[35m/usr/local/lib/python3.11/dist-packages/soccerdata/\u001b[0m\u001b[95mfbref.py\u001b[0m:\u001b[1;36m165\u001b[0m:       \u001b]8;id=997655;file:///usr/lib/python3.11/warnings.py\u001b\\\u001b[2mwarnings.py\u001b[0m\u001b]8;;\u001b\\\u001b[2m:\u001b[0m\u001b]8;id=386417;file:///usr/lib/python3.11/warnings.py#110\u001b\\\u001b[2m110\u001b[0m\u001b]8;;\u001b\\\n",
       "\u001b[2;36m                    \u001b[0m         FutureWarning: The behavior of DataFrame concatenation with empty or   \u001b[2m               \u001b[0m\n",
       "\u001b[2;36m                    \u001b[0m         all-NA entries is deprecated. In a future version, this will no longer \u001b[2m               \u001b[0m\n",
       "\u001b[2;36m                    \u001b[0m         exclude empty or all-NA columns when determining the result dtypes. To \u001b[2m               \u001b[0m\n",
       "\u001b[2;36m                    \u001b[0m         retain the old behavior, exclude the relevant entries before the       \u001b[2m               \u001b[0m\n",
       "\u001b[2;36m                    \u001b[0m         concat operation.                                                      \u001b[2m               \u001b[0m\n",
       "\u001b[2;36m                    \u001b[0m           \u001b[1;35mpd.concat\u001b[0m\u001b[1m(\u001b[0mdfs\u001b[1m)\u001b[0m                                                       \u001b[2m               \u001b[0m\n",
       "\u001b[2;36m                    \u001b[0m                                                                                \u001b[2m               \u001b[0m\n"
      ]
     },
     "metadata": {},
     "output_type": "display_data"
    },
    {
     "data": {
      "text/html": [
       "<pre style=\"white-space:pre;overflow-x:auto;line-height:normal;font-family:Menlo,'DejaVu Sans Mono',consolas,'Courier New',monospace\"><span style=\"color: #7fbfbf; text-decoration-color: #7fbfbf\">[04/06/25 01:20:03] </span><span style=\"color: #808000; text-decoration-color: #808000\">WARNING </span> <span style=\"color: #800080; text-decoration-color: #800080\">/usr/local/lib/python3.11/dist-packages/soccerdata/</span><span style=\"color: #ff00ff; text-decoration-color: #ff00ff\">fbref.py</span>:<span style=\"color: #008080; text-decoration-color: #008080; font-weight: bold\">165</span>:       <a href=\"file:///usr/lib/python3.11/warnings.py\" target=\"_blank\"><span style=\"color: #7f7f7f; text-decoration-color: #7f7f7f\">warnings.py</span></a><span style=\"color: #7f7f7f; text-decoration-color: #7f7f7f\">:</span><a href=\"file:///usr/lib/python3.11/warnings.py#110\" target=\"_blank\"><span style=\"color: #7f7f7f; text-decoration-color: #7f7f7f\">110</span></a>\n",
       "<span style=\"color: #7fbfbf; text-decoration-color: #7fbfbf\">                    </span>         FutureWarning: The behavior of DataFrame concatenation with empty or   <span style=\"color: #7f7f7f; text-decoration-color: #7f7f7f\">               </span>\n",
       "<span style=\"color: #7fbfbf; text-decoration-color: #7fbfbf\">                    </span>         all-NA entries is deprecated. In a future version, this will no longer <span style=\"color: #7f7f7f; text-decoration-color: #7f7f7f\">               </span>\n",
       "<span style=\"color: #7fbfbf; text-decoration-color: #7fbfbf\">                    </span>         exclude empty or all-NA columns when determining the result dtypes. To <span style=\"color: #7f7f7f; text-decoration-color: #7f7f7f\">               </span>\n",
       "<span style=\"color: #7fbfbf; text-decoration-color: #7fbfbf\">                    </span>         retain the old behavior, exclude the relevant entries before the       <span style=\"color: #7f7f7f; text-decoration-color: #7f7f7f\">               </span>\n",
       "<span style=\"color: #7fbfbf; text-decoration-color: #7fbfbf\">                    </span>         concat operation.                                                      <span style=\"color: #7f7f7f; text-decoration-color: #7f7f7f\">               </span>\n",
       "<span style=\"color: #7fbfbf; text-decoration-color: #7fbfbf\">                    </span>           <span style=\"color: #800080; text-decoration-color: #800080; font-weight: bold\">pd.concat</span><span style=\"font-weight: bold\">(</span>dfs<span style=\"font-weight: bold\">)</span>                                                       <span style=\"color: #7f7f7f; text-decoration-color: #7f7f7f\">               </span>\n",
       "<span style=\"color: #7fbfbf; text-decoration-color: #7fbfbf\">                    </span>                                                                                <span style=\"color: #7f7f7f; text-decoration-color: #7f7f7f\">               </span>\n",
       "</pre>\n"
      ],
      "text/plain": [
       "\u001b[2;36m[04/06/25 01:20:03]\u001b[0m\u001b[2;36m \u001b[0m\u001b[33mWARNING \u001b[0m \u001b[35m/usr/local/lib/python3.11/dist-packages/soccerdata/\u001b[0m\u001b[95mfbref.py\u001b[0m:\u001b[1;36m165\u001b[0m:       \u001b]8;id=308313;file:///usr/lib/python3.11/warnings.py\u001b\\\u001b[2mwarnings.py\u001b[0m\u001b]8;;\u001b\\\u001b[2m:\u001b[0m\u001b]8;id=146517;file:///usr/lib/python3.11/warnings.py#110\u001b\\\u001b[2m110\u001b[0m\u001b]8;;\u001b\\\n",
       "\u001b[2;36m                    \u001b[0m         FutureWarning: The behavior of DataFrame concatenation with empty or   \u001b[2m               \u001b[0m\n",
       "\u001b[2;36m                    \u001b[0m         all-NA entries is deprecated. In a future version, this will no longer \u001b[2m               \u001b[0m\n",
       "\u001b[2;36m                    \u001b[0m         exclude empty or all-NA columns when determining the result dtypes. To \u001b[2m               \u001b[0m\n",
       "\u001b[2;36m                    \u001b[0m         retain the old behavior, exclude the relevant entries before the       \u001b[2m               \u001b[0m\n",
       "\u001b[2;36m                    \u001b[0m         concat operation.                                                      \u001b[2m               \u001b[0m\n",
       "\u001b[2;36m                    \u001b[0m           \u001b[1;35mpd.concat\u001b[0m\u001b[1m(\u001b[0mdfs\u001b[1m)\u001b[0m                                                       \u001b[2m               \u001b[0m\n",
       "\u001b[2;36m                    \u001b[0m                                                                                \u001b[2m               \u001b[0m\n"
      ]
     },
     "metadata": {},
     "output_type": "display_data"
    },
    {
     "data": {
      "text/html": [
       "<pre style=\"white-space:pre;overflow-x:auto;line-height:normal;font-family:Menlo,'DejaVu Sans Mono',consolas,'Courier New',monospace\"><span style=\"color: #7fbfbf; text-decoration-color: #7fbfbf\">[04/06/25 01:22:18] </span><span style=\"color: #808000; text-decoration-color: #808000\">WARNING </span> <span style=\"color: #800080; text-decoration-color: #800080\">/usr/local/lib/python3.11/dist-packages/soccerdata/</span><span style=\"color: #ff00ff; text-decoration-color: #ff00ff\">fbref.py</span>:<span style=\"color: #008080; text-decoration-color: #008080; font-weight: bold\">165</span>:       <a href=\"file:///usr/lib/python3.11/warnings.py\" target=\"_blank\"><span style=\"color: #7f7f7f; text-decoration-color: #7f7f7f\">warnings.py</span></a><span style=\"color: #7f7f7f; text-decoration-color: #7f7f7f\">:</span><a href=\"file:///usr/lib/python3.11/warnings.py#110\" target=\"_blank\"><span style=\"color: #7f7f7f; text-decoration-color: #7f7f7f\">110</span></a>\n",
       "<span style=\"color: #7fbfbf; text-decoration-color: #7fbfbf\">                    </span>         FutureWarning: The behavior of DataFrame concatenation with empty or   <span style=\"color: #7f7f7f; text-decoration-color: #7f7f7f\">               </span>\n",
       "<span style=\"color: #7fbfbf; text-decoration-color: #7fbfbf\">                    </span>         all-NA entries is deprecated. In a future version, this will no longer <span style=\"color: #7f7f7f; text-decoration-color: #7f7f7f\">               </span>\n",
       "<span style=\"color: #7fbfbf; text-decoration-color: #7fbfbf\">                    </span>         exclude empty or all-NA columns when determining the result dtypes. To <span style=\"color: #7f7f7f; text-decoration-color: #7f7f7f\">               </span>\n",
       "<span style=\"color: #7fbfbf; text-decoration-color: #7fbfbf\">                    </span>         retain the old behavior, exclude the relevant entries before the       <span style=\"color: #7f7f7f; text-decoration-color: #7f7f7f\">               </span>\n",
       "<span style=\"color: #7fbfbf; text-decoration-color: #7fbfbf\">                    </span>         concat operation.                                                      <span style=\"color: #7f7f7f; text-decoration-color: #7f7f7f\">               </span>\n",
       "<span style=\"color: #7fbfbf; text-decoration-color: #7fbfbf\">                    </span>           <span style=\"color: #800080; text-decoration-color: #800080; font-weight: bold\">pd.concat</span><span style=\"font-weight: bold\">(</span>dfs<span style=\"font-weight: bold\">)</span>                                                       <span style=\"color: #7f7f7f; text-decoration-color: #7f7f7f\">               </span>\n",
       "<span style=\"color: #7fbfbf; text-decoration-color: #7fbfbf\">                    </span>                                                                                <span style=\"color: #7f7f7f; text-decoration-color: #7f7f7f\">               </span>\n",
       "</pre>\n"
      ],
      "text/plain": [
       "\u001b[2;36m[04/06/25 01:22:18]\u001b[0m\u001b[2;36m \u001b[0m\u001b[33mWARNING \u001b[0m \u001b[35m/usr/local/lib/python3.11/dist-packages/soccerdata/\u001b[0m\u001b[95mfbref.py\u001b[0m:\u001b[1;36m165\u001b[0m:       \u001b]8;id=954848;file:///usr/lib/python3.11/warnings.py\u001b\\\u001b[2mwarnings.py\u001b[0m\u001b]8;;\u001b\\\u001b[2m:\u001b[0m\u001b]8;id=337007;file:///usr/lib/python3.11/warnings.py#110\u001b\\\u001b[2m110\u001b[0m\u001b]8;;\u001b\\\n",
       "\u001b[2;36m                    \u001b[0m         FutureWarning: The behavior of DataFrame concatenation with empty or   \u001b[2m               \u001b[0m\n",
       "\u001b[2;36m                    \u001b[0m         all-NA entries is deprecated. In a future version, this will no longer \u001b[2m               \u001b[0m\n",
       "\u001b[2;36m                    \u001b[0m         exclude empty or all-NA columns when determining the result dtypes. To \u001b[2m               \u001b[0m\n",
       "\u001b[2;36m                    \u001b[0m         retain the old behavior, exclude the relevant entries before the       \u001b[2m               \u001b[0m\n",
       "\u001b[2;36m                    \u001b[0m         concat operation.                                                      \u001b[2m               \u001b[0m\n",
       "\u001b[2;36m                    \u001b[0m           \u001b[1;35mpd.concat\u001b[0m\u001b[1m(\u001b[0mdfs\u001b[1m)\u001b[0m                                                       \u001b[2m               \u001b[0m\n",
       "\u001b[2;36m                    \u001b[0m                                                                                \u001b[2m               \u001b[0m\n"
      ]
     },
     "metadata": {},
     "output_type": "display_data"
    },
    {
     "data": {
      "text/html": [
       "<pre style=\"white-space:pre;overflow-x:auto;line-height:normal;font-family:Menlo,'DejaVu Sans Mono',consolas,'Courier New',monospace\"><span style=\"color: #7fbfbf; text-decoration-color: #7fbfbf\">[04/06/25 01:24:41] </span><span style=\"color: #808000; text-decoration-color: #808000\">WARNING </span> <span style=\"color: #800080; text-decoration-color: #800080\">/usr/local/lib/python3.11/dist-packages/soccerdata/</span><span style=\"color: #ff00ff; text-decoration-color: #ff00ff\">fbref.py</span>:<span style=\"color: #008080; text-decoration-color: #008080; font-weight: bold\">165</span>:       <a href=\"file:///usr/lib/python3.11/warnings.py\" target=\"_blank\"><span style=\"color: #7f7f7f; text-decoration-color: #7f7f7f\">warnings.py</span></a><span style=\"color: #7f7f7f; text-decoration-color: #7f7f7f\">:</span><a href=\"file:///usr/lib/python3.11/warnings.py#110\" target=\"_blank\"><span style=\"color: #7f7f7f; text-decoration-color: #7f7f7f\">110</span></a>\n",
       "<span style=\"color: #7fbfbf; text-decoration-color: #7fbfbf\">                    </span>         FutureWarning: The behavior of DataFrame concatenation with empty or   <span style=\"color: #7f7f7f; text-decoration-color: #7f7f7f\">               </span>\n",
       "<span style=\"color: #7fbfbf; text-decoration-color: #7fbfbf\">                    </span>         all-NA entries is deprecated. In a future version, this will no longer <span style=\"color: #7f7f7f; text-decoration-color: #7f7f7f\">               </span>\n",
       "<span style=\"color: #7fbfbf; text-decoration-color: #7fbfbf\">                    </span>         exclude empty or all-NA columns when determining the result dtypes. To <span style=\"color: #7f7f7f; text-decoration-color: #7f7f7f\">               </span>\n",
       "<span style=\"color: #7fbfbf; text-decoration-color: #7fbfbf\">                    </span>         retain the old behavior, exclude the relevant entries before the       <span style=\"color: #7f7f7f; text-decoration-color: #7f7f7f\">               </span>\n",
       "<span style=\"color: #7fbfbf; text-decoration-color: #7fbfbf\">                    </span>         concat operation.                                                      <span style=\"color: #7f7f7f; text-decoration-color: #7f7f7f\">               </span>\n",
       "<span style=\"color: #7fbfbf; text-decoration-color: #7fbfbf\">                    </span>           <span style=\"color: #800080; text-decoration-color: #800080; font-weight: bold\">pd.concat</span><span style=\"font-weight: bold\">(</span>dfs<span style=\"font-weight: bold\">)</span>                                                       <span style=\"color: #7f7f7f; text-decoration-color: #7f7f7f\">               </span>\n",
       "<span style=\"color: #7fbfbf; text-decoration-color: #7fbfbf\">                    </span>                                                                                <span style=\"color: #7f7f7f; text-decoration-color: #7f7f7f\">               </span>\n",
       "</pre>\n"
      ],
      "text/plain": [
       "\u001b[2;36m[04/06/25 01:24:41]\u001b[0m\u001b[2;36m \u001b[0m\u001b[33mWARNING \u001b[0m \u001b[35m/usr/local/lib/python3.11/dist-packages/soccerdata/\u001b[0m\u001b[95mfbref.py\u001b[0m:\u001b[1;36m165\u001b[0m:       \u001b]8;id=334900;file:///usr/lib/python3.11/warnings.py\u001b\\\u001b[2mwarnings.py\u001b[0m\u001b]8;;\u001b\\\u001b[2m:\u001b[0m\u001b]8;id=541352;file:///usr/lib/python3.11/warnings.py#110\u001b\\\u001b[2m110\u001b[0m\u001b]8;;\u001b\\\n",
       "\u001b[2;36m                    \u001b[0m         FutureWarning: The behavior of DataFrame concatenation with empty or   \u001b[2m               \u001b[0m\n",
       "\u001b[2;36m                    \u001b[0m         all-NA entries is deprecated. In a future version, this will no longer \u001b[2m               \u001b[0m\n",
       "\u001b[2;36m                    \u001b[0m         exclude empty or all-NA columns when determining the result dtypes. To \u001b[2m               \u001b[0m\n",
       "\u001b[2;36m                    \u001b[0m         retain the old behavior, exclude the relevant entries before the       \u001b[2m               \u001b[0m\n",
       "\u001b[2;36m                    \u001b[0m         concat operation.                                                      \u001b[2m               \u001b[0m\n",
       "\u001b[2;36m                    \u001b[0m           \u001b[1;35mpd.concat\u001b[0m\u001b[1m(\u001b[0mdfs\u001b[1m)\u001b[0m                                                       \u001b[2m               \u001b[0m\n",
       "\u001b[2;36m                    \u001b[0m                                                                                \u001b[2m               \u001b[0m\n"
      ]
     },
     "metadata": {},
     "output_type": "display_data"
    },
    {
     "name": "stderr",
     "output_type": "stream",
     "text": [
      "\r 50%|█████     | 5/10 [1:47:43<1:46:44, 1280.84s/it]"
     ]
    },
    {
     "data": {
      "text/html": [
       "<pre style=\"white-space:pre;overflow-x:auto;line-height:normal;font-family:Menlo,'DejaVu Sans Mono',consolas,'Courier New',monospace\"><span style=\"color: #7fbfbf; text-decoration-color: #7fbfbf\">[04/06/25 01:26:55] </span><span style=\"color: #000080; text-decoration-color: #000080\">INFO    </span> Saving cached data to <span style=\"color: #800080; text-decoration-color: #800080\">/root/soccerdata/data/</span><span style=\"color: #ff00ff; text-decoration-color: #ff00ff\">FBref</span>                       <a href=\"file:///usr/local/lib/python3.11/dist-packages/soccerdata/_common.py\" target=\"_blank\"><span style=\"color: #7f7f7f; text-decoration-color: #7f7f7f\">_common.py</span></a><span style=\"color: #7f7f7f; text-decoration-color: #7f7f7f\">:</span><a href=\"file:///usr/local/lib/python3.11/dist-packages/soccerdata/_common.py#263\" target=\"_blank\"><span style=\"color: #7f7f7f; text-decoration-color: #7f7f7f\">263</span></a>\n",
       "</pre>\n"
      ],
      "text/plain": [
       "\u001b[2;36m[04/06/25 01:26:55]\u001b[0m\u001b[2;36m \u001b[0m\u001b[34mINFO    \u001b[0m Saving cached data to \u001b[35m/root/soccerdata/data/\u001b[0m\u001b[95mFBref\u001b[0m                       \u001b]8;id=978554;file:///usr/local/lib/python3.11/dist-packages/soccerdata/_common.py\u001b\\\u001b[2m_common.py\u001b[0m\u001b]8;;\u001b\\\u001b[2m:\u001b[0m\u001b]8;id=490167;file:///usr/local/lib/python3.11/dist-packages/soccerdata/_common.py#263\u001b\\\u001b[2m263\u001b[0m\u001b]8;;\u001b\\\n"
      ]
     },
     "metadata": {},
     "output_type": "display_data"
    },
    {
     "data": {
      "text/html": [
       "<pre style=\"white-space:pre;overflow-x:auto;line-height:normal;font-family:Menlo,'DejaVu Sans Mono',consolas,'Courier New',monospace\"><span style=\"color: #7fbfbf; text-decoration-color: #7fbfbf\">                    </span><span style=\"color: #808000; text-decoration-color: #808000\">WARNING </span> <span style=\"color: #800080; text-decoration-color: #800080\">/usr/local/lib/python3.11/dist-packages/soccerdata/</span><span style=\"color: #ff00ff; text-decoration-color: #ff00ff\">fbref.py</span>:<span style=\"color: #008080; text-decoration-color: #008080; font-weight: bold\">165</span>:       <a href=\"file:///usr/lib/python3.11/warnings.py\" target=\"_blank\"><span style=\"color: #7f7f7f; text-decoration-color: #7f7f7f\">warnings.py</span></a><span style=\"color: #7f7f7f; text-decoration-color: #7f7f7f\">:</span><a href=\"file:///usr/lib/python3.11/warnings.py#110\" target=\"_blank\"><span style=\"color: #7f7f7f; text-decoration-color: #7f7f7f\">110</span></a>\n",
       "<span style=\"color: #7fbfbf; text-decoration-color: #7fbfbf\">                    </span>         FutureWarning: The behavior of DataFrame concatenation with empty or   <span style=\"color: #7f7f7f; text-decoration-color: #7f7f7f\">               </span>\n",
       "<span style=\"color: #7fbfbf; text-decoration-color: #7fbfbf\">                    </span>         all-NA entries is deprecated. In a future version, this will no longer <span style=\"color: #7f7f7f; text-decoration-color: #7f7f7f\">               </span>\n",
       "<span style=\"color: #7fbfbf; text-decoration-color: #7fbfbf\">                    </span>         exclude empty or all-NA columns when determining the result dtypes. To <span style=\"color: #7f7f7f; text-decoration-color: #7f7f7f\">               </span>\n",
       "<span style=\"color: #7fbfbf; text-decoration-color: #7fbfbf\">                    </span>         retain the old behavior, exclude the relevant entries before the       <span style=\"color: #7f7f7f; text-decoration-color: #7f7f7f\">               </span>\n",
       "<span style=\"color: #7fbfbf; text-decoration-color: #7fbfbf\">                    </span>         concat operation.                                                      <span style=\"color: #7f7f7f; text-decoration-color: #7f7f7f\">               </span>\n",
       "<span style=\"color: #7fbfbf; text-decoration-color: #7fbfbf\">                    </span>           <span style=\"color: #800080; text-decoration-color: #800080; font-weight: bold\">pd.concat</span><span style=\"font-weight: bold\">(</span>dfs<span style=\"font-weight: bold\">)</span>                                                       <span style=\"color: #7f7f7f; text-decoration-color: #7f7f7f\">               </span>\n",
       "<span style=\"color: #7fbfbf; text-decoration-color: #7fbfbf\">                    </span>                                                                                <span style=\"color: #7f7f7f; text-decoration-color: #7f7f7f\">               </span>\n",
       "</pre>\n"
      ],
      "text/plain": [
       "\u001b[2;36m                   \u001b[0m\u001b[2;36m \u001b[0m\u001b[33mWARNING \u001b[0m \u001b[35m/usr/local/lib/python3.11/dist-packages/soccerdata/\u001b[0m\u001b[95mfbref.py\u001b[0m:\u001b[1;36m165\u001b[0m:       \u001b]8;id=751322;file:///usr/lib/python3.11/warnings.py\u001b\\\u001b[2mwarnings.py\u001b[0m\u001b]8;;\u001b\\\u001b[2m:\u001b[0m\u001b]8;id=519066;file:///usr/lib/python3.11/warnings.py#110\u001b\\\u001b[2m110\u001b[0m\u001b]8;;\u001b\\\n",
       "\u001b[2;36m                    \u001b[0m         FutureWarning: The behavior of DataFrame concatenation with empty or   \u001b[2m               \u001b[0m\n",
       "\u001b[2;36m                    \u001b[0m         all-NA entries is deprecated. In a future version, this will no longer \u001b[2m               \u001b[0m\n",
       "\u001b[2;36m                    \u001b[0m         exclude empty or all-NA columns when determining the result dtypes. To \u001b[2m               \u001b[0m\n",
       "\u001b[2;36m                    \u001b[0m         retain the old behavior, exclude the relevant entries before the       \u001b[2m               \u001b[0m\n",
       "\u001b[2;36m                    \u001b[0m         concat operation.                                                      \u001b[2m               \u001b[0m\n",
       "\u001b[2;36m                    \u001b[0m           \u001b[1;35mpd.concat\u001b[0m\u001b[1m(\u001b[0mdfs\u001b[1m)\u001b[0m                                                       \u001b[2m               \u001b[0m\n",
       "\u001b[2;36m                    \u001b[0m                                                                                \u001b[2m               \u001b[0m\n"
      ]
     },
     "metadata": {},
     "output_type": "display_data"
    },
    {
     "data": {
      "text/html": [
       "<pre style=\"white-space:pre;overflow-x:auto;line-height:normal;font-family:Menlo,'DejaVu Sans Mono',consolas,'Courier New',monospace\"><span style=\"color: #7fbfbf; text-decoration-color: #7fbfbf\">[04/06/25 01:29:07] </span><span style=\"color: #808000; text-decoration-color: #808000\">WARNING </span> <span style=\"color: #800080; text-decoration-color: #800080\">/usr/local/lib/python3.11/dist-packages/soccerdata/</span><span style=\"color: #ff00ff; text-decoration-color: #ff00ff\">fbref.py</span>:<span style=\"color: #008080; text-decoration-color: #008080; font-weight: bold\">1273</span>:      <a href=\"file:///usr/lib/python3.11/warnings.py\" target=\"_blank\"><span style=\"color: #7f7f7f; text-decoration-color: #7f7f7f\">warnings.py</span></a><span style=\"color: #7f7f7f; text-decoration-color: #7f7f7f\">:</span><a href=\"file:///usr/lib/python3.11/warnings.py#110\" target=\"_blank\"><span style=\"color: #7f7f7f; text-decoration-color: #7f7f7f\">110</span></a>\n",
       "<span style=\"color: #7fbfbf; text-decoration-color: #7fbfbf\">                    </span>         FutureWarning: The behavior of DataFrame concatenation with empty or   <span style=\"color: #7f7f7f; text-decoration-color: #7f7f7f\">               </span>\n",
       "<span style=\"color: #7fbfbf; text-decoration-color: #7fbfbf\">                    </span>         all-NA entries is deprecated. In a future version, this will no longer <span style=\"color: #7f7f7f; text-decoration-color: #7f7f7f\">               </span>\n",
       "<span style=\"color: #7fbfbf; text-decoration-color: #7fbfbf\">                    </span>         exclude empty or all-NA columns when determining the result dtypes. To <span style=\"color: #7f7f7f; text-decoration-color: #7f7f7f\">               </span>\n",
       "<span style=\"color: #7fbfbf; text-decoration-color: #7fbfbf\">                    </span>         retain the old behavior, exclude the relevant entries before the       <span style=\"color: #7f7f7f; text-decoration-color: #7f7f7f\">               </span>\n",
       "<span style=\"color: #7fbfbf; text-decoration-color: #7fbfbf\">                    </span>         concat operation.                                                      <span style=\"color: #7f7f7f; text-decoration-color: #7f7f7f\">               </span>\n",
       "<span style=\"color: #7fbfbf; text-decoration-color: #7fbfbf\">                    </span>           return <span style=\"color: #800080; text-decoration-color: #800080; font-weight: bold\">pd.concat</span><span style=\"font-weight: bold\">(</span>dfs<span style=\"font-weight: bold\">)</span>                                                <span style=\"color: #7f7f7f; text-decoration-color: #7f7f7f\">               </span>\n",
       "<span style=\"color: #7fbfbf; text-decoration-color: #7fbfbf\">                    </span>                                                                                <span style=\"color: #7f7f7f; text-decoration-color: #7f7f7f\">               </span>\n",
       "</pre>\n"
      ],
      "text/plain": [
       "\u001b[2;36m[04/06/25 01:29:07]\u001b[0m\u001b[2;36m \u001b[0m\u001b[33mWARNING \u001b[0m \u001b[35m/usr/local/lib/python3.11/dist-packages/soccerdata/\u001b[0m\u001b[95mfbref.py\u001b[0m:\u001b[1;36m1273\u001b[0m:      \u001b]8;id=709332;file:///usr/lib/python3.11/warnings.py\u001b\\\u001b[2mwarnings.py\u001b[0m\u001b]8;;\u001b\\\u001b[2m:\u001b[0m\u001b]8;id=865216;file:///usr/lib/python3.11/warnings.py#110\u001b\\\u001b[2m110\u001b[0m\u001b]8;;\u001b\\\n",
       "\u001b[2;36m                    \u001b[0m         FutureWarning: The behavior of DataFrame concatenation with empty or   \u001b[2m               \u001b[0m\n",
       "\u001b[2;36m                    \u001b[0m         all-NA entries is deprecated. In a future version, this will no longer \u001b[2m               \u001b[0m\n",
       "\u001b[2;36m                    \u001b[0m         exclude empty or all-NA columns when determining the result dtypes. To \u001b[2m               \u001b[0m\n",
       "\u001b[2;36m                    \u001b[0m         retain the old behavior, exclude the relevant entries before the       \u001b[2m               \u001b[0m\n",
       "\u001b[2;36m                    \u001b[0m         concat operation.                                                      \u001b[2m               \u001b[0m\n",
       "\u001b[2;36m                    \u001b[0m           return \u001b[1;35mpd.concat\u001b[0m\u001b[1m(\u001b[0mdfs\u001b[1m)\u001b[0m                                                \u001b[2m               \u001b[0m\n",
       "\u001b[2;36m                    \u001b[0m                                                                                \u001b[2m               \u001b[0m\n"
      ]
     },
     "metadata": {},
     "output_type": "display_data"
    },
    {
     "data": {
      "text/html": [
       "<pre style=\"white-space:pre;overflow-x:auto;line-height:normal;font-family:Menlo,'DejaVu Sans Mono',consolas,'Courier New',monospace\"><span style=\"color: #7fbfbf; text-decoration-color: #7fbfbf\">[04/06/25 01:29:08] </span><span style=\"color: #808000; text-decoration-color: #808000\">WARNING </span> <span style=\"color: #800080; text-decoration-color: #800080\">/usr/local/lib/python3.11/dist-packages/soccerdata/</span><span style=\"color: #ff00ff; text-decoration-color: #ff00ff\">fbref.py</span>:<span style=\"color: #008080; text-decoration-color: #008080; font-weight: bold\">165</span>:       <a href=\"file:///usr/lib/python3.11/warnings.py\" target=\"_blank\"><span style=\"color: #7f7f7f; text-decoration-color: #7f7f7f\">warnings.py</span></a><span style=\"color: #7f7f7f; text-decoration-color: #7f7f7f\">:</span><a href=\"file:///usr/lib/python3.11/warnings.py#110\" target=\"_blank\"><span style=\"color: #7f7f7f; text-decoration-color: #7f7f7f\">110</span></a>\n",
       "<span style=\"color: #7fbfbf; text-decoration-color: #7fbfbf\">                    </span>         FutureWarning: The behavior of DataFrame concatenation with empty or   <span style=\"color: #7f7f7f; text-decoration-color: #7f7f7f\">               </span>\n",
       "<span style=\"color: #7fbfbf; text-decoration-color: #7fbfbf\">                    </span>         all-NA entries is deprecated. In a future version, this will no longer <span style=\"color: #7f7f7f; text-decoration-color: #7f7f7f\">               </span>\n",
       "<span style=\"color: #7fbfbf; text-decoration-color: #7fbfbf\">                    </span>         exclude empty or all-NA columns when determining the result dtypes. To <span style=\"color: #7f7f7f; text-decoration-color: #7f7f7f\">               </span>\n",
       "<span style=\"color: #7fbfbf; text-decoration-color: #7fbfbf\">                    </span>         retain the old behavior, exclude the relevant entries before the       <span style=\"color: #7f7f7f; text-decoration-color: #7f7f7f\">               </span>\n",
       "<span style=\"color: #7fbfbf; text-decoration-color: #7fbfbf\">                    </span>         concat operation.                                                      <span style=\"color: #7f7f7f; text-decoration-color: #7f7f7f\">               </span>\n",
       "<span style=\"color: #7fbfbf; text-decoration-color: #7fbfbf\">                    </span>           <span style=\"color: #800080; text-decoration-color: #800080; font-weight: bold\">pd.concat</span><span style=\"font-weight: bold\">(</span>dfs<span style=\"font-weight: bold\">)</span>                                                       <span style=\"color: #7f7f7f; text-decoration-color: #7f7f7f\">               </span>\n",
       "<span style=\"color: #7fbfbf; text-decoration-color: #7fbfbf\">                    </span>                                                                                <span style=\"color: #7f7f7f; text-decoration-color: #7f7f7f\">               </span>\n",
       "</pre>\n"
      ],
      "text/plain": [
       "\u001b[2;36m[04/06/25 01:29:08]\u001b[0m\u001b[2;36m \u001b[0m\u001b[33mWARNING \u001b[0m \u001b[35m/usr/local/lib/python3.11/dist-packages/soccerdata/\u001b[0m\u001b[95mfbref.py\u001b[0m:\u001b[1;36m165\u001b[0m:       \u001b]8;id=562439;file:///usr/lib/python3.11/warnings.py\u001b\\\u001b[2mwarnings.py\u001b[0m\u001b]8;;\u001b\\\u001b[2m:\u001b[0m\u001b]8;id=837933;file:///usr/lib/python3.11/warnings.py#110\u001b\\\u001b[2m110\u001b[0m\u001b]8;;\u001b\\\n",
       "\u001b[2;36m                    \u001b[0m         FutureWarning: The behavior of DataFrame concatenation with empty or   \u001b[2m               \u001b[0m\n",
       "\u001b[2;36m                    \u001b[0m         all-NA entries is deprecated. In a future version, this will no longer \u001b[2m               \u001b[0m\n",
       "\u001b[2;36m                    \u001b[0m         exclude empty or all-NA columns when determining the result dtypes. To \u001b[2m               \u001b[0m\n",
       "\u001b[2;36m                    \u001b[0m         retain the old behavior, exclude the relevant entries before the       \u001b[2m               \u001b[0m\n",
       "\u001b[2;36m                    \u001b[0m         concat operation.                                                      \u001b[2m               \u001b[0m\n",
       "\u001b[2;36m                    \u001b[0m           \u001b[1;35mpd.concat\u001b[0m\u001b[1m(\u001b[0mdfs\u001b[1m)\u001b[0m                                                       \u001b[2m               \u001b[0m\n",
       "\u001b[2;36m                    \u001b[0m                                                                                \u001b[2m               \u001b[0m\n"
      ]
     },
     "metadata": {},
     "output_type": "display_data"
    },
    {
     "data": {
      "text/html": [
       "<pre style=\"white-space:pre;overflow-x:auto;line-height:normal;font-family:Menlo,'DejaVu Sans Mono',consolas,'Courier New',monospace\"><span style=\"color: #7fbfbf; text-decoration-color: #7fbfbf\">[04/06/25 01:31:24] </span><span style=\"color: #808000; text-decoration-color: #808000\">WARNING </span> <span style=\"color: #800080; text-decoration-color: #800080\">/usr/local/lib/python3.11/dist-packages/soccerdata/</span><span style=\"color: #ff00ff; text-decoration-color: #ff00ff\">fbref.py</span>:<span style=\"color: #008080; text-decoration-color: #008080; font-weight: bold\">165</span>:       <a href=\"file:///usr/lib/python3.11/warnings.py\" target=\"_blank\"><span style=\"color: #7f7f7f; text-decoration-color: #7f7f7f\">warnings.py</span></a><span style=\"color: #7f7f7f; text-decoration-color: #7f7f7f\">:</span><a href=\"file:///usr/lib/python3.11/warnings.py#110\" target=\"_blank\"><span style=\"color: #7f7f7f; text-decoration-color: #7f7f7f\">110</span></a>\n",
       "<span style=\"color: #7fbfbf; text-decoration-color: #7fbfbf\">                    </span>         FutureWarning: The behavior of DataFrame concatenation with empty or   <span style=\"color: #7f7f7f; text-decoration-color: #7f7f7f\">               </span>\n",
       "<span style=\"color: #7fbfbf; text-decoration-color: #7fbfbf\">                    </span>         all-NA entries is deprecated. In a future version, this will no longer <span style=\"color: #7f7f7f; text-decoration-color: #7f7f7f\">               </span>\n",
       "<span style=\"color: #7fbfbf; text-decoration-color: #7fbfbf\">                    </span>         exclude empty or all-NA columns when determining the result dtypes. To <span style=\"color: #7f7f7f; text-decoration-color: #7f7f7f\">               </span>\n",
       "<span style=\"color: #7fbfbf; text-decoration-color: #7fbfbf\">                    </span>         retain the old behavior, exclude the relevant entries before the       <span style=\"color: #7f7f7f; text-decoration-color: #7f7f7f\">               </span>\n",
       "<span style=\"color: #7fbfbf; text-decoration-color: #7fbfbf\">                    </span>         concat operation.                                                      <span style=\"color: #7f7f7f; text-decoration-color: #7f7f7f\">               </span>\n",
       "<span style=\"color: #7fbfbf; text-decoration-color: #7fbfbf\">                    </span>           <span style=\"color: #800080; text-decoration-color: #800080; font-weight: bold\">pd.concat</span><span style=\"font-weight: bold\">(</span>dfs<span style=\"font-weight: bold\">)</span>                                                       <span style=\"color: #7f7f7f; text-decoration-color: #7f7f7f\">               </span>\n",
       "<span style=\"color: #7fbfbf; text-decoration-color: #7fbfbf\">                    </span>                                                                                <span style=\"color: #7f7f7f; text-decoration-color: #7f7f7f\">               </span>\n",
       "</pre>\n"
      ],
      "text/plain": [
       "\u001b[2;36m[04/06/25 01:31:24]\u001b[0m\u001b[2;36m \u001b[0m\u001b[33mWARNING \u001b[0m \u001b[35m/usr/local/lib/python3.11/dist-packages/soccerdata/\u001b[0m\u001b[95mfbref.py\u001b[0m:\u001b[1;36m165\u001b[0m:       \u001b]8;id=790355;file:///usr/lib/python3.11/warnings.py\u001b\\\u001b[2mwarnings.py\u001b[0m\u001b]8;;\u001b\\\u001b[2m:\u001b[0m\u001b]8;id=830773;file:///usr/lib/python3.11/warnings.py#110\u001b\\\u001b[2m110\u001b[0m\u001b]8;;\u001b\\\n",
       "\u001b[2;36m                    \u001b[0m         FutureWarning: The behavior of DataFrame concatenation with empty or   \u001b[2m               \u001b[0m\n",
       "\u001b[2;36m                    \u001b[0m         all-NA entries is deprecated. In a future version, this will no longer \u001b[2m               \u001b[0m\n",
       "\u001b[2;36m                    \u001b[0m         exclude empty or all-NA columns when determining the result dtypes. To \u001b[2m               \u001b[0m\n",
       "\u001b[2;36m                    \u001b[0m         retain the old behavior, exclude the relevant entries before the       \u001b[2m               \u001b[0m\n",
       "\u001b[2;36m                    \u001b[0m         concat operation.                                                      \u001b[2m               \u001b[0m\n",
       "\u001b[2;36m                    \u001b[0m           \u001b[1;35mpd.concat\u001b[0m\u001b[1m(\u001b[0mdfs\u001b[1m)\u001b[0m                                                       \u001b[2m               \u001b[0m\n",
       "\u001b[2;36m                    \u001b[0m                                                                                \u001b[2m               \u001b[0m\n"
      ]
     },
     "metadata": {},
     "output_type": "display_data"
    },
    {
     "data": {
      "text/html": [
       "<pre style=\"white-space:pre;overflow-x:auto;line-height:normal;font-family:Menlo,'DejaVu Sans Mono',consolas,'Courier New',monospace\"><span style=\"color: #7fbfbf; text-decoration-color: #7fbfbf\">[04/06/25 01:33:41] </span><span style=\"color: #808000; text-decoration-color: #808000\">WARNING </span> <span style=\"color: #800080; text-decoration-color: #800080\">/usr/local/lib/python3.11/dist-packages/soccerdata/</span><span style=\"color: #ff00ff; text-decoration-color: #ff00ff\">fbref.py</span>:<span style=\"color: #008080; text-decoration-color: #008080; font-weight: bold\">165</span>:       <a href=\"file:///usr/lib/python3.11/warnings.py\" target=\"_blank\"><span style=\"color: #7f7f7f; text-decoration-color: #7f7f7f\">warnings.py</span></a><span style=\"color: #7f7f7f; text-decoration-color: #7f7f7f\">:</span><a href=\"file:///usr/lib/python3.11/warnings.py#110\" target=\"_blank\"><span style=\"color: #7f7f7f; text-decoration-color: #7f7f7f\">110</span></a>\n",
       "<span style=\"color: #7fbfbf; text-decoration-color: #7fbfbf\">                    </span>         FutureWarning: The behavior of DataFrame concatenation with empty or   <span style=\"color: #7f7f7f; text-decoration-color: #7f7f7f\">               </span>\n",
       "<span style=\"color: #7fbfbf; text-decoration-color: #7fbfbf\">                    </span>         all-NA entries is deprecated. In a future version, this will no longer <span style=\"color: #7f7f7f; text-decoration-color: #7f7f7f\">               </span>\n",
       "<span style=\"color: #7fbfbf; text-decoration-color: #7fbfbf\">                    </span>         exclude empty or all-NA columns when determining the result dtypes. To <span style=\"color: #7f7f7f; text-decoration-color: #7f7f7f\">               </span>\n",
       "<span style=\"color: #7fbfbf; text-decoration-color: #7fbfbf\">                    </span>         retain the old behavior, exclude the relevant entries before the       <span style=\"color: #7f7f7f; text-decoration-color: #7f7f7f\">               </span>\n",
       "<span style=\"color: #7fbfbf; text-decoration-color: #7fbfbf\">                    </span>         concat operation.                                                      <span style=\"color: #7f7f7f; text-decoration-color: #7f7f7f\">               </span>\n",
       "<span style=\"color: #7fbfbf; text-decoration-color: #7fbfbf\">                    </span>           <span style=\"color: #800080; text-decoration-color: #800080; font-weight: bold\">pd.concat</span><span style=\"font-weight: bold\">(</span>dfs<span style=\"font-weight: bold\">)</span>                                                       <span style=\"color: #7f7f7f; text-decoration-color: #7f7f7f\">               </span>\n",
       "<span style=\"color: #7fbfbf; text-decoration-color: #7fbfbf\">                    </span>                                                                                <span style=\"color: #7f7f7f; text-decoration-color: #7f7f7f\">               </span>\n",
       "</pre>\n"
      ],
      "text/plain": [
       "\u001b[2;36m[04/06/25 01:33:41]\u001b[0m\u001b[2;36m \u001b[0m\u001b[33mWARNING \u001b[0m \u001b[35m/usr/local/lib/python3.11/dist-packages/soccerdata/\u001b[0m\u001b[95mfbref.py\u001b[0m:\u001b[1;36m165\u001b[0m:       \u001b]8;id=784745;file:///usr/lib/python3.11/warnings.py\u001b\\\u001b[2mwarnings.py\u001b[0m\u001b]8;;\u001b\\\u001b[2m:\u001b[0m\u001b]8;id=905900;file:///usr/lib/python3.11/warnings.py#110\u001b\\\u001b[2m110\u001b[0m\u001b]8;;\u001b\\\n",
       "\u001b[2;36m                    \u001b[0m         FutureWarning: The behavior of DataFrame concatenation with empty or   \u001b[2m               \u001b[0m\n",
       "\u001b[2;36m                    \u001b[0m         all-NA entries is deprecated. In a future version, this will no longer \u001b[2m               \u001b[0m\n",
       "\u001b[2;36m                    \u001b[0m         exclude empty or all-NA columns when determining the result dtypes. To \u001b[2m               \u001b[0m\n",
       "\u001b[2;36m                    \u001b[0m         retain the old behavior, exclude the relevant entries before the       \u001b[2m               \u001b[0m\n",
       "\u001b[2;36m                    \u001b[0m         concat operation.                                                      \u001b[2m               \u001b[0m\n",
       "\u001b[2;36m                    \u001b[0m           \u001b[1;35mpd.concat\u001b[0m\u001b[1m(\u001b[0mdfs\u001b[1m)\u001b[0m                                                       \u001b[2m               \u001b[0m\n",
       "\u001b[2;36m                    \u001b[0m                                                                                \u001b[2m               \u001b[0m\n"
      ]
     },
     "metadata": {},
     "output_type": "display_data"
    },
    {
     "data": {
      "text/html": [
       "<pre style=\"white-space:pre;overflow-x:auto;line-height:normal;font-family:Menlo,'DejaVu Sans Mono',consolas,'Courier New',monospace\"><span style=\"color: #7fbfbf; text-decoration-color: #7fbfbf\">[04/06/25 01:36:02] </span><span style=\"color: #808000; text-decoration-color: #808000\">WARNING </span> <span style=\"color: #800080; text-decoration-color: #800080\">/usr/local/lib/python3.11/dist-packages/soccerdata/</span><span style=\"color: #ff00ff; text-decoration-color: #ff00ff\">fbref.py</span>:<span style=\"color: #008080; text-decoration-color: #008080; font-weight: bold\">165</span>:       <a href=\"file:///usr/lib/python3.11/warnings.py\" target=\"_blank\"><span style=\"color: #7f7f7f; text-decoration-color: #7f7f7f\">warnings.py</span></a><span style=\"color: #7f7f7f; text-decoration-color: #7f7f7f\">:</span><a href=\"file:///usr/lib/python3.11/warnings.py#110\" target=\"_blank\"><span style=\"color: #7f7f7f; text-decoration-color: #7f7f7f\">110</span></a>\n",
       "<span style=\"color: #7fbfbf; text-decoration-color: #7fbfbf\">                    </span>         FutureWarning: The behavior of DataFrame concatenation with empty or   <span style=\"color: #7f7f7f; text-decoration-color: #7f7f7f\">               </span>\n",
       "<span style=\"color: #7fbfbf; text-decoration-color: #7fbfbf\">                    </span>         all-NA entries is deprecated. In a future version, this will no longer <span style=\"color: #7f7f7f; text-decoration-color: #7f7f7f\">               </span>\n",
       "<span style=\"color: #7fbfbf; text-decoration-color: #7fbfbf\">                    </span>         exclude empty or all-NA columns when determining the result dtypes. To <span style=\"color: #7f7f7f; text-decoration-color: #7f7f7f\">               </span>\n",
       "<span style=\"color: #7fbfbf; text-decoration-color: #7fbfbf\">                    </span>         retain the old behavior, exclude the relevant entries before the       <span style=\"color: #7f7f7f; text-decoration-color: #7f7f7f\">               </span>\n",
       "<span style=\"color: #7fbfbf; text-decoration-color: #7fbfbf\">                    </span>         concat operation.                                                      <span style=\"color: #7f7f7f; text-decoration-color: #7f7f7f\">               </span>\n",
       "<span style=\"color: #7fbfbf; text-decoration-color: #7fbfbf\">                    </span>           <span style=\"color: #800080; text-decoration-color: #800080; font-weight: bold\">pd.concat</span><span style=\"font-weight: bold\">(</span>dfs<span style=\"font-weight: bold\">)</span>                                                       <span style=\"color: #7f7f7f; text-decoration-color: #7f7f7f\">               </span>\n",
       "<span style=\"color: #7fbfbf; text-decoration-color: #7fbfbf\">                    </span>                                                                                <span style=\"color: #7f7f7f; text-decoration-color: #7f7f7f\">               </span>\n",
       "</pre>\n"
      ],
      "text/plain": [
       "\u001b[2;36m[04/06/25 01:36:02]\u001b[0m\u001b[2;36m \u001b[0m\u001b[33mWARNING \u001b[0m \u001b[35m/usr/local/lib/python3.11/dist-packages/soccerdata/\u001b[0m\u001b[95mfbref.py\u001b[0m:\u001b[1;36m165\u001b[0m:       \u001b]8;id=500637;file:///usr/lib/python3.11/warnings.py\u001b\\\u001b[2mwarnings.py\u001b[0m\u001b]8;;\u001b\\\u001b[2m:\u001b[0m\u001b]8;id=948167;file:///usr/lib/python3.11/warnings.py#110\u001b\\\u001b[2m110\u001b[0m\u001b]8;;\u001b\\\n",
       "\u001b[2;36m                    \u001b[0m         FutureWarning: The behavior of DataFrame concatenation with empty or   \u001b[2m               \u001b[0m\n",
       "\u001b[2;36m                    \u001b[0m         all-NA entries is deprecated. In a future version, this will no longer \u001b[2m               \u001b[0m\n",
       "\u001b[2;36m                    \u001b[0m         exclude empty or all-NA columns when determining the result dtypes. To \u001b[2m               \u001b[0m\n",
       "\u001b[2;36m                    \u001b[0m         retain the old behavior, exclude the relevant entries before the       \u001b[2m               \u001b[0m\n",
       "\u001b[2;36m                    \u001b[0m         concat operation.                                                      \u001b[2m               \u001b[0m\n",
       "\u001b[2;36m                    \u001b[0m           \u001b[1;35mpd.concat\u001b[0m\u001b[1m(\u001b[0mdfs\u001b[1m)\u001b[0m                                                       \u001b[2m               \u001b[0m\n",
       "\u001b[2;36m                    \u001b[0m                                                                                \u001b[2m               \u001b[0m\n"
      ]
     },
     "metadata": {},
     "output_type": "display_data"
    },
    {
     "data": {
      "text/html": [
       "<pre style=\"white-space:pre;overflow-x:auto;line-height:normal;font-family:Menlo,'DejaVu Sans Mono',consolas,'Courier New',monospace\"><span style=\"color: #7fbfbf; text-decoration-color: #7fbfbf\">[04/06/25 01:38:19] </span><span style=\"color: #808000; text-decoration-color: #808000\">WARNING </span> <span style=\"color: #800080; text-decoration-color: #800080\">/usr/local/lib/python3.11/dist-packages/soccerdata/</span><span style=\"color: #ff00ff; text-decoration-color: #ff00ff\">fbref.py</span>:<span style=\"color: #008080; text-decoration-color: #008080; font-weight: bold\">165</span>:       <a href=\"file:///usr/lib/python3.11/warnings.py\" target=\"_blank\"><span style=\"color: #7f7f7f; text-decoration-color: #7f7f7f\">warnings.py</span></a><span style=\"color: #7f7f7f; text-decoration-color: #7f7f7f\">:</span><a href=\"file:///usr/lib/python3.11/warnings.py#110\" target=\"_blank\"><span style=\"color: #7f7f7f; text-decoration-color: #7f7f7f\">110</span></a>\n",
       "<span style=\"color: #7fbfbf; text-decoration-color: #7fbfbf\">                    </span>         FutureWarning: The behavior of DataFrame concatenation with empty or   <span style=\"color: #7f7f7f; text-decoration-color: #7f7f7f\">               </span>\n",
       "<span style=\"color: #7fbfbf; text-decoration-color: #7fbfbf\">                    </span>         all-NA entries is deprecated. In a future version, this will no longer <span style=\"color: #7f7f7f; text-decoration-color: #7f7f7f\">               </span>\n",
       "<span style=\"color: #7fbfbf; text-decoration-color: #7fbfbf\">                    </span>         exclude empty or all-NA columns when determining the result dtypes. To <span style=\"color: #7f7f7f; text-decoration-color: #7f7f7f\">               </span>\n",
       "<span style=\"color: #7fbfbf; text-decoration-color: #7fbfbf\">                    </span>         retain the old behavior, exclude the relevant entries before the       <span style=\"color: #7f7f7f; text-decoration-color: #7f7f7f\">               </span>\n",
       "<span style=\"color: #7fbfbf; text-decoration-color: #7fbfbf\">                    </span>         concat operation.                                                      <span style=\"color: #7f7f7f; text-decoration-color: #7f7f7f\">               </span>\n",
       "<span style=\"color: #7fbfbf; text-decoration-color: #7fbfbf\">                    </span>           <span style=\"color: #800080; text-decoration-color: #800080; font-weight: bold\">pd.concat</span><span style=\"font-weight: bold\">(</span>dfs<span style=\"font-weight: bold\">)</span>                                                       <span style=\"color: #7f7f7f; text-decoration-color: #7f7f7f\">               </span>\n",
       "<span style=\"color: #7fbfbf; text-decoration-color: #7fbfbf\">                    </span>                                                                                <span style=\"color: #7f7f7f; text-decoration-color: #7f7f7f\">               </span>\n",
       "</pre>\n"
      ],
      "text/plain": [
       "\u001b[2;36m[04/06/25 01:38:19]\u001b[0m\u001b[2;36m \u001b[0m\u001b[33mWARNING \u001b[0m \u001b[35m/usr/local/lib/python3.11/dist-packages/soccerdata/\u001b[0m\u001b[95mfbref.py\u001b[0m:\u001b[1;36m165\u001b[0m:       \u001b]8;id=823698;file:///usr/lib/python3.11/warnings.py\u001b\\\u001b[2mwarnings.py\u001b[0m\u001b]8;;\u001b\\\u001b[2m:\u001b[0m\u001b]8;id=754356;file:///usr/lib/python3.11/warnings.py#110\u001b\\\u001b[2m110\u001b[0m\u001b]8;;\u001b\\\n",
       "\u001b[2;36m                    \u001b[0m         FutureWarning: The behavior of DataFrame concatenation with empty or   \u001b[2m               \u001b[0m\n",
       "\u001b[2;36m                    \u001b[0m         all-NA entries is deprecated. In a future version, this will no longer \u001b[2m               \u001b[0m\n",
       "\u001b[2;36m                    \u001b[0m         exclude empty or all-NA columns when determining the result dtypes. To \u001b[2m               \u001b[0m\n",
       "\u001b[2;36m                    \u001b[0m         retain the old behavior, exclude the relevant entries before the       \u001b[2m               \u001b[0m\n",
       "\u001b[2;36m                    \u001b[0m         concat operation.                                                      \u001b[2m               \u001b[0m\n",
       "\u001b[2;36m                    \u001b[0m           \u001b[1;35mpd.concat\u001b[0m\u001b[1m(\u001b[0mdfs\u001b[1m)\u001b[0m                                                       \u001b[2m               \u001b[0m\n",
       "\u001b[2;36m                    \u001b[0m                                                                                \u001b[2m               \u001b[0m\n"
      ]
     },
     "metadata": {},
     "output_type": "display_data"
    },
    {
     "data": {
      "text/html": [
       "<pre style=\"white-space:pre;overflow-x:auto;line-height:normal;font-family:Menlo,'DejaVu Sans Mono',consolas,'Courier New',monospace\"><span style=\"color: #7fbfbf; text-decoration-color: #7fbfbf\">[04/06/25 01:40:32] </span><span style=\"color: #808000; text-decoration-color: #808000\">WARNING </span> <span style=\"color: #800080; text-decoration-color: #800080\">/usr/local/lib/python3.11/dist-packages/soccerdata/</span><span style=\"color: #ff00ff; text-decoration-color: #ff00ff\">fbref.py</span>:<span style=\"color: #008080; text-decoration-color: #008080; font-weight: bold\">165</span>:       <a href=\"file:///usr/lib/python3.11/warnings.py\" target=\"_blank\"><span style=\"color: #7f7f7f; text-decoration-color: #7f7f7f\">warnings.py</span></a><span style=\"color: #7f7f7f; text-decoration-color: #7f7f7f\">:</span><a href=\"file:///usr/lib/python3.11/warnings.py#110\" target=\"_blank\"><span style=\"color: #7f7f7f; text-decoration-color: #7f7f7f\">110</span></a>\n",
       "<span style=\"color: #7fbfbf; text-decoration-color: #7fbfbf\">                    </span>         FutureWarning: The behavior of DataFrame concatenation with empty or   <span style=\"color: #7f7f7f; text-decoration-color: #7f7f7f\">               </span>\n",
       "<span style=\"color: #7fbfbf; text-decoration-color: #7fbfbf\">                    </span>         all-NA entries is deprecated. In a future version, this will no longer <span style=\"color: #7f7f7f; text-decoration-color: #7f7f7f\">               </span>\n",
       "<span style=\"color: #7fbfbf; text-decoration-color: #7fbfbf\">                    </span>         exclude empty or all-NA columns when determining the result dtypes. To <span style=\"color: #7f7f7f; text-decoration-color: #7f7f7f\">               </span>\n",
       "<span style=\"color: #7fbfbf; text-decoration-color: #7fbfbf\">                    </span>         retain the old behavior, exclude the relevant entries before the       <span style=\"color: #7f7f7f; text-decoration-color: #7f7f7f\">               </span>\n",
       "<span style=\"color: #7fbfbf; text-decoration-color: #7fbfbf\">                    </span>         concat operation.                                                      <span style=\"color: #7f7f7f; text-decoration-color: #7f7f7f\">               </span>\n",
       "<span style=\"color: #7fbfbf; text-decoration-color: #7fbfbf\">                    </span>           <span style=\"color: #800080; text-decoration-color: #800080; font-weight: bold\">pd.concat</span><span style=\"font-weight: bold\">(</span>dfs<span style=\"font-weight: bold\">)</span>                                                       <span style=\"color: #7f7f7f; text-decoration-color: #7f7f7f\">               </span>\n",
       "<span style=\"color: #7fbfbf; text-decoration-color: #7fbfbf\">                    </span>                                                                                <span style=\"color: #7f7f7f; text-decoration-color: #7f7f7f\">               </span>\n",
       "</pre>\n"
      ],
      "text/plain": [
       "\u001b[2;36m[04/06/25 01:40:32]\u001b[0m\u001b[2;36m \u001b[0m\u001b[33mWARNING \u001b[0m \u001b[35m/usr/local/lib/python3.11/dist-packages/soccerdata/\u001b[0m\u001b[95mfbref.py\u001b[0m:\u001b[1;36m165\u001b[0m:       \u001b]8;id=51677;file:///usr/lib/python3.11/warnings.py\u001b\\\u001b[2mwarnings.py\u001b[0m\u001b]8;;\u001b\\\u001b[2m:\u001b[0m\u001b]8;id=339576;file:///usr/lib/python3.11/warnings.py#110\u001b\\\u001b[2m110\u001b[0m\u001b]8;;\u001b\\\n",
       "\u001b[2;36m                    \u001b[0m         FutureWarning: The behavior of DataFrame concatenation with empty or   \u001b[2m               \u001b[0m\n",
       "\u001b[2;36m                    \u001b[0m         all-NA entries is deprecated. In a future version, this will no longer \u001b[2m               \u001b[0m\n",
       "\u001b[2;36m                    \u001b[0m         exclude empty or all-NA columns when determining the result dtypes. To \u001b[2m               \u001b[0m\n",
       "\u001b[2;36m                    \u001b[0m         retain the old behavior, exclude the relevant entries before the       \u001b[2m               \u001b[0m\n",
       "\u001b[2;36m                    \u001b[0m         concat operation.                                                      \u001b[2m               \u001b[0m\n",
       "\u001b[2;36m                    \u001b[0m           \u001b[1;35mpd.concat\u001b[0m\u001b[1m(\u001b[0mdfs\u001b[1m)\u001b[0m                                                       \u001b[2m               \u001b[0m\n",
       "\u001b[2;36m                    \u001b[0m                                                                                \u001b[2m               \u001b[0m\n"
      ]
     },
     "metadata": {},
     "output_type": "display_data"
    },
    {
     "data": {
      "text/html": [
       "<pre style=\"white-space:pre;overflow-x:auto;line-height:normal;font-family:Menlo,'DejaVu Sans Mono',consolas,'Courier New',monospace\"><span style=\"color: #7fbfbf; text-decoration-color: #7fbfbf\">[04/06/25 01:42:45] </span><span style=\"color: #808000; text-decoration-color: #808000\">WARNING </span> <span style=\"color: #800080; text-decoration-color: #800080\">/usr/local/lib/python3.11/dist-packages/soccerdata/</span><span style=\"color: #ff00ff; text-decoration-color: #ff00ff\">fbref.py</span>:<span style=\"color: #008080; text-decoration-color: #008080; font-weight: bold\">165</span>:       <a href=\"file:///usr/lib/python3.11/warnings.py\" target=\"_blank\"><span style=\"color: #7f7f7f; text-decoration-color: #7f7f7f\">warnings.py</span></a><span style=\"color: #7f7f7f; text-decoration-color: #7f7f7f\">:</span><a href=\"file:///usr/lib/python3.11/warnings.py#110\" target=\"_blank\"><span style=\"color: #7f7f7f; text-decoration-color: #7f7f7f\">110</span></a>\n",
       "<span style=\"color: #7fbfbf; text-decoration-color: #7fbfbf\">                    </span>         FutureWarning: The behavior of DataFrame concatenation with empty or   <span style=\"color: #7f7f7f; text-decoration-color: #7f7f7f\">               </span>\n",
       "<span style=\"color: #7fbfbf; text-decoration-color: #7fbfbf\">                    </span>         all-NA entries is deprecated. In a future version, this will no longer <span style=\"color: #7f7f7f; text-decoration-color: #7f7f7f\">               </span>\n",
       "<span style=\"color: #7fbfbf; text-decoration-color: #7fbfbf\">                    </span>         exclude empty or all-NA columns when determining the result dtypes. To <span style=\"color: #7f7f7f; text-decoration-color: #7f7f7f\">               </span>\n",
       "<span style=\"color: #7fbfbf; text-decoration-color: #7fbfbf\">                    </span>         retain the old behavior, exclude the relevant entries before the       <span style=\"color: #7f7f7f; text-decoration-color: #7f7f7f\">               </span>\n",
       "<span style=\"color: #7fbfbf; text-decoration-color: #7fbfbf\">                    </span>         concat operation.                                                      <span style=\"color: #7f7f7f; text-decoration-color: #7f7f7f\">               </span>\n",
       "<span style=\"color: #7fbfbf; text-decoration-color: #7fbfbf\">                    </span>           <span style=\"color: #800080; text-decoration-color: #800080; font-weight: bold\">pd.concat</span><span style=\"font-weight: bold\">(</span>dfs<span style=\"font-weight: bold\">)</span>                                                       <span style=\"color: #7f7f7f; text-decoration-color: #7f7f7f\">               </span>\n",
       "<span style=\"color: #7fbfbf; text-decoration-color: #7fbfbf\">                    </span>                                                                                <span style=\"color: #7f7f7f; text-decoration-color: #7f7f7f\">               </span>\n",
       "</pre>\n"
      ],
      "text/plain": [
       "\u001b[2;36m[04/06/25 01:42:45]\u001b[0m\u001b[2;36m \u001b[0m\u001b[33mWARNING \u001b[0m \u001b[35m/usr/local/lib/python3.11/dist-packages/soccerdata/\u001b[0m\u001b[95mfbref.py\u001b[0m:\u001b[1;36m165\u001b[0m:       \u001b]8;id=963264;file:///usr/lib/python3.11/warnings.py\u001b\\\u001b[2mwarnings.py\u001b[0m\u001b]8;;\u001b\\\u001b[2m:\u001b[0m\u001b]8;id=249723;file:///usr/lib/python3.11/warnings.py#110\u001b\\\u001b[2m110\u001b[0m\u001b]8;;\u001b\\\n",
       "\u001b[2;36m                    \u001b[0m         FutureWarning: The behavior of DataFrame concatenation with empty or   \u001b[2m               \u001b[0m\n",
       "\u001b[2;36m                    \u001b[0m         all-NA entries is deprecated. In a future version, this will no longer \u001b[2m               \u001b[0m\n",
       "\u001b[2;36m                    \u001b[0m         exclude empty or all-NA columns when determining the result dtypes. To \u001b[2m               \u001b[0m\n",
       "\u001b[2;36m                    \u001b[0m         retain the old behavior, exclude the relevant entries before the       \u001b[2m               \u001b[0m\n",
       "\u001b[2;36m                    \u001b[0m         concat operation.                                                      \u001b[2m               \u001b[0m\n",
       "\u001b[2;36m                    \u001b[0m           \u001b[1;35mpd.concat\u001b[0m\u001b[1m(\u001b[0mdfs\u001b[1m)\u001b[0m                                                       \u001b[2m               \u001b[0m\n",
       "\u001b[2;36m                    \u001b[0m                                                                                \u001b[2m               \u001b[0m\n"
      ]
     },
     "metadata": {},
     "output_type": "display_data"
    },
    {
     "data": {
      "text/html": [
       "<pre style=\"white-space:pre;overflow-x:auto;line-height:normal;font-family:Menlo,'DejaVu Sans Mono',consolas,'Courier New',monospace\"><span style=\"color: #7fbfbf; text-decoration-color: #7fbfbf\">[04/06/25 01:44:55] </span><span style=\"color: #808000; text-decoration-color: #808000\">WARNING </span> <span style=\"color: #800080; text-decoration-color: #800080\">/usr/local/lib/python3.11/dist-packages/soccerdata/</span><span style=\"color: #ff00ff; text-decoration-color: #ff00ff\">fbref.py</span>:<span style=\"color: #008080; text-decoration-color: #008080; font-weight: bold\">165</span>:       <a href=\"file:///usr/lib/python3.11/warnings.py\" target=\"_blank\"><span style=\"color: #7f7f7f; text-decoration-color: #7f7f7f\">warnings.py</span></a><span style=\"color: #7f7f7f; text-decoration-color: #7f7f7f\">:</span><a href=\"file:///usr/lib/python3.11/warnings.py#110\" target=\"_blank\"><span style=\"color: #7f7f7f; text-decoration-color: #7f7f7f\">110</span></a>\n",
       "<span style=\"color: #7fbfbf; text-decoration-color: #7fbfbf\">                    </span>         FutureWarning: The behavior of DataFrame concatenation with empty or   <span style=\"color: #7f7f7f; text-decoration-color: #7f7f7f\">               </span>\n",
       "<span style=\"color: #7fbfbf; text-decoration-color: #7fbfbf\">                    </span>         all-NA entries is deprecated. In a future version, this will no longer <span style=\"color: #7f7f7f; text-decoration-color: #7f7f7f\">               </span>\n",
       "<span style=\"color: #7fbfbf; text-decoration-color: #7fbfbf\">                    </span>         exclude empty or all-NA columns when determining the result dtypes. To <span style=\"color: #7f7f7f; text-decoration-color: #7f7f7f\">               </span>\n",
       "<span style=\"color: #7fbfbf; text-decoration-color: #7fbfbf\">                    </span>         retain the old behavior, exclude the relevant entries before the       <span style=\"color: #7f7f7f; text-decoration-color: #7f7f7f\">               </span>\n",
       "<span style=\"color: #7fbfbf; text-decoration-color: #7fbfbf\">                    </span>         concat operation.                                                      <span style=\"color: #7f7f7f; text-decoration-color: #7f7f7f\">               </span>\n",
       "<span style=\"color: #7fbfbf; text-decoration-color: #7fbfbf\">                    </span>           <span style=\"color: #800080; text-decoration-color: #800080; font-weight: bold\">pd.concat</span><span style=\"font-weight: bold\">(</span>dfs<span style=\"font-weight: bold\">)</span>                                                       <span style=\"color: #7f7f7f; text-decoration-color: #7f7f7f\">               </span>\n",
       "<span style=\"color: #7fbfbf; text-decoration-color: #7fbfbf\">                    </span>                                                                                <span style=\"color: #7f7f7f; text-decoration-color: #7f7f7f\">               </span>\n",
       "</pre>\n"
      ],
      "text/plain": [
       "\u001b[2;36m[04/06/25 01:44:55]\u001b[0m\u001b[2;36m \u001b[0m\u001b[33mWARNING \u001b[0m \u001b[35m/usr/local/lib/python3.11/dist-packages/soccerdata/\u001b[0m\u001b[95mfbref.py\u001b[0m:\u001b[1;36m165\u001b[0m:       \u001b]8;id=494713;file:///usr/lib/python3.11/warnings.py\u001b\\\u001b[2mwarnings.py\u001b[0m\u001b]8;;\u001b\\\u001b[2m:\u001b[0m\u001b]8;id=220535;file:///usr/lib/python3.11/warnings.py#110\u001b\\\u001b[2m110\u001b[0m\u001b]8;;\u001b\\\n",
       "\u001b[2;36m                    \u001b[0m         FutureWarning: The behavior of DataFrame concatenation with empty or   \u001b[2m               \u001b[0m\n",
       "\u001b[2;36m                    \u001b[0m         all-NA entries is deprecated. In a future version, this will no longer \u001b[2m               \u001b[0m\n",
       "\u001b[2;36m                    \u001b[0m         exclude empty or all-NA columns when determining the result dtypes. To \u001b[2m               \u001b[0m\n",
       "\u001b[2;36m                    \u001b[0m         retain the old behavior, exclude the relevant entries before the       \u001b[2m               \u001b[0m\n",
       "\u001b[2;36m                    \u001b[0m         concat operation.                                                      \u001b[2m               \u001b[0m\n",
       "\u001b[2;36m                    \u001b[0m           \u001b[1;35mpd.concat\u001b[0m\u001b[1m(\u001b[0mdfs\u001b[1m)\u001b[0m                                                       \u001b[2m               \u001b[0m\n",
       "\u001b[2;36m                    \u001b[0m                                                                                \u001b[2m               \u001b[0m\n"
      ]
     },
     "metadata": {},
     "output_type": "display_data"
    },
    {
     "name": "stderr",
     "output_type": "stream",
     "text": [
      "\r 60%|██████    | 6/10 [2:07:51<1:23:44, 1256.03s/it]"
     ]
    },
    {
     "data": {
      "text/html": [
       "<pre style=\"white-space:pre;overflow-x:auto;line-height:normal;font-family:Menlo,'DejaVu Sans Mono',consolas,'Courier New',monospace\"><span style=\"color: #7fbfbf; text-decoration-color: #7fbfbf\">[04/06/25 01:47:03] </span><span style=\"color: #000080; text-decoration-color: #000080\">INFO    </span> Saving cached data to <span style=\"color: #800080; text-decoration-color: #800080\">/root/soccerdata/data/</span><span style=\"color: #ff00ff; text-decoration-color: #ff00ff\">FBref</span>                       <a href=\"file:///usr/local/lib/python3.11/dist-packages/soccerdata/_common.py\" target=\"_blank\"><span style=\"color: #7f7f7f; text-decoration-color: #7f7f7f\">_common.py</span></a><span style=\"color: #7f7f7f; text-decoration-color: #7f7f7f\">:</span><a href=\"file:///usr/local/lib/python3.11/dist-packages/soccerdata/_common.py#263\" target=\"_blank\"><span style=\"color: #7f7f7f; text-decoration-color: #7f7f7f\">263</span></a>\n",
       "</pre>\n"
      ],
      "text/plain": [
       "\u001b[2;36m[04/06/25 01:47:03]\u001b[0m\u001b[2;36m \u001b[0m\u001b[34mINFO    \u001b[0m Saving cached data to \u001b[35m/root/soccerdata/data/\u001b[0m\u001b[95mFBref\u001b[0m                       \u001b]8;id=994500;file:///usr/local/lib/python3.11/dist-packages/soccerdata/_common.py\u001b\\\u001b[2m_common.py\u001b[0m\u001b]8;;\u001b\\\u001b[2m:\u001b[0m\u001b]8;id=872372;file:///usr/local/lib/python3.11/dist-packages/soccerdata/_common.py#263\u001b\\\u001b[2m263\u001b[0m\u001b]8;;\u001b\\\n"
      ]
     },
     "metadata": {},
     "output_type": "display_data"
    },
    {
     "data": {
      "text/html": [
       "<pre style=\"white-space:pre;overflow-x:auto;line-height:normal;font-family:Menlo,'DejaVu Sans Mono',consolas,'Courier New',monospace\"><span style=\"color: #7fbfbf; text-decoration-color: #7fbfbf\">                    </span><span style=\"color: #808000; text-decoration-color: #808000\">WARNING </span> <span style=\"color: #800080; text-decoration-color: #800080\">/usr/local/lib/python3.11/dist-packages/soccerdata/</span><span style=\"color: #ff00ff; text-decoration-color: #ff00ff\">_common.py</span>:<span style=\"color: #008080; text-decoration-color: #008080; font-weight: bold\">145</span>:     <a href=\"file:///usr/lib/python3.11/warnings.py\" target=\"_blank\"><span style=\"color: #7f7f7f; text-decoration-color: #7f7f7f\">warnings.py</span></a><span style=\"color: #7f7f7f; text-decoration-color: #7f7f7f\">:</span><a href=\"file:///usr/lib/python3.11/warnings.py#110\" target=\"_blank\"><span style=\"color: #7f7f7f; text-decoration-color: #7f7f7f\">110</span></a>\n",
       "<span style=\"color: #7fbfbf; text-decoration-color: #7fbfbf\">                    </span>         UserWarning: Season id <span style=\"color: #008000; text-decoration-color: #008000\">\"2021\"</span> is ambiguous: interpreting as <span style=\"color: #008000; text-decoration-color: #008000\">\"20-21\"</span>    <span style=\"color: #7f7f7f; text-decoration-color: #7f7f7f\">               </span>\n",
       "<span style=\"color: #7fbfbf; text-decoration-color: #7fbfbf\">                    </span>           <span style=\"color: #800080; text-decoration-color: #800080; font-weight: bold\">warnings.warn</span><span style=\"font-weight: bold\">(</span>msg, <span style=\"color: #808000; text-decoration-color: #808000\">stacklevel</span>=<span style=\"color: #008080; text-decoration-color: #008080; font-weight: bold\">1</span><span style=\"font-weight: bold\">)</span>                                     <span style=\"color: #7f7f7f; text-decoration-color: #7f7f7f\">               </span>\n",
       "<span style=\"color: #7fbfbf; text-decoration-color: #7fbfbf\">                    </span>                                                                                <span style=\"color: #7f7f7f; text-decoration-color: #7f7f7f\">               </span>\n",
       "</pre>\n"
      ],
      "text/plain": [
       "\u001b[2;36m                   \u001b[0m\u001b[2;36m \u001b[0m\u001b[33mWARNING \u001b[0m \u001b[35m/usr/local/lib/python3.11/dist-packages/soccerdata/\u001b[0m\u001b[95m_common.py\u001b[0m:\u001b[1;36m145\u001b[0m:     \u001b]8;id=810628;file:///usr/lib/python3.11/warnings.py\u001b\\\u001b[2mwarnings.py\u001b[0m\u001b]8;;\u001b\\\u001b[2m:\u001b[0m\u001b]8;id=703183;file:///usr/lib/python3.11/warnings.py#110\u001b\\\u001b[2m110\u001b[0m\u001b]8;;\u001b\\\n",
       "\u001b[2;36m                    \u001b[0m         UserWarning: Season id \u001b[32m\"2021\"\u001b[0m is ambiguous: interpreting as \u001b[32m\"20-21\"\u001b[0m    \u001b[2m               \u001b[0m\n",
       "\u001b[2;36m                    \u001b[0m           \u001b[1;35mwarnings.warn\u001b[0m\u001b[1m(\u001b[0mmsg, \u001b[33mstacklevel\u001b[0m=\u001b[1;36m1\u001b[0m\u001b[1m)\u001b[0m                                     \u001b[2m               \u001b[0m\n",
       "\u001b[2;36m                    \u001b[0m                                                                                \u001b[2m               \u001b[0m\n"
      ]
     },
     "metadata": {},
     "output_type": "display_data"
    },
    {
     "data": {
      "text/html": [
       "<pre style=\"white-space:pre;overflow-x:auto;line-height:normal;font-family:Menlo,'DejaVu Sans Mono',consolas,'Courier New',monospace\"><span style=\"color: #7fbfbf; text-decoration-color: #7fbfbf\">                    </span><span style=\"color: #808000; text-decoration-color: #808000\">WARNING </span> <span style=\"color: #800080; text-decoration-color: #800080\">/usr/local/lib/python3.11/dist-packages/soccerdata/</span><span style=\"color: #ff00ff; text-decoration-color: #ff00ff\">fbref.py</span>:<span style=\"color: #008080; text-decoration-color: #008080; font-weight: bold\">165</span>:       <a href=\"file:///usr/lib/python3.11/warnings.py\" target=\"_blank\"><span style=\"color: #7f7f7f; text-decoration-color: #7f7f7f\">warnings.py</span></a><span style=\"color: #7f7f7f; text-decoration-color: #7f7f7f\">:</span><a href=\"file:///usr/lib/python3.11/warnings.py#110\" target=\"_blank\"><span style=\"color: #7f7f7f; text-decoration-color: #7f7f7f\">110</span></a>\n",
       "<span style=\"color: #7fbfbf; text-decoration-color: #7fbfbf\">                    </span>         FutureWarning: The behavior of DataFrame concatenation with empty or   <span style=\"color: #7f7f7f; text-decoration-color: #7f7f7f\">               </span>\n",
       "<span style=\"color: #7fbfbf; text-decoration-color: #7fbfbf\">                    </span>         all-NA entries is deprecated. In a future version, this will no longer <span style=\"color: #7f7f7f; text-decoration-color: #7f7f7f\">               </span>\n",
       "<span style=\"color: #7fbfbf; text-decoration-color: #7fbfbf\">                    </span>         exclude empty or all-NA columns when determining the result dtypes. To <span style=\"color: #7f7f7f; text-decoration-color: #7f7f7f\">               </span>\n",
       "<span style=\"color: #7fbfbf; text-decoration-color: #7fbfbf\">                    </span>         retain the old behavior, exclude the relevant entries before the       <span style=\"color: #7f7f7f; text-decoration-color: #7f7f7f\">               </span>\n",
       "<span style=\"color: #7fbfbf; text-decoration-color: #7fbfbf\">                    </span>         concat operation.                                                      <span style=\"color: #7f7f7f; text-decoration-color: #7f7f7f\">               </span>\n",
       "<span style=\"color: #7fbfbf; text-decoration-color: #7fbfbf\">                    </span>           <span style=\"color: #800080; text-decoration-color: #800080; font-weight: bold\">pd.concat</span><span style=\"font-weight: bold\">(</span>dfs<span style=\"font-weight: bold\">)</span>                                                       <span style=\"color: #7f7f7f; text-decoration-color: #7f7f7f\">               </span>\n",
       "<span style=\"color: #7fbfbf; text-decoration-color: #7fbfbf\">                    </span>                                                                                <span style=\"color: #7f7f7f; text-decoration-color: #7f7f7f\">               </span>\n",
       "</pre>\n"
      ],
      "text/plain": [
       "\u001b[2;36m                   \u001b[0m\u001b[2;36m \u001b[0m\u001b[33mWARNING \u001b[0m \u001b[35m/usr/local/lib/python3.11/dist-packages/soccerdata/\u001b[0m\u001b[95mfbref.py\u001b[0m:\u001b[1;36m165\u001b[0m:       \u001b]8;id=48128;file:///usr/lib/python3.11/warnings.py\u001b\\\u001b[2mwarnings.py\u001b[0m\u001b]8;;\u001b\\\u001b[2m:\u001b[0m\u001b]8;id=794206;file:///usr/lib/python3.11/warnings.py#110\u001b\\\u001b[2m110\u001b[0m\u001b]8;;\u001b\\\n",
       "\u001b[2;36m                    \u001b[0m         FutureWarning: The behavior of DataFrame concatenation with empty or   \u001b[2m               \u001b[0m\n",
       "\u001b[2;36m                    \u001b[0m         all-NA entries is deprecated. In a future version, this will no longer \u001b[2m               \u001b[0m\n",
       "\u001b[2;36m                    \u001b[0m         exclude empty or all-NA columns when determining the result dtypes. To \u001b[2m               \u001b[0m\n",
       "\u001b[2;36m                    \u001b[0m         retain the old behavior, exclude the relevant entries before the       \u001b[2m               \u001b[0m\n",
       "\u001b[2;36m                    \u001b[0m         concat operation.                                                      \u001b[2m               \u001b[0m\n",
       "\u001b[2;36m                    \u001b[0m           \u001b[1;35mpd.concat\u001b[0m\u001b[1m(\u001b[0mdfs\u001b[1m)\u001b[0m                                                       \u001b[2m               \u001b[0m\n",
       "\u001b[2;36m                    \u001b[0m                                                                                \u001b[2m               \u001b[0m\n"
      ]
     },
     "metadata": {},
     "output_type": "display_data"
    },
    {
     "data": {
      "text/html": [
       "<pre style=\"white-space:pre;overflow-x:auto;line-height:normal;font-family:Menlo,'DejaVu Sans Mono',consolas,'Courier New',monospace\"><span style=\"color: #7fbfbf; text-decoration-color: #7fbfbf\">[04/06/25 01:47:04] </span><span style=\"color: #808000; text-decoration-color: #808000\">WARNING </span> <span style=\"color: #800080; text-decoration-color: #800080\">/usr/local/lib/python3.11/dist-packages/soccerdata/</span><span style=\"color: #ff00ff; text-decoration-color: #ff00ff\">fbref.py</span>:<span style=\"color: #008080; text-decoration-color: #008080; font-weight: bold\">1273</span>:      <a href=\"file:///usr/lib/python3.11/warnings.py\" target=\"_blank\"><span style=\"color: #7f7f7f; text-decoration-color: #7f7f7f\">warnings.py</span></a><span style=\"color: #7f7f7f; text-decoration-color: #7f7f7f\">:</span><a href=\"file:///usr/lib/python3.11/warnings.py#110\" target=\"_blank\"><span style=\"color: #7f7f7f; text-decoration-color: #7f7f7f\">110</span></a>\n",
       "<span style=\"color: #7fbfbf; text-decoration-color: #7fbfbf\">                    </span>         FutureWarning: The behavior of DataFrame concatenation with empty or   <span style=\"color: #7f7f7f; text-decoration-color: #7f7f7f\">               </span>\n",
       "<span style=\"color: #7fbfbf; text-decoration-color: #7fbfbf\">                    </span>         all-NA entries is deprecated. In a future version, this will no longer <span style=\"color: #7f7f7f; text-decoration-color: #7f7f7f\">               </span>\n",
       "<span style=\"color: #7fbfbf; text-decoration-color: #7fbfbf\">                    </span>         exclude empty or all-NA columns when determining the result dtypes. To <span style=\"color: #7f7f7f; text-decoration-color: #7f7f7f\">               </span>\n",
       "<span style=\"color: #7fbfbf; text-decoration-color: #7fbfbf\">                    </span>         retain the old behavior, exclude the relevant entries before the       <span style=\"color: #7f7f7f; text-decoration-color: #7f7f7f\">               </span>\n",
       "<span style=\"color: #7fbfbf; text-decoration-color: #7fbfbf\">                    </span>         concat operation.                                                      <span style=\"color: #7f7f7f; text-decoration-color: #7f7f7f\">               </span>\n",
       "<span style=\"color: #7fbfbf; text-decoration-color: #7fbfbf\">                    </span>           return <span style=\"color: #800080; text-decoration-color: #800080; font-weight: bold\">pd.concat</span><span style=\"font-weight: bold\">(</span>dfs<span style=\"font-weight: bold\">)</span>                                                <span style=\"color: #7f7f7f; text-decoration-color: #7f7f7f\">               </span>\n",
       "<span style=\"color: #7fbfbf; text-decoration-color: #7fbfbf\">                    </span>                                                                                <span style=\"color: #7f7f7f; text-decoration-color: #7f7f7f\">               </span>\n",
       "</pre>\n"
      ],
      "text/plain": [
       "\u001b[2;36m[04/06/25 01:47:04]\u001b[0m\u001b[2;36m \u001b[0m\u001b[33mWARNING \u001b[0m \u001b[35m/usr/local/lib/python3.11/dist-packages/soccerdata/\u001b[0m\u001b[95mfbref.py\u001b[0m:\u001b[1;36m1273\u001b[0m:      \u001b]8;id=621964;file:///usr/lib/python3.11/warnings.py\u001b\\\u001b[2mwarnings.py\u001b[0m\u001b]8;;\u001b\\\u001b[2m:\u001b[0m\u001b]8;id=127508;file:///usr/lib/python3.11/warnings.py#110\u001b\\\u001b[2m110\u001b[0m\u001b]8;;\u001b\\\n",
       "\u001b[2;36m                    \u001b[0m         FutureWarning: The behavior of DataFrame concatenation with empty or   \u001b[2m               \u001b[0m\n",
       "\u001b[2;36m                    \u001b[0m         all-NA entries is deprecated. In a future version, this will no longer \u001b[2m               \u001b[0m\n",
       "\u001b[2;36m                    \u001b[0m         exclude empty or all-NA columns when determining the result dtypes. To \u001b[2m               \u001b[0m\n",
       "\u001b[2;36m                    \u001b[0m         retain the old behavior, exclude the relevant entries before the       \u001b[2m               \u001b[0m\n",
       "\u001b[2;36m                    \u001b[0m         concat operation.                                                      \u001b[2m               \u001b[0m\n",
       "\u001b[2;36m                    \u001b[0m           return \u001b[1;35mpd.concat\u001b[0m\u001b[1m(\u001b[0mdfs\u001b[1m)\u001b[0m                                                \u001b[2m               \u001b[0m\n",
       "\u001b[2;36m                    \u001b[0m                                                                                \u001b[2m               \u001b[0m\n"
      ]
     },
     "metadata": {},
     "output_type": "display_data"
    },
    {
     "data": {
      "text/html": [
       "<pre style=\"white-space:pre;overflow-x:auto;line-height:normal;font-family:Menlo,'DejaVu Sans Mono',consolas,'Courier New',monospace\"><span style=\"color: #7fbfbf; text-decoration-color: #7fbfbf\">[04/06/25 01:47:05] </span><span style=\"color: #808000; text-decoration-color: #808000\">WARNING </span> <span style=\"color: #800080; text-decoration-color: #800080\">/usr/local/lib/python3.11/dist-packages/soccerdata/</span><span style=\"color: #ff00ff; text-decoration-color: #ff00ff\">fbref.py</span>:<span style=\"color: #008080; text-decoration-color: #008080; font-weight: bold\">165</span>:       <a href=\"file:///usr/lib/python3.11/warnings.py\" target=\"_blank\"><span style=\"color: #7f7f7f; text-decoration-color: #7f7f7f\">warnings.py</span></a><span style=\"color: #7f7f7f; text-decoration-color: #7f7f7f\">:</span><a href=\"file:///usr/lib/python3.11/warnings.py#110\" target=\"_blank\"><span style=\"color: #7f7f7f; text-decoration-color: #7f7f7f\">110</span></a>\n",
       "<span style=\"color: #7fbfbf; text-decoration-color: #7fbfbf\">                    </span>         FutureWarning: The behavior of DataFrame concatenation with empty or   <span style=\"color: #7f7f7f; text-decoration-color: #7f7f7f\">               </span>\n",
       "<span style=\"color: #7fbfbf; text-decoration-color: #7fbfbf\">                    </span>         all-NA entries is deprecated. In a future version, this will no longer <span style=\"color: #7f7f7f; text-decoration-color: #7f7f7f\">               </span>\n",
       "<span style=\"color: #7fbfbf; text-decoration-color: #7fbfbf\">                    </span>         exclude empty or all-NA columns when determining the result dtypes. To <span style=\"color: #7f7f7f; text-decoration-color: #7f7f7f\">               </span>\n",
       "<span style=\"color: #7fbfbf; text-decoration-color: #7fbfbf\">                    </span>         retain the old behavior, exclude the relevant entries before the       <span style=\"color: #7f7f7f; text-decoration-color: #7f7f7f\">               </span>\n",
       "<span style=\"color: #7fbfbf; text-decoration-color: #7fbfbf\">                    </span>         concat operation.                                                      <span style=\"color: #7f7f7f; text-decoration-color: #7f7f7f\">               </span>\n",
       "<span style=\"color: #7fbfbf; text-decoration-color: #7fbfbf\">                    </span>           <span style=\"color: #800080; text-decoration-color: #800080; font-weight: bold\">pd.concat</span><span style=\"font-weight: bold\">(</span>dfs<span style=\"font-weight: bold\">)</span>                                                       <span style=\"color: #7f7f7f; text-decoration-color: #7f7f7f\">               </span>\n",
       "<span style=\"color: #7fbfbf; text-decoration-color: #7fbfbf\">                    </span>                                                                                <span style=\"color: #7f7f7f; text-decoration-color: #7f7f7f\">               </span>\n",
       "</pre>\n"
      ],
      "text/plain": [
       "\u001b[2;36m[04/06/25 01:47:05]\u001b[0m\u001b[2;36m \u001b[0m\u001b[33mWARNING \u001b[0m \u001b[35m/usr/local/lib/python3.11/dist-packages/soccerdata/\u001b[0m\u001b[95mfbref.py\u001b[0m:\u001b[1;36m165\u001b[0m:       \u001b]8;id=299710;file:///usr/lib/python3.11/warnings.py\u001b\\\u001b[2mwarnings.py\u001b[0m\u001b]8;;\u001b\\\u001b[2m:\u001b[0m\u001b]8;id=249831;file:///usr/lib/python3.11/warnings.py#110\u001b\\\u001b[2m110\u001b[0m\u001b]8;;\u001b\\\n",
       "\u001b[2;36m                    \u001b[0m         FutureWarning: The behavior of DataFrame concatenation with empty or   \u001b[2m               \u001b[0m\n",
       "\u001b[2;36m                    \u001b[0m         all-NA entries is deprecated. In a future version, this will no longer \u001b[2m               \u001b[0m\n",
       "\u001b[2;36m                    \u001b[0m         exclude empty or all-NA columns when determining the result dtypes. To \u001b[2m               \u001b[0m\n",
       "\u001b[2;36m                    \u001b[0m         retain the old behavior, exclude the relevant entries before the       \u001b[2m               \u001b[0m\n",
       "\u001b[2;36m                    \u001b[0m         concat operation.                                                      \u001b[2m               \u001b[0m\n",
       "\u001b[2;36m                    \u001b[0m           \u001b[1;35mpd.concat\u001b[0m\u001b[1m(\u001b[0mdfs\u001b[1m)\u001b[0m                                                       \u001b[2m               \u001b[0m\n",
       "\u001b[2;36m                    \u001b[0m                                                                                \u001b[2m               \u001b[0m\n"
      ]
     },
     "metadata": {},
     "output_type": "display_data"
    },
    {
     "data": {
      "text/html": [
       "<pre style=\"white-space:pre;overflow-x:auto;line-height:normal;font-family:Menlo,'DejaVu Sans Mono',consolas,'Courier New',monospace\"><span style=\"color: #7fbfbf; text-decoration-color: #7fbfbf\">[04/06/25 01:47:07] </span><span style=\"color: #808000; text-decoration-color: #808000\">WARNING </span> <span style=\"color: #800080; text-decoration-color: #800080\">/usr/local/lib/python3.11/dist-packages/soccerdata/</span><span style=\"color: #ff00ff; text-decoration-color: #ff00ff\">fbref.py</span>:<span style=\"color: #008080; text-decoration-color: #008080; font-weight: bold\">165</span>:       <a href=\"file:///usr/lib/python3.11/warnings.py\" target=\"_blank\"><span style=\"color: #7f7f7f; text-decoration-color: #7f7f7f\">warnings.py</span></a><span style=\"color: #7f7f7f; text-decoration-color: #7f7f7f\">:</span><a href=\"file:///usr/lib/python3.11/warnings.py#110\" target=\"_blank\"><span style=\"color: #7f7f7f; text-decoration-color: #7f7f7f\">110</span></a>\n",
       "<span style=\"color: #7fbfbf; text-decoration-color: #7fbfbf\">                    </span>         FutureWarning: The behavior of DataFrame concatenation with empty or   <span style=\"color: #7f7f7f; text-decoration-color: #7f7f7f\">               </span>\n",
       "<span style=\"color: #7fbfbf; text-decoration-color: #7fbfbf\">                    </span>         all-NA entries is deprecated. In a future version, this will no longer <span style=\"color: #7f7f7f; text-decoration-color: #7f7f7f\">               </span>\n",
       "<span style=\"color: #7fbfbf; text-decoration-color: #7fbfbf\">                    </span>         exclude empty or all-NA columns when determining the result dtypes. To <span style=\"color: #7f7f7f; text-decoration-color: #7f7f7f\">               </span>\n",
       "<span style=\"color: #7fbfbf; text-decoration-color: #7fbfbf\">                    </span>         retain the old behavior, exclude the relevant entries before the       <span style=\"color: #7f7f7f; text-decoration-color: #7f7f7f\">               </span>\n",
       "<span style=\"color: #7fbfbf; text-decoration-color: #7fbfbf\">                    </span>         concat operation.                                                      <span style=\"color: #7f7f7f; text-decoration-color: #7f7f7f\">               </span>\n",
       "<span style=\"color: #7fbfbf; text-decoration-color: #7fbfbf\">                    </span>           <span style=\"color: #800080; text-decoration-color: #800080; font-weight: bold\">pd.concat</span><span style=\"font-weight: bold\">(</span>dfs<span style=\"font-weight: bold\">)</span>                                                       <span style=\"color: #7f7f7f; text-decoration-color: #7f7f7f\">               </span>\n",
       "<span style=\"color: #7fbfbf; text-decoration-color: #7fbfbf\">                    </span>                                                                                <span style=\"color: #7f7f7f; text-decoration-color: #7f7f7f\">               </span>\n",
       "</pre>\n"
      ],
      "text/plain": [
       "\u001b[2;36m[04/06/25 01:47:07]\u001b[0m\u001b[2;36m \u001b[0m\u001b[33mWARNING \u001b[0m \u001b[35m/usr/local/lib/python3.11/dist-packages/soccerdata/\u001b[0m\u001b[95mfbref.py\u001b[0m:\u001b[1;36m165\u001b[0m:       \u001b]8;id=134717;file:///usr/lib/python3.11/warnings.py\u001b\\\u001b[2mwarnings.py\u001b[0m\u001b]8;;\u001b\\\u001b[2m:\u001b[0m\u001b]8;id=536064;file:///usr/lib/python3.11/warnings.py#110\u001b\\\u001b[2m110\u001b[0m\u001b]8;;\u001b\\\n",
       "\u001b[2;36m                    \u001b[0m         FutureWarning: The behavior of DataFrame concatenation with empty or   \u001b[2m               \u001b[0m\n",
       "\u001b[2;36m                    \u001b[0m         all-NA entries is deprecated. In a future version, this will no longer \u001b[2m               \u001b[0m\n",
       "\u001b[2;36m                    \u001b[0m         exclude empty or all-NA columns when determining the result dtypes. To \u001b[2m               \u001b[0m\n",
       "\u001b[2;36m                    \u001b[0m         retain the old behavior, exclude the relevant entries before the       \u001b[2m               \u001b[0m\n",
       "\u001b[2;36m                    \u001b[0m         concat operation.                                                      \u001b[2m               \u001b[0m\n",
       "\u001b[2;36m                    \u001b[0m           \u001b[1;35mpd.concat\u001b[0m\u001b[1m(\u001b[0mdfs\u001b[1m)\u001b[0m                                                       \u001b[2m               \u001b[0m\n",
       "\u001b[2;36m                    \u001b[0m                                                                                \u001b[2m               \u001b[0m\n"
      ]
     },
     "metadata": {},
     "output_type": "display_data"
    },
    {
     "data": {
      "text/html": [
       "<pre style=\"white-space:pre;overflow-x:auto;line-height:normal;font-family:Menlo,'DejaVu Sans Mono',consolas,'Courier New',monospace\"><span style=\"color: #7fbfbf; text-decoration-color: #7fbfbf\">[04/06/25 01:47:09] </span><span style=\"color: #808000; text-decoration-color: #808000\">WARNING </span> <span style=\"color: #800080; text-decoration-color: #800080\">/usr/local/lib/python3.11/dist-packages/soccerdata/</span><span style=\"color: #ff00ff; text-decoration-color: #ff00ff\">fbref.py</span>:<span style=\"color: #008080; text-decoration-color: #008080; font-weight: bold\">165</span>:       <a href=\"file:///usr/lib/python3.11/warnings.py\" target=\"_blank\"><span style=\"color: #7f7f7f; text-decoration-color: #7f7f7f\">warnings.py</span></a><span style=\"color: #7f7f7f; text-decoration-color: #7f7f7f\">:</span><a href=\"file:///usr/lib/python3.11/warnings.py#110\" target=\"_blank\"><span style=\"color: #7f7f7f; text-decoration-color: #7f7f7f\">110</span></a>\n",
       "<span style=\"color: #7fbfbf; text-decoration-color: #7fbfbf\">                    </span>         FutureWarning: The behavior of DataFrame concatenation with empty or   <span style=\"color: #7f7f7f; text-decoration-color: #7f7f7f\">               </span>\n",
       "<span style=\"color: #7fbfbf; text-decoration-color: #7fbfbf\">                    </span>         all-NA entries is deprecated. In a future version, this will no longer <span style=\"color: #7f7f7f; text-decoration-color: #7f7f7f\">               </span>\n",
       "<span style=\"color: #7fbfbf; text-decoration-color: #7fbfbf\">                    </span>         exclude empty or all-NA columns when determining the result dtypes. To <span style=\"color: #7f7f7f; text-decoration-color: #7f7f7f\">               </span>\n",
       "<span style=\"color: #7fbfbf; text-decoration-color: #7fbfbf\">                    </span>         retain the old behavior, exclude the relevant entries before the       <span style=\"color: #7f7f7f; text-decoration-color: #7f7f7f\">               </span>\n",
       "<span style=\"color: #7fbfbf; text-decoration-color: #7fbfbf\">                    </span>         concat operation.                                                      <span style=\"color: #7f7f7f; text-decoration-color: #7f7f7f\">               </span>\n",
       "<span style=\"color: #7fbfbf; text-decoration-color: #7fbfbf\">                    </span>           <span style=\"color: #800080; text-decoration-color: #800080; font-weight: bold\">pd.concat</span><span style=\"font-weight: bold\">(</span>dfs<span style=\"font-weight: bold\">)</span>                                                       <span style=\"color: #7f7f7f; text-decoration-color: #7f7f7f\">               </span>\n",
       "<span style=\"color: #7fbfbf; text-decoration-color: #7fbfbf\">                    </span>                                                                                <span style=\"color: #7f7f7f; text-decoration-color: #7f7f7f\">               </span>\n",
       "</pre>\n"
      ],
      "text/plain": [
       "\u001b[2;36m[04/06/25 01:47:09]\u001b[0m\u001b[2;36m \u001b[0m\u001b[33mWARNING \u001b[0m \u001b[35m/usr/local/lib/python3.11/dist-packages/soccerdata/\u001b[0m\u001b[95mfbref.py\u001b[0m:\u001b[1;36m165\u001b[0m:       \u001b]8;id=797578;file:///usr/lib/python3.11/warnings.py\u001b\\\u001b[2mwarnings.py\u001b[0m\u001b]8;;\u001b\\\u001b[2m:\u001b[0m\u001b]8;id=191778;file:///usr/lib/python3.11/warnings.py#110\u001b\\\u001b[2m110\u001b[0m\u001b]8;;\u001b\\\n",
       "\u001b[2;36m                    \u001b[0m         FutureWarning: The behavior of DataFrame concatenation with empty or   \u001b[2m               \u001b[0m\n",
       "\u001b[2;36m                    \u001b[0m         all-NA entries is deprecated. In a future version, this will no longer \u001b[2m               \u001b[0m\n",
       "\u001b[2;36m                    \u001b[0m         exclude empty or all-NA columns when determining the result dtypes. To \u001b[2m               \u001b[0m\n",
       "\u001b[2;36m                    \u001b[0m         retain the old behavior, exclude the relevant entries before the       \u001b[2m               \u001b[0m\n",
       "\u001b[2;36m                    \u001b[0m         concat operation.                                                      \u001b[2m               \u001b[0m\n",
       "\u001b[2;36m                    \u001b[0m           \u001b[1;35mpd.concat\u001b[0m\u001b[1m(\u001b[0mdfs\u001b[1m)\u001b[0m                                                       \u001b[2m               \u001b[0m\n",
       "\u001b[2;36m                    \u001b[0m                                                                                \u001b[2m               \u001b[0m\n"
      ]
     },
     "metadata": {},
     "output_type": "display_data"
    },
    {
     "data": {
      "text/html": [
       "<pre style=\"white-space:pre;overflow-x:auto;line-height:normal;font-family:Menlo,'DejaVu Sans Mono',consolas,'Courier New',monospace\"><span style=\"color: #7fbfbf; text-decoration-color: #7fbfbf\">[04/06/25 01:47:11] </span><span style=\"color: #808000; text-decoration-color: #808000\">WARNING </span> <span style=\"color: #800080; text-decoration-color: #800080\">/usr/local/lib/python3.11/dist-packages/soccerdata/</span><span style=\"color: #ff00ff; text-decoration-color: #ff00ff\">fbref.py</span>:<span style=\"color: #008080; text-decoration-color: #008080; font-weight: bold\">165</span>:       <a href=\"file:///usr/lib/python3.11/warnings.py\" target=\"_blank\"><span style=\"color: #7f7f7f; text-decoration-color: #7f7f7f\">warnings.py</span></a><span style=\"color: #7f7f7f; text-decoration-color: #7f7f7f\">:</span><a href=\"file:///usr/lib/python3.11/warnings.py#110\" target=\"_blank\"><span style=\"color: #7f7f7f; text-decoration-color: #7f7f7f\">110</span></a>\n",
       "<span style=\"color: #7fbfbf; text-decoration-color: #7fbfbf\">                    </span>         FutureWarning: The behavior of DataFrame concatenation with empty or   <span style=\"color: #7f7f7f; text-decoration-color: #7f7f7f\">               </span>\n",
       "<span style=\"color: #7fbfbf; text-decoration-color: #7fbfbf\">                    </span>         all-NA entries is deprecated. In a future version, this will no longer <span style=\"color: #7f7f7f; text-decoration-color: #7f7f7f\">               </span>\n",
       "<span style=\"color: #7fbfbf; text-decoration-color: #7fbfbf\">                    </span>         exclude empty or all-NA columns when determining the result dtypes. To <span style=\"color: #7f7f7f; text-decoration-color: #7f7f7f\">               </span>\n",
       "<span style=\"color: #7fbfbf; text-decoration-color: #7fbfbf\">                    </span>         retain the old behavior, exclude the relevant entries before the       <span style=\"color: #7f7f7f; text-decoration-color: #7f7f7f\">               </span>\n",
       "<span style=\"color: #7fbfbf; text-decoration-color: #7fbfbf\">                    </span>         concat operation.                                                      <span style=\"color: #7f7f7f; text-decoration-color: #7f7f7f\">               </span>\n",
       "<span style=\"color: #7fbfbf; text-decoration-color: #7fbfbf\">                    </span>           <span style=\"color: #800080; text-decoration-color: #800080; font-weight: bold\">pd.concat</span><span style=\"font-weight: bold\">(</span>dfs<span style=\"font-weight: bold\">)</span>                                                       <span style=\"color: #7f7f7f; text-decoration-color: #7f7f7f\">               </span>\n",
       "<span style=\"color: #7fbfbf; text-decoration-color: #7fbfbf\">                    </span>                                                                                <span style=\"color: #7f7f7f; text-decoration-color: #7f7f7f\">               </span>\n",
       "</pre>\n"
      ],
      "text/plain": [
       "\u001b[2;36m[04/06/25 01:47:11]\u001b[0m\u001b[2;36m \u001b[0m\u001b[33mWARNING \u001b[0m \u001b[35m/usr/local/lib/python3.11/dist-packages/soccerdata/\u001b[0m\u001b[95mfbref.py\u001b[0m:\u001b[1;36m165\u001b[0m:       \u001b]8;id=24442;file:///usr/lib/python3.11/warnings.py\u001b\\\u001b[2mwarnings.py\u001b[0m\u001b]8;;\u001b\\\u001b[2m:\u001b[0m\u001b]8;id=330023;file:///usr/lib/python3.11/warnings.py#110\u001b\\\u001b[2m110\u001b[0m\u001b]8;;\u001b\\\n",
       "\u001b[2;36m                    \u001b[0m         FutureWarning: The behavior of DataFrame concatenation with empty or   \u001b[2m               \u001b[0m\n",
       "\u001b[2;36m                    \u001b[0m         all-NA entries is deprecated. In a future version, this will no longer \u001b[2m               \u001b[0m\n",
       "\u001b[2;36m                    \u001b[0m         exclude empty or all-NA columns when determining the result dtypes. To \u001b[2m               \u001b[0m\n",
       "\u001b[2;36m                    \u001b[0m         retain the old behavior, exclude the relevant entries before the       \u001b[2m               \u001b[0m\n",
       "\u001b[2;36m                    \u001b[0m         concat operation.                                                      \u001b[2m               \u001b[0m\n",
       "\u001b[2;36m                    \u001b[0m           \u001b[1;35mpd.concat\u001b[0m\u001b[1m(\u001b[0mdfs\u001b[1m)\u001b[0m                                                       \u001b[2m               \u001b[0m\n",
       "\u001b[2;36m                    \u001b[0m                                                                                \u001b[2m               \u001b[0m\n"
      ]
     },
     "metadata": {},
     "output_type": "display_data"
    },
    {
     "data": {
      "text/html": [
       "<pre style=\"white-space:pre;overflow-x:auto;line-height:normal;font-family:Menlo,'DejaVu Sans Mono',consolas,'Courier New',monospace\"><span style=\"color: #7fbfbf; text-decoration-color: #7fbfbf\">[04/06/25 01:47:13] </span><span style=\"color: #808000; text-decoration-color: #808000\">WARNING </span> <span style=\"color: #800080; text-decoration-color: #800080\">/usr/local/lib/python3.11/dist-packages/soccerdata/</span><span style=\"color: #ff00ff; text-decoration-color: #ff00ff\">fbref.py</span>:<span style=\"color: #008080; text-decoration-color: #008080; font-weight: bold\">165</span>:       <a href=\"file:///usr/lib/python3.11/warnings.py\" target=\"_blank\"><span style=\"color: #7f7f7f; text-decoration-color: #7f7f7f\">warnings.py</span></a><span style=\"color: #7f7f7f; text-decoration-color: #7f7f7f\">:</span><a href=\"file:///usr/lib/python3.11/warnings.py#110\" target=\"_blank\"><span style=\"color: #7f7f7f; text-decoration-color: #7f7f7f\">110</span></a>\n",
       "<span style=\"color: #7fbfbf; text-decoration-color: #7fbfbf\">                    </span>         FutureWarning: The behavior of DataFrame concatenation with empty or   <span style=\"color: #7f7f7f; text-decoration-color: #7f7f7f\">               </span>\n",
       "<span style=\"color: #7fbfbf; text-decoration-color: #7fbfbf\">                    </span>         all-NA entries is deprecated. In a future version, this will no longer <span style=\"color: #7f7f7f; text-decoration-color: #7f7f7f\">               </span>\n",
       "<span style=\"color: #7fbfbf; text-decoration-color: #7fbfbf\">                    </span>         exclude empty or all-NA columns when determining the result dtypes. To <span style=\"color: #7f7f7f; text-decoration-color: #7f7f7f\">               </span>\n",
       "<span style=\"color: #7fbfbf; text-decoration-color: #7fbfbf\">                    </span>         retain the old behavior, exclude the relevant entries before the       <span style=\"color: #7f7f7f; text-decoration-color: #7f7f7f\">               </span>\n",
       "<span style=\"color: #7fbfbf; text-decoration-color: #7fbfbf\">                    </span>         concat operation.                                                      <span style=\"color: #7f7f7f; text-decoration-color: #7f7f7f\">               </span>\n",
       "<span style=\"color: #7fbfbf; text-decoration-color: #7fbfbf\">                    </span>           <span style=\"color: #800080; text-decoration-color: #800080; font-weight: bold\">pd.concat</span><span style=\"font-weight: bold\">(</span>dfs<span style=\"font-weight: bold\">)</span>                                                       <span style=\"color: #7f7f7f; text-decoration-color: #7f7f7f\">               </span>\n",
       "<span style=\"color: #7fbfbf; text-decoration-color: #7fbfbf\">                    </span>                                                                                <span style=\"color: #7f7f7f; text-decoration-color: #7f7f7f\">               </span>\n",
       "</pre>\n"
      ],
      "text/plain": [
       "\u001b[2;36m[04/06/25 01:47:13]\u001b[0m\u001b[2;36m \u001b[0m\u001b[33mWARNING \u001b[0m \u001b[35m/usr/local/lib/python3.11/dist-packages/soccerdata/\u001b[0m\u001b[95mfbref.py\u001b[0m:\u001b[1;36m165\u001b[0m:       \u001b]8;id=964973;file:///usr/lib/python3.11/warnings.py\u001b\\\u001b[2mwarnings.py\u001b[0m\u001b]8;;\u001b\\\u001b[2m:\u001b[0m\u001b]8;id=379043;file:///usr/lib/python3.11/warnings.py#110\u001b\\\u001b[2m110\u001b[0m\u001b]8;;\u001b\\\n",
       "\u001b[2;36m                    \u001b[0m         FutureWarning: The behavior of DataFrame concatenation with empty or   \u001b[2m               \u001b[0m\n",
       "\u001b[2;36m                    \u001b[0m         all-NA entries is deprecated. In a future version, this will no longer \u001b[2m               \u001b[0m\n",
       "\u001b[2;36m                    \u001b[0m         exclude empty or all-NA columns when determining the result dtypes. To \u001b[2m               \u001b[0m\n",
       "\u001b[2;36m                    \u001b[0m         retain the old behavior, exclude the relevant entries before the       \u001b[2m               \u001b[0m\n",
       "\u001b[2;36m                    \u001b[0m         concat operation.                                                      \u001b[2m               \u001b[0m\n",
       "\u001b[2;36m                    \u001b[0m           \u001b[1;35mpd.concat\u001b[0m\u001b[1m(\u001b[0mdfs\u001b[1m)\u001b[0m                                                       \u001b[2m               \u001b[0m\n",
       "\u001b[2;36m                    \u001b[0m                                                                                \u001b[2m               \u001b[0m\n"
      ]
     },
     "metadata": {},
     "output_type": "display_data"
    },
    {
     "data": {
      "text/html": [
       "<pre style=\"white-space:pre;overflow-x:auto;line-height:normal;font-family:Menlo,'DejaVu Sans Mono',consolas,'Courier New',monospace\"><span style=\"color: #7fbfbf; text-decoration-color: #7fbfbf\">[04/06/25 01:47:16] </span><span style=\"color: #808000; text-decoration-color: #808000\">WARNING </span> <span style=\"color: #800080; text-decoration-color: #800080\">/usr/local/lib/python3.11/dist-packages/soccerdata/</span><span style=\"color: #ff00ff; text-decoration-color: #ff00ff\">fbref.py</span>:<span style=\"color: #008080; text-decoration-color: #008080; font-weight: bold\">165</span>:       <a href=\"file:///usr/lib/python3.11/warnings.py\" target=\"_blank\"><span style=\"color: #7f7f7f; text-decoration-color: #7f7f7f\">warnings.py</span></a><span style=\"color: #7f7f7f; text-decoration-color: #7f7f7f\">:</span><a href=\"file:///usr/lib/python3.11/warnings.py#110\" target=\"_blank\"><span style=\"color: #7f7f7f; text-decoration-color: #7f7f7f\">110</span></a>\n",
       "<span style=\"color: #7fbfbf; text-decoration-color: #7fbfbf\">                    </span>         FutureWarning: The behavior of DataFrame concatenation with empty or   <span style=\"color: #7f7f7f; text-decoration-color: #7f7f7f\">               </span>\n",
       "<span style=\"color: #7fbfbf; text-decoration-color: #7fbfbf\">                    </span>         all-NA entries is deprecated. In a future version, this will no longer <span style=\"color: #7f7f7f; text-decoration-color: #7f7f7f\">               </span>\n",
       "<span style=\"color: #7fbfbf; text-decoration-color: #7fbfbf\">                    </span>         exclude empty or all-NA columns when determining the result dtypes. To <span style=\"color: #7f7f7f; text-decoration-color: #7f7f7f\">               </span>\n",
       "<span style=\"color: #7fbfbf; text-decoration-color: #7fbfbf\">                    </span>         retain the old behavior, exclude the relevant entries before the       <span style=\"color: #7f7f7f; text-decoration-color: #7f7f7f\">               </span>\n",
       "<span style=\"color: #7fbfbf; text-decoration-color: #7fbfbf\">                    </span>         concat operation.                                                      <span style=\"color: #7f7f7f; text-decoration-color: #7f7f7f\">               </span>\n",
       "<span style=\"color: #7fbfbf; text-decoration-color: #7fbfbf\">                    </span>           <span style=\"color: #800080; text-decoration-color: #800080; font-weight: bold\">pd.concat</span><span style=\"font-weight: bold\">(</span>dfs<span style=\"font-weight: bold\">)</span>                                                       <span style=\"color: #7f7f7f; text-decoration-color: #7f7f7f\">               </span>\n",
       "<span style=\"color: #7fbfbf; text-decoration-color: #7fbfbf\">                    </span>                                                                                <span style=\"color: #7f7f7f; text-decoration-color: #7f7f7f\">               </span>\n",
       "</pre>\n"
      ],
      "text/plain": [
       "\u001b[2;36m[04/06/25 01:47:16]\u001b[0m\u001b[2;36m \u001b[0m\u001b[33mWARNING \u001b[0m \u001b[35m/usr/local/lib/python3.11/dist-packages/soccerdata/\u001b[0m\u001b[95mfbref.py\u001b[0m:\u001b[1;36m165\u001b[0m:       \u001b]8;id=6428;file:///usr/lib/python3.11/warnings.py\u001b\\\u001b[2mwarnings.py\u001b[0m\u001b]8;;\u001b\\\u001b[2m:\u001b[0m\u001b]8;id=361981;file:///usr/lib/python3.11/warnings.py#110\u001b\\\u001b[2m110\u001b[0m\u001b]8;;\u001b\\\n",
       "\u001b[2;36m                    \u001b[0m         FutureWarning: The behavior of DataFrame concatenation with empty or   \u001b[2m               \u001b[0m\n",
       "\u001b[2;36m                    \u001b[0m         all-NA entries is deprecated. In a future version, this will no longer \u001b[2m               \u001b[0m\n",
       "\u001b[2;36m                    \u001b[0m         exclude empty or all-NA columns when determining the result dtypes. To \u001b[2m               \u001b[0m\n",
       "\u001b[2;36m                    \u001b[0m         retain the old behavior, exclude the relevant entries before the       \u001b[2m               \u001b[0m\n",
       "\u001b[2;36m                    \u001b[0m         concat operation.                                                      \u001b[2m               \u001b[0m\n",
       "\u001b[2;36m                    \u001b[0m           \u001b[1;35mpd.concat\u001b[0m\u001b[1m(\u001b[0mdfs\u001b[1m)\u001b[0m                                                       \u001b[2m               \u001b[0m\n",
       "\u001b[2;36m                    \u001b[0m                                                                                \u001b[2m               \u001b[0m\n"
      ]
     },
     "metadata": {},
     "output_type": "display_data"
    },
    {
     "data": {
      "text/html": [
       "<pre style=\"white-space:pre;overflow-x:auto;line-height:normal;font-family:Menlo,'DejaVu Sans Mono',consolas,'Courier New',monospace\"><span style=\"color: #7fbfbf; text-decoration-color: #7fbfbf\">[04/06/25 01:47:18] </span><span style=\"color: #808000; text-decoration-color: #808000\">WARNING </span> <span style=\"color: #800080; text-decoration-color: #800080\">/usr/local/lib/python3.11/dist-packages/soccerdata/</span><span style=\"color: #ff00ff; text-decoration-color: #ff00ff\">fbref.py</span>:<span style=\"color: #008080; text-decoration-color: #008080; font-weight: bold\">165</span>:       <a href=\"file:///usr/lib/python3.11/warnings.py\" target=\"_blank\"><span style=\"color: #7f7f7f; text-decoration-color: #7f7f7f\">warnings.py</span></a><span style=\"color: #7f7f7f; text-decoration-color: #7f7f7f\">:</span><a href=\"file:///usr/lib/python3.11/warnings.py#110\" target=\"_blank\"><span style=\"color: #7f7f7f; text-decoration-color: #7f7f7f\">110</span></a>\n",
       "<span style=\"color: #7fbfbf; text-decoration-color: #7fbfbf\">                    </span>         FutureWarning: The behavior of DataFrame concatenation with empty or   <span style=\"color: #7f7f7f; text-decoration-color: #7f7f7f\">               </span>\n",
       "<span style=\"color: #7fbfbf; text-decoration-color: #7fbfbf\">                    </span>         all-NA entries is deprecated. In a future version, this will no longer <span style=\"color: #7f7f7f; text-decoration-color: #7f7f7f\">               </span>\n",
       "<span style=\"color: #7fbfbf; text-decoration-color: #7fbfbf\">                    </span>         exclude empty or all-NA columns when determining the result dtypes. To <span style=\"color: #7f7f7f; text-decoration-color: #7f7f7f\">               </span>\n",
       "<span style=\"color: #7fbfbf; text-decoration-color: #7fbfbf\">                    </span>         retain the old behavior, exclude the relevant entries before the       <span style=\"color: #7f7f7f; text-decoration-color: #7f7f7f\">               </span>\n",
       "<span style=\"color: #7fbfbf; text-decoration-color: #7fbfbf\">                    </span>         concat operation.                                                      <span style=\"color: #7f7f7f; text-decoration-color: #7f7f7f\">               </span>\n",
       "<span style=\"color: #7fbfbf; text-decoration-color: #7fbfbf\">                    </span>           <span style=\"color: #800080; text-decoration-color: #800080; font-weight: bold\">pd.concat</span><span style=\"font-weight: bold\">(</span>dfs<span style=\"font-weight: bold\">)</span>                                                       <span style=\"color: #7f7f7f; text-decoration-color: #7f7f7f\">               </span>\n",
       "<span style=\"color: #7fbfbf; text-decoration-color: #7fbfbf\">                    </span>                                                                                <span style=\"color: #7f7f7f; text-decoration-color: #7f7f7f\">               </span>\n",
       "</pre>\n"
      ],
      "text/plain": [
       "\u001b[2;36m[04/06/25 01:47:18]\u001b[0m\u001b[2;36m \u001b[0m\u001b[33mWARNING \u001b[0m \u001b[35m/usr/local/lib/python3.11/dist-packages/soccerdata/\u001b[0m\u001b[95mfbref.py\u001b[0m:\u001b[1;36m165\u001b[0m:       \u001b]8;id=9538;file:///usr/lib/python3.11/warnings.py\u001b\\\u001b[2mwarnings.py\u001b[0m\u001b]8;;\u001b\\\u001b[2m:\u001b[0m\u001b]8;id=541491;file:///usr/lib/python3.11/warnings.py#110\u001b\\\u001b[2m110\u001b[0m\u001b]8;;\u001b\\\n",
       "\u001b[2;36m                    \u001b[0m         FutureWarning: The behavior of DataFrame concatenation with empty or   \u001b[2m               \u001b[0m\n",
       "\u001b[2;36m                    \u001b[0m         all-NA entries is deprecated. In a future version, this will no longer \u001b[2m               \u001b[0m\n",
       "\u001b[2;36m                    \u001b[0m         exclude empty or all-NA columns when determining the result dtypes. To \u001b[2m               \u001b[0m\n",
       "\u001b[2;36m                    \u001b[0m         retain the old behavior, exclude the relevant entries before the       \u001b[2m               \u001b[0m\n",
       "\u001b[2;36m                    \u001b[0m         concat operation.                                                      \u001b[2m               \u001b[0m\n",
       "\u001b[2;36m                    \u001b[0m           \u001b[1;35mpd.concat\u001b[0m\u001b[1m(\u001b[0mdfs\u001b[1m)\u001b[0m                                                       \u001b[2m               \u001b[0m\n",
       "\u001b[2;36m                    \u001b[0m                                                                                \u001b[2m               \u001b[0m\n"
      ]
     },
     "metadata": {},
     "output_type": "display_data"
    },
    {
     "data": {
      "text/html": [
       "<pre style=\"white-space:pre;overflow-x:auto;line-height:normal;font-family:Menlo,'DejaVu Sans Mono',consolas,'Courier New',monospace\"><span style=\"color: #7fbfbf; text-decoration-color: #7fbfbf\">[04/06/25 01:47:21] </span><span style=\"color: #808000; text-decoration-color: #808000\">WARNING </span> <span style=\"color: #800080; text-decoration-color: #800080\">/usr/local/lib/python3.11/dist-packages/soccerdata/</span><span style=\"color: #ff00ff; text-decoration-color: #ff00ff\">fbref.py</span>:<span style=\"color: #008080; text-decoration-color: #008080; font-weight: bold\">165</span>:       <a href=\"file:///usr/lib/python3.11/warnings.py\" target=\"_blank\"><span style=\"color: #7f7f7f; text-decoration-color: #7f7f7f\">warnings.py</span></a><span style=\"color: #7f7f7f; text-decoration-color: #7f7f7f\">:</span><a href=\"file:///usr/lib/python3.11/warnings.py#110\" target=\"_blank\"><span style=\"color: #7f7f7f; text-decoration-color: #7f7f7f\">110</span></a>\n",
       "<span style=\"color: #7fbfbf; text-decoration-color: #7fbfbf\">                    </span>         FutureWarning: The behavior of DataFrame concatenation with empty or   <span style=\"color: #7f7f7f; text-decoration-color: #7f7f7f\">               </span>\n",
       "<span style=\"color: #7fbfbf; text-decoration-color: #7fbfbf\">                    </span>         all-NA entries is deprecated. In a future version, this will no longer <span style=\"color: #7f7f7f; text-decoration-color: #7f7f7f\">               </span>\n",
       "<span style=\"color: #7fbfbf; text-decoration-color: #7fbfbf\">                    </span>         exclude empty or all-NA columns when determining the result dtypes. To <span style=\"color: #7f7f7f; text-decoration-color: #7f7f7f\">               </span>\n",
       "<span style=\"color: #7fbfbf; text-decoration-color: #7fbfbf\">                    </span>         retain the old behavior, exclude the relevant entries before the       <span style=\"color: #7f7f7f; text-decoration-color: #7f7f7f\">               </span>\n",
       "<span style=\"color: #7fbfbf; text-decoration-color: #7fbfbf\">                    </span>         concat operation.                                                      <span style=\"color: #7f7f7f; text-decoration-color: #7f7f7f\">               </span>\n",
       "<span style=\"color: #7fbfbf; text-decoration-color: #7fbfbf\">                    </span>           <span style=\"color: #800080; text-decoration-color: #800080; font-weight: bold\">pd.concat</span><span style=\"font-weight: bold\">(</span>dfs<span style=\"font-weight: bold\">)</span>                                                       <span style=\"color: #7f7f7f; text-decoration-color: #7f7f7f\">               </span>\n",
       "<span style=\"color: #7fbfbf; text-decoration-color: #7fbfbf\">                    </span>                                                                                <span style=\"color: #7f7f7f; text-decoration-color: #7f7f7f\">               </span>\n",
       "</pre>\n"
      ],
      "text/plain": [
       "\u001b[2;36m[04/06/25 01:47:21]\u001b[0m\u001b[2;36m \u001b[0m\u001b[33mWARNING \u001b[0m \u001b[35m/usr/local/lib/python3.11/dist-packages/soccerdata/\u001b[0m\u001b[95mfbref.py\u001b[0m:\u001b[1;36m165\u001b[0m:       \u001b]8;id=243655;file:///usr/lib/python3.11/warnings.py\u001b\\\u001b[2mwarnings.py\u001b[0m\u001b]8;;\u001b\\\u001b[2m:\u001b[0m\u001b]8;id=840891;file:///usr/lib/python3.11/warnings.py#110\u001b\\\u001b[2m110\u001b[0m\u001b]8;;\u001b\\\n",
       "\u001b[2;36m                    \u001b[0m         FutureWarning: The behavior of DataFrame concatenation with empty or   \u001b[2m               \u001b[0m\n",
       "\u001b[2;36m                    \u001b[0m         all-NA entries is deprecated. In a future version, this will no longer \u001b[2m               \u001b[0m\n",
       "\u001b[2;36m                    \u001b[0m         exclude empty or all-NA columns when determining the result dtypes. To \u001b[2m               \u001b[0m\n",
       "\u001b[2;36m                    \u001b[0m         retain the old behavior, exclude the relevant entries before the       \u001b[2m               \u001b[0m\n",
       "\u001b[2;36m                    \u001b[0m         concat operation.                                                      \u001b[2m               \u001b[0m\n",
       "\u001b[2;36m                    \u001b[0m           \u001b[1;35mpd.concat\u001b[0m\u001b[1m(\u001b[0mdfs\u001b[1m)\u001b[0m                                                       \u001b[2m               \u001b[0m\n",
       "\u001b[2;36m                    \u001b[0m                                                                                \u001b[2m               \u001b[0m\n"
      ]
     },
     "metadata": {},
     "output_type": "display_data"
    },
    {
     "name": "stderr",
     "output_type": "stream",
     "text": [
      "\r 70%|███████   | 7/10 [2:08:12<42:36, 852.13s/it]   "
     ]
    },
    {
     "data": {
      "text/html": [
       "<pre style=\"white-space:pre;overflow-x:auto;line-height:normal;font-family:Menlo,'DejaVu Sans Mono',consolas,'Courier New',monospace\"><span style=\"color: #7fbfbf; text-decoration-color: #7fbfbf\">[04/06/25 01:47:23] </span><span style=\"color: #000080; text-decoration-color: #000080\">INFO    </span> Saving cached data to <span style=\"color: #800080; text-decoration-color: #800080\">/root/soccerdata/data/</span><span style=\"color: #ff00ff; text-decoration-color: #ff00ff\">FBref</span>                       <a href=\"file:///usr/local/lib/python3.11/dist-packages/soccerdata/_common.py\" target=\"_blank\"><span style=\"color: #7f7f7f; text-decoration-color: #7f7f7f\">_common.py</span></a><span style=\"color: #7f7f7f; text-decoration-color: #7f7f7f\">:</span><a href=\"file:///usr/local/lib/python3.11/dist-packages/soccerdata/_common.py#263\" target=\"_blank\"><span style=\"color: #7f7f7f; text-decoration-color: #7f7f7f\">263</span></a>\n",
       "</pre>\n"
      ],
      "text/plain": [
       "\u001b[2;36m[04/06/25 01:47:23]\u001b[0m\u001b[2;36m \u001b[0m\u001b[34mINFO    \u001b[0m Saving cached data to \u001b[35m/root/soccerdata/data/\u001b[0m\u001b[95mFBref\u001b[0m                       \u001b]8;id=413420;file:///usr/local/lib/python3.11/dist-packages/soccerdata/_common.py\u001b\\\u001b[2m_common.py\u001b[0m\u001b]8;;\u001b\\\u001b[2m:\u001b[0m\u001b]8;id=725454;file:///usr/local/lib/python3.11/dist-packages/soccerdata/_common.py#263\u001b\\\u001b[2m263\u001b[0m\u001b]8;;\u001b\\\n"
      ]
     },
     "metadata": {},
     "output_type": "display_data"
    },
    {
     "data": {
      "text/html": [
       "<pre style=\"white-space:pre;overflow-x:auto;line-height:normal;font-family:Menlo,'DejaVu Sans Mono',consolas,'Courier New',monospace\"><span style=\"color: #7fbfbf; text-decoration-color: #7fbfbf\">                    </span><span style=\"color: #808000; text-decoration-color: #808000\">WARNING </span> <span style=\"color: #800080; text-decoration-color: #800080\">/usr/local/lib/python3.11/dist-packages/soccerdata/</span><span style=\"color: #ff00ff; text-decoration-color: #ff00ff\">fbref.py</span>:<span style=\"color: #008080; text-decoration-color: #008080; font-weight: bold\">165</span>:       <a href=\"file:///usr/lib/python3.11/warnings.py\" target=\"_blank\"><span style=\"color: #7f7f7f; text-decoration-color: #7f7f7f\">warnings.py</span></a><span style=\"color: #7f7f7f; text-decoration-color: #7f7f7f\">:</span><a href=\"file:///usr/lib/python3.11/warnings.py#110\" target=\"_blank\"><span style=\"color: #7f7f7f; text-decoration-color: #7f7f7f\">110</span></a>\n",
       "<span style=\"color: #7fbfbf; text-decoration-color: #7fbfbf\">                    </span>         FutureWarning: The behavior of DataFrame concatenation with empty or   <span style=\"color: #7f7f7f; text-decoration-color: #7f7f7f\">               </span>\n",
       "<span style=\"color: #7fbfbf; text-decoration-color: #7fbfbf\">                    </span>         all-NA entries is deprecated. In a future version, this will no longer <span style=\"color: #7f7f7f; text-decoration-color: #7f7f7f\">               </span>\n",
       "<span style=\"color: #7fbfbf; text-decoration-color: #7fbfbf\">                    </span>         exclude empty or all-NA columns when determining the result dtypes. To <span style=\"color: #7f7f7f; text-decoration-color: #7f7f7f\">               </span>\n",
       "<span style=\"color: #7fbfbf; text-decoration-color: #7fbfbf\">                    </span>         retain the old behavior, exclude the relevant entries before the       <span style=\"color: #7f7f7f; text-decoration-color: #7f7f7f\">               </span>\n",
       "<span style=\"color: #7fbfbf; text-decoration-color: #7fbfbf\">                    </span>         concat operation.                                                      <span style=\"color: #7f7f7f; text-decoration-color: #7f7f7f\">               </span>\n",
       "<span style=\"color: #7fbfbf; text-decoration-color: #7fbfbf\">                    </span>           <span style=\"color: #800080; text-decoration-color: #800080; font-weight: bold\">pd.concat</span><span style=\"font-weight: bold\">(</span>dfs<span style=\"font-weight: bold\">)</span>                                                       <span style=\"color: #7f7f7f; text-decoration-color: #7f7f7f\">               </span>\n",
       "<span style=\"color: #7fbfbf; text-decoration-color: #7fbfbf\">                    </span>                                                                                <span style=\"color: #7f7f7f; text-decoration-color: #7f7f7f\">               </span>\n",
       "</pre>\n"
      ],
      "text/plain": [
       "\u001b[2;36m                   \u001b[0m\u001b[2;36m \u001b[0m\u001b[33mWARNING \u001b[0m \u001b[35m/usr/local/lib/python3.11/dist-packages/soccerdata/\u001b[0m\u001b[95mfbref.py\u001b[0m:\u001b[1;36m165\u001b[0m:       \u001b]8;id=648165;file:///usr/lib/python3.11/warnings.py\u001b\\\u001b[2mwarnings.py\u001b[0m\u001b]8;;\u001b\\\u001b[2m:\u001b[0m\u001b]8;id=244706;file:///usr/lib/python3.11/warnings.py#110\u001b\\\u001b[2m110\u001b[0m\u001b]8;;\u001b\\\n",
       "\u001b[2;36m                    \u001b[0m         FutureWarning: The behavior of DataFrame concatenation with empty or   \u001b[2m               \u001b[0m\n",
       "\u001b[2;36m                    \u001b[0m         all-NA entries is deprecated. In a future version, this will no longer \u001b[2m               \u001b[0m\n",
       "\u001b[2;36m                    \u001b[0m         exclude empty or all-NA columns when determining the result dtypes. To \u001b[2m               \u001b[0m\n",
       "\u001b[2;36m                    \u001b[0m         retain the old behavior, exclude the relevant entries before the       \u001b[2m               \u001b[0m\n",
       "\u001b[2;36m                    \u001b[0m         concat operation.                                                      \u001b[2m               \u001b[0m\n",
       "\u001b[2;36m                    \u001b[0m           \u001b[1;35mpd.concat\u001b[0m\u001b[1m(\u001b[0mdfs\u001b[1m)\u001b[0m                                                       \u001b[2m               \u001b[0m\n",
       "\u001b[2;36m                    \u001b[0m                                                                                \u001b[2m               \u001b[0m\n"
      ]
     },
     "metadata": {},
     "output_type": "display_data"
    },
    {
     "data": {
      "text/html": [
       "<pre style=\"white-space:pre;overflow-x:auto;line-height:normal;font-family:Menlo,'DejaVu Sans Mono',consolas,'Courier New',monospace\"><span style=\"color: #7fbfbf; text-decoration-color: #7fbfbf\">[04/06/25 01:49:34] </span><span style=\"color: #808000; text-decoration-color: #808000\">WARNING </span> <span style=\"color: #800080; text-decoration-color: #800080\">/usr/local/lib/python3.11/dist-packages/soccerdata/</span><span style=\"color: #ff00ff; text-decoration-color: #ff00ff\">fbref.py</span>:<span style=\"color: #008080; text-decoration-color: #008080; font-weight: bold\">1273</span>:      <a href=\"file:///usr/lib/python3.11/warnings.py\" target=\"_blank\"><span style=\"color: #7f7f7f; text-decoration-color: #7f7f7f\">warnings.py</span></a><span style=\"color: #7f7f7f; text-decoration-color: #7f7f7f\">:</span><a href=\"file:///usr/lib/python3.11/warnings.py#110\" target=\"_blank\"><span style=\"color: #7f7f7f; text-decoration-color: #7f7f7f\">110</span></a>\n",
       "<span style=\"color: #7fbfbf; text-decoration-color: #7fbfbf\">                    </span>         FutureWarning: The behavior of DataFrame concatenation with empty or   <span style=\"color: #7f7f7f; text-decoration-color: #7f7f7f\">               </span>\n",
       "<span style=\"color: #7fbfbf; text-decoration-color: #7fbfbf\">                    </span>         all-NA entries is deprecated. In a future version, this will no longer <span style=\"color: #7f7f7f; text-decoration-color: #7f7f7f\">               </span>\n",
       "<span style=\"color: #7fbfbf; text-decoration-color: #7fbfbf\">                    </span>         exclude empty or all-NA columns when determining the result dtypes. To <span style=\"color: #7f7f7f; text-decoration-color: #7f7f7f\">               </span>\n",
       "<span style=\"color: #7fbfbf; text-decoration-color: #7fbfbf\">                    </span>         retain the old behavior, exclude the relevant entries before the       <span style=\"color: #7f7f7f; text-decoration-color: #7f7f7f\">               </span>\n",
       "<span style=\"color: #7fbfbf; text-decoration-color: #7fbfbf\">                    </span>         concat operation.                                                      <span style=\"color: #7f7f7f; text-decoration-color: #7f7f7f\">               </span>\n",
       "<span style=\"color: #7fbfbf; text-decoration-color: #7fbfbf\">                    </span>           return <span style=\"color: #800080; text-decoration-color: #800080; font-weight: bold\">pd.concat</span><span style=\"font-weight: bold\">(</span>dfs<span style=\"font-weight: bold\">)</span>                                                <span style=\"color: #7f7f7f; text-decoration-color: #7f7f7f\">               </span>\n",
       "<span style=\"color: #7fbfbf; text-decoration-color: #7fbfbf\">                    </span>                                                                                <span style=\"color: #7f7f7f; text-decoration-color: #7f7f7f\">               </span>\n",
       "</pre>\n"
      ],
      "text/plain": [
       "\u001b[2;36m[04/06/25 01:49:34]\u001b[0m\u001b[2;36m \u001b[0m\u001b[33mWARNING \u001b[0m \u001b[35m/usr/local/lib/python3.11/dist-packages/soccerdata/\u001b[0m\u001b[95mfbref.py\u001b[0m:\u001b[1;36m1273\u001b[0m:      \u001b]8;id=941344;file:///usr/lib/python3.11/warnings.py\u001b\\\u001b[2mwarnings.py\u001b[0m\u001b]8;;\u001b\\\u001b[2m:\u001b[0m\u001b]8;id=239328;file:///usr/lib/python3.11/warnings.py#110\u001b\\\u001b[2m110\u001b[0m\u001b]8;;\u001b\\\n",
       "\u001b[2;36m                    \u001b[0m         FutureWarning: The behavior of DataFrame concatenation with empty or   \u001b[2m               \u001b[0m\n",
       "\u001b[2;36m                    \u001b[0m         all-NA entries is deprecated. In a future version, this will no longer \u001b[2m               \u001b[0m\n",
       "\u001b[2;36m                    \u001b[0m         exclude empty or all-NA columns when determining the result dtypes. To \u001b[2m               \u001b[0m\n",
       "\u001b[2;36m                    \u001b[0m         retain the old behavior, exclude the relevant entries before the       \u001b[2m               \u001b[0m\n",
       "\u001b[2;36m                    \u001b[0m         concat operation.                                                      \u001b[2m               \u001b[0m\n",
       "\u001b[2;36m                    \u001b[0m           return \u001b[1;35mpd.concat\u001b[0m\u001b[1m(\u001b[0mdfs\u001b[1m)\u001b[0m                                                \u001b[2m               \u001b[0m\n",
       "\u001b[2;36m                    \u001b[0m                                                                                \u001b[2m               \u001b[0m\n"
      ]
     },
     "metadata": {},
     "output_type": "display_data"
    },
    {
     "data": {
      "text/html": [
       "<pre style=\"white-space:pre;overflow-x:auto;line-height:normal;font-family:Menlo,'DejaVu Sans Mono',consolas,'Courier New',monospace\"><span style=\"color: #7fbfbf; text-decoration-color: #7fbfbf\">                    </span><span style=\"color: #808000; text-decoration-color: #808000\">WARNING </span> <span style=\"color: #800080; text-decoration-color: #800080\">/usr/local/lib/python3.11/dist-packages/soccerdata/</span><span style=\"color: #ff00ff; text-decoration-color: #ff00ff\">fbref.py</span>:<span style=\"color: #008080; text-decoration-color: #008080; font-weight: bold\">165</span>:       <a href=\"file:///usr/lib/python3.11/warnings.py\" target=\"_blank\"><span style=\"color: #7f7f7f; text-decoration-color: #7f7f7f\">warnings.py</span></a><span style=\"color: #7f7f7f; text-decoration-color: #7f7f7f\">:</span><a href=\"file:///usr/lib/python3.11/warnings.py#110\" target=\"_blank\"><span style=\"color: #7f7f7f; text-decoration-color: #7f7f7f\">110</span></a>\n",
       "<span style=\"color: #7fbfbf; text-decoration-color: #7fbfbf\">                    </span>         FutureWarning: The behavior of DataFrame concatenation with empty or   <span style=\"color: #7f7f7f; text-decoration-color: #7f7f7f\">               </span>\n",
       "<span style=\"color: #7fbfbf; text-decoration-color: #7fbfbf\">                    </span>         all-NA entries is deprecated. In a future version, this will no longer <span style=\"color: #7f7f7f; text-decoration-color: #7f7f7f\">               </span>\n",
       "<span style=\"color: #7fbfbf; text-decoration-color: #7fbfbf\">                    </span>         exclude empty or all-NA columns when determining the result dtypes. To <span style=\"color: #7f7f7f; text-decoration-color: #7f7f7f\">               </span>\n",
       "<span style=\"color: #7fbfbf; text-decoration-color: #7fbfbf\">                    </span>         retain the old behavior, exclude the relevant entries before the       <span style=\"color: #7f7f7f; text-decoration-color: #7f7f7f\">               </span>\n",
       "<span style=\"color: #7fbfbf; text-decoration-color: #7fbfbf\">                    </span>         concat operation.                                                      <span style=\"color: #7f7f7f; text-decoration-color: #7f7f7f\">               </span>\n",
       "<span style=\"color: #7fbfbf; text-decoration-color: #7fbfbf\">                    </span>           <span style=\"color: #800080; text-decoration-color: #800080; font-weight: bold\">pd.concat</span><span style=\"font-weight: bold\">(</span>dfs<span style=\"font-weight: bold\">)</span>                                                       <span style=\"color: #7f7f7f; text-decoration-color: #7f7f7f\">               </span>\n",
       "<span style=\"color: #7fbfbf; text-decoration-color: #7fbfbf\">                    </span>                                                                                <span style=\"color: #7f7f7f; text-decoration-color: #7f7f7f\">               </span>\n",
       "</pre>\n"
      ],
      "text/plain": [
       "\u001b[2;36m                   \u001b[0m\u001b[2;36m \u001b[0m\u001b[33mWARNING \u001b[0m \u001b[35m/usr/local/lib/python3.11/dist-packages/soccerdata/\u001b[0m\u001b[95mfbref.py\u001b[0m:\u001b[1;36m165\u001b[0m:       \u001b]8;id=685965;file:///usr/lib/python3.11/warnings.py\u001b\\\u001b[2mwarnings.py\u001b[0m\u001b]8;;\u001b\\\u001b[2m:\u001b[0m\u001b]8;id=278879;file:///usr/lib/python3.11/warnings.py#110\u001b\\\u001b[2m110\u001b[0m\u001b]8;;\u001b\\\n",
       "\u001b[2;36m                    \u001b[0m         FutureWarning: The behavior of DataFrame concatenation with empty or   \u001b[2m               \u001b[0m\n",
       "\u001b[2;36m                    \u001b[0m         all-NA entries is deprecated. In a future version, this will no longer \u001b[2m               \u001b[0m\n",
       "\u001b[2;36m                    \u001b[0m         exclude empty or all-NA columns when determining the result dtypes. To \u001b[2m               \u001b[0m\n",
       "\u001b[2;36m                    \u001b[0m         retain the old behavior, exclude the relevant entries before the       \u001b[2m               \u001b[0m\n",
       "\u001b[2;36m                    \u001b[0m         concat operation.                                                      \u001b[2m               \u001b[0m\n",
       "\u001b[2;36m                    \u001b[0m           \u001b[1;35mpd.concat\u001b[0m\u001b[1m(\u001b[0mdfs\u001b[1m)\u001b[0m                                                       \u001b[2m               \u001b[0m\n",
       "\u001b[2;36m                    \u001b[0m                                                                                \u001b[2m               \u001b[0m\n"
      ]
     },
     "metadata": {},
     "output_type": "display_data"
    },
    {
     "data": {
      "text/html": [
       "<pre style=\"white-space:pre;overflow-x:auto;line-height:normal;font-family:Menlo,'DejaVu Sans Mono',consolas,'Courier New',monospace\"><span style=\"color: #7fbfbf; text-decoration-color: #7fbfbf\">[04/06/25 01:51:39] </span><span style=\"color: #808000; text-decoration-color: #808000\">WARNING </span> <span style=\"color: #800080; text-decoration-color: #800080\">/usr/local/lib/python3.11/dist-packages/soccerdata/</span><span style=\"color: #ff00ff; text-decoration-color: #ff00ff\">fbref.py</span>:<span style=\"color: #008080; text-decoration-color: #008080; font-weight: bold\">165</span>:       <a href=\"file:///usr/lib/python3.11/warnings.py\" target=\"_blank\"><span style=\"color: #7f7f7f; text-decoration-color: #7f7f7f\">warnings.py</span></a><span style=\"color: #7f7f7f; text-decoration-color: #7f7f7f\">:</span><a href=\"file:///usr/lib/python3.11/warnings.py#110\" target=\"_blank\"><span style=\"color: #7f7f7f; text-decoration-color: #7f7f7f\">110</span></a>\n",
       "<span style=\"color: #7fbfbf; text-decoration-color: #7fbfbf\">                    </span>         FutureWarning: The behavior of DataFrame concatenation with empty or   <span style=\"color: #7f7f7f; text-decoration-color: #7f7f7f\">               </span>\n",
       "<span style=\"color: #7fbfbf; text-decoration-color: #7fbfbf\">                    </span>         all-NA entries is deprecated. In a future version, this will no longer <span style=\"color: #7f7f7f; text-decoration-color: #7f7f7f\">               </span>\n",
       "<span style=\"color: #7fbfbf; text-decoration-color: #7fbfbf\">                    </span>         exclude empty or all-NA columns when determining the result dtypes. To <span style=\"color: #7f7f7f; text-decoration-color: #7f7f7f\">               </span>\n",
       "<span style=\"color: #7fbfbf; text-decoration-color: #7fbfbf\">                    </span>         retain the old behavior, exclude the relevant entries before the       <span style=\"color: #7f7f7f; text-decoration-color: #7f7f7f\">               </span>\n",
       "<span style=\"color: #7fbfbf; text-decoration-color: #7fbfbf\">                    </span>         concat operation.                                                      <span style=\"color: #7f7f7f; text-decoration-color: #7f7f7f\">               </span>\n",
       "<span style=\"color: #7fbfbf; text-decoration-color: #7fbfbf\">                    </span>           <span style=\"color: #800080; text-decoration-color: #800080; font-weight: bold\">pd.concat</span><span style=\"font-weight: bold\">(</span>dfs<span style=\"font-weight: bold\">)</span>                                                       <span style=\"color: #7f7f7f; text-decoration-color: #7f7f7f\">               </span>\n",
       "<span style=\"color: #7fbfbf; text-decoration-color: #7fbfbf\">                    </span>                                                                                <span style=\"color: #7f7f7f; text-decoration-color: #7f7f7f\">               </span>\n",
       "</pre>\n"
      ],
      "text/plain": [
       "\u001b[2;36m[04/06/25 01:51:39]\u001b[0m\u001b[2;36m \u001b[0m\u001b[33mWARNING \u001b[0m \u001b[35m/usr/local/lib/python3.11/dist-packages/soccerdata/\u001b[0m\u001b[95mfbref.py\u001b[0m:\u001b[1;36m165\u001b[0m:       \u001b]8;id=443498;file:///usr/lib/python3.11/warnings.py\u001b\\\u001b[2mwarnings.py\u001b[0m\u001b]8;;\u001b\\\u001b[2m:\u001b[0m\u001b]8;id=278918;file:///usr/lib/python3.11/warnings.py#110\u001b\\\u001b[2m110\u001b[0m\u001b]8;;\u001b\\\n",
       "\u001b[2;36m                    \u001b[0m         FutureWarning: The behavior of DataFrame concatenation with empty or   \u001b[2m               \u001b[0m\n",
       "\u001b[2;36m                    \u001b[0m         all-NA entries is deprecated. In a future version, this will no longer \u001b[2m               \u001b[0m\n",
       "\u001b[2;36m                    \u001b[0m         exclude empty or all-NA columns when determining the result dtypes. To \u001b[2m               \u001b[0m\n",
       "\u001b[2;36m                    \u001b[0m         retain the old behavior, exclude the relevant entries before the       \u001b[2m               \u001b[0m\n",
       "\u001b[2;36m                    \u001b[0m         concat operation.                                                      \u001b[2m               \u001b[0m\n",
       "\u001b[2;36m                    \u001b[0m           \u001b[1;35mpd.concat\u001b[0m\u001b[1m(\u001b[0mdfs\u001b[1m)\u001b[0m                                                       \u001b[2m               \u001b[0m\n",
       "\u001b[2;36m                    \u001b[0m                                                                                \u001b[2m               \u001b[0m\n"
      ]
     },
     "metadata": {},
     "output_type": "display_data"
    },
    {
     "data": {
      "text/html": [
       "<pre style=\"white-space:pre;overflow-x:auto;line-height:normal;font-family:Menlo,'DejaVu Sans Mono',consolas,'Courier New',monospace\"><span style=\"color: #7fbfbf; text-decoration-color: #7fbfbf\">[04/06/25 01:53:44] </span><span style=\"color: #808000; text-decoration-color: #808000\">WARNING </span> <span style=\"color: #800080; text-decoration-color: #800080\">/usr/local/lib/python3.11/dist-packages/soccerdata/</span><span style=\"color: #ff00ff; text-decoration-color: #ff00ff\">fbref.py</span>:<span style=\"color: #008080; text-decoration-color: #008080; font-weight: bold\">165</span>:       <a href=\"file:///usr/lib/python3.11/warnings.py\" target=\"_blank\"><span style=\"color: #7f7f7f; text-decoration-color: #7f7f7f\">warnings.py</span></a><span style=\"color: #7f7f7f; text-decoration-color: #7f7f7f\">:</span><a href=\"file:///usr/lib/python3.11/warnings.py#110\" target=\"_blank\"><span style=\"color: #7f7f7f; text-decoration-color: #7f7f7f\">110</span></a>\n",
       "<span style=\"color: #7fbfbf; text-decoration-color: #7fbfbf\">                    </span>         FutureWarning: The behavior of DataFrame concatenation with empty or   <span style=\"color: #7f7f7f; text-decoration-color: #7f7f7f\">               </span>\n",
       "<span style=\"color: #7fbfbf; text-decoration-color: #7fbfbf\">                    </span>         all-NA entries is deprecated. In a future version, this will no longer <span style=\"color: #7f7f7f; text-decoration-color: #7f7f7f\">               </span>\n",
       "<span style=\"color: #7fbfbf; text-decoration-color: #7fbfbf\">                    </span>         exclude empty or all-NA columns when determining the result dtypes. To <span style=\"color: #7f7f7f; text-decoration-color: #7f7f7f\">               </span>\n",
       "<span style=\"color: #7fbfbf; text-decoration-color: #7fbfbf\">                    </span>         retain the old behavior, exclude the relevant entries before the       <span style=\"color: #7f7f7f; text-decoration-color: #7f7f7f\">               </span>\n",
       "<span style=\"color: #7fbfbf; text-decoration-color: #7fbfbf\">                    </span>         concat operation.                                                      <span style=\"color: #7f7f7f; text-decoration-color: #7f7f7f\">               </span>\n",
       "<span style=\"color: #7fbfbf; text-decoration-color: #7fbfbf\">                    </span>           <span style=\"color: #800080; text-decoration-color: #800080; font-weight: bold\">pd.concat</span><span style=\"font-weight: bold\">(</span>dfs<span style=\"font-weight: bold\">)</span>                                                       <span style=\"color: #7f7f7f; text-decoration-color: #7f7f7f\">               </span>\n",
       "<span style=\"color: #7fbfbf; text-decoration-color: #7fbfbf\">                    </span>                                                                                <span style=\"color: #7f7f7f; text-decoration-color: #7f7f7f\">               </span>\n",
       "</pre>\n"
      ],
      "text/plain": [
       "\u001b[2;36m[04/06/25 01:53:44]\u001b[0m\u001b[2;36m \u001b[0m\u001b[33mWARNING \u001b[0m \u001b[35m/usr/local/lib/python3.11/dist-packages/soccerdata/\u001b[0m\u001b[95mfbref.py\u001b[0m:\u001b[1;36m165\u001b[0m:       \u001b]8;id=449893;file:///usr/lib/python3.11/warnings.py\u001b\\\u001b[2mwarnings.py\u001b[0m\u001b]8;;\u001b\\\u001b[2m:\u001b[0m\u001b]8;id=609111;file:///usr/lib/python3.11/warnings.py#110\u001b\\\u001b[2m110\u001b[0m\u001b]8;;\u001b\\\n",
       "\u001b[2;36m                    \u001b[0m         FutureWarning: The behavior of DataFrame concatenation with empty or   \u001b[2m               \u001b[0m\n",
       "\u001b[2;36m                    \u001b[0m         all-NA entries is deprecated. In a future version, this will no longer \u001b[2m               \u001b[0m\n",
       "\u001b[2;36m                    \u001b[0m         exclude empty or all-NA columns when determining the result dtypes. To \u001b[2m               \u001b[0m\n",
       "\u001b[2;36m                    \u001b[0m         retain the old behavior, exclude the relevant entries before the       \u001b[2m               \u001b[0m\n",
       "\u001b[2;36m                    \u001b[0m         concat operation.                                                      \u001b[2m               \u001b[0m\n",
       "\u001b[2;36m                    \u001b[0m           \u001b[1;35mpd.concat\u001b[0m\u001b[1m(\u001b[0mdfs\u001b[1m)\u001b[0m                                                       \u001b[2m               \u001b[0m\n",
       "\u001b[2;36m                    \u001b[0m                                                                                \u001b[2m               \u001b[0m\n"
      ]
     },
     "metadata": {},
     "output_type": "display_data"
    },
    {
     "data": {
      "text/html": [
       "<pre style=\"white-space:pre;overflow-x:auto;line-height:normal;font-family:Menlo,'DejaVu Sans Mono',consolas,'Courier New',monospace\"><span style=\"color: #7fbfbf; text-decoration-color: #7fbfbf\">[04/06/25 01:55:49] </span><span style=\"color: #808000; text-decoration-color: #808000\">WARNING </span> <span style=\"color: #800080; text-decoration-color: #800080\">/usr/local/lib/python3.11/dist-packages/soccerdata/</span><span style=\"color: #ff00ff; text-decoration-color: #ff00ff\">fbref.py</span>:<span style=\"color: #008080; text-decoration-color: #008080; font-weight: bold\">165</span>:       <a href=\"file:///usr/lib/python3.11/warnings.py\" target=\"_blank\"><span style=\"color: #7f7f7f; text-decoration-color: #7f7f7f\">warnings.py</span></a><span style=\"color: #7f7f7f; text-decoration-color: #7f7f7f\">:</span><a href=\"file:///usr/lib/python3.11/warnings.py#110\" target=\"_blank\"><span style=\"color: #7f7f7f; text-decoration-color: #7f7f7f\">110</span></a>\n",
       "<span style=\"color: #7fbfbf; text-decoration-color: #7fbfbf\">                    </span>         FutureWarning: The behavior of DataFrame concatenation with empty or   <span style=\"color: #7f7f7f; text-decoration-color: #7f7f7f\">               </span>\n",
       "<span style=\"color: #7fbfbf; text-decoration-color: #7fbfbf\">                    </span>         all-NA entries is deprecated. In a future version, this will no longer <span style=\"color: #7f7f7f; text-decoration-color: #7f7f7f\">               </span>\n",
       "<span style=\"color: #7fbfbf; text-decoration-color: #7fbfbf\">                    </span>         exclude empty or all-NA columns when determining the result dtypes. To <span style=\"color: #7f7f7f; text-decoration-color: #7f7f7f\">               </span>\n",
       "<span style=\"color: #7fbfbf; text-decoration-color: #7fbfbf\">                    </span>         retain the old behavior, exclude the relevant entries before the       <span style=\"color: #7f7f7f; text-decoration-color: #7f7f7f\">               </span>\n",
       "<span style=\"color: #7fbfbf; text-decoration-color: #7fbfbf\">                    </span>         concat operation.                                                      <span style=\"color: #7f7f7f; text-decoration-color: #7f7f7f\">               </span>\n",
       "<span style=\"color: #7fbfbf; text-decoration-color: #7fbfbf\">                    </span>           <span style=\"color: #800080; text-decoration-color: #800080; font-weight: bold\">pd.concat</span><span style=\"font-weight: bold\">(</span>dfs<span style=\"font-weight: bold\">)</span>                                                       <span style=\"color: #7f7f7f; text-decoration-color: #7f7f7f\">               </span>\n",
       "<span style=\"color: #7fbfbf; text-decoration-color: #7fbfbf\">                    </span>                                                                                <span style=\"color: #7f7f7f; text-decoration-color: #7f7f7f\">               </span>\n",
       "</pre>\n"
      ],
      "text/plain": [
       "\u001b[2;36m[04/06/25 01:55:49]\u001b[0m\u001b[2;36m \u001b[0m\u001b[33mWARNING \u001b[0m \u001b[35m/usr/local/lib/python3.11/dist-packages/soccerdata/\u001b[0m\u001b[95mfbref.py\u001b[0m:\u001b[1;36m165\u001b[0m:       \u001b]8;id=320324;file:///usr/lib/python3.11/warnings.py\u001b\\\u001b[2mwarnings.py\u001b[0m\u001b]8;;\u001b\\\u001b[2m:\u001b[0m\u001b]8;id=610808;file:///usr/lib/python3.11/warnings.py#110\u001b\\\u001b[2m110\u001b[0m\u001b]8;;\u001b\\\n",
       "\u001b[2;36m                    \u001b[0m         FutureWarning: The behavior of DataFrame concatenation with empty or   \u001b[2m               \u001b[0m\n",
       "\u001b[2;36m                    \u001b[0m         all-NA entries is deprecated. In a future version, this will no longer \u001b[2m               \u001b[0m\n",
       "\u001b[2;36m                    \u001b[0m         exclude empty or all-NA columns when determining the result dtypes. To \u001b[2m               \u001b[0m\n",
       "\u001b[2;36m                    \u001b[0m         retain the old behavior, exclude the relevant entries before the       \u001b[2m               \u001b[0m\n",
       "\u001b[2;36m                    \u001b[0m         concat operation.                                                      \u001b[2m               \u001b[0m\n",
       "\u001b[2;36m                    \u001b[0m           \u001b[1;35mpd.concat\u001b[0m\u001b[1m(\u001b[0mdfs\u001b[1m)\u001b[0m                                                       \u001b[2m               \u001b[0m\n",
       "\u001b[2;36m                    \u001b[0m                                                                                \u001b[2m               \u001b[0m\n"
      ]
     },
     "metadata": {},
     "output_type": "display_data"
    },
    {
     "data": {
      "text/html": [
       "<pre style=\"white-space:pre;overflow-x:auto;line-height:normal;font-family:Menlo,'DejaVu Sans Mono',consolas,'Courier New',monospace\"><span style=\"color: #7fbfbf; text-decoration-color: #7fbfbf\">[04/06/25 01:57:54] </span><span style=\"color: #808000; text-decoration-color: #808000\">WARNING </span> <span style=\"color: #800080; text-decoration-color: #800080\">/usr/local/lib/python3.11/dist-packages/soccerdata/</span><span style=\"color: #ff00ff; text-decoration-color: #ff00ff\">fbref.py</span>:<span style=\"color: #008080; text-decoration-color: #008080; font-weight: bold\">165</span>:       <a href=\"file:///usr/lib/python3.11/warnings.py\" target=\"_blank\"><span style=\"color: #7f7f7f; text-decoration-color: #7f7f7f\">warnings.py</span></a><span style=\"color: #7f7f7f; text-decoration-color: #7f7f7f\">:</span><a href=\"file:///usr/lib/python3.11/warnings.py#110\" target=\"_blank\"><span style=\"color: #7f7f7f; text-decoration-color: #7f7f7f\">110</span></a>\n",
       "<span style=\"color: #7fbfbf; text-decoration-color: #7fbfbf\">                    </span>         FutureWarning: The behavior of DataFrame concatenation with empty or   <span style=\"color: #7f7f7f; text-decoration-color: #7f7f7f\">               </span>\n",
       "<span style=\"color: #7fbfbf; text-decoration-color: #7fbfbf\">                    </span>         all-NA entries is deprecated. In a future version, this will no longer <span style=\"color: #7f7f7f; text-decoration-color: #7f7f7f\">               </span>\n",
       "<span style=\"color: #7fbfbf; text-decoration-color: #7fbfbf\">                    </span>         exclude empty or all-NA columns when determining the result dtypes. To <span style=\"color: #7f7f7f; text-decoration-color: #7f7f7f\">               </span>\n",
       "<span style=\"color: #7fbfbf; text-decoration-color: #7fbfbf\">                    </span>         retain the old behavior, exclude the relevant entries before the       <span style=\"color: #7f7f7f; text-decoration-color: #7f7f7f\">               </span>\n",
       "<span style=\"color: #7fbfbf; text-decoration-color: #7fbfbf\">                    </span>         concat operation.                                                      <span style=\"color: #7f7f7f; text-decoration-color: #7f7f7f\">               </span>\n",
       "<span style=\"color: #7fbfbf; text-decoration-color: #7fbfbf\">                    </span>           <span style=\"color: #800080; text-decoration-color: #800080; font-weight: bold\">pd.concat</span><span style=\"font-weight: bold\">(</span>dfs<span style=\"font-weight: bold\">)</span>                                                       <span style=\"color: #7f7f7f; text-decoration-color: #7f7f7f\">               </span>\n",
       "<span style=\"color: #7fbfbf; text-decoration-color: #7fbfbf\">                    </span>                                                                                <span style=\"color: #7f7f7f; text-decoration-color: #7f7f7f\">               </span>\n",
       "</pre>\n"
      ],
      "text/plain": [
       "\u001b[2;36m[04/06/25 01:57:54]\u001b[0m\u001b[2;36m \u001b[0m\u001b[33mWARNING \u001b[0m \u001b[35m/usr/local/lib/python3.11/dist-packages/soccerdata/\u001b[0m\u001b[95mfbref.py\u001b[0m:\u001b[1;36m165\u001b[0m:       \u001b]8;id=760009;file:///usr/lib/python3.11/warnings.py\u001b\\\u001b[2mwarnings.py\u001b[0m\u001b]8;;\u001b\\\u001b[2m:\u001b[0m\u001b]8;id=499677;file:///usr/lib/python3.11/warnings.py#110\u001b\\\u001b[2m110\u001b[0m\u001b]8;;\u001b\\\n",
       "\u001b[2;36m                    \u001b[0m         FutureWarning: The behavior of DataFrame concatenation with empty or   \u001b[2m               \u001b[0m\n",
       "\u001b[2;36m                    \u001b[0m         all-NA entries is deprecated. In a future version, this will no longer \u001b[2m               \u001b[0m\n",
       "\u001b[2;36m                    \u001b[0m         exclude empty or all-NA columns when determining the result dtypes. To \u001b[2m               \u001b[0m\n",
       "\u001b[2;36m                    \u001b[0m         retain the old behavior, exclude the relevant entries before the       \u001b[2m               \u001b[0m\n",
       "\u001b[2;36m                    \u001b[0m         concat operation.                                                      \u001b[2m               \u001b[0m\n",
       "\u001b[2;36m                    \u001b[0m           \u001b[1;35mpd.concat\u001b[0m\u001b[1m(\u001b[0mdfs\u001b[1m)\u001b[0m                                                       \u001b[2m               \u001b[0m\n",
       "\u001b[2;36m                    \u001b[0m                                                                                \u001b[2m               \u001b[0m\n"
      ]
     },
     "metadata": {},
     "output_type": "display_data"
    },
    {
     "data": {
      "text/html": [
       "<pre style=\"white-space:pre;overflow-x:auto;line-height:normal;font-family:Menlo,'DejaVu Sans Mono',consolas,'Courier New',monospace\"><span style=\"color: #7fbfbf; text-decoration-color: #7fbfbf\">[04/06/25 01:59:59] </span><span style=\"color: #808000; text-decoration-color: #808000\">WARNING </span> <span style=\"color: #800080; text-decoration-color: #800080\">/usr/local/lib/python3.11/dist-packages/soccerdata/</span><span style=\"color: #ff00ff; text-decoration-color: #ff00ff\">fbref.py</span>:<span style=\"color: #008080; text-decoration-color: #008080; font-weight: bold\">165</span>:       <a href=\"file:///usr/lib/python3.11/warnings.py\" target=\"_blank\"><span style=\"color: #7f7f7f; text-decoration-color: #7f7f7f\">warnings.py</span></a><span style=\"color: #7f7f7f; text-decoration-color: #7f7f7f\">:</span><a href=\"file:///usr/lib/python3.11/warnings.py#110\" target=\"_blank\"><span style=\"color: #7f7f7f; text-decoration-color: #7f7f7f\">110</span></a>\n",
       "<span style=\"color: #7fbfbf; text-decoration-color: #7fbfbf\">                    </span>         FutureWarning: The behavior of DataFrame concatenation with empty or   <span style=\"color: #7f7f7f; text-decoration-color: #7f7f7f\">               </span>\n",
       "<span style=\"color: #7fbfbf; text-decoration-color: #7fbfbf\">                    </span>         all-NA entries is deprecated. In a future version, this will no longer <span style=\"color: #7f7f7f; text-decoration-color: #7f7f7f\">               </span>\n",
       "<span style=\"color: #7fbfbf; text-decoration-color: #7fbfbf\">                    </span>         exclude empty or all-NA columns when determining the result dtypes. To <span style=\"color: #7f7f7f; text-decoration-color: #7f7f7f\">               </span>\n",
       "<span style=\"color: #7fbfbf; text-decoration-color: #7fbfbf\">                    </span>         retain the old behavior, exclude the relevant entries before the       <span style=\"color: #7f7f7f; text-decoration-color: #7f7f7f\">               </span>\n",
       "<span style=\"color: #7fbfbf; text-decoration-color: #7fbfbf\">                    </span>         concat operation.                                                      <span style=\"color: #7f7f7f; text-decoration-color: #7f7f7f\">               </span>\n",
       "<span style=\"color: #7fbfbf; text-decoration-color: #7fbfbf\">                    </span>           <span style=\"color: #800080; text-decoration-color: #800080; font-weight: bold\">pd.concat</span><span style=\"font-weight: bold\">(</span>dfs<span style=\"font-weight: bold\">)</span>                                                       <span style=\"color: #7f7f7f; text-decoration-color: #7f7f7f\">               </span>\n",
       "<span style=\"color: #7fbfbf; text-decoration-color: #7fbfbf\">                    </span>                                                                                <span style=\"color: #7f7f7f; text-decoration-color: #7f7f7f\">               </span>\n",
       "</pre>\n"
      ],
      "text/plain": [
       "\u001b[2;36m[04/06/25 01:59:59]\u001b[0m\u001b[2;36m \u001b[0m\u001b[33mWARNING \u001b[0m \u001b[35m/usr/local/lib/python3.11/dist-packages/soccerdata/\u001b[0m\u001b[95mfbref.py\u001b[0m:\u001b[1;36m165\u001b[0m:       \u001b]8;id=922973;file:///usr/lib/python3.11/warnings.py\u001b\\\u001b[2mwarnings.py\u001b[0m\u001b]8;;\u001b\\\u001b[2m:\u001b[0m\u001b]8;id=710184;file:///usr/lib/python3.11/warnings.py#110\u001b\\\u001b[2m110\u001b[0m\u001b]8;;\u001b\\\n",
       "\u001b[2;36m                    \u001b[0m         FutureWarning: The behavior of DataFrame concatenation with empty or   \u001b[2m               \u001b[0m\n",
       "\u001b[2;36m                    \u001b[0m         all-NA entries is deprecated. In a future version, this will no longer \u001b[2m               \u001b[0m\n",
       "\u001b[2;36m                    \u001b[0m         exclude empty or all-NA columns when determining the result dtypes. To \u001b[2m               \u001b[0m\n",
       "\u001b[2;36m                    \u001b[0m         retain the old behavior, exclude the relevant entries before the       \u001b[2m               \u001b[0m\n",
       "\u001b[2;36m                    \u001b[0m         concat operation.                                                      \u001b[2m               \u001b[0m\n",
       "\u001b[2;36m                    \u001b[0m           \u001b[1;35mpd.concat\u001b[0m\u001b[1m(\u001b[0mdfs\u001b[1m)\u001b[0m                                                       \u001b[2m               \u001b[0m\n",
       "\u001b[2;36m                    \u001b[0m                                                                                \u001b[2m               \u001b[0m\n"
      ]
     },
     "metadata": {},
     "output_type": "display_data"
    },
    {
     "data": {
      "text/html": [
       "<pre style=\"white-space:pre;overflow-x:auto;line-height:normal;font-family:Menlo,'DejaVu Sans Mono',consolas,'Courier New',monospace\"><span style=\"color: #7fbfbf; text-decoration-color: #7fbfbf\">[04/06/25 02:02:22] </span><span style=\"color: #808000; text-decoration-color: #808000\">WARNING </span> <span style=\"color: #800080; text-decoration-color: #800080\">/usr/local/lib/python3.11/dist-packages/soccerdata/</span><span style=\"color: #ff00ff; text-decoration-color: #ff00ff\">fbref.py</span>:<span style=\"color: #008080; text-decoration-color: #008080; font-weight: bold\">165</span>:       <a href=\"file:///usr/lib/python3.11/warnings.py\" target=\"_blank\"><span style=\"color: #7f7f7f; text-decoration-color: #7f7f7f\">warnings.py</span></a><span style=\"color: #7f7f7f; text-decoration-color: #7f7f7f\">:</span><a href=\"file:///usr/lib/python3.11/warnings.py#110\" target=\"_blank\"><span style=\"color: #7f7f7f; text-decoration-color: #7f7f7f\">110</span></a>\n",
       "<span style=\"color: #7fbfbf; text-decoration-color: #7fbfbf\">                    </span>         FutureWarning: The behavior of DataFrame concatenation with empty or   <span style=\"color: #7f7f7f; text-decoration-color: #7f7f7f\">               </span>\n",
       "<span style=\"color: #7fbfbf; text-decoration-color: #7fbfbf\">                    </span>         all-NA entries is deprecated. In a future version, this will no longer <span style=\"color: #7f7f7f; text-decoration-color: #7f7f7f\">               </span>\n",
       "<span style=\"color: #7fbfbf; text-decoration-color: #7fbfbf\">                    </span>         exclude empty or all-NA columns when determining the result dtypes. To <span style=\"color: #7f7f7f; text-decoration-color: #7f7f7f\">               </span>\n",
       "<span style=\"color: #7fbfbf; text-decoration-color: #7fbfbf\">                    </span>         retain the old behavior, exclude the relevant entries before the       <span style=\"color: #7f7f7f; text-decoration-color: #7f7f7f\">               </span>\n",
       "<span style=\"color: #7fbfbf; text-decoration-color: #7fbfbf\">                    </span>         concat operation.                                                      <span style=\"color: #7f7f7f; text-decoration-color: #7f7f7f\">               </span>\n",
       "<span style=\"color: #7fbfbf; text-decoration-color: #7fbfbf\">                    </span>           <span style=\"color: #800080; text-decoration-color: #800080; font-weight: bold\">pd.concat</span><span style=\"font-weight: bold\">(</span>dfs<span style=\"font-weight: bold\">)</span>                                                       <span style=\"color: #7f7f7f; text-decoration-color: #7f7f7f\">               </span>\n",
       "<span style=\"color: #7fbfbf; text-decoration-color: #7fbfbf\">                    </span>                                                                                <span style=\"color: #7f7f7f; text-decoration-color: #7f7f7f\">               </span>\n",
       "</pre>\n"
      ],
      "text/plain": [
       "\u001b[2;36m[04/06/25 02:02:22]\u001b[0m\u001b[2;36m \u001b[0m\u001b[33mWARNING \u001b[0m \u001b[35m/usr/local/lib/python3.11/dist-packages/soccerdata/\u001b[0m\u001b[95mfbref.py\u001b[0m:\u001b[1;36m165\u001b[0m:       \u001b]8;id=912550;file:///usr/lib/python3.11/warnings.py\u001b\\\u001b[2mwarnings.py\u001b[0m\u001b]8;;\u001b\\\u001b[2m:\u001b[0m\u001b]8;id=427454;file:///usr/lib/python3.11/warnings.py#110\u001b\\\u001b[2m110\u001b[0m\u001b]8;;\u001b\\\n",
       "\u001b[2;36m                    \u001b[0m         FutureWarning: The behavior of DataFrame concatenation with empty or   \u001b[2m               \u001b[0m\n",
       "\u001b[2;36m                    \u001b[0m         all-NA entries is deprecated. In a future version, this will no longer \u001b[2m               \u001b[0m\n",
       "\u001b[2;36m                    \u001b[0m         exclude empty or all-NA columns when determining the result dtypes. To \u001b[2m               \u001b[0m\n",
       "\u001b[2;36m                    \u001b[0m         retain the old behavior, exclude the relevant entries before the       \u001b[2m               \u001b[0m\n",
       "\u001b[2;36m                    \u001b[0m         concat operation.                                                      \u001b[2m               \u001b[0m\n",
       "\u001b[2;36m                    \u001b[0m           \u001b[1;35mpd.concat\u001b[0m\u001b[1m(\u001b[0mdfs\u001b[1m)\u001b[0m                                                       \u001b[2m               \u001b[0m\n",
       "\u001b[2;36m                    \u001b[0m                                                                                \u001b[2m               \u001b[0m\n"
      ]
     },
     "metadata": {},
     "output_type": "display_data"
    },
    {
     "data": {
      "text/html": [
       "<pre style=\"white-space:pre;overflow-x:auto;line-height:normal;font-family:Menlo,'DejaVu Sans Mono',consolas,'Courier New',monospace\"><span style=\"color: #7fbfbf; text-decoration-color: #7fbfbf\">[04/06/25 02:04:47] </span><span style=\"color: #808000; text-decoration-color: #808000\">WARNING </span> <span style=\"color: #800080; text-decoration-color: #800080\">/usr/local/lib/python3.11/dist-packages/soccerdata/</span><span style=\"color: #ff00ff; text-decoration-color: #ff00ff\">fbref.py</span>:<span style=\"color: #008080; text-decoration-color: #008080; font-weight: bold\">165</span>:       <a href=\"file:///usr/lib/python3.11/warnings.py\" target=\"_blank\"><span style=\"color: #7f7f7f; text-decoration-color: #7f7f7f\">warnings.py</span></a><span style=\"color: #7f7f7f; text-decoration-color: #7f7f7f\">:</span><a href=\"file:///usr/lib/python3.11/warnings.py#110\" target=\"_blank\"><span style=\"color: #7f7f7f; text-decoration-color: #7f7f7f\">110</span></a>\n",
       "<span style=\"color: #7fbfbf; text-decoration-color: #7fbfbf\">                    </span>         FutureWarning: The behavior of DataFrame concatenation with empty or   <span style=\"color: #7f7f7f; text-decoration-color: #7f7f7f\">               </span>\n",
       "<span style=\"color: #7fbfbf; text-decoration-color: #7fbfbf\">                    </span>         all-NA entries is deprecated. In a future version, this will no longer <span style=\"color: #7f7f7f; text-decoration-color: #7f7f7f\">               </span>\n",
       "<span style=\"color: #7fbfbf; text-decoration-color: #7fbfbf\">                    </span>         exclude empty or all-NA columns when determining the result dtypes. To <span style=\"color: #7f7f7f; text-decoration-color: #7f7f7f\">               </span>\n",
       "<span style=\"color: #7fbfbf; text-decoration-color: #7fbfbf\">                    </span>         retain the old behavior, exclude the relevant entries before the       <span style=\"color: #7f7f7f; text-decoration-color: #7f7f7f\">               </span>\n",
       "<span style=\"color: #7fbfbf; text-decoration-color: #7fbfbf\">                    </span>         concat operation.                                                      <span style=\"color: #7f7f7f; text-decoration-color: #7f7f7f\">               </span>\n",
       "<span style=\"color: #7fbfbf; text-decoration-color: #7fbfbf\">                    </span>           <span style=\"color: #800080; text-decoration-color: #800080; font-weight: bold\">pd.concat</span><span style=\"font-weight: bold\">(</span>dfs<span style=\"font-weight: bold\">)</span>                                                       <span style=\"color: #7f7f7f; text-decoration-color: #7f7f7f\">               </span>\n",
       "<span style=\"color: #7fbfbf; text-decoration-color: #7fbfbf\">                    </span>                                                                                <span style=\"color: #7f7f7f; text-decoration-color: #7f7f7f\">               </span>\n",
       "</pre>\n"
      ],
      "text/plain": [
       "\u001b[2;36m[04/06/25 02:04:47]\u001b[0m\u001b[2;36m \u001b[0m\u001b[33mWARNING \u001b[0m \u001b[35m/usr/local/lib/python3.11/dist-packages/soccerdata/\u001b[0m\u001b[95mfbref.py\u001b[0m:\u001b[1;36m165\u001b[0m:       \u001b]8;id=335157;file:///usr/lib/python3.11/warnings.py\u001b\\\u001b[2mwarnings.py\u001b[0m\u001b]8;;\u001b\\\u001b[2m:\u001b[0m\u001b]8;id=748827;file:///usr/lib/python3.11/warnings.py#110\u001b\\\u001b[2m110\u001b[0m\u001b]8;;\u001b\\\n",
       "\u001b[2;36m                    \u001b[0m         FutureWarning: The behavior of DataFrame concatenation with empty or   \u001b[2m               \u001b[0m\n",
       "\u001b[2;36m                    \u001b[0m         all-NA entries is deprecated. In a future version, this will no longer \u001b[2m               \u001b[0m\n",
       "\u001b[2;36m                    \u001b[0m         exclude empty or all-NA columns when determining the result dtypes. To \u001b[2m               \u001b[0m\n",
       "\u001b[2;36m                    \u001b[0m         retain the old behavior, exclude the relevant entries before the       \u001b[2m               \u001b[0m\n",
       "\u001b[2;36m                    \u001b[0m         concat operation.                                                      \u001b[2m               \u001b[0m\n",
       "\u001b[2;36m                    \u001b[0m           \u001b[1;35mpd.concat\u001b[0m\u001b[1m(\u001b[0mdfs\u001b[1m)\u001b[0m                                                       \u001b[2m               \u001b[0m\n",
       "\u001b[2;36m                    \u001b[0m                                                                                \u001b[2m               \u001b[0m\n"
      ]
     },
     "metadata": {},
     "output_type": "display_data"
    },
    {
     "name": "stderr",
     "output_type": "stream",
     "text": [
      "\r 80%|████████  | 8/10 [2:27:57<31:56, 958.15s/it]"
     ]
    },
    {
     "data": {
      "text/html": [
       "<pre style=\"white-space:pre;overflow-x:auto;line-height:normal;font-family:Menlo,'DejaVu Sans Mono',consolas,'Courier New',monospace\"><span style=\"color: #7fbfbf; text-decoration-color: #7fbfbf\">[04/06/25 02:07:08] </span><span style=\"color: #000080; text-decoration-color: #000080\">INFO    </span> Saving cached data to <span style=\"color: #800080; text-decoration-color: #800080\">/root/soccerdata/data/</span><span style=\"color: #ff00ff; text-decoration-color: #ff00ff\">FBref</span>                       <a href=\"file:///usr/local/lib/python3.11/dist-packages/soccerdata/_common.py\" target=\"_blank\"><span style=\"color: #7f7f7f; text-decoration-color: #7f7f7f\">_common.py</span></a><span style=\"color: #7f7f7f; text-decoration-color: #7f7f7f\">:</span><a href=\"file:///usr/local/lib/python3.11/dist-packages/soccerdata/_common.py#263\" target=\"_blank\"><span style=\"color: #7f7f7f; text-decoration-color: #7f7f7f\">263</span></a>\n",
       "</pre>\n"
      ],
      "text/plain": [
       "\u001b[2;36m[04/06/25 02:07:08]\u001b[0m\u001b[2;36m \u001b[0m\u001b[34mINFO    \u001b[0m Saving cached data to \u001b[35m/root/soccerdata/data/\u001b[0m\u001b[95mFBref\u001b[0m                       \u001b]8;id=751964;file:///usr/local/lib/python3.11/dist-packages/soccerdata/_common.py\u001b\\\u001b[2m_common.py\u001b[0m\u001b]8;;\u001b\\\u001b[2m:\u001b[0m\u001b]8;id=905378;file:///usr/local/lib/python3.11/dist-packages/soccerdata/_common.py#263\u001b\\\u001b[2m263\u001b[0m\u001b]8;;\u001b\\\n"
      ]
     },
     "metadata": {},
     "output_type": "display_data"
    },
    {
     "data": {
      "text/html": [
       "<pre style=\"white-space:pre;overflow-x:auto;line-height:normal;font-family:Menlo,'DejaVu Sans Mono',consolas,'Courier New',monospace\"><span style=\"color: #7fbfbf; text-decoration-color: #7fbfbf\">[04/06/25 02:07:09] </span><span style=\"color: #808000; text-decoration-color: #808000\">WARNING </span> <span style=\"color: #800080; text-decoration-color: #800080\">/usr/local/lib/python3.11/dist-packages/soccerdata/</span><span style=\"color: #ff00ff; text-decoration-color: #ff00ff\">fbref.py</span>:<span style=\"color: #008080; text-decoration-color: #008080; font-weight: bold\">165</span>:       <a href=\"file:///usr/lib/python3.11/warnings.py\" target=\"_blank\"><span style=\"color: #7f7f7f; text-decoration-color: #7f7f7f\">warnings.py</span></a><span style=\"color: #7f7f7f; text-decoration-color: #7f7f7f\">:</span><a href=\"file:///usr/lib/python3.11/warnings.py#110\" target=\"_blank\"><span style=\"color: #7f7f7f; text-decoration-color: #7f7f7f\">110</span></a>\n",
       "<span style=\"color: #7fbfbf; text-decoration-color: #7fbfbf\">                    </span>         FutureWarning: The behavior of DataFrame concatenation with empty or   <span style=\"color: #7f7f7f; text-decoration-color: #7f7f7f\">               </span>\n",
       "<span style=\"color: #7fbfbf; text-decoration-color: #7fbfbf\">                    </span>         all-NA entries is deprecated. In a future version, this will no longer <span style=\"color: #7f7f7f; text-decoration-color: #7f7f7f\">               </span>\n",
       "<span style=\"color: #7fbfbf; text-decoration-color: #7fbfbf\">                    </span>         exclude empty or all-NA columns when determining the result dtypes. To <span style=\"color: #7f7f7f; text-decoration-color: #7f7f7f\">               </span>\n",
       "<span style=\"color: #7fbfbf; text-decoration-color: #7fbfbf\">                    </span>         retain the old behavior, exclude the relevant entries before the       <span style=\"color: #7f7f7f; text-decoration-color: #7f7f7f\">               </span>\n",
       "<span style=\"color: #7fbfbf; text-decoration-color: #7fbfbf\">                    </span>         concat operation.                                                      <span style=\"color: #7f7f7f; text-decoration-color: #7f7f7f\">               </span>\n",
       "<span style=\"color: #7fbfbf; text-decoration-color: #7fbfbf\">                    </span>           <span style=\"color: #800080; text-decoration-color: #800080; font-weight: bold\">pd.concat</span><span style=\"font-weight: bold\">(</span>dfs<span style=\"font-weight: bold\">)</span>                                                       <span style=\"color: #7f7f7f; text-decoration-color: #7f7f7f\">               </span>\n",
       "<span style=\"color: #7fbfbf; text-decoration-color: #7fbfbf\">                    </span>                                                                                <span style=\"color: #7f7f7f; text-decoration-color: #7f7f7f\">               </span>\n",
       "</pre>\n"
      ],
      "text/plain": [
       "\u001b[2;36m[04/06/25 02:07:09]\u001b[0m\u001b[2;36m \u001b[0m\u001b[33mWARNING \u001b[0m \u001b[35m/usr/local/lib/python3.11/dist-packages/soccerdata/\u001b[0m\u001b[95mfbref.py\u001b[0m:\u001b[1;36m165\u001b[0m:       \u001b]8;id=584102;file:///usr/lib/python3.11/warnings.py\u001b\\\u001b[2mwarnings.py\u001b[0m\u001b]8;;\u001b\\\u001b[2m:\u001b[0m\u001b]8;id=231261;file:///usr/lib/python3.11/warnings.py#110\u001b\\\u001b[2m110\u001b[0m\u001b]8;;\u001b\\\n",
       "\u001b[2;36m                    \u001b[0m         FutureWarning: The behavior of DataFrame concatenation with empty or   \u001b[2m               \u001b[0m\n",
       "\u001b[2;36m                    \u001b[0m         all-NA entries is deprecated. In a future version, this will no longer \u001b[2m               \u001b[0m\n",
       "\u001b[2;36m                    \u001b[0m         exclude empty or all-NA columns when determining the result dtypes. To \u001b[2m               \u001b[0m\n",
       "\u001b[2;36m                    \u001b[0m         retain the old behavior, exclude the relevant entries before the       \u001b[2m               \u001b[0m\n",
       "\u001b[2;36m                    \u001b[0m         concat operation.                                                      \u001b[2m               \u001b[0m\n",
       "\u001b[2;36m                    \u001b[0m           \u001b[1;35mpd.concat\u001b[0m\u001b[1m(\u001b[0mdfs\u001b[1m)\u001b[0m                                                       \u001b[2m               \u001b[0m\n",
       "\u001b[2;36m                    \u001b[0m                                                                                \u001b[2m               \u001b[0m\n"
      ]
     },
     "metadata": {},
     "output_type": "display_data"
    },
    {
     "data": {
      "text/html": [
       "<pre style=\"white-space:pre;overflow-x:auto;line-height:normal;font-family:Menlo,'DejaVu Sans Mono',consolas,'Courier New',monospace\"><span style=\"color: #7fbfbf; text-decoration-color: #7fbfbf\">[04/06/25 02:09:11] </span><span style=\"color: #808000; text-decoration-color: #808000\">WARNING </span> <span style=\"color: #800080; text-decoration-color: #800080\">/usr/local/lib/python3.11/dist-packages/soccerdata/</span><span style=\"color: #ff00ff; text-decoration-color: #ff00ff\">fbref.py</span>:<span style=\"color: #008080; text-decoration-color: #008080; font-weight: bold\">1273</span>:      <a href=\"file:///usr/lib/python3.11/warnings.py\" target=\"_blank\"><span style=\"color: #7f7f7f; text-decoration-color: #7f7f7f\">warnings.py</span></a><span style=\"color: #7f7f7f; text-decoration-color: #7f7f7f\">:</span><a href=\"file:///usr/lib/python3.11/warnings.py#110\" target=\"_blank\"><span style=\"color: #7f7f7f; text-decoration-color: #7f7f7f\">110</span></a>\n",
       "<span style=\"color: #7fbfbf; text-decoration-color: #7fbfbf\">                    </span>         FutureWarning: The behavior of DataFrame concatenation with empty or   <span style=\"color: #7f7f7f; text-decoration-color: #7f7f7f\">               </span>\n",
       "<span style=\"color: #7fbfbf; text-decoration-color: #7fbfbf\">                    </span>         all-NA entries is deprecated. In a future version, this will no longer <span style=\"color: #7f7f7f; text-decoration-color: #7f7f7f\">               </span>\n",
       "<span style=\"color: #7fbfbf; text-decoration-color: #7fbfbf\">                    </span>         exclude empty or all-NA columns when determining the result dtypes. To <span style=\"color: #7f7f7f; text-decoration-color: #7f7f7f\">               </span>\n",
       "<span style=\"color: #7fbfbf; text-decoration-color: #7fbfbf\">                    </span>         retain the old behavior, exclude the relevant entries before the       <span style=\"color: #7f7f7f; text-decoration-color: #7f7f7f\">               </span>\n",
       "<span style=\"color: #7fbfbf; text-decoration-color: #7fbfbf\">                    </span>         concat operation.                                                      <span style=\"color: #7f7f7f; text-decoration-color: #7f7f7f\">               </span>\n",
       "<span style=\"color: #7fbfbf; text-decoration-color: #7fbfbf\">                    </span>           return <span style=\"color: #800080; text-decoration-color: #800080; font-weight: bold\">pd.concat</span><span style=\"font-weight: bold\">(</span>dfs<span style=\"font-weight: bold\">)</span>                                                <span style=\"color: #7f7f7f; text-decoration-color: #7f7f7f\">               </span>\n",
       "<span style=\"color: #7fbfbf; text-decoration-color: #7fbfbf\">                    </span>                                                                                <span style=\"color: #7f7f7f; text-decoration-color: #7f7f7f\">               </span>\n",
       "</pre>\n"
      ],
      "text/plain": [
       "\u001b[2;36m[04/06/25 02:09:11]\u001b[0m\u001b[2;36m \u001b[0m\u001b[33mWARNING \u001b[0m \u001b[35m/usr/local/lib/python3.11/dist-packages/soccerdata/\u001b[0m\u001b[95mfbref.py\u001b[0m:\u001b[1;36m1273\u001b[0m:      \u001b]8;id=608706;file:///usr/lib/python3.11/warnings.py\u001b\\\u001b[2mwarnings.py\u001b[0m\u001b]8;;\u001b\\\u001b[2m:\u001b[0m\u001b]8;id=45723;file:///usr/lib/python3.11/warnings.py#110\u001b\\\u001b[2m110\u001b[0m\u001b]8;;\u001b\\\n",
       "\u001b[2;36m                    \u001b[0m         FutureWarning: The behavior of DataFrame concatenation with empty or   \u001b[2m               \u001b[0m\n",
       "\u001b[2;36m                    \u001b[0m         all-NA entries is deprecated. In a future version, this will no longer \u001b[2m               \u001b[0m\n",
       "\u001b[2;36m                    \u001b[0m         exclude empty or all-NA columns when determining the result dtypes. To \u001b[2m               \u001b[0m\n",
       "\u001b[2;36m                    \u001b[0m         retain the old behavior, exclude the relevant entries before the       \u001b[2m               \u001b[0m\n",
       "\u001b[2;36m                    \u001b[0m         concat operation.                                                      \u001b[2m               \u001b[0m\n",
       "\u001b[2;36m                    \u001b[0m           return \u001b[1;35mpd.concat\u001b[0m\u001b[1m(\u001b[0mdfs\u001b[1m)\u001b[0m                                                \u001b[2m               \u001b[0m\n",
       "\u001b[2;36m                    \u001b[0m                                                                                \u001b[2m               \u001b[0m\n"
      ]
     },
     "metadata": {},
     "output_type": "display_data"
    },
    {
     "data": {
      "text/html": [
       "<pre style=\"white-space:pre;overflow-x:auto;line-height:normal;font-family:Menlo,'DejaVu Sans Mono',consolas,'Courier New',monospace\"><span style=\"color: #7fbfbf; text-decoration-color: #7fbfbf\">                    </span><span style=\"color: #808000; text-decoration-color: #808000\">WARNING </span> <span style=\"color: #800080; text-decoration-color: #800080\">/usr/local/lib/python3.11/dist-packages/soccerdata/</span><span style=\"color: #ff00ff; text-decoration-color: #ff00ff\">fbref.py</span>:<span style=\"color: #008080; text-decoration-color: #008080; font-weight: bold\">165</span>:       <a href=\"file:///usr/lib/python3.11/warnings.py\" target=\"_blank\"><span style=\"color: #7f7f7f; text-decoration-color: #7f7f7f\">warnings.py</span></a><span style=\"color: #7f7f7f; text-decoration-color: #7f7f7f\">:</span><a href=\"file:///usr/lib/python3.11/warnings.py#110\" target=\"_blank\"><span style=\"color: #7f7f7f; text-decoration-color: #7f7f7f\">110</span></a>\n",
       "<span style=\"color: #7fbfbf; text-decoration-color: #7fbfbf\">                    </span>         FutureWarning: The behavior of DataFrame concatenation with empty or   <span style=\"color: #7f7f7f; text-decoration-color: #7f7f7f\">               </span>\n",
       "<span style=\"color: #7fbfbf; text-decoration-color: #7fbfbf\">                    </span>         all-NA entries is deprecated. In a future version, this will no longer <span style=\"color: #7f7f7f; text-decoration-color: #7f7f7f\">               </span>\n",
       "<span style=\"color: #7fbfbf; text-decoration-color: #7fbfbf\">                    </span>         exclude empty or all-NA columns when determining the result dtypes. To <span style=\"color: #7f7f7f; text-decoration-color: #7f7f7f\">               </span>\n",
       "<span style=\"color: #7fbfbf; text-decoration-color: #7fbfbf\">                    </span>         retain the old behavior, exclude the relevant entries before the       <span style=\"color: #7f7f7f; text-decoration-color: #7f7f7f\">               </span>\n",
       "<span style=\"color: #7fbfbf; text-decoration-color: #7fbfbf\">                    </span>         concat operation.                                                      <span style=\"color: #7f7f7f; text-decoration-color: #7f7f7f\">               </span>\n",
       "<span style=\"color: #7fbfbf; text-decoration-color: #7fbfbf\">                    </span>           <span style=\"color: #800080; text-decoration-color: #800080; font-weight: bold\">pd.concat</span><span style=\"font-weight: bold\">(</span>dfs<span style=\"font-weight: bold\">)</span>                                                       <span style=\"color: #7f7f7f; text-decoration-color: #7f7f7f\">               </span>\n",
       "<span style=\"color: #7fbfbf; text-decoration-color: #7fbfbf\">                    </span>                                                                                <span style=\"color: #7f7f7f; text-decoration-color: #7f7f7f\">               </span>\n",
       "</pre>\n"
      ],
      "text/plain": [
       "\u001b[2;36m                   \u001b[0m\u001b[2;36m \u001b[0m\u001b[33mWARNING \u001b[0m \u001b[35m/usr/local/lib/python3.11/dist-packages/soccerdata/\u001b[0m\u001b[95mfbref.py\u001b[0m:\u001b[1;36m165\u001b[0m:       \u001b]8;id=581076;file:///usr/lib/python3.11/warnings.py\u001b\\\u001b[2mwarnings.py\u001b[0m\u001b]8;;\u001b\\\u001b[2m:\u001b[0m\u001b]8;id=177193;file:///usr/lib/python3.11/warnings.py#110\u001b\\\u001b[2m110\u001b[0m\u001b]8;;\u001b\\\n",
       "\u001b[2;36m                    \u001b[0m         FutureWarning: The behavior of DataFrame concatenation with empty or   \u001b[2m               \u001b[0m\n",
       "\u001b[2;36m                    \u001b[0m         all-NA entries is deprecated. In a future version, this will no longer \u001b[2m               \u001b[0m\n",
       "\u001b[2;36m                    \u001b[0m         exclude empty or all-NA columns when determining the result dtypes. To \u001b[2m               \u001b[0m\n",
       "\u001b[2;36m                    \u001b[0m         retain the old behavior, exclude the relevant entries before the       \u001b[2m               \u001b[0m\n",
       "\u001b[2;36m                    \u001b[0m         concat operation.                                                      \u001b[2m               \u001b[0m\n",
       "\u001b[2;36m                    \u001b[0m           \u001b[1;35mpd.concat\u001b[0m\u001b[1m(\u001b[0mdfs\u001b[1m)\u001b[0m                                                       \u001b[2m               \u001b[0m\n",
       "\u001b[2;36m                    \u001b[0m                                                                                \u001b[2m               \u001b[0m\n"
      ]
     },
     "metadata": {},
     "output_type": "display_data"
    },
    {
     "data": {
      "text/html": [
       "<pre style=\"white-space:pre;overflow-x:auto;line-height:normal;font-family:Menlo,'DejaVu Sans Mono',consolas,'Courier New',monospace\"><span style=\"color: #7fbfbf; text-decoration-color: #7fbfbf\">[04/06/25 02:11:19] </span><span style=\"color: #808000; text-decoration-color: #808000\">WARNING </span> <span style=\"color: #800080; text-decoration-color: #800080\">/usr/local/lib/python3.11/dist-packages/soccerdata/</span><span style=\"color: #ff00ff; text-decoration-color: #ff00ff\">fbref.py</span>:<span style=\"color: #008080; text-decoration-color: #008080; font-weight: bold\">165</span>:       <a href=\"file:///usr/lib/python3.11/warnings.py\" target=\"_blank\"><span style=\"color: #7f7f7f; text-decoration-color: #7f7f7f\">warnings.py</span></a><span style=\"color: #7f7f7f; text-decoration-color: #7f7f7f\">:</span><a href=\"file:///usr/lib/python3.11/warnings.py#110\" target=\"_blank\"><span style=\"color: #7f7f7f; text-decoration-color: #7f7f7f\">110</span></a>\n",
       "<span style=\"color: #7fbfbf; text-decoration-color: #7fbfbf\">                    </span>         FutureWarning: The behavior of DataFrame concatenation with empty or   <span style=\"color: #7f7f7f; text-decoration-color: #7f7f7f\">               </span>\n",
       "<span style=\"color: #7fbfbf; text-decoration-color: #7fbfbf\">                    </span>         all-NA entries is deprecated. In a future version, this will no longer <span style=\"color: #7f7f7f; text-decoration-color: #7f7f7f\">               </span>\n",
       "<span style=\"color: #7fbfbf; text-decoration-color: #7fbfbf\">                    </span>         exclude empty or all-NA columns when determining the result dtypes. To <span style=\"color: #7f7f7f; text-decoration-color: #7f7f7f\">               </span>\n",
       "<span style=\"color: #7fbfbf; text-decoration-color: #7fbfbf\">                    </span>         retain the old behavior, exclude the relevant entries before the       <span style=\"color: #7f7f7f; text-decoration-color: #7f7f7f\">               </span>\n",
       "<span style=\"color: #7fbfbf; text-decoration-color: #7fbfbf\">                    </span>         concat operation.                                                      <span style=\"color: #7f7f7f; text-decoration-color: #7f7f7f\">               </span>\n",
       "<span style=\"color: #7fbfbf; text-decoration-color: #7fbfbf\">                    </span>           <span style=\"color: #800080; text-decoration-color: #800080; font-weight: bold\">pd.concat</span><span style=\"font-weight: bold\">(</span>dfs<span style=\"font-weight: bold\">)</span>                                                       <span style=\"color: #7f7f7f; text-decoration-color: #7f7f7f\">               </span>\n",
       "<span style=\"color: #7fbfbf; text-decoration-color: #7fbfbf\">                    </span>                                                                                <span style=\"color: #7f7f7f; text-decoration-color: #7f7f7f\">               </span>\n",
       "</pre>\n"
      ],
      "text/plain": [
       "\u001b[2;36m[04/06/25 02:11:19]\u001b[0m\u001b[2;36m \u001b[0m\u001b[33mWARNING \u001b[0m \u001b[35m/usr/local/lib/python3.11/dist-packages/soccerdata/\u001b[0m\u001b[95mfbref.py\u001b[0m:\u001b[1;36m165\u001b[0m:       \u001b]8;id=589728;file:///usr/lib/python3.11/warnings.py\u001b\\\u001b[2mwarnings.py\u001b[0m\u001b]8;;\u001b\\\u001b[2m:\u001b[0m\u001b]8;id=324383;file:///usr/lib/python3.11/warnings.py#110\u001b\\\u001b[2m110\u001b[0m\u001b]8;;\u001b\\\n",
       "\u001b[2;36m                    \u001b[0m         FutureWarning: The behavior of DataFrame concatenation with empty or   \u001b[2m               \u001b[0m\n",
       "\u001b[2;36m                    \u001b[0m         all-NA entries is deprecated. In a future version, this will no longer \u001b[2m               \u001b[0m\n",
       "\u001b[2;36m                    \u001b[0m         exclude empty or all-NA columns when determining the result dtypes. To \u001b[2m               \u001b[0m\n",
       "\u001b[2;36m                    \u001b[0m         retain the old behavior, exclude the relevant entries before the       \u001b[2m               \u001b[0m\n",
       "\u001b[2;36m                    \u001b[0m         concat operation.                                                      \u001b[2m               \u001b[0m\n",
       "\u001b[2;36m                    \u001b[0m           \u001b[1;35mpd.concat\u001b[0m\u001b[1m(\u001b[0mdfs\u001b[1m)\u001b[0m                                                       \u001b[2m               \u001b[0m\n",
       "\u001b[2;36m                    \u001b[0m                                                                                \u001b[2m               \u001b[0m\n"
      ]
     },
     "metadata": {},
     "output_type": "display_data"
    },
    {
     "data": {
      "text/html": [
       "<pre style=\"white-space:pre;overflow-x:auto;line-height:normal;font-family:Menlo,'DejaVu Sans Mono',consolas,'Courier New',monospace\"><span style=\"color: #7fbfbf; text-decoration-color: #7fbfbf\">[04/06/25 02:13:16] </span><span style=\"color: #808000; text-decoration-color: #808000\">WARNING </span> <span style=\"color: #800080; text-decoration-color: #800080\">/usr/local/lib/python3.11/dist-packages/soccerdata/</span><span style=\"color: #ff00ff; text-decoration-color: #ff00ff\">fbref.py</span>:<span style=\"color: #008080; text-decoration-color: #008080; font-weight: bold\">165</span>:       <a href=\"file:///usr/lib/python3.11/warnings.py\" target=\"_blank\"><span style=\"color: #7f7f7f; text-decoration-color: #7f7f7f\">warnings.py</span></a><span style=\"color: #7f7f7f; text-decoration-color: #7f7f7f\">:</span><a href=\"file:///usr/lib/python3.11/warnings.py#110\" target=\"_blank\"><span style=\"color: #7f7f7f; text-decoration-color: #7f7f7f\">110</span></a>\n",
       "<span style=\"color: #7fbfbf; text-decoration-color: #7fbfbf\">                    </span>         FutureWarning: The behavior of DataFrame concatenation with empty or   <span style=\"color: #7f7f7f; text-decoration-color: #7f7f7f\">               </span>\n",
       "<span style=\"color: #7fbfbf; text-decoration-color: #7fbfbf\">                    </span>         all-NA entries is deprecated. In a future version, this will no longer <span style=\"color: #7f7f7f; text-decoration-color: #7f7f7f\">               </span>\n",
       "<span style=\"color: #7fbfbf; text-decoration-color: #7fbfbf\">                    </span>         exclude empty or all-NA columns when determining the result dtypes. To <span style=\"color: #7f7f7f; text-decoration-color: #7f7f7f\">               </span>\n",
       "<span style=\"color: #7fbfbf; text-decoration-color: #7fbfbf\">                    </span>         retain the old behavior, exclude the relevant entries before the       <span style=\"color: #7f7f7f; text-decoration-color: #7f7f7f\">               </span>\n",
       "<span style=\"color: #7fbfbf; text-decoration-color: #7fbfbf\">                    </span>         concat operation.                                                      <span style=\"color: #7f7f7f; text-decoration-color: #7f7f7f\">               </span>\n",
       "<span style=\"color: #7fbfbf; text-decoration-color: #7fbfbf\">                    </span>           <span style=\"color: #800080; text-decoration-color: #800080; font-weight: bold\">pd.concat</span><span style=\"font-weight: bold\">(</span>dfs<span style=\"font-weight: bold\">)</span>                                                       <span style=\"color: #7f7f7f; text-decoration-color: #7f7f7f\">               </span>\n",
       "<span style=\"color: #7fbfbf; text-decoration-color: #7fbfbf\">                    </span>                                                                                <span style=\"color: #7f7f7f; text-decoration-color: #7f7f7f\">               </span>\n",
       "</pre>\n"
      ],
      "text/plain": [
       "\u001b[2;36m[04/06/25 02:13:16]\u001b[0m\u001b[2;36m \u001b[0m\u001b[33mWARNING \u001b[0m \u001b[35m/usr/local/lib/python3.11/dist-packages/soccerdata/\u001b[0m\u001b[95mfbref.py\u001b[0m:\u001b[1;36m165\u001b[0m:       \u001b]8;id=222056;file:///usr/lib/python3.11/warnings.py\u001b\\\u001b[2mwarnings.py\u001b[0m\u001b]8;;\u001b\\\u001b[2m:\u001b[0m\u001b]8;id=531069;file:///usr/lib/python3.11/warnings.py#110\u001b\\\u001b[2m110\u001b[0m\u001b]8;;\u001b\\\n",
       "\u001b[2;36m                    \u001b[0m         FutureWarning: The behavior of DataFrame concatenation with empty or   \u001b[2m               \u001b[0m\n",
       "\u001b[2;36m                    \u001b[0m         all-NA entries is deprecated. In a future version, this will no longer \u001b[2m               \u001b[0m\n",
       "\u001b[2;36m                    \u001b[0m         exclude empty or all-NA columns when determining the result dtypes. To \u001b[2m               \u001b[0m\n",
       "\u001b[2;36m                    \u001b[0m         retain the old behavior, exclude the relevant entries before the       \u001b[2m               \u001b[0m\n",
       "\u001b[2;36m                    \u001b[0m         concat operation.                                                      \u001b[2m               \u001b[0m\n",
       "\u001b[2;36m                    \u001b[0m           \u001b[1;35mpd.concat\u001b[0m\u001b[1m(\u001b[0mdfs\u001b[1m)\u001b[0m                                                       \u001b[2m               \u001b[0m\n",
       "\u001b[2;36m                    \u001b[0m                                                                                \u001b[2m               \u001b[0m\n"
      ]
     },
     "metadata": {},
     "output_type": "display_data"
    },
    {
     "data": {
      "text/html": [
       "<pre style=\"white-space:pre;overflow-x:auto;line-height:normal;font-family:Menlo,'DejaVu Sans Mono',consolas,'Courier New',monospace\"><span style=\"color: #7fbfbf; text-decoration-color: #7fbfbf\">[04/06/25 02:15:25] </span><span style=\"color: #808000; text-decoration-color: #808000\">WARNING </span> <span style=\"color: #800080; text-decoration-color: #800080\">/usr/local/lib/python3.11/dist-packages/soccerdata/</span><span style=\"color: #ff00ff; text-decoration-color: #ff00ff\">fbref.py</span>:<span style=\"color: #008080; text-decoration-color: #008080; font-weight: bold\">165</span>:       <a href=\"file:///usr/lib/python3.11/warnings.py\" target=\"_blank\"><span style=\"color: #7f7f7f; text-decoration-color: #7f7f7f\">warnings.py</span></a><span style=\"color: #7f7f7f; text-decoration-color: #7f7f7f\">:</span><a href=\"file:///usr/lib/python3.11/warnings.py#110\" target=\"_blank\"><span style=\"color: #7f7f7f; text-decoration-color: #7f7f7f\">110</span></a>\n",
       "<span style=\"color: #7fbfbf; text-decoration-color: #7fbfbf\">                    </span>         FutureWarning: The behavior of DataFrame concatenation with empty or   <span style=\"color: #7f7f7f; text-decoration-color: #7f7f7f\">               </span>\n",
       "<span style=\"color: #7fbfbf; text-decoration-color: #7fbfbf\">                    </span>         all-NA entries is deprecated. In a future version, this will no longer <span style=\"color: #7f7f7f; text-decoration-color: #7f7f7f\">               </span>\n",
       "<span style=\"color: #7fbfbf; text-decoration-color: #7fbfbf\">                    </span>         exclude empty or all-NA columns when determining the result dtypes. To <span style=\"color: #7f7f7f; text-decoration-color: #7f7f7f\">               </span>\n",
       "<span style=\"color: #7fbfbf; text-decoration-color: #7fbfbf\">                    </span>         retain the old behavior, exclude the relevant entries before the       <span style=\"color: #7f7f7f; text-decoration-color: #7f7f7f\">               </span>\n",
       "<span style=\"color: #7fbfbf; text-decoration-color: #7fbfbf\">                    </span>         concat operation.                                                      <span style=\"color: #7f7f7f; text-decoration-color: #7f7f7f\">               </span>\n",
       "<span style=\"color: #7fbfbf; text-decoration-color: #7fbfbf\">                    </span>           <span style=\"color: #800080; text-decoration-color: #800080; font-weight: bold\">pd.concat</span><span style=\"font-weight: bold\">(</span>dfs<span style=\"font-weight: bold\">)</span>                                                       <span style=\"color: #7f7f7f; text-decoration-color: #7f7f7f\">               </span>\n",
       "<span style=\"color: #7fbfbf; text-decoration-color: #7fbfbf\">                    </span>                                                                                <span style=\"color: #7f7f7f; text-decoration-color: #7f7f7f\">               </span>\n",
       "</pre>\n"
      ],
      "text/plain": [
       "\u001b[2;36m[04/06/25 02:15:25]\u001b[0m\u001b[2;36m \u001b[0m\u001b[33mWARNING \u001b[0m \u001b[35m/usr/local/lib/python3.11/dist-packages/soccerdata/\u001b[0m\u001b[95mfbref.py\u001b[0m:\u001b[1;36m165\u001b[0m:       \u001b]8;id=238278;file:///usr/lib/python3.11/warnings.py\u001b\\\u001b[2mwarnings.py\u001b[0m\u001b]8;;\u001b\\\u001b[2m:\u001b[0m\u001b]8;id=698466;file:///usr/lib/python3.11/warnings.py#110\u001b\\\u001b[2m110\u001b[0m\u001b]8;;\u001b\\\n",
       "\u001b[2;36m                    \u001b[0m         FutureWarning: The behavior of DataFrame concatenation with empty or   \u001b[2m               \u001b[0m\n",
       "\u001b[2;36m                    \u001b[0m         all-NA entries is deprecated. In a future version, this will no longer \u001b[2m               \u001b[0m\n",
       "\u001b[2;36m                    \u001b[0m         exclude empty or all-NA columns when determining the result dtypes. To \u001b[2m               \u001b[0m\n",
       "\u001b[2;36m                    \u001b[0m         retain the old behavior, exclude the relevant entries before the       \u001b[2m               \u001b[0m\n",
       "\u001b[2;36m                    \u001b[0m         concat operation.                                                      \u001b[2m               \u001b[0m\n",
       "\u001b[2;36m                    \u001b[0m           \u001b[1;35mpd.concat\u001b[0m\u001b[1m(\u001b[0mdfs\u001b[1m)\u001b[0m                                                       \u001b[2m               \u001b[0m\n",
       "\u001b[2;36m                    \u001b[0m                                                                                \u001b[2m               \u001b[0m\n"
      ]
     },
     "metadata": {},
     "output_type": "display_data"
    },
    {
     "data": {
      "text/html": [
       "<pre style=\"white-space:pre;overflow-x:auto;line-height:normal;font-family:Menlo,'DejaVu Sans Mono',consolas,'Courier New',monospace\"><span style=\"color: #7fbfbf; text-decoration-color: #7fbfbf\">[04/06/25 02:17:50] </span><span style=\"color: #808000; text-decoration-color: #808000\">WARNING </span> <span style=\"color: #800080; text-decoration-color: #800080\">/usr/local/lib/python3.11/dist-packages/soccerdata/</span><span style=\"color: #ff00ff; text-decoration-color: #ff00ff\">fbref.py</span>:<span style=\"color: #008080; text-decoration-color: #008080; font-weight: bold\">165</span>:       <a href=\"file:///usr/lib/python3.11/warnings.py\" target=\"_blank\"><span style=\"color: #7f7f7f; text-decoration-color: #7f7f7f\">warnings.py</span></a><span style=\"color: #7f7f7f; text-decoration-color: #7f7f7f\">:</span><a href=\"file:///usr/lib/python3.11/warnings.py#110\" target=\"_blank\"><span style=\"color: #7f7f7f; text-decoration-color: #7f7f7f\">110</span></a>\n",
       "<span style=\"color: #7fbfbf; text-decoration-color: #7fbfbf\">                    </span>         FutureWarning: The behavior of DataFrame concatenation with empty or   <span style=\"color: #7f7f7f; text-decoration-color: #7f7f7f\">               </span>\n",
       "<span style=\"color: #7fbfbf; text-decoration-color: #7fbfbf\">                    </span>         all-NA entries is deprecated. In a future version, this will no longer <span style=\"color: #7f7f7f; text-decoration-color: #7f7f7f\">               </span>\n",
       "<span style=\"color: #7fbfbf; text-decoration-color: #7fbfbf\">                    </span>         exclude empty or all-NA columns when determining the result dtypes. To <span style=\"color: #7f7f7f; text-decoration-color: #7f7f7f\">               </span>\n",
       "<span style=\"color: #7fbfbf; text-decoration-color: #7fbfbf\">                    </span>         retain the old behavior, exclude the relevant entries before the       <span style=\"color: #7f7f7f; text-decoration-color: #7f7f7f\">               </span>\n",
       "<span style=\"color: #7fbfbf; text-decoration-color: #7fbfbf\">                    </span>         concat operation.                                                      <span style=\"color: #7f7f7f; text-decoration-color: #7f7f7f\">               </span>\n",
       "<span style=\"color: #7fbfbf; text-decoration-color: #7fbfbf\">                    </span>           <span style=\"color: #800080; text-decoration-color: #800080; font-weight: bold\">pd.concat</span><span style=\"font-weight: bold\">(</span>dfs<span style=\"font-weight: bold\">)</span>                                                       <span style=\"color: #7f7f7f; text-decoration-color: #7f7f7f\">               </span>\n",
       "<span style=\"color: #7fbfbf; text-decoration-color: #7fbfbf\">                    </span>                                                                                <span style=\"color: #7f7f7f; text-decoration-color: #7f7f7f\">               </span>\n",
       "</pre>\n"
      ],
      "text/plain": [
       "\u001b[2;36m[04/06/25 02:17:50]\u001b[0m\u001b[2;36m \u001b[0m\u001b[33mWARNING \u001b[0m \u001b[35m/usr/local/lib/python3.11/dist-packages/soccerdata/\u001b[0m\u001b[95mfbref.py\u001b[0m:\u001b[1;36m165\u001b[0m:       \u001b]8;id=691467;file:///usr/lib/python3.11/warnings.py\u001b\\\u001b[2mwarnings.py\u001b[0m\u001b]8;;\u001b\\\u001b[2m:\u001b[0m\u001b]8;id=447724;file:///usr/lib/python3.11/warnings.py#110\u001b\\\u001b[2m110\u001b[0m\u001b]8;;\u001b\\\n",
       "\u001b[2;36m                    \u001b[0m         FutureWarning: The behavior of DataFrame concatenation with empty or   \u001b[2m               \u001b[0m\n",
       "\u001b[2;36m                    \u001b[0m         all-NA entries is deprecated. In a future version, this will no longer \u001b[2m               \u001b[0m\n",
       "\u001b[2;36m                    \u001b[0m         exclude empty or all-NA columns when determining the result dtypes. To \u001b[2m               \u001b[0m\n",
       "\u001b[2;36m                    \u001b[0m         retain the old behavior, exclude the relevant entries before the       \u001b[2m               \u001b[0m\n",
       "\u001b[2;36m                    \u001b[0m         concat operation.                                                      \u001b[2m               \u001b[0m\n",
       "\u001b[2;36m                    \u001b[0m           \u001b[1;35mpd.concat\u001b[0m\u001b[1m(\u001b[0mdfs\u001b[1m)\u001b[0m                                                       \u001b[2m               \u001b[0m\n",
       "\u001b[2;36m                    \u001b[0m                                                                                \u001b[2m               \u001b[0m\n"
      ]
     },
     "metadata": {},
     "output_type": "display_data"
    },
    {
     "data": {
      "text/html": [
       "<pre style=\"white-space:pre;overflow-x:auto;line-height:normal;font-family:Menlo,'DejaVu Sans Mono',consolas,'Courier New',monospace\"><span style=\"color: #7fbfbf; text-decoration-color: #7fbfbf\">[04/06/25 02:19:54] </span><span style=\"color: #808000; text-decoration-color: #808000\">WARNING </span> <span style=\"color: #800080; text-decoration-color: #800080\">/usr/local/lib/python3.11/dist-packages/soccerdata/</span><span style=\"color: #ff00ff; text-decoration-color: #ff00ff\">fbref.py</span>:<span style=\"color: #008080; text-decoration-color: #008080; font-weight: bold\">165</span>:       <a href=\"file:///usr/lib/python3.11/warnings.py\" target=\"_blank\"><span style=\"color: #7f7f7f; text-decoration-color: #7f7f7f\">warnings.py</span></a><span style=\"color: #7f7f7f; text-decoration-color: #7f7f7f\">:</span><a href=\"file:///usr/lib/python3.11/warnings.py#110\" target=\"_blank\"><span style=\"color: #7f7f7f; text-decoration-color: #7f7f7f\">110</span></a>\n",
       "<span style=\"color: #7fbfbf; text-decoration-color: #7fbfbf\">                    </span>         FutureWarning: The behavior of DataFrame concatenation with empty or   <span style=\"color: #7f7f7f; text-decoration-color: #7f7f7f\">               </span>\n",
       "<span style=\"color: #7fbfbf; text-decoration-color: #7fbfbf\">                    </span>         all-NA entries is deprecated. In a future version, this will no longer <span style=\"color: #7f7f7f; text-decoration-color: #7f7f7f\">               </span>\n",
       "<span style=\"color: #7fbfbf; text-decoration-color: #7fbfbf\">                    </span>         exclude empty or all-NA columns when determining the result dtypes. To <span style=\"color: #7f7f7f; text-decoration-color: #7f7f7f\">               </span>\n",
       "<span style=\"color: #7fbfbf; text-decoration-color: #7fbfbf\">                    </span>         retain the old behavior, exclude the relevant entries before the       <span style=\"color: #7f7f7f; text-decoration-color: #7f7f7f\">               </span>\n",
       "<span style=\"color: #7fbfbf; text-decoration-color: #7fbfbf\">                    </span>         concat operation.                                                      <span style=\"color: #7f7f7f; text-decoration-color: #7f7f7f\">               </span>\n",
       "<span style=\"color: #7fbfbf; text-decoration-color: #7fbfbf\">                    </span>           <span style=\"color: #800080; text-decoration-color: #800080; font-weight: bold\">pd.concat</span><span style=\"font-weight: bold\">(</span>dfs<span style=\"font-weight: bold\">)</span>                                                       <span style=\"color: #7f7f7f; text-decoration-color: #7f7f7f\">               </span>\n",
       "<span style=\"color: #7fbfbf; text-decoration-color: #7fbfbf\">                    </span>                                                                                <span style=\"color: #7f7f7f; text-decoration-color: #7f7f7f\">               </span>\n",
       "</pre>\n"
      ],
      "text/plain": [
       "\u001b[2;36m[04/06/25 02:19:54]\u001b[0m\u001b[2;36m \u001b[0m\u001b[33mWARNING \u001b[0m \u001b[35m/usr/local/lib/python3.11/dist-packages/soccerdata/\u001b[0m\u001b[95mfbref.py\u001b[0m:\u001b[1;36m165\u001b[0m:       \u001b]8;id=479847;file:///usr/lib/python3.11/warnings.py\u001b\\\u001b[2mwarnings.py\u001b[0m\u001b]8;;\u001b\\\u001b[2m:\u001b[0m\u001b]8;id=67101;file:///usr/lib/python3.11/warnings.py#110\u001b\\\u001b[2m110\u001b[0m\u001b]8;;\u001b\\\n",
       "\u001b[2;36m                    \u001b[0m         FutureWarning: The behavior of DataFrame concatenation with empty or   \u001b[2m               \u001b[0m\n",
       "\u001b[2;36m                    \u001b[0m         all-NA entries is deprecated. In a future version, this will no longer \u001b[2m               \u001b[0m\n",
       "\u001b[2;36m                    \u001b[0m         exclude empty or all-NA columns when determining the result dtypes. To \u001b[2m               \u001b[0m\n",
       "\u001b[2;36m                    \u001b[0m         retain the old behavior, exclude the relevant entries before the       \u001b[2m               \u001b[0m\n",
       "\u001b[2;36m                    \u001b[0m         concat operation.                                                      \u001b[2m               \u001b[0m\n",
       "\u001b[2;36m                    \u001b[0m           \u001b[1;35mpd.concat\u001b[0m\u001b[1m(\u001b[0mdfs\u001b[1m)\u001b[0m                                                       \u001b[2m               \u001b[0m\n",
       "\u001b[2;36m                    \u001b[0m                                                                                \u001b[2m               \u001b[0m\n"
      ]
     },
     "metadata": {},
     "output_type": "display_data"
    },
    {
     "data": {
      "text/html": [
       "<pre style=\"white-space:pre;overflow-x:auto;line-height:normal;font-family:Menlo,'DejaVu Sans Mono',consolas,'Courier New',monospace\"><span style=\"color: #7fbfbf; text-decoration-color: #7fbfbf\">[04/06/25 02:21:59] </span><span style=\"color: #808000; text-decoration-color: #808000\">WARNING </span> <span style=\"color: #800080; text-decoration-color: #800080\">/usr/local/lib/python3.11/dist-packages/soccerdata/</span><span style=\"color: #ff00ff; text-decoration-color: #ff00ff\">fbref.py</span>:<span style=\"color: #008080; text-decoration-color: #008080; font-weight: bold\">165</span>:       <a href=\"file:///usr/lib/python3.11/warnings.py\" target=\"_blank\"><span style=\"color: #7f7f7f; text-decoration-color: #7f7f7f\">warnings.py</span></a><span style=\"color: #7f7f7f; text-decoration-color: #7f7f7f\">:</span><a href=\"file:///usr/lib/python3.11/warnings.py#110\" target=\"_blank\"><span style=\"color: #7f7f7f; text-decoration-color: #7f7f7f\">110</span></a>\n",
       "<span style=\"color: #7fbfbf; text-decoration-color: #7fbfbf\">                    </span>         FutureWarning: The behavior of DataFrame concatenation with empty or   <span style=\"color: #7f7f7f; text-decoration-color: #7f7f7f\">               </span>\n",
       "<span style=\"color: #7fbfbf; text-decoration-color: #7fbfbf\">                    </span>         all-NA entries is deprecated. In a future version, this will no longer <span style=\"color: #7f7f7f; text-decoration-color: #7f7f7f\">               </span>\n",
       "<span style=\"color: #7fbfbf; text-decoration-color: #7fbfbf\">                    </span>         exclude empty or all-NA columns when determining the result dtypes. To <span style=\"color: #7f7f7f; text-decoration-color: #7f7f7f\">               </span>\n",
       "<span style=\"color: #7fbfbf; text-decoration-color: #7fbfbf\">                    </span>         retain the old behavior, exclude the relevant entries before the       <span style=\"color: #7f7f7f; text-decoration-color: #7f7f7f\">               </span>\n",
       "<span style=\"color: #7fbfbf; text-decoration-color: #7fbfbf\">                    </span>         concat operation.                                                      <span style=\"color: #7f7f7f; text-decoration-color: #7f7f7f\">               </span>\n",
       "<span style=\"color: #7fbfbf; text-decoration-color: #7fbfbf\">                    </span>           <span style=\"color: #800080; text-decoration-color: #800080; font-weight: bold\">pd.concat</span><span style=\"font-weight: bold\">(</span>dfs<span style=\"font-weight: bold\">)</span>                                                       <span style=\"color: #7f7f7f; text-decoration-color: #7f7f7f\">               </span>\n",
       "<span style=\"color: #7fbfbf; text-decoration-color: #7fbfbf\">                    </span>                                                                                <span style=\"color: #7f7f7f; text-decoration-color: #7f7f7f\">               </span>\n",
       "</pre>\n"
      ],
      "text/plain": [
       "\u001b[2;36m[04/06/25 02:21:59]\u001b[0m\u001b[2;36m \u001b[0m\u001b[33mWARNING \u001b[0m \u001b[35m/usr/local/lib/python3.11/dist-packages/soccerdata/\u001b[0m\u001b[95mfbref.py\u001b[0m:\u001b[1;36m165\u001b[0m:       \u001b]8;id=248455;file:///usr/lib/python3.11/warnings.py\u001b\\\u001b[2mwarnings.py\u001b[0m\u001b]8;;\u001b\\\u001b[2m:\u001b[0m\u001b]8;id=903570;file:///usr/lib/python3.11/warnings.py#110\u001b\\\u001b[2m110\u001b[0m\u001b]8;;\u001b\\\n",
       "\u001b[2;36m                    \u001b[0m         FutureWarning: The behavior of DataFrame concatenation with empty or   \u001b[2m               \u001b[0m\n",
       "\u001b[2;36m                    \u001b[0m         all-NA entries is deprecated. In a future version, this will no longer \u001b[2m               \u001b[0m\n",
       "\u001b[2;36m                    \u001b[0m         exclude empty or all-NA columns when determining the result dtypes. To \u001b[2m               \u001b[0m\n",
       "\u001b[2;36m                    \u001b[0m         retain the old behavior, exclude the relevant entries before the       \u001b[2m               \u001b[0m\n",
       "\u001b[2;36m                    \u001b[0m         concat operation.                                                      \u001b[2m               \u001b[0m\n",
       "\u001b[2;36m                    \u001b[0m           \u001b[1;35mpd.concat\u001b[0m\u001b[1m(\u001b[0mdfs\u001b[1m)\u001b[0m                                                       \u001b[2m               \u001b[0m\n",
       "\u001b[2;36m                    \u001b[0m                                                                                \u001b[2m               \u001b[0m\n"
      ]
     },
     "metadata": {},
     "output_type": "display_data"
    },
    {
     "data": {
      "text/html": [
       "<pre style=\"white-space:pre;overflow-x:auto;line-height:normal;font-family:Menlo,'DejaVu Sans Mono',consolas,'Courier New',monospace\"><span style=\"color: #7fbfbf; text-decoration-color: #7fbfbf\">[04/06/25 02:24:06] </span><span style=\"color: #808000; text-decoration-color: #808000\">WARNING </span> <span style=\"color: #800080; text-decoration-color: #800080\">/usr/local/lib/python3.11/dist-packages/soccerdata/</span><span style=\"color: #ff00ff; text-decoration-color: #ff00ff\">fbref.py</span>:<span style=\"color: #008080; text-decoration-color: #008080; font-weight: bold\">165</span>:       <a href=\"file:///usr/lib/python3.11/warnings.py\" target=\"_blank\"><span style=\"color: #7f7f7f; text-decoration-color: #7f7f7f\">warnings.py</span></a><span style=\"color: #7f7f7f; text-decoration-color: #7f7f7f\">:</span><a href=\"file:///usr/lib/python3.11/warnings.py#110\" target=\"_blank\"><span style=\"color: #7f7f7f; text-decoration-color: #7f7f7f\">110</span></a>\n",
       "<span style=\"color: #7fbfbf; text-decoration-color: #7fbfbf\">                    </span>         FutureWarning: The behavior of DataFrame concatenation with empty or   <span style=\"color: #7f7f7f; text-decoration-color: #7f7f7f\">               </span>\n",
       "<span style=\"color: #7fbfbf; text-decoration-color: #7fbfbf\">                    </span>         all-NA entries is deprecated. In a future version, this will no longer <span style=\"color: #7f7f7f; text-decoration-color: #7f7f7f\">               </span>\n",
       "<span style=\"color: #7fbfbf; text-decoration-color: #7fbfbf\">                    </span>         exclude empty or all-NA columns when determining the result dtypes. To <span style=\"color: #7f7f7f; text-decoration-color: #7f7f7f\">               </span>\n",
       "<span style=\"color: #7fbfbf; text-decoration-color: #7fbfbf\">                    </span>         retain the old behavior, exclude the relevant entries before the       <span style=\"color: #7f7f7f; text-decoration-color: #7f7f7f\">               </span>\n",
       "<span style=\"color: #7fbfbf; text-decoration-color: #7fbfbf\">                    </span>         concat operation.                                                      <span style=\"color: #7f7f7f; text-decoration-color: #7f7f7f\">               </span>\n",
       "<span style=\"color: #7fbfbf; text-decoration-color: #7fbfbf\">                    </span>           <span style=\"color: #800080; text-decoration-color: #800080; font-weight: bold\">pd.concat</span><span style=\"font-weight: bold\">(</span>dfs<span style=\"font-weight: bold\">)</span>                                                       <span style=\"color: #7f7f7f; text-decoration-color: #7f7f7f\">               </span>\n",
       "<span style=\"color: #7fbfbf; text-decoration-color: #7fbfbf\">                    </span>                                                                                <span style=\"color: #7f7f7f; text-decoration-color: #7f7f7f\">               </span>\n",
       "</pre>\n"
      ],
      "text/plain": [
       "\u001b[2;36m[04/06/25 02:24:06]\u001b[0m\u001b[2;36m \u001b[0m\u001b[33mWARNING \u001b[0m \u001b[35m/usr/local/lib/python3.11/dist-packages/soccerdata/\u001b[0m\u001b[95mfbref.py\u001b[0m:\u001b[1;36m165\u001b[0m:       \u001b]8;id=309865;file:///usr/lib/python3.11/warnings.py\u001b\\\u001b[2mwarnings.py\u001b[0m\u001b]8;;\u001b\\\u001b[2m:\u001b[0m\u001b]8;id=508954;file:///usr/lib/python3.11/warnings.py#110\u001b\\\u001b[2m110\u001b[0m\u001b]8;;\u001b\\\n",
       "\u001b[2;36m                    \u001b[0m         FutureWarning: The behavior of DataFrame concatenation with empty or   \u001b[2m               \u001b[0m\n",
       "\u001b[2;36m                    \u001b[0m         all-NA entries is deprecated. In a future version, this will no longer \u001b[2m               \u001b[0m\n",
       "\u001b[2;36m                    \u001b[0m         exclude empty or all-NA columns when determining the result dtypes. To \u001b[2m               \u001b[0m\n",
       "\u001b[2;36m                    \u001b[0m         retain the old behavior, exclude the relevant entries before the       \u001b[2m               \u001b[0m\n",
       "\u001b[2;36m                    \u001b[0m         concat operation.                                                      \u001b[2m               \u001b[0m\n",
       "\u001b[2;36m                    \u001b[0m           \u001b[1;35mpd.concat\u001b[0m\u001b[1m(\u001b[0mdfs\u001b[1m)\u001b[0m                                                       \u001b[2m               \u001b[0m\n",
       "\u001b[2;36m                    \u001b[0m                                                                                \u001b[2m               \u001b[0m\n"
      ]
     },
     "metadata": {},
     "output_type": "display_data"
    },
    {
     "name": "stderr",
     "output_type": "stream",
     "text": [
      "\r 90%|█████████ | 9/10 [2:46:59<16:55, 1015.86s/it]"
     ]
    },
    {
     "data": {
      "text/html": [
       "<pre style=\"white-space:pre;overflow-x:auto;line-height:normal;font-family:Menlo,'DejaVu Sans Mono',consolas,'Courier New',monospace\"><span style=\"color: #7fbfbf; text-decoration-color: #7fbfbf\">[04/06/25 02:26:11] </span><span style=\"color: #000080; text-decoration-color: #000080\">INFO    </span> Saving cached data to <span style=\"color: #800080; text-decoration-color: #800080\">/root/soccerdata/data/</span><span style=\"color: #ff00ff; text-decoration-color: #ff00ff\">FBref</span>                       <a href=\"file:///usr/local/lib/python3.11/dist-packages/soccerdata/_common.py\" target=\"_blank\"><span style=\"color: #7f7f7f; text-decoration-color: #7f7f7f\">_common.py</span></a><span style=\"color: #7f7f7f; text-decoration-color: #7f7f7f\">:</span><a href=\"file:///usr/local/lib/python3.11/dist-packages/soccerdata/_common.py#263\" target=\"_blank\"><span style=\"color: #7f7f7f; text-decoration-color: #7f7f7f\">263</span></a>\n",
       "</pre>\n"
      ],
      "text/plain": [
       "\u001b[2;36m[04/06/25 02:26:11]\u001b[0m\u001b[2;36m \u001b[0m\u001b[34mINFO    \u001b[0m Saving cached data to \u001b[35m/root/soccerdata/data/\u001b[0m\u001b[95mFBref\u001b[0m                       \u001b]8;id=557964;file:///usr/local/lib/python3.11/dist-packages/soccerdata/_common.py\u001b\\\u001b[2m_common.py\u001b[0m\u001b]8;;\u001b\\\u001b[2m:\u001b[0m\u001b]8;id=226541;file:///usr/local/lib/python3.11/dist-packages/soccerdata/_common.py#263\u001b\\\u001b[2m263\u001b[0m\u001b]8;;\u001b\\\n"
      ]
     },
     "metadata": {},
     "output_type": "display_data"
    },
    {
     "data": {
      "text/html": [
       "<pre style=\"white-space:pre;overflow-x:auto;line-height:normal;font-family:Menlo,'DejaVu Sans Mono',consolas,'Courier New',monospace\"><span style=\"color: #7fbfbf; text-decoration-color: #7fbfbf\">                    </span><span style=\"color: #808000; text-decoration-color: #808000\">WARNING </span> <span style=\"color: #800080; text-decoration-color: #800080\">/usr/local/lib/python3.11/dist-packages/soccerdata/</span><span style=\"color: #ff00ff; text-decoration-color: #ff00ff\">fbref.py</span>:<span style=\"color: #008080; text-decoration-color: #008080; font-weight: bold\">165</span>:       <a href=\"file:///usr/lib/python3.11/warnings.py\" target=\"_blank\"><span style=\"color: #7f7f7f; text-decoration-color: #7f7f7f\">warnings.py</span></a><span style=\"color: #7f7f7f; text-decoration-color: #7f7f7f\">:</span><a href=\"file:///usr/lib/python3.11/warnings.py#110\" target=\"_blank\"><span style=\"color: #7f7f7f; text-decoration-color: #7f7f7f\">110</span></a>\n",
       "<span style=\"color: #7fbfbf; text-decoration-color: #7fbfbf\">                    </span>         FutureWarning: The behavior of DataFrame concatenation with empty or   <span style=\"color: #7f7f7f; text-decoration-color: #7f7f7f\">               </span>\n",
       "<span style=\"color: #7fbfbf; text-decoration-color: #7fbfbf\">                    </span>         all-NA entries is deprecated. In a future version, this will no longer <span style=\"color: #7f7f7f; text-decoration-color: #7f7f7f\">               </span>\n",
       "<span style=\"color: #7fbfbf; text-decoration-color: #7fbfbf\">                    </span>         exclude empty or all-NA columns when determining the result dtypes. To <span style=\"color: #7f7f7f; text-decoration-color: #7f7f7f\">               </span>\n",
       "<span style=\"color: #7fbfbf; text-decoration-color: #7fbfbf\">                    </span>         retain the old behavior, exclude the relevant entries before the       <span style=\"color: #7f7f7f; text-decoration-color: #7f7f7f\">               </span>\n",
       "<span style=\"color: #7fbfbf; text-decoration-color: #7fbfbf\">                    </span>         concat operation.                                                      <span style=\"color: #7f7f7f; text-decoration-color: #7f7f7f\">               </span>\n",
       "<span style=\"color: #7fbfbf; text-decoration-color: #7fbfbf\">                    </span>           <span style=\"color: #800080; text-decoration-color: #800080; font-weight: bold\">pd.concat</span><span style=\"font-weight: bold\">(</span>dfs<span style=\"font-weight: bold\">)</span>                                                       <span style=\"color: #7f7f7f; text-decoration-color: #7f7f7f\">               </span>\n",
       "<span style=\"color: #7fbfbf; text-decoration-color: #7fbfbf\">                    </span>                                                                                <span style=\"color: #7f7f7f; text-decoration-color: #7f7f7f\">               </span>\n",
       "</pre>\n"
      ],
      "text/plain": [
       "\u001b[2;36m                   \u001b[0m\u001b[2;36m \u001b[0m\u001b[33mWARNING \u001b[0m \u001b[35m/usr/local/lib/python3.11/dist-packages/soccerdata/\u001b[0m\u001b[95mfbref.py\u001b[0m:\u001b[1;36m165\u001b[0m:       \u001b]8;id=243001;file:///usr/lib/python3.11/warnings.py\u001b\\\u001b[2mwarnings.py\u001b[0m\u001b]8;;\u001b\\\u001b[2m:\u001b[0m\u001b]8;id=2742;file:///usr/lib/python3.11/warnings.py#110\u001b\\\u001b[2m110\u001b[0m\u001b]8;;\u001b\\\n",
       "\u001b[2;36m                    \u001b[0m         FutureWarning: The behavior of DataFrame concatenation with empty or   \u001b[2m               \u001b[0m\n",
       "\u001b[2;36m                    \u001b[0m         all-NA entries is deprecated. In a future version, this will no longer \u001b[2m               \u001b[0m\n",
       "\u001b[2;36m                    \u001b[0m         exclude empty or all-NA columns when determining the result dtypes. To \u001b[2m               \u001b[0m\n",
       "\u001b[2;36m                    \u001b[0m         retain the old behavior, exclude the relevant entries before the       \u001b[2m               \u001b[0m\n",
       "\u001b[2;36m                    \u001b[0m         concat operation.                                                      \u001b[2m               \u001b[0m\n",
       "\u001b[2;36m                    \u001b[0m           \u001b[1;35mpd.concat\u001b[0m\u001b[1m(\u001b[0mdfs\u001b[1m)\u001b[0m                                                       \u001b[2m               \u001b[0m\n",
       "\u001b[2;36m                    \u001b[0m                                                                                \u001b[2m               \u001b[0m\n"
      ]
     },
     "metadata": {},
     "output_type": "display_data"
    },
    {
     "data": {
      "text/html": [
       "<pre style=\"white-space:pre;overflow-x:auto;line-height:normal;font-family:Menlo,'DejaVu Sans Mono',consolas,'Courier New',monospace\"><span style=\"color: #7fbfbf; text-decoration-color: #7fbfbf\">[04/06/25 02:28:12] </span><span style=\"color: #808000; text-decoration-color: #808000\">WARNING </span> <span style=\"color: #800080; text-decoration-color: #800080\">/usr/local/lib/python3.11/dist-packages/soccerdata/</span><span style=\"color: #ff00ff; text-decoration-color: #ff00ff\">fbref.py</span>:<span style=\"color: #008080; text-decoration-color: #008080; font-weight: bold\">165</span>:       <a href=\"file:///usr/lib/python3.11/warnings.py\" target=\"_blank\"><span style=\"color: #7f7f7f; text-decoration-color: #7f7f7f\">warnings.py</span></a><span style=\"color: #7f7f7f; text-decoration-color: #7f7f7f\">:</span><a href=\"file:///usr/lib/python3.11/warnings.py#110\" target=\"_blank\"><span style=\"color: #7f7f7f; text-decoration-color: #7f7f7f\">110</span></a>\n",
       "<span style=\"color: #7fbfbf; text-decoration-color: #7fbfbf\">                    </span>         FutureWarning: The behavior of DataFrame concatenation with empty or   <span style=\"color: #7f7f7f; text-decoration-color: #7f7f7f\">               </span>\n",
       "<span style=\"color: #7fbfbf; text-decoration-color: #7fbfbf\">                    </span>         all-NA entries is deprecated. In a future version, this will no longer <span style=\"color: #7f7f7f; text-decoration-color: #7f7f7f\">               </span>\n",
       "<span style=\"color: #7fbfbf; text-decoration-color: #7fbfbf\">                    </span>         exclude empty or all-NA columns when determining the result dtypes. To <span style=\"color: #7f7f7f; text-decoration-color: #7f7f7f\">               </span>\n",
       "<span style=\"color: #7fbfbf; text-decoration-color: #7fbfbf\">                    </span>         retain the old behavior, exclude the relevant entries before the       <span style=\"color: #7f7f7f; text-decoration-color: #7f7f7f\">               </span>\n",
       "<span style=\"color: #7fbfbf; text-decoration-color: #7fbfbf\">                    </span>         concat operation.                                                      <span style=\"color: #7f7f7f; text-decoration-color: #7f7f7f\">               </span>\n",
       "<span style=\"color: #7fbfbf; text-decoration-color: #7fbfbf\">                    </span>           <span style=\"color: #800080; text-decoration-color: #800080; font-weight: bold\">pd.concat</span><span style=\"font-weight: bold\">(</span>dfs<span style=\"font-weight: bold\">)</span>                                                       <span style=\"color: #7f7f7f; text-decoration-color: #7f7f7f\">               </span>\n",
       "<span style=\"color: #7fbfbf; text-decoration-color: #7fbfbf\">                    </span>                                                                                <span style=\"color: #7f7f7f; text-decoration-color: #7f7f7f\">               </span>\n",
       "</pre>\n"
      ],
      "text/plain": [
       "\u001b[2;36m[04/06/25 02:28:12]\u001b[0m\u001b[2;36m \u001b[0m\u001b[33mWARNING \u001b[0m \u001b[35m/usr/local/lib/python3.11/dist-packages/soccerdata/\u001b[0m\u001b[95mfbref.py\u001b[0m:\u001b[1;36m165\u001b[0m:       \u001b]8;id=155689;file:///usr/lib/python3.11/warnings.py\u001b\\\u001b[2mwarnings.py\u001b[0m\u001b]8;;\u001b\\\u001b[2m:\u001b[0m\u001b]8;id=428687;file:///usr/lib/python3.11/warnings.py#110\u001b\\\u001b[2m110\u001b[0m\u001b]8;;\u001b\\\n",
       "\u001b[2;36m                    \u001b[0m         FutureWarning: The behavior of DataFrame concatenation with empty or   \u001b[2m               \u001b[0m\n",
       "\u001b[2;36m                    \u001b[0m         all-NA entries is deprecated. In a future version, this will no longer \u001b[2m               \u001b[0m\n",
       "\u001b[2;36m                    \u001b[0m         exclude empty or all-NA columns when determining the result dtypes. To \u001b[2m               \u001b[0m\n",
       "\u001b[2;36m                    \u001b[0m         retain the old behavior, exclude the relevant entries before the       \u001b[2m               \u001b[0m\n",
       "\u001b[2;36m                    \u001b[0m         concat operation.                                                      \u001b[2m               \u001b[0m\n",
       "\u001b[2;36m                    \u001b[0m           \u001b[1;35mpd.concat\u001b[0m\u001b[1m(\u001b[0mdfs\u001b[1m)\u001b[0m                                                       \u001b[2m               \u001b[0m\n",
       "\u001b[2;36m                    \u001b[0m                                                                                \u001b[2m               \u001b[0m\n"
      ]
     },
     "metadata": {},
     "output_type": "display_data"
    },
    {
     "data": {
      "text/html": [
       "<pre style=\"white-space:pre;overflow-x:auto;line-height:normal;font-family:Menlo,'DejaVu Sans Mono',consolas,'Courier New',monospace\"><span style=\"color: #7fbfbf; text-decoration-color: #7fbfbf\">[04/06/25 02:28:18] </span><span style=\"color: #800000; text-decoration-color: #800000; font-weight: bold\">ERROR   </span> Error while scraping                                                    <a href=\"file:///usr/local/lib/python3.11/dist-packages/soccerdata/_common.py\" target=\"_blank\"><span style=\"color: #7f7f7f; text-decoration-color: #7f7f7f\">_common.py</span></a><span style=\"color: #7f7f7f; text-decoration-color: #7f7f7f\">:</span><a href=\"file:///usr/local/lib/python3.11/dist-packages/soccerdata/_common.py#545\" target=\"_blank\"><span style=\"color: #7f7f7f; text-decoration-color: #7f7f7f\">545</span></a>\n",
       "<span style=\"color: #7fbfbf; text-decoration-color: #7fbfbf\">                    </span>         <span style=\"color: #0000ff; text-decoration-color: #0000ff; text-decoration: underline\">https://fbref.com/en/squads/69236f98/2024-2025/matchlogs/all_comps/keep</span> <span style=\"color: #7f7f7f; text-decoration-color: #7f7f7f\">              </span>\n",
       "<span style=\"color: #7fbfbf; text-decoration-color: #7fbfbf\">                    </span>         <span style=\"color: #0000ff; text-decoration-color: #0000ff; text-decoration: underline\">er.</span> Retrying<span style=\"color: #808000; text-decoration-color: #808000\">...</span> <span style=\"font-weight: bold\">(</span>attempt <span style=\"color: #008080; text-decoration-color: #008080; font-weight: bold\">1</span> of <span style=\"color: #008080; text-decoration-color: #008080; font-weight: bold\">5</span><span style=\"font-weight: bold\">)</span>.                                       <span style=\"color: #7f7f7f; text-decoration-color: #7f7f7f\">              </span>\n",
       "<span style=\"color: #7fbfbf; text-decoration-color: #7fbfbf\">                    </span>         Traceback <span style=\"font-weight: bold\">(</span>most recent call last<span style=\"font-weight: bold\">)</span>:                                      <span style=\"color: #7f7f7f; text-decoration-color: #7f7f7f\">              </span>\n",
       "<span style=\"color: #7fbfbf; text-decoration-color: #7fbfbf\">                    </span>           File <span style=\"color: #008000; text-decoration-color: #008000\">\"/usr/local/lib/python3.11/dist-packages/soccerdata/_common.py\"</span>, <span style=\"color: #7f7f7f; text-decoration-color: #7f7f7f\">              </span>\n",
       "<span style=\"color: #7fbfbf; text-decoration-color: #7fbfbf\">                    </span>         line <span style=\"color: #008080; text-decoration-color: #008080; font-weight: bold\">525</span>, in _download_and_save                                         <span style=\"color: #7f7f7f; text-decoration-color: #7f7f7f\">              </span>\n",
       "<span style=\"color: #7fbfbf; text-decoration-color: #7fbfbf\">                    </span>             <span style=\"color: #800080; text-decoration-color: #800080; font-weight: bold\">response.raise_for_status</span><span style=\"font-weight: bold\">()</span>                                         <span style=\"color: #7f7f7f; text-decoration-color: #7f7f7f\">              </span>\n",
       "<span style=\"color: #7fbfbf; text-decoration-color: #7fbfbf\">                    </span>           File <span style=\"color: #008000; text-decoration-color: #008000\">\"/usr/local/lib/python3.11/dist-packages/requests/models.py\"</span>,    <span style=\"color: #7f7f7f; text-decoration-color: #7f7f7f\">              </span>\n",
       "<span style=\"color: #7fbfbf; text-decoration-color: #7fbfbf\">                    </span>         line <span style=\"color: #008080; text-decoration-color: #008080; font-weight: bold\">1024</span>, in raise_for_status                                          <span style=\"color: #7f7f7f; text-decoration-color: #7f7f7f\">              </span>\n",
       "<span style=\"color: #7fbfbf; text-decoration-color: #7fbfbf\">                    </span>             raise <span style=\"color: #800080; text-decoration-color: #800080; font-weight: bold\">HTTPError</span><span style=\"font-weight: bold\">(</span>http_error_msg, <span style=\"color: #808000; text-decoration-color: #808000\">response</span>=<span style=\"color: #800080; text-decoration-color: #800080\">self</span><span style=\"font-weight: bold\">)</span>                      <span style=\"color: #7f7f7f; text-decoration-color: #7f7f7f\">              </span>\n",
       "<span style=\"color: #7fbfbf; text-decoration-color: #7fbfbf\">                    </span>         requests.exceptions.HTTPError: <span style=\"color: #008080; text-decoration-color: #008080; font-weight: bold\">403</span> Client Error: Forbidden for url:     <span style=\"color: #7f7f7f; text-decoration-color: #7f7f7f\">              </span>\n",
       "<span style=\"color: #7fbfbf; text-decoration-color: #7fbfbf\">                    </span>         <span style=\"color: #0000ff; text-decoration-color: #0000ff; text-decoration: underline\">https://fbref.com/en/squads/69236f98/2024-2025/matchlogs/all_comps/keep</span> <span style=\"color: #7f7f7f; text-decoration-color: #7f7f7f\">              </span>\n",
       "<span style=\"color: #7fbfbf; text-decoration-color: #7fbfbf\">                    </span>         <span style=\"color: #0000ff; text-decoration-color: #0000ff; text-decoration: underline\">er</span>                                                                      <span style=\"color: #7f7f7f; text-decoration-color: #7f7f7f\">              </span>\n",
       "</pre>\n"
      ],
      "text/plain": [
       "\u001b[2;36m[04/06/25 02:28:18]\u001b[0m\u001b[2;36m \u001b[0m\u001b[1;31mERROR   \u001b[0m Error while scraping                                                    \u001b]8;id=306249;file:///usr/local/lib/python3.11/dist-packages/soccerdata/_common.py\u001b\\\u001b[2m_common.py\u001b[0m\u001b]8;;\u001b\\\u001b[2m:\u001b[0m\u001b]8;id=460847;file:///usr/local/lib/python3.11/dist-packages/soccerdata/_common.py#545\u001b\\\u001b[2m545\u001b[0m\u001b]8;;\u001b\\\n",
       "\u001b[2;36m                    \u001b[0m         \u001b[4;94mhttps://fbref.com/en/squads/69236f98/2024-2025/matchlogs/all_comps/keep\u001b[0m \u001b[2m              \u001b[0m\n",
       "\u001b[2;36m                    \u001b[0m         \u001b[4;94mer.\u001b[0m Retrying\u001b[33m...\u001b[0m \u001b[1m(\u001b[0mattempt \u001b[1;36m1\u001b[0m of \u001b[1;36m5\u001b[0m\u001b[1m)\u001b[0m.                                       \u001b[2m              \u001b[0m\n",
       "\u001b[2;36m                    \u001b[0m         Traceback \u001b[1m(\u001b[0mmost recent call last\u001b[1m)\u001b[0m:                                      \u001b[2m              \u001b[0m\n",
       "\u001b[2;36m                    \u001b[0m           File \u001b[32m\"/usr/local/lib/python3.11/dist-packages/soccerdata/_common.py\"\u001b[0m, \u001b[2m              \u001b[0m\n",
       "\u001b[2;36m                    \u001b[0m         line \u001b[1;36m525\u001b[0m, in _download_and_save                                         \u001b[2m              \u001b[0m\n",
       "\u001b[2;36m                    \u001b[0m             \u001b[1;35mresponse.raise_for_status\u001b[0m\u001b[1m(\u001b[0m\u001b[1m)\u001b[0m                                         \u001b[2m              \u001b[0m\n",
       "\u001b[2;36m                    \u001b[0m           File \u001b[32m\"/usr/local/lib/python3.11/dist-packages/requests/models.py\"\u001b[0m,    \u001b[2m              \u001b[0m\n",
       "\u001b[2;36m                    \u001b[0m         line \u001b[1;36m1024\u001b[0m, in raise_for_status                                          \u001b[2m              \u001b[0m\n",
       "\u001b[2;36m                    \u001b[0m             raise \u001b[1;35mHTTPError\u001b[0m\u001b[1m(\u001b[0mhttp_error_msg, \u001b[33mresponse\u001b[0m=\u001b[35mself\u001b[0m\u001b[1m)\u001b[0m                      \u001b[2m              \u001b[0m\n",
       "\u001b[2;36m                    \u001b[0m         requests.exceptions.HTTPError: \u001b[1;36m403\u001b[0m Client Error: Forbidden for url:     \u001b[2m              \u001b[0m\n",
       "\u001b[2;36m                    \u001b[0m         \u001b[4;94mhttps://fbref.com/en/squads/69236f98/2024-2025/matchlogs/all_comps/keep\u001b[0m \u001b[2m              \u001b[0m\n",
       "\u001b[2;36m                    \u001b[0m         \u001b[4;94mer\u001b[0m                                                                      \u001b[2m              \u001b[0m\n"
      ]
     },
     "metadata": {},
     "output_type": "display_data"
    },
    {
     "data": {
      "text/html": [
       "<pre style=\"white-space:pre;overflow-x:auto;line-height:normal;font-family:Menlo,'DejaVu Sans Mono',consolas,'Courier New',monospace\"><span style=\"color: #7fbfbf; text-decoration-color: #7fbfbf\">[04/06/25 02:28:25] </span><span style=\"color: #800000; text-decoration-color: #800000; font-weight: bold\">ERROR   </span> Error while scraping                                                    <a href=\"file:///usr/local/lib/python3.11/dist-packages/soccerdata/_common.py\" target=\"_blank\"><span style=\"color: #7f7f7f; text-decoration-color: #7f7f7f\">_common.py</span></a><span style=\"color: #7f7f7f; text-decoration-color: #7f7f7f\">:</span><a href=\"file:///usr/local/lib/python3.11/dist-packages/soccerdata/_common.py#545\" target=\"_blank\"><span style=\"color: #7f7f7f; text-decoration-color: #7f7f7f\">545</span></a>\n",
       "<span style=\"color: #7fbfbf; text-decoration-color: #7fbfbf\">                    </span>         <span style=\"color: #0000ff; text-decoration-color: #0000ff; text-decoration: underline\">https://fbref.com/en/squads/69236f98/2024-2025/matchlogs/all_comps/keep</span> <span style=\"color: #7f7f7f; text-decoration-color: #7f7f7f\">              </span>\n",
       "<span style=\"color: #7fbfbf; text-decoration-color: #7fbfbf\">                    </span>         <span style=\"color: #0000ff; text-decoration-color: #0000ff; text-decoration: underline\">er.</span> Retrying<span style=\"color: #808000; text-decoration-color: #808000\">...</span> <span style=\"font-weight: bold\">(</span>attempt <span style=\"color: #008080; text-decoration-color: #008080; font-weight: bold\">2</span> of <span style=\"color: #008080; text-decoration-color: #008080; font-weight: bold\">5</span><span style=\"font-weight: bold\">)</span>.                                       <span style=\"color: #7f7f7f; text-decoration-color: #7f7f7f\">              </span>\n",
       "<span style=\"color: #7fbfbf; text-decoration-color: #7fbfbf\">                    </span>         Traceback <span style=\"font-weight: bold\">(</span>most recent call last<span style=\"font-weight: bold\">)</span>:                                      <span style=\"color: #7f7f7f; text-decoration-color: #7f7f7f\">              </span>\n",
       "<span style=\"color: #7fbfbf; text-decoration-color: #7fbfbf\">                    </span>           File <span style=\"color: #008000; text-decoration-color: #008000\">\"/usr/local/lib/python3.11/dist-packages/soccerdata/_common.py\"</span>, <span style=\"color: #7f7f7f; text-decoration-color: #7f7f7f\">              </span>\n",
       "<span style=\"color: #7fbfbf; text-decoration-color: #7fbfbf\">                    </span>         line <span style=\"color: #008080; text-decoration-color: #008080; font-weight: bold\">525</span>, in _download_and_save                                         <span style=\"color: #7f7f7f; text-decoration-color: #7f7f7f\">              </span>\n",
       "<span style=\"color: #7fbfbf; text-decoration-color: #7fbfbf\">                    </span>             <span style=\"color: #800080; text-decoration-color: #800080; font-weight: bold\">response.raise_for_status</span><span style=\"font-weight: bold\">()</span>                                         <span style=\"color: #7f7f7f; text-decoration-color: #7f7f7f\">              </span>\n",
       "<span style=\"color: #7fbfbf; text-decoration-color: #7fbfbf\">                    </span>           File <span style=\"color: #008000; text-decoration-color: #008000\">\"/usr/local/lib/python3.11/dist-packages/requests/models.py\"</span>,    <span style=\"color: #7f7f7f; text-decoration-color: #7f7f7f\">              </span>\n",
       "<span style=\"color: #7fbfbf; text-decoration-color: #7fbfbf\">                    </span>         line <span style=\"color: #008080; text-decoration-color: #008080; font-weight: bold\">1024</span>, in raise_for_status                                          <span style=\"color: #7f7f7f; text-decoration-color: #7f7f7f\">              </span>\n",
       "<span style=\"color: #7fbfbf; text-decoration-color: #7fbfbf\">                    </span>             raise <span style=\"color: #800080; text-decoration-color: #800080; font-weight: bold\">HTTPError</span><span style=\"font-weight: bold\">(</span>http_error_msg, <span style=\"color: #808000; text-decoration-color: #808000\">response</span>=<span style=\"color: #800080; text-decoration-color: #800080\">self</span><span style=\"font-weight: bold\">)</span>                      <span style=\"color: #7f7f7f; text-decoration-color: #7f7f7f\">              </span>\n",
       "<span style=\"color: #7fbfbf; text-decoration-color: #7fbfbf\">                    </span>         requests.exceptions.HTTPError: <span style=\"color: #008080; text-decoration-color: #008080; font-weight: bold\">403</span> Client Error: Forbidden for url:     <span style=\"color: #7f7f7f; text-decoration-color: #7f7f7f\">              </span>\n",
       "<span style=\"color: #7fbfbf; text-decoration-color: #7fbfbf\">                    </span>         <span style=\"color: #0000ff; text-decoration-color: #0000ff; text-decoration: underline\">https://fbref.com/en/squads/69236f98/2024-2025/matchlogs/all_comps/keep</span> <span style=\"color: #7f7f7f; text-decoration-color: #7f7f7f\">              </span>\n",
       "<span style=\"color: #7fbfbf; text-decoration-color: #7fbfbf\">                    </span>         <span style=\"color: #0000ff; text-decoration-color: #0000ff; text-decoration: underline\">er</span>                                                                      <span style=\"color: #7f7f7f; text-decoration-color: #7f7f7f\">              </span>\n",
       "</pre>\n"
      ],
      "text/plain": [
       "\u001b[2;36m[04/06/25 02:28:25]\u001b[0m\u001b[2;36m \u001b[0m\u001b[1;31mERROR   \u001b[0m Error while scraping                                                    \u001b]8;id=227406;file:///usr/local/lib/python3.11/dist-packages/soccerdata/_common.py\u001b\\\u001b[2m_common.py\u001b[0m\u001b]8;;\u001b\\\u001b[2m:\u001b[0m\u001b]8;id=795265;file:///usr/local/lib/python3.11/dist-packages/soccerdata/_common.py#545\u001b\\\u001b[2m545\u001b[0m\u001b]8;;\u001b\\\n",
       "\u001b[2;36m                    \u001b[0m         \u001b[4;94mhttps://fbref.com/en/squads/69236f98/2024-2025/matchlogs/all_comps/keep\u001b[0m \u001b[2m              \u001b[0m\n",
       "\u001b[2;36m                    \u001b[0m         \u001b[4;94mer.\u001b[0m Retrying\u001b[33m...\u001b[0m \u001b[1m(\u001b[0mattempt \u001b[1;36m2\u001b[0m of \u001b[1;36m5\u001b[0m\u001b[1m)\u001b[0m.                                       \u001b[2m              \u001b[0m\n",
       "\u001b[2;36m                    \u001b[0m         Traceback \u001b[1m(\u001b[0mmost recent call last\u001b[1m)\u001b[0m:                                      \u001b[2m              \u001b[0m\n",
       "\u001b[2;36m                    \u001b[0m           File \u001b[32m\"/usr/local/lib/python3.11/dist-packages/soccerdata/_common.py\"\u001b[0m, \u001b[2m              \u001b[0m\n",
       "\u001b[2;36m                    \u001b[0m         line \u001b[1;36m525\u001b[0m, in _download_and_save                                         \u001b[2m              \u001b[0m\n",
       "\u001b[2;36m                    \u001b[0m             \u001b[1;35mresponse.raise_for_status\u001b[0m\u001b[1m(\u001b[0m\u001b[1m)\u001b[0m                                         \u001b[2m              \u001b[0m\n",
       "\u001b[2;36m                    \u001b[0m           File \u001b[32m\"/usr/local/lib/python3.11/dist-packages/requests/models.py\"\u001b[0m,    \u001b[2m              \u001b[0m\n",
       "\u001b[2;36m                    \u001b[0m         line \u001b[1;36m1024\u001b[0m, in raise_for_status                                          \u001b[2m              \u001b[0m\n",
       "\u001b[2;36m                    \u001b[0m             raise \u001b[1;35mHTTPError\u001b[0m\u001b[1m(\u001b[0mhttp_error_msg, \u001b[33mresponse\u001b[0m=\u001b[35mself\u001b[0m\u001b[1m)\u001b[0m                      \u001b[2m              \u001b[0m\n",
       "\u001b[2;36m                    \u001b[0m         requests.exceptions.HTTPError: \u001b[1;36m403\u001b[0m Client Error: Forbidden for url:     \u001b[2m              \u001b[0m\n",
       "\u001b[2;36m                    \u001b[0m         \u001b[4;94mhttps://fbref.com/en/squads/69236f98/2024-2025/matchlogs/all_comps/keep\u001b[0m \u001b[2m              \u001b[0m\n",
       "\u001b[2;36m                    \u001b[0m         \u001b[4;94mer\u001b[0m                                                                      \u001b[2m              \u001b[0m\n"
      ]
     },
     "metadata": {},
     "output_type": "display_data"
    },
    {
     "data": {
      "text/html": [
       "<pre style=\"white-space:pre;overflow-x:auto;line-height:normal;font-family:Menlo,'DejaVu Sans Mono',consolas,'Courier New',monospace\"><span style=\"color: #7fbfbf; text-decoration-color: #7fbfbf\">[04/06/25 02:30:33] </span><span style=\"color: #808000; text-decoration-color: #808000\">WARNING </span> <span style=\"color: #800080; text-decoration-color: #800080\">/usr/local/lib/python3.11/dist-packages/soccerdata/</span><span style=\"color: #ff00ff; text-decoration-color: #ff00ff\">fbref.py</span>:<span style=\"color: #008080; text-decoration-color: #008080; font-weight: bold\">165</span>:       <a href=\"file:///usr/lib/python3.11/warnings.py\" target=\"_blank\"><span style=\"color: #7f7f7f; text-decoration-color: #7f7f7f\">warnings.py</span></a><span style=\"color: #7f7f7f; text-decoration-color: #7f7f7f\">:</span><a href=\"file:///usr/lib/python3.11/warnings.py#110\" target=\"_blank\"><span style=\"color: #7f7f7f; text-decoration-color: #7f7f7f\">110</span></a>\n",
       "<span style=\"color: #7fbfbf; text-decoration-color: #7fbfbf\">                    </span>         FutureWarning: The behavior of DataFrame concatenation with empty or   <span style=\"color: #7f7f7f; text-decoration-color: #7f7f7f\">               </span>\n",
       "<span style=\"color: #7fbfbf; text-decoration-color: #7fbfbf\">                    </span>         all-NA entries is deprecated. In a future version, this will no longer <span style=\"color: #7f7f7f; text-decoration-color: #7f7f7f\">               </span>\n",
       "<span style=\"color: #7fbfbf; text-decoration-color: #7fbfbf\">                    </span>         exclude empty or all-NA columns when determining the result dtypes. To <span style=\"color: #7f7f7f; text-decoration-color: #7f7f7f\">               </span>\n",
       "<span style=\"color: #7fbfbf; text-decoration-color: #7fbfbf\">                    </span>         retain the old behavior, exclude the relevant entries before the       <span style=\"color: #7f7f7f; text-decoration-color: #7f7f7f\">               </span>\n",
       "<span style=\"color: #7fbfbf; text-decoration-color: #7fbfbf\">                    </span>         concat operation.                                                      <span style=\"color: #7f7f7f; text-decoration-color: #7f7f7f\">               </span>\n",
       "<span style=\"color: #7fbfbf; text-decoration-color: #7fbfbf\">                    </span>           <span style=\"color: #800080; text-decoration-color: #800080; font-weight: bold\">pd.concat</span><span style=\"font-weight: bold\">(</span>dfs<span style=\"font-weight: bold\">)</span>                                                       <span style=\"color: #7f7f7f; text-decoration-color: #7f7f7f\">               </span>\n",
       "<span style=\"color: #7fbfbf; text-decoration-color: #7fbfbf\">                    </span>                                                                                <span style=\"color: #7f7f7f; text-decoration-color: #7f7f7f\">               </span>\n",
       "</pre>\n"
      ],
      "text/plain": [
       "\u001b[2;36m[04/06/25 02:30:33]\u001b[0m\u001b[2;36m \u001b[0m\u001b[33mWARNING \u001b[0m \u001b[35m/usr/local/lib/python3.11/dist-packages/soccerdata/\u001b[0m\u001b[95mfbref.py\u001b[0m:\u001b[1;36m165\u001b[0m:       \u001b]8;id=928992;file:///usr/lib/python3.11/warnings.py\u001b\\\u001b[2mwarnings.py\u001b[0m\u001b]8;;\u001b\\\u001b[2m:\u001b[0m\u001b]8;id=325335;file:///usr/lib/python3.11/warnings.py#110\u001b\\\u001b[2m110\u001b[0m\u001b]8;;\u001b\\\n",
       "\u001b[2;36m                    \u001b[0m         FutureWarning: The behavior of DataFrame concatenation with empty or   \u001b[2m               \u001b[0m\n",
       "\u001b[2;36m                    \u001b[0m         all-NA entries is deprecated. In a future version, this will no longer \u001b[2m               \u001b[0m\n",
       "\u001b[2;36m                    \u001b[0m         exclude empty or all-NA columns when determining the result dtypes. To \u001b[2m               \u001b[0m\n",
       "\u001b[2;36m                    \u001b[0m         retain the old behavior, exclude the relevant entries before the       \u001b[2m               \u001b[0m\n",
       "\u001b[2;36m                    \u001b[0m         concat operation.                                                      \u001b[2m               \u001b[0m\n",
       "\u001b[2;36m                    \u001b[0m           \u001b[1;35mpd.concat\u001b[0m\u001b[1m(\u001b[0mdfs\u001b[1m)\u001b[0m                                                       \u001b[2m               \u001b[0m\n",
       "\u001b[2;36m                    \u001b[0m                                                                                \u001b[2m               \u001b[0m\n"
      ]
     },
     "metadata": {},
     "output_type": "display_data"
    },
    {
     "data": {
      "text/html": [
       "<pre style=\"white-space:pre;overflow-x:auto;line-height:normal;font-family:Menlo,'DejaVu Sans Mono',consolas,'Courier New',monospace\"><span style=\"color: #7fbfbf; text-decoration-color: #7fbfbf\">[04/06/25 02:32:44] </span><span style=\"color: #808000; text-decoration-color: #808000\">WARNING </span> <span style=\"color: #800080; text-decoration-color: #800080\">/usr/local/lib/python3.11/dist-packages/soccerdata/</span><span style=\"color: #ff00ff; text-decoration-color: #ff00ff\">fbref.py</span>:<span style=\"color: #008080; text-decoration-color: #008080; font-weight: bold\">165</span>:       <a href=\"file:///usr/lib/python3.11/warnings.py\" target=\"_blank\"><span style=\"color: #7f7f7f; text-decoration-color: #7f7f7f\">warnings.py</span></a><span style=\"color: #7f7f7f; text-decoration-color: #7f7f7f\">:</span><a href=\"file:///usr/lib/python3.11/warnings.py#110\" target=\"_blank\"><span style=\"color: #7f7f7f; text-decoration-color: #7f7f7f\">110</span></a>\n",
       "<span style=\"color: #7fbfbf; text-decoration-color: #7fbfbf\">                    </span>         FutureWarning: The behavior of DataFrame concatenation with empty or   <span style=\"color: #7f7f7f; text-decoration-color: #7f7f7f\">               </span>\n",
       "<span style=\"color: #7fbfbf; text-decoration-color: #7fbfbf\">                    </span>         all-NA entries is deprecated. In a future version, this will no longer <span style=\"color: #7f7f7f; text-decoration-color: #7f7f7f\">               </span>\n",
       "<span style=\"color: #7fbfbf; text-decoration-color: #7fbfbf\">                    </span>         exclude empty or all-NA columns when determining the result dtypes. To <span style=\"color: #7f7f7f; text-decoration-color: #7f7f7f\">               </span>\n",
       "<span style=\"color: #7fbfbf; text-decoration-color: #7fbfbf\">                    </span>         retain the old behavior, exclude the relevant entries before the       <span style=\"color: #7f7f7f; text-decoration-color: #7f7f7f\">               </span>\n",
       "<span style=\"color: #7fbfbf; text-decoration-color: #7fbfbf\">                    </span>         concat operation.                                                      <span style=\"color: #7f7f7f; text-decoration-color: #7f7f7f\">               </span>\n",
       "<span style=\"color: #7fbfbf; text-decoration-color: #7fbfbf\">                    </span>           <span style=\"color: #800080; text-decoration-color: #800080; font-weight: bold\">pd.concat</span><span style=\"font-weight: bold\">(</span>dfs<span style=\"font-weight: bold\">)</span>                                                       <span style=\"color: #7f7f7f; text-decoration-color: #7f7f7f\">               </span>\n",
       "<span style=\"color: #7fbfbf; text-decoration-color: #7fbfbf\">                    </span>                                                                                <span style=\"color: #7f7f7f; text-decoration-color: #7f7f7f\">               </span>\n",
       "</pre>\n"
      ],
      "text/plain": [
       "\u001b[2;36m[04/06/25 02:32:44]\u001b[0m\u001b[2;36m \u001b[0m\u001b[33mWARNING \u001b[0m \u001b[35m/usr/local/lib/python3.11/dist-packages/soccerdata/\u001b[0m\u001b[95mfbref.py\u001b[0m:\u001b[1;36m165\u001b[0m:       \u001b]8;id=383971;file:///usr/lib/python3.11/warnings.py\u001b\\\u001b[2mwarnings.py\u001b[0m\u001b]8;;\u001b\\\u001b[2m:\u001b[0m\u001b]8;id=314822;file:///usr/lib/python3.11/warnings.py#110\u001b\\\u001b[2m110\u001b[0m\u001b]8;;\u001b\\\n",
       "\u001b[2;36m                    \u001b[0m         FutureWarning: The behavior of DataFrame concatenation with empty or   \u001b[2m               \u001b[0m\n",
       "\u001b[2;36m                    \u001b[0m         all-NA entries is deprecated. In a future version, this will no longer \u001b[2m               \u001b[0m\n",
       "\u001b[2;36m                    \u001b[0m         exclude empty or all-NA columns when determining the result dtypes. To \u001b[2m               \u001b[0m\n",
       "\u001b[2;36m                    \u001b[0m         retain the old behavior, exclude the relevant entries before the       \u001b[2m               \u001b[0m\n",
       "\u001b[2;36m                    \u001b[0m         concat operation.                                                      \u001b[2m               \u001b[0m\n",
       "\u001b[2;36m                    \u001b[0m           \u001b[1;35mpd.concat\u001b[0m\u001b[1m(\u001b[0mdfs\u001b[1m)\u001b[0m                                                       \u001b[2m               \u001b[0m\n",
       "\u001b[2;36m                    \u001b[0m                                                                                \u001b[2m               \u001b[0m\n"
      ]
     },
     "metadata": {},
     "output_type": "display_data"
    },
    {
     "data": {
      "text/html": [
       "<pre style=\"white-space:pre;overflow-x:auto;line-height:normal;font-family:Menlo,'DejaVu Sans Mono',consolas,'Courier New',monospace\"><span style=\"color: #7fbfbf; text-decoration-color: #7fbfbf\">[04/06/25 02:34:55] </span><span style=\"color: #808000; text-decoration-color: #808000\">WARNING </span> <span style=\"color: #800080; text-decoration-color: #800080\">/usr/local/lib/python3.11/dist-packages/soccerdata/</span><span style=\"color: #ff00ff; text-decoration-color: #ff00ff\">fbref.py</span>:<span style=\"color: #008080; text-decoration-color: #008080; font-weight: bold\">165</span>:       <a href=\"file:///usr/lib/python3.11/warnings.py\" target=\"_blank\"><span style=\"color: #7f7f7f; text-decoration-color: #7f7f7f\">warnings.py</span></a><span style=\"color: #7f7f7f; text-decoration-color: #7f7f7f\">:</span><a href=\"file:///usr/lib/python3.11/warnings.py#110\" target=\"_blank\"><span style=\"color: #7f7f7f; text-decoration-color: #7f7f7f\">110</span></a>\n",
       "<span style=\"color: #7fbfbf; text-decoration-color: #7fbfbf\">                    </span>         FutureWarning: The behavior of DataFrame concatenation with empty or   <span style=\"color: #7f7f7f; text-decoration-color: #7f7f7f\">               </span>\n",
       "<span style=\"color: #7fbfbf; text-decoration-color: #7fbfbf\">                    </span>         all-NA entries is deprecated. In a future version, this will no longer <span style=\"color: #7f7f7f; text-decoration-color: #7f7f7f\">               </span>\n",
       "<span style=\"color: #7fbfbf; text-decoration-color: #7fbfbf\">                    </span>         exclude empty or all-NA columns when determining the result dtypes. To <span style=\"color: #7f7f7f; text-decoration-color: #7f7f7f\">               </span>\n",
       "<span style=\"color: #7fbfbf; text-decoration-color: #7fbfbf\">                    </span>         retain the old behavior, exclude the relevant entries before the       <span style=\"color: #7f7f7f; text-decoration-color: #7f7f7f\">               </span>\n",
       "<span style=\"color: #7fbfbf; text-decoration-color: #7fbfbf\">                    </span>         concat operation.                                                      <span style=\"color: #7f7f7f; text-decoration-color: #7f7f7f\">               </span>\n",
       "<span style=\"color: #7fbfbf; text-decoration-color: #7fbfbf\">                    </span>           <span style=\"color: #800080; text-decoration-color: #800080; font-weight: bold\">pd.concat</span><span style=\"font-weight: bold\">(</span>dfs<span style=\"font-weight: bold\">)</span>                                                       <span style=\"color: #7f7f7f; text-decoration-color: #7f7f7f\">               </span>\n",
       "<span style=\"color: #7fbfbf; text-decoration-color: #7fbfbf\">                    </span>                                                                                <span style=\"color: #7f7f7f; text-decoration-color: #7f7f7f\">               </span>\n",
       "</pre>\n"
      ],
      "text/plain": [
       "\u001b[2;36m[04/06/25 02:34:55]\u001b[0m\u001b[2;36m \u001b[0m\u001b[33mWARNING \u001b[0m \u001b[35m/usr/local/lib/python3.11/dist-packages/soccerdata/\u001b[0m\u001b[95mfbref.py\u001b[0m:\u001b[1;36m165\u001b[0m:       \u001b]8;id=907758;file:///usr/lib/python3.11/warnings.py\u001b\\\u001b[2mwarnings.py\u001b[0m\u001b]8;;\u001b\\\u001b[2m:\u001b[0m\u001b]8;id=198537;file:///usr/lib/python3.11/warnings.py#110\u001b\\\u001b[2m110\u001b[0m\u001b]8;;\u001b\\\n",
       "\u001b[2;36m                    \u001b[0m         FutureWarning: The behavior of DataFrame concatenation with empty or   \u001b[2m               \u001b[0m\n",
       "\u001b[2;36m                    \u001b[0m         all-NA entries is deprecated. In a future version, this will no longer \u001b[2m               \u001b[0m\n",
       "\u001b[2;36m                    \u001b[0m         exclude empty or all-NA columns when determining the result dtypes. To \u001b[2m               \u001b[0m\n",
       "\u001b[2;36m                    \u001b[0m         retain the old behavior, exclude the relevant entries before the       \u001b[2m               \u001b[0m\n",
       "\u001b[2;36m                    \u001b[0m         concat operation.                                                      \u001b[2m               \u001b[0m\n",
       "\u001b[2;36m                    \u001b[0m           \u001b[1;35mpd.concat\u001b[0m\u001b[1m(\u001b[0mdfs\u001b[1m)\u001b[0m                                                       \u001b[2m               \u001b[0m\n",
       "\u001b[2;36m                    \u001b[0m                                                                                \u001b[2m               \u001b[0m\n"
      ]
     },
     "metadata": {},
     "output_type": "display_data"
    },
    {
     "data": {
      "text/html": [
       "<pre style=\"white-space:pre;overflow-x:auto;line-height:normal;font-family:Menlo,'DejaVu Sans Mono',consolas,'Courier New',monospace\"><span style=\"color: #7fbfbf; text-decoration-color: #7fbfbf\">[04/06/25 02:37:05] </span><span style=\"color: #808000; text-decoration-color: #808000\">WARNING </span> <span style=\"color: #800080; text-decoration-color: #800080\">/usr/local/lib/python3.11/dist-packages/soccerdata/</span><span style=\"color: #ff00ff; text-decoration-color: #ff00ff\">fbref.py</span>:<span style=\"color: #008080; text-decoration-color: #008080; font-weight: bold\">165</span>:       <a href=\"file:///usr/lib/python3.11/warnings.py\" target=\"_blank\"><span style=\"color: #7f7f7f; text-decoration-color: #7f7f7f\">warnings.py</span></a><span style=\"color: #7f7f7f; text-decoration-color: #7f7f7f\">:</span><a href=\"file:///usr/lib/python3.11/warnings.py#110\" target=\"_blank\"><span style=\"color: #7f7f7f; text-decoration-color: #7f7f7f\">110</span></a>\n",
       "<span style=\"color: #7fbfbf; text-decoration-color: #7fbfbf\">                    </span>         FutureWarning: The behavior of DataFrame concatenation with empty or   <span style=\"color: #7f7f7f; text-decoration-color: #7f7f7f\">               </span>\n",
       "<span style=\"color: #7fbfbf; text-decoration-color: #7fbfbf\">                    </span>         all-NA entries is deprecated. In a future version, this will no longer <span style=\"color: #7f7f7f; text-decoration-color: #7f7f7f\">               </span>\n",
       "<span style=\"color: #7fbfbf; text-decoration-color: #7fbfbf\">                    </span>         exclude empty or all-NA columns when determining the result dtypes. To <span style=\"color: #7f7f7f; text-decoration-color: #7f7f7f\">               </span>\n",
       "<span style=\"color: #7fbfbf; text-decoration-color: #7fbfbf\">                    </span>         retain the old behavior, exclude the relevant entries before the       <span style=\"color: #7f7f7f; text-decoration-color: #7f7f7f\">               </span>\n",
       "<span style=\"color: #7fbfbf; text-decoration-color: #7fbfbf\">                    </span>         concat operation.                                                      <span style=\"color: #7f7f7f; text-decoration-color: #7f7f7f\">               </span>\n",
       "<span style=\"color: #7fbfbf; text-decoration-color: #7fbfbf\">                    </span>           <span style=\"color: #800080; text-decoration-color: #800080; font-weight: bold\">pd.concat</span><span style=\"font-weight: bold\">(</span>dfs<span style=\"font-weight: bold\">)</span>                                                       <span style=\"color: #7f7f7f; text-decoration-color: #7f7f7f\">               </span>\n",
       "<span style=\"color: #7fbfbf; text-decoration-color: #7fbfbf\">                    </span>                                                                                <span style=\"color: #7f7f7f; text-decoration-color: #7f7f7f\">               </span>\n",
       "</pre>\n"
      ],
      "text/plain": [
       "\u001b[2;36m[04/06/25 02:37:05]\u001b[0m\u001b[2;36m \u001b[0m\u001b[33mWARNING \u001b[0m \u001b[35m/usr/local/lib/python3.11/dist-packages/soccerdata/\u001b[0m\u001b[95mfbref.py\u001b[0m:\u001b[1;36m165\u001b[0m:       \u001b]8;id=569152;file:///usr/lib/python3.11/warnings.py\u001b\\\u001b[2mwarnings.py\u001b[0m\u001b]8;;\u001b\\\u001b[2m:\u001b[0m\u001b]8;id=116747;file:///usr/lib/python3.11/warnings.py#110\u001b\\\u001b[2m110\u001b[0m\u001b]8;;\u001b\\\n",
       "\u001b[2;36m                    \u001b[0m         FutureWarning: The behavior of DataFrame concatenation with empty or   \u001b[2m               \u001b[0m\n",
       "\u001b[2;36m                    \u001b[0m         all-NA entries is deprecated. In a future version, this will no longer \u001b[2m               \u001b[0m\n",
       "\u001b[2;36m                    \u001b[0m         exclude empty or all-NA columns when determining the result dtypes. To \u001b[2m               \u001b[0m\n",
       "\u001b[2;36m                    \u001b[0m         retain the old behavior, exclude the relevant entries before the       \u001b[2m               \u001b[0m\n",
       "\u001b[2;36m                    \u001b[0m         concat operation.                                                      \u001b[2m               \u001b[0m\n",
       "\u001b[2;36m                    \u001b[0m           \u001b[1;35mpd.concat\u001b[0m\u001b[1m(\u001b[0mdfs\u001b[1m)\u001b[0m                                                       \u001b[2m               \u001b[0m\n",
       "\u001b[2;36m                    \u001b[0m                                                                                \u001b[2m               \u001b[0m\n"
      ]
     },
     "metadata": {},
     "output_type": "display_data"
    },
    {
     "data": {
      "text/html": [
       "<pre style=\"white-space:pre;overflow-x:auto;line-height:normal;font-family:Menlo,'DejaVu Sans Mono',consolas,'Courier New',monospace\"><span style=\"color: #7fbfbf; text-decoration-color: #7fbfbf\">[04/06/25 02:39:19] </span><span style=\"color: #808000; text-decoration-color: #808000\">WARNING </span> <span style=\"color: #800080; text-decoration-color: #800080\">/usr/local/lib/python3.11/dist-packages/soccerdata/</span><span style=\"color: #ff00ff; text-decoration-color: #ff00ff\">fbref.py</span>:<span style=\"color: #008080; text-decoration-color: #008080; font-weight: bold\">165</span>:       <a href=\"file:///usr/lib/python3.11/warnings.py\" target=\"_blank\"><span style=\"color: #7f7f7f; text-decoration-color: #7f7f7f\">warnings.py</span></a><span style=\"color: #7f7f7f; text-decoration-color: #7f7f7f\">:</span><a href=\"file:///usr/lib/python3.11/warnings.py#110\" target=\"_blank\"><span style=\"color: #7f7f7f; text-decoration-color: #7f7f7f\">110</span></a>\n",
       "<span style=\"color: #7fbfbf; text-decoration-color: #7fbfbf\">                    </span>         FutureWarning: The behavior of DataFrame concatenation with empty or   <span style=\"color: #7f7f7f; text-decoration-color: #7f7f7f\">               </span>\n",
       "<span style=\"color: #7fbfbf; text-decoration-color: #7fbfbf\">                    </span>         all-NA entries is deprecated. In a future version, this will no longer <span style=\"color: #7f7f7f; text-decoration-color: #7f7f7f\">               </span>\n",
       "<span style=\"color: #7fbfbf; text-decoration-color: #7fbfbf\">                    </span>         exclude empty or all-NA columns when determining the result dtypes. To <span style=\"color: #7f7f7f; text-decoration-color: #7f7f7f\">               </span>\n",
       "<span style=\"color: #7fbfbf; text-decoration-color: #7fbfbf\">                    </span>         retain the old behavior, exclude the relevant entries before the       <span style=\"color: #7f7f7f; text-decoration-color: #7f7f7f\">               </span>\n",
       "<span style=\"color: #7fbfbf; text-decoration-color: #7fbfbf\">                    </span>         concat operation.                                                      <span style=\"color: #7f7f7f; text-decoration-color: #7f7f7f\">               </span>\n",
       "<span style=\"color: #7fbfbf; text-decoration-color: #7fbfbf\">                    </span>           <span style=\"color: #800080; text-decoration-color: #800080; font-weight: bold\">pd.concat</span><span style=\"font-weight: bold\">(</span>dfs<span style=\"font-weight: bold\">)</span>                                                       <span style=\"color: #7f7f7f; text-decoration-color: #7f7f7f\">               </span>\n",
       "<span style=\"color: #7fbfbf; text-decoration-color: #7fbfbf\">                    </span>                                                                                <span style=\"color: #7f7f7f; text-decoration-color: #7f7f7f\">               </span>\n",
       "</pre>\n"
      ],
      "text/plain": [
       "\u001b[2;36m[04/06/25 02:39:19]\u001b[0m\u001b[2;36m \u001b[0m\u001b[33mWARNING \u001b[0m \u001b[35m/usr/local/lib/python3.11/dist-packages/soccerdata/\u001b[0m\u001b[95mfbref.py\u001b[0m:\u001b[1;36m165\u001b[0m:       \u001b]8;id=901337;file:///usr/lib/python3.11/warnings.py\u001b\\\u001b[2mwarnings.py\u001b[0m\u001b]8;;\u001b\\\u001b[2m:\u001b[0m\u001b]8;id=680016;file:///usr/lib/python3.11/warnings.py#110\u001b\\\u001b[2m110\u001b[0m\u001b]8;;\u001b\\\n",
       "\u001b[2;36m                    \u001b[0m         FutureWarning: The behavior of DataFrame concatenation with empty or   \u001b[2m               \u001b[0m\n",
       "\u001b[2;36m                    \u001b[0m         all-NA entries is deprecated. In a future version, this will no longer \u001b[2m               \u001b[0m\n",
       "\u001b[2;36m                    \u001b[0m         exclude empty or all-NA columns when determining the result dtypes. To \u001b[2m               \u001b[0m\n",
       "\u001b[2;36m                    \u001b[0m         retain the old behavior, exclude the relevant entries before the       \u001b[2m               \u001b[0m\n",
       "\u001b[2;36m                    \u001b[0m         concat operation.                                                      \u001b[2m               \u001b[0m\n",
       "\u001b[2;36m                    \u001b[0m           \u001b[1;35mpd.concat\u001b[0m\u001b[1m(\u001b[0mdfs\u001b[1m)\u001b[0m                                                       \u001b[2m               \u001b[0m\n",
       "\u001b[2;36m                    \u001b[0m                                                                                \u001b[2m               \u001b[0m\n"
      ]
     },
     "metadata": {},
     "output_type": "display_data"
    },
    {
     "data": {
      "text/html": [
       "<pre style=\"white-space:pre;overflow-x:auto;line-height:normal;font-family:Menlo,'DejaVu Sans Mono',consolas,'Courier New',monospace\"><span style=\"color: #7fbfbf; text-decoration-color: #7fbfbf\">[04/06/25 02:41:29] </span><span style=\"color: #808000; text-decoration-color: #808000\">WARNING </span> <span style=\"color: #800080; text-decoration-color: #800080\">/usr/local/lib/python3.11/dist-packages/soccerdata/</span><span style=\"color: #ff00ff; text-decoration-color: #ff00ff\">fbref.py</span>:<span style=\"color: #008080; text-decoration-color: #008080; font-weight: bold\">165</span>:       <a href=\"file:///usr/lib/python3.11/warnings.py\" target=\"_blank\"><span style=\"color: #7f7f7f; text-decoration-color: #7f7f7f\">warnings.py</span></a><span style=\"color: #7f7f7f; text-decoration-color: #7f7f7f\">:</span><a href=\"file:///usr/lib/python3.11/warnings.py#110\" target=\"_blank\"><span style=\"color: #7f7f7f; text-decoration-color: #7f7f7f\">110</span></a>\n",
       "<span style=\"color: #7fbfbf; text-decoration-color: #7fbfbf\">                    </span>         FutureWarning: The behavior of DataFrame concatenation with empty or   <span style=\"color: #7f7f7f; text-decoration-color: #7f7f7f\">               </span>\n",
       "<span style=\"color: #7fbfbf; text-decoration-color: #7fbfbf\">                    </span>         all-NA entries is deprecated. In a future version, this will no longer <span style=\"color: #7f7f7f; text-decoration-color: #7f7f7f\">               </span>\n",
       "<span style=\"color: #7fbfbf; text-decoration-color: #7fbfbf\">                    </span>         exclude empty or all-NA columns when determining the result dtypes. To <span style=\"color: #7f7f7f; text-decoration-color: #7f7f7f\">               </span>\n",
       "<span style=\"color: #7fbfbf; text-decoration-color: #7fbfbf\">                    </span>         retain the old behavior, exclude the relevant entries before the       <span style=\"color: #7f7f7f; text-decoration-color: #7f7f7f\">               </span>\n",
       "<span style=\"color: #7fbfbf; text-decoration-color: #7fbfbf\">                    </span>         concat operation.                                                      <span style=\"color: #7f7f7f; text-decoration-color: #7f7f7f\">               </span>\n",
       "<span style=\"color: #7fbfbf; text-decoration-color: #7fbfbf\">                    </span>           <span style=\"color: #800080; text-decoration-color: #800080; font-weight: bold\">pd.concat</span><span style=\"font-weight: bold\">(</span>dfs<span style=\"font-weight: bold\">)</span>                                                       <span style=\"color: #7f7f7f; text-decoration-color: #7f7f7f\">               </span>\n",
       "<span style=\"color: #7fbfbf; text-decoration-color: #7fbfbf\">                    </span>                                                                                <span style=\"color: #7f7f7f; text-decoration-color: #7f7f7f\">               </span>\n",
       "</pre>\n"
      ],
      "text/plain": [
       "\u001b[2;36m[04/06/25 02:41:29]\u001b[0m\u001b[2;36m \u001b[0m\u001b[33mWARNING \u001b[0m \u001b[35m/usr/local/lib/python3.11/dist-packages/soccerdata/\u001b[0m\u001b[95mfbref.py\u001b[0m:\u001b[1;36m165\u001b[0m:       \u001b]8;id=162285;file:///usr/lib/python3.11/warnings.py\u001b\\\u001b[2mwarnings.py\u001b[0m\u001b]8;;\u001b\\\u001b[2m:\u001b[0m\u001b]8;id=222102;file:///usr/lib/python3.11/warnings.py#110\u001b\\\u001b[2m110\u001b[0m\u001b]8;;\u001b\\\n",
       "\u001b[2;36m                    \u001b[0m         FutureWarning: The behavior of DataFrame concatenation with empty or   \u001b[2m               \u001b[0m\n",
       "\u001b[2;36m                    \u001b[0m         all-NA entries is deprecated. In a future version, this will no longer \u001b[2m               \u001b[0m\n",
       "\u001b[2;36m                    \u001b[0m         exclude empty or all-NA columns when determining the result dtypes. To \u001b[2m               \u001b[0m\n",
       "\u001b[2;36m                    \u001b[0m         retain the old behavior, exclude the relevant entries before the       \u001b[2m               \u001b[0m\n",
       "\u001b[2;36m                    \u001b[0m         concat operation.                                                      \u001b[2m               \u001b[0m\n",
       "\u001b[2;36m                    \u001b[0m           \u001b[1;35mpd.concat\u001b[0m\u001b[1m(\u001b[0mdfs\u001b[1m)\u001b[0m                                                       \u001b[2m               \u001b[0m\n",
       "\u001b[2;36m                    \u001b[0m                                                                                \u001b[2m               \u001b[0m\n"
      ]
     },
     "metadata": {},
     "output_type": "display_data"
    },
    {
     "data": {
      "text/html": [
       "<pre style=\"white-space:pre;overflow-x:auto;line-height:normal;font-family:Menlo,'DejaVu Sans Mono',consolas,'Courier New',monospace\"><span style=\"color: #7fbfbf; text-decoration-color: #7fbfbf\">[04/06/25 02:43:39] </span><span style=\"color: #808000; text-decoration-color: #808000\">WARNING </span> <span style=\"color: #800080; text-decoration-color: #800080\">/usr/local/lib/python3.11/dist-packages/soccerdata/</span><span style=\"color: #ff00ff; text-decoration-color: #ff00ff\">fbref.py</span>:<span style=\"color: #008080; text-decoration-color: #008080; font-weight: bold\">165</span>:       <a href=\"file:///usr/lib/python3.11/warnings.py\" target=\"_blank\"><span style=\"color: #7f7f7f; text-decoration-color: #7f7f7f\">warnings.py</span></a><span style=\"color: #7f7f7f; text-decoration-color: #7f7f7f\">:</span><a href=\"file:///usr/lib/python3.11/warnings.py#110\" target=\"_blank\"><span style=\"color: #7f7f7f; text-decoration-color: #7f7f7f\">110</span></a>\n",
       "<span style=\"color: #7fbfbf; text-decoration-color: #7fbfbf\">                    </span>         FutureWarning: The behavior of DataFrame concatenation with empty or   <span style=\"color: #7f7f7f; text-decoration-color: #7f7f7f\">               </span>\n",
       "<span style=\"color: #7fbfbf; text-decoration-color: #7fbfbf\">                    </span>         all-NA entries is deprecated. In a future version, this will no longer <span style=\"color: #7f7f7f; text-decoration-color: #7f7f7f\">               </span>\n",
       "<span style=\"color: #7fbfbf; text-decoration-color: #7fbfbf\">                    </span>         exclude empty or all-NA columns when determining the result dtypes. To <span style=\"color: #7f7f7f; text-decoration-color: #7f7f7f\">               </span>\n",
       "<span style=\"color: #7fbfbf; text-decoration-color: #7fbfbf\">                    </span>         retain the old behavior, exclude the relevant entries before the       <span style=\"color: #7f7f7f; text-decoration-color: #7f7f7f\">               </span>\n",
       "<span style=\"color: #7fbfbf; text-decoration-color: #7fbfbf\">                    </span>         concat operation.                                                      <span style=\"color: #7f7f7f; text-decoration-color: #7f7f7f\">               </span>\n",
       "<span style=\"color: #7fbfbf; text-decoration-color: #7fbfbf\">                    </span>           <span style=\"color: #800080; text-decoration-color: #800080; font-weight: bold\">pd.concat</span><span style=\"font-weight: bold\">(</span>dfs<span style=\"font-weight: bold\">)</span>                                                       <span style=\"color: #7f7f7f; text-decoration-color: #7f7f7f\">               </span>\n",
       "<span style=\"color: #7fbfbf; text-decoration-color: #7fbfbf\">                    </span>                                                                                <span style=\"color: #7f7f7f; text-decoration-color: #7f7f7f\">               </span>\n",
       "</pre>\n"
      ],
      "text/plain": [
       "\u001b[2;36m[04/06/25 02:43:39]\u001b[0m\u001b[2;36m \u001b[0m\u001b[33mWARNING \u001b[0m \u001b[35m/usr/local/lib/python3.11/dist-packages/soccerdata/\u001b[0m\u001b[95mfbref.py\u001b[0m:\u001b[1;36m165\u001b[0m:       \u001b]8;id=509564;file:///usr/lib/python3.11/warnings.py\u001b\\\u001b[2mwarnings.py\u001b[0m\u001b]8;;\u001b\\\u001b[2m:\u001b[0m\u001b]8;id=661967;file:///usr/lib/python3.11/warnings.py#110\u001b\\\u001b[2m110\u001b[0m\u001b]8;;\u001b\\\n",
       "\u001b[2;36m                    \u001b[0m         FutureWarning: The behavior of DataFrame concatenation with empty or   \u001b[2m               \u001b[0m\n",
       "\u001b[2;36m                    \u001b[0m         all-NA entries is deprecated. In a future version, this will no longer \u001b[2m               \u001b[0m\n",
       "\u001b[2;36m                    \u001b[0m         exclude empty or all-NA columns when determining the result dtypes. To \u001b[2m               \u001b[0m\n",
       "\u001b[2;36m                    \u001b[0m         retain the old behavior, exclude the relevant entries before the       \u001b[2m               \u001b[0m\n",
       "\u001b[2;36m                    \u001b[0m         concat operation.                                                      \u001b[2m               \u001b[0m\n",
       "\u001b[2;36m                    \u001b[0m           \u001b[1;35mpd.concat\u001b[0m\u001b[1m(\u001b[0mdfs\u001b[1m)\u001b[0m                                                       \u001b[2m               \u001b[0m\n",
       "\u001b[2;36m                    \u001b[0m                                                                                \u001b[2m               \u001b[0m\n"
      ]
     },
     "metadata": {},
     "output_type": "display_data"
    },
    {
     "name": "stderr",
     "output_type": "stream",
     "text": [
      "100%|██████████| 10/10 [3:06:39<00:00, 1119.97s/it]\n"
     ]
    }
   ],
   "source": [
    "from tqdm import tqdm\n",
    "for i in tqdm(range(2015,2025)):\n",
    "    df=getdata(leagues='FRA-Ligue 1',seasons=i)\n",
    "    df.to_csv(f'/content/FRA-Ligue 1/{i}-{i+1}.csv', encoding='utf-8')"
   ]
  },
  {
   "cell_type": "code",
   "execution_count": null,
   "metadata": {
    "colab": {
     "base_uri": "https://localhost:8080/"
    },
    "executionInfo": {
     "elapsed": 615,
     "status": "ok",
     "timestamp": 1743913129582,
     "user": {
      "displayName": "Bằng Trần Tiến",
      "userId": "18172700527455230031"
     },
     "user_tz": -420
    },
    "id": "msWo4ocp1Zz7",
    "outputId": "d9b62b7a-f997-4a3b-bfc1-08275ce761ba"
   },
   "outputs": [
    {
     "name": "stdout",
     "output_type": "stream",
     "text": [
      "  adding: content/FRA-Ligue 1/ (stored 0%)\n",
      "  adding: content/FRA-Ligue 1/2015-2016.csv (deflated 83%)\n",
      "  adding: content/FRA-Ligue 1/2020-2021.csv (deflated 68%)\n",
      "  adding: content/FRA-Ligue 1/2016-2017.csv (deflated 82%)\n",
      "  adding: content/FRA-Ligue 1/2021-2022.csv (deflated 68%)\n",
      "  adding: content/FRA-Ligue 1/2022-2023.csv (deflated 68%)\n",
      "  adding: content/FRA-Ligue 1/2023-2024.csv (deflated 68%)\n",
      "  adding: content/FRA-Ligue 1/2024-2025.csv (deflated 69%)\n",
      "  adding: content/FRA-Ligue 1/2018-2019.csv (deflated 68%)\n",
      "  adding: content/FRA-Ligue 1/2019-2020.csv (deflated 71%)\n",
      "  adding: content/FRA-Ligue 1/2017-2018.csv (deflated 68%)\n"
     ]
    }
   ],
   "source": [
    "!zip -r \"/content/FRA-Ligue 1.zip\" \"/content/FRA-Ligue 1\""
   ]
  },
  {
   "cell_type": "code",
   "execution_count": null,
   "metadata": {
    "colab": {
     "base_uri": "https://localhost:8080/"
    },
    "executionInfo": {
     "elapsed": 46,
     "status": "ok",
     "timestamp": 1743960308885,
     "user": {
      "displayName": "Bằng Trần Tiến",
      "userId": "18172700527455230031"
     },
     "user_tz": -420
    },
    "id": "ju7RAqGt4Mex",
    "outputId": "ae51d19a-69c8-4739-a518-da079b4a4f94"
   },
   "outputs": [
    {
     "data": {
      "text/plain": [
       "['Big 5 European Leagues Combined',\n",
       " 'ENG-Premier League',\n",
       " 'ESP-La Liga',\n",
       " 'FRA-Ligue 1',\n",
       " 'GER-Bundesliga',\n",
       " 'INT-European Championship',\n",
       " \"INT-Women's World Cup\",\n",
       " 'INT-World Cup',\n",
       " 'ITA-Serie A']"
      ]
     },
     "execution_count": 66,
     "metadata": {},
     "output_type": "execute_result"
    }
   ],
   "source": [
    "sd.FBref.available_leagues()"
   ]
  }
 ],
 "metadata": {
  "colab": {
   "authorship_tag": "ABX9TyMLjIBzhdA/MWbrszy0Ke7w",
   "provenance": []
  },
  "kernelspec": {
   "display_name": ".venv",
   "language": "python",
   "name": "python3"
  },
  "language_info": {
   "codemirror_mode": {
    "name": "ipython",
    "version": 3
   },
   "file_extension": ".py",
   "mimetype": "text/x-python",
   "name": "python",
   "nbconvert_exporter": "python",
   "pygments_lexer": "ipython3",
   "version": "3.11.4"
  }
 },
 "nbformat": 4,
 "nbformat_minor": 0
}
